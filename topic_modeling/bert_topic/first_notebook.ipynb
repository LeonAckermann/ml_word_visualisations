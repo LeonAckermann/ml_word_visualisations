{
 "cells": [
  {
   "cell_type": "code",
   "execution_count": 3,
   "metadata": {},
   "outputs": [],
   "source": [
    "from bertopic import BERTopic\n",
    "import json\n",
    "import pandas as pd\n",
    "import csv\n",
    "import pandas as pd\n",
    "from bertopic.representation import KeyBERTInspired"
   ]
  },
  {
   "cell_type": "code",
   "execution_count": 46,
   "metadata": {},
   "outputs": [],
   "source": [
    "data = pd.read_csv('../data/depression_anxiety_cleaned.csv')\n",
    "data['dep_text'] = data['dep_text'].apply(lambda x: ''.join([c for c in str(x) if not c.isdigit()]))\n",
    "# dropping the rows having NaN values\n",
    "data = data.dropna()\n",
    " \n",
    "# To reset the indices\n",
    "data = data.reset_index(drop=True)\n",
    " \n"
   ]
  },
  {
   "cell_type": "code",
   "execution_count": 47,
   "metadata": {},
   "outputs": [],
   "source": [
    "# Specify the file path where you want to save the CSV file\n",
    "file_path = 'bert_topic_df.csv'\n",
    "\n",
    "# Save the DataFrame to a CSV file\n",
    "data.to_csv(file_path, index=False)"
   ]
  },
  {
   "cell_type": "code",
   "execution_count": 48,
   "metadata": {},
   "outputs": [
    {
     "data": {
      "text/html": [
       "<div>\n",
       "<style scoped>\n",
       "    .dataframe tbody tr th:only-of-type {\n",
       "        vertical-align: middle;\n",
       "    }\n",
       "\n",
       "    .dataframe tbody tr th {\n",
       "        vertical-align: top;\n",
       "    }\n",
       "\n",
       "    .dataframe thead th {\n",
       "        text-align: right;\n",
       "    }\n",
       "</style>\n",
       "<table border=\"1\" class=\"dataframe\">\n",
       "  <thead>\n",
       "    <tr style=\"text-align: right;\">\n",
       "      <th></th>\n",
       "      <th>participant_id</th>\n",
       "      <th>dep_all_words</th>\n",
       "      <th>wor_all_words</th>\n",
       "      <th>dep_all_phrases</th>\n",
       "      <th>wor_all_phrases</th>\n",
       "      <th>dep_text</th>\n",
       "      <th>wor_text</th>\n",
       "      <th>Gender</th>\n",
       "      <th>age</th>\n",
       "      <th>PHQtot</th>\n",
       "      <th>GADtot</th>\n",
       "      <th>miniGAD_diagnose</th>\n",
       "      <th>minidep_diagnose</th>\n",
       "      <th>unique_id</th>\n",
       "    </tr>\n",
       "  </thead>\n",
       "  <tbody>\n",
       "    <tr>\n",
       "      <th>0</th>\n",
       "      <td>57dd186e6598aa0001992616</td>\n",
       "      <td>motivated learning passionate enthusiastic happy</td>\n",
       "      <td>motivated enthusiastic learning exercise nutri...</td>\n",
       "      <td>happy eager to learn restful sleep motivated j...</td>\n",
       "      <td>content improving learning motivated better th...</td>\n",
       "      <td>Over the past two weeks, I have not been depre...</td>\n",
       "      <td>Over the last two weeks, I have not been worri...</td>\n",
       "      <td>1.0</td>\n",
       "      <td>33.0</td>\n",
       "      <td>0.0</td>\n",
       "      <td>1.0</td>\n",
       "      <td>0</td>\n",
       "      <td>0</td>\n",
       "      <td>1</td>\n",
       "    </tr>\n",
       "    <tr>\n",
       "      <th>1</th>\n",
       "      <td>586c4a8be9cb31000195ea04</td>\n",
       "      <td>connected engaged alive alert strong</td>\n",
       "      <td>painful repetitive all-consuming random invasive</td>\n",
       "      <td>Feel connected to the world Care about people ...</td>\n",
       "      <td>bogged down by thoughts triggered by thoughts ...</td>\n",
       "      <td>I don't think I have felt depressed. I'm not f...</td>\n",
       "      <td>Yes I have been worried. I have worried about ...</td>\n",
       "      <td>0.0</td>\n",
       "      <td>70.0</td>\n",
       "      <td>17.0</td>\n",
       "      <td>15.0</td>\n",
       "      <td>0</td>\n",
       "      <td>0</td>\n",
       "      <td>2</td>\n",
       "    </tr>\n",
       "    <tr>\n",
       "      <th>2</th>\n",
       "      <td>58bf2cf0d294c100010181fa</td>\n",
       "      <td>Yes Somewhat Very Extremely Partially</td>\n",
       "      <td>Yes Mostly Often Constantly Frequently</td>\n",
       "      <td>Mostly Often Constantly Habitually More often ...</td>\n",
       "      <td>Frequently Often Usually Mostly Constantly</td>\n",
       "      <td>I have been depressed because I am worried abo...</td>\n",
       "      <td>I have been very worried for the reasons above...</td>\n",
       "      <td>0.0</td>\n",
       "      <td>63.0</td>\n",
       "      <td>21.0</td>\n",
       "      <td>16.0</td>\n",
       "      <td>0</td>\n",
       "      <td>0</td>\n",
       "      <td>3</td>\n",
       "    </tr>\n",
       "    <tr>\n",
       "      <th>3</th>\n",
       "      <td>58d3d69a47aa1e00010476f4</td>\n",
       "      <td>minor unwilling unwanting depressive unbothered</td>\n",
       "      <td>magorly confused scared unknowing unnessery</td>\n",
       "      <td>lonelyness builds from deep within mild depres...</td>\n",
       "      <td>minor manageable unsure scared worried</td>\n",
       "      <td>Over the past  weeks i have been feeling depre...</td>\n",
       "      <td>I have been worried many times in the past 2 w...</td>\n",
       "      <td>0.0</td>\n",
       "      <td>34.0</td>\n",
       "      <td>13.0</td>\n",
       "      <td>13.0</td>\n",
       "      <td>0</td>\n",
       "      <td>0</td>\n",
       "      <td>4</td>\n",
       "    </tr>\n",
       "    <tr>\n",
       "      <th>4</th>\n",
       "      <td>5932f5d4991e160001effbd2</td>\n",
       "      <td>family work money bills stressed</td>\n",
       "      <td>tense sad unhappy alone worried</td>\n",
       "      <td>alone sad not myself short fused shouting</td>\n",
       "      <td>stressed alone pressure tired not sleeping well</td>\n",
       "      <td>yes very much just seem everything is getting ...</td>\n",
       "      <td>I have found work very stressful and i am only...</td>\n",
       "      <td>1.0</td>\n",
       "      <td>50.0</td>\n",
       "      <td>9.0</td>\n",
       "      <td>12.0</td>\n",
       "      <td>1</td>\n",
       "      <td>0</td>\n",
       "      <td>5</td>\n",
       "    </tr>\n",
       "    <tr>\n",
       "      <th>...</th>\n",
       "      <td>...</td>\n",
       "      <td>...</td>\n",
       "      <td>...</td>\n",
       "      <td>...</td>\n",
       "      <td>...</td>\n",
       "      <td>...</td>\n",
       "      <td>...</td>\n",
       "      <td>...</td>\n",
       "      <td>...</td>\n",
       "      <td>...</td>\n",
       "      <td>...</td>\n",
       "      <td>...</td>\n",
       "      <td>...</td>\n",
       "      <td>...</td>\n",
       "    </tr>\n",
       "    <tr>\n",
       "      <th>945</th>\n",
       "      <td>5f2a9a35a696ad2e039af96a</td>\n",
       "      <td>Worried Fear Motivation Change Tired</td>\n",
       "      <td>Fear Alone Sad Overthinking Tired</td>\n",
       "      <td>Worried Not wanting to go out Finding hard to ...</td>\n",
       "      <td>Anxiety Fear Change Panic On edge</td>\n",
       "      <td>There has been time when I have not wanted to ...</td>\n",
       "      <td>I have felt allot of worry and anxiety as I ha...</td>\n",
       "      <td>0.0</td>\n",
       "      <td>31.0</td>\n",
       "      <td>11.0</td>\n",
       "      <td>14.0</td>\n",
       "      <td>0</td>\n",
       "      <td>1</td>\n",
       "      <td>972</td>\n",
       "    </tr>\n",
       "    <tr>\n",
       "      <th>946</th>\n",
       "      <td>5f2aad9ef401403198b127b5</td>\n",
       "      <td>Tired Down Sad Unhappy Tearful</td>\n",
       "      <td>Scared Anxious Fearful Frightened Cautious</td>\n",
       "      <td>Fed up Bored Lazy Sadness Worry</td>\n",
       "      <td>Scared Anxious Constant worrying Sleepy Over t...</td>\n",
       "      <td>I’m not sure if I’ve been depressed exactly, I...</td>\n",
       "      <td>Yes I have been extremely worried. One because...</td>\n",
       "      <td>0.0</td>\n",
       "      <td>28.0</td>\n",
       "      <td>20.0</td>\n",
       "      <td>20.0</td>\n",
       "      <td>1</td>\n",
       "      <td>1</td>\n",
       "      <td>973</td>\n",
       "    </tr>\n",
       "    <tr>\n",
       "      <th>947</th>\n",
       "      <td>5f2abac3ee0e8335d5ff36b7</td>\n",
       "      <td>Unsettled Lazy Drowsy Overwhelmed Nervous</td>\n",
       "      <td>Panic Unhappy Stressed Nervous Anxious</td>\n",
       "      <td>Unhappy Drowsy Lazy Mood swings Negative</td>\n",
       "      <td>Panic Worry Overthinking Overwhelmed Unsettled</td>\n",
       "      <td>I haven’t felt depressed. However, I have expe...</td>\n",
       "      <td>I have been worried about the state of the eco...</td>\n",
       "      <td>0.0</td>\n",
       "      <td>49.0</td>\n",
       "      <td>20.0</td>\n",
       "      <td>13.0</td>\n",
       "      <td>1</td>\n",
       "      <td>1</td>\n",
       "      <td>974</td>\n",
       "    </tr>\n",
       "    <tr>\n",
       "      <th>948</th>\n",
       "      <td>5f2b621130ca045b940f4b37</td>\n",
       "      <td>Despair Numbness Guilty Hollow Grief</td>\n",
       "      <td>Overwhelmed Panic Helplessness Uncertainty Sen...</td>\n",
       "      <td>Deep despair Suicidal thoughts Guilt for being...</td>\n",
       "      <td>Overwhelmed very easily Panic Uncertainty abou...</td>\n",
       "      <td>I have suffered from depression since my early...</td>\n",
       "      <td>I have suffered with anxiety, panic and worry ...</td>\n",
       "      <td>0.0</td>\n",
       "      <td>28.0</td>\n",
       "      <td>22.0</td>\n",
       "      <td>17.0</td>\n",
       "      <td>1</td>\n",
       "      <td>1</td>\n",
       "      <td>975</td>\n",
       "    </tr>\n",
       "    <tr>\n",
       "      <th>949</th>\n",
       "      <td>5f2efc6127d9ef108a1b41bd</td>\n",
       "      <td>Worried Frustrated Helpless Inconsolable Rest</td>\n",
       "      <td>Anxious Panicky Dead Annoyed Hopeless</td>\n",
       "      <td>Unsettled Lack of energy Unenthused Losing int...</td>\n",
       "      <td>Tensed up Anxious Losing concentration Unavail...</td>\n",
       "      <td>I have not been depressed in the past  weeks b...</td>\n",
       "      <td>Being worried to me means that there is a stat...</td>\n",
       "      <td>1.0</td>\n",
       "      <td>29.0</td>\n",
       "      <td>15.0</td>\n",
       "      <td>14.0</td>\n",
       "      <td>1</td>\n",
       "      <td>0</td>\n",
       "      <td>976</td>\n",
       "    </tr>\n",
       "  </tbody>\n",
       "</table>\n",
       "<p>950 rows × 14 columns</p>\n",
       "</div>"
      ],
      "text/plain": [
       "               participant_id  \\\n",
       "0    57dd186e6598aa0001992616   \n",
       "1    586c4a8be9cb31000195ea04   \n",
       "2    58bf2cf0d294c100010181fa   \n",
       "3    58d3d69a47aa1e00010476f4   \n",
       "4    5932f5d4991e160001effbd2   \n",
       "..                        ...   \n",
       "945  5f2a9a35a696ad2e039af96a   \n",
       "946  5f2aad9ef401403198b127b5   \n",
       "947  5f2abac3ee0e8335d5ff36b7   \n",
       "948  5f2b621130ca045b940f4b37   \n",
       "949  5f2efc6127d9ef108a1b41bd   \n",
       "\n",
       "                                        dep_all_words  \\\n",
       "0    motivated learning passionate enthusiastic happy   \n",
       "1                connected engaged alive alert strong   \n",
       "2               Yes Somewhat Very Extremely Partially   \n",
       "3     minor unwilling unwanting depressive unbothered   \n",
       "4                    family work money bills stressed   \n",
       "..                                                ...   \n",
       "945              Worried Fear Motivation Change Tired   \n",
       "946                    Tired Down Sad Unhappy Tearful   \n",
       "947         Unsettled Lazy Drowsy Overwhelmed Nervous   \n",
       "948              Despair Numbness Guilty Hollow Grief   \n",
       "949     Worried Frustrated Helpless Inconsolable Rest   \n",
       "\n",
       "                                         wor_all_words  \\\n",
       "0    motivated enthusiastic learning exercise nutri...   \n",
       "1     painful repetitive all-consuming random invasive   \n",
       "2               Yes Mostly Often Constantly Frequently   \n",
       "3          magorly confused scared unknowing unnessery   \n",
       "4                      tense sad unhappy alone worried   \n",
       "..                                                 ...   \n",
       "945                  Fear Alone Sad Overthinking Tired   \n",
       "946         Scared Anxious Fearful Frightened Cautious   \n",
       "947             Panic Unhappy Stressed Nervous Anxious   \n",
       "948  Overwhelmed Panic Helplessness Uncertainty Sen...   \n",
       "949              Anxious Panicky Dead Annoyed Hopeless   \n",
       "\n",
       "                                       dep_all_phrases  \\\n",
       "0    happy eager to learn restful sleep motivated j...   \n",
       "1    Feel connected to the world Care about people ...   \n",
       "2    Mostly Often Constantly Habitually More often ...   \n",
       "3    lonelyness builds from deep within mild depres...   \n",
       "4            alone sad not myself short fused shouting   \n",
       "..                                                 ...   \n",
       "945  Worried Not wanting to go out Finding hard to ...   \n",
       "946                    Fed up Bored Lazy Sadness Worry   \n",
       "947           Unhappy Drowsy Lazy Mood swings Negative   \n",
       "948  Deep despair Suicidal thoughts Guilt for being...   \n",
       "949  Unsettled Lack of energy Unenthused Losing int...   \n",
       "\n",
       "                                       wor_all_phrases  \\\n",
       "0    content improving learning motivated better th...   \n",
       "1    bogged down by thoughts triggered by thoughts ...   \n",
       "2           Frequently Often Usually Mostly Constantly   \n",
       "3               minor manageable unsure scared worried   \n",
       "4      stressed alone pressure tired not sleeping well   \n",
       "..                                                 ...   \n",
       "945                  Anxiety Fear Change Panic On edge   \n",
       "946  Scared Anxious Constant worrying Sleepy Over t...   \n",
       "947     Panic Worry Overthinking Overwhelmed Unsettled   \n",
       "948  Overwhelmed very easily Panic Uncertainty abou...   \n",
       "949  Tensed up Anxious Losing concentration Unavail...   \n",
       "\n",
       "                                              dep_text  \\\n",
       "0    Over the past two weeks, I have not been depre...   \n",
       "1    I don't think I have felt depressed. I'm not f...   \n",
       "2    I have been depressed because I am worried abo...   \n",
       "3    Over the past  weeks i have been feeling depre...   \n",
       "4    yes very much just seem everything is getting ...   \n",
       "..                                                 ...   \n",
       "945  There has been time when I have not wanted to ...   \n",
       "946  I’m not sure if I’ve been depressed exactly, I...   \n",
       "947  I haven’t felt depressed. However, I have expe...   \n",
       "948  I have suffered from depression since my early...   \n",
       "949  I have not been depressed in the past  weeks b...   \n",
       "\n",
       "                                              wor_text  Gender   age  PHQtot  \\\n",
       "0    Over the last two weeks, I have not been worri...     1.0  33.0     0.0   \n",
       "1    Yes I have been worried. I have worried about ...     0.0  70.0    17.0   \n",
       "2    I have been very worried for the reasons above...     0.0  63.0    21.0   \n",
       "3    I have been worried many times in the past 2 w...     0.0  34.0    13.0   \n",
       "4    I have found work very stressful and i am only...     1.0  50.0     9.0   \n",
       "..                                                 ...     ...   ...     ...   \n",
       "945  I have felt allot of worry and anxiety as I ha...     0.0  31.0    11.0   \n",
       "946  Yes I have been extremely worried. One because...     0.0  28.0    20.0   \n",
       "947  I have been worried about the state of the eco...     0.0  49.0    20.0   \n",
       "948  I have suffered with anxiety, panic and worry ...     0.0  28.0    22.0   \n",
       "949  Being worried to me means that there is a stat...     1.0  29.0    15.0   \n",
       "\n",
       "     GADtot  miniGAD_diagnose  minidep_diagnose  unique_id  \n",
       "0       1.0                 0                 0          1  \n",
       "1      15.0                 0                 0          2  \n",
       "2      16.0                 0                 0          3  \n",
       "3      13.0                 0                 0          4  \n",
       "4      12.0                 1                 0          5  \n",
       "..      ...               ...               ...        ...  \n",
       "945    14.0                 0                 1        972  \n",
       "946    20.0                 1                 1        973  \n",
       "947    13.0                 1                 1        974  \n",
       "948    17.0                 1                 1        975  \n",
       "949    14.0                 1                 0        976  \n",
       "\n",
       "[950 rows x 14 columns]"
      ]
     },
     "execution_count": 48,
     "metadata": {},
     "output_type": "execute_result"
    }
   ],
   "source": [
    "data"
   ]
  },
  {
   "cell_type": "markdown",
   "metadata": {},
   "source": [
    "## Pre-calculate Embeddings"
   ]
  },
  {
   "cell_type": "code",
   "execution_count": 49,
   "metadata": {},
   "outputs": [
    {
     "name": "stderr",
     "output_type": "stream",
     "text": [
      "Batches: 100%|██████████| 30/30 [00:04<00:00,  6.41it/s]\n"
     ]
    }
   ],
   "source": [
    "from sentence_transformers import SentenceTransformer\n",
    "from flair.embeddings import TransformerDocumentEmbeddings\n",
    "\n",
    "roberta = TransformerDocumentEmbeddings('roberta-base')\n",
    "#topic_model = BERTopic(embedding_model=roberta)\n",
    "\n",
    "# Pre-calculate embeddings\n",
    "embedding_model = SentenceTransformer(\"all-MiniLM-L6-v2\")\n",
    "embeddings = embedding_model.encode(data[\"dep_text\"], show_progress_bar=True)\n"
   ]
  },
  {
   "cell_type": "markdown",
   "metadata": {},
   "source": [
    "## Preventing Stochastic Behavior"
   ]
  },
  {
   "cell_type": "code",
   "execution_count": 50,
   "metadata": {},
   "outputs": [],
   "source": [
    "from umap import UMAP\n",
    "\n",
    "umap_model = UMAP(n_neighbors=15, n_components=5, min_dist=0.0, metric='cosine', random_state=42)"
   ]
  },
  {
   "cell_type": "markdown",
   "metadata": {},
   "source": [
    "## Controlling Number of Topics"
   ]
  },
  {
   "cell_type": "code",
   "execution_count": 51,
   "metadata": {},
   "outputs": [],
   "source": [
    "from hdbscan import HDBSCAN\n",
    "\n",
    "hdbscan_model = HDBSCAN(min_cluster_size=5, metric='euclidean', cluster_selection_method='eom', prediction_data=True)\n"
   ]
  },
  {
   "cell_type": "markdown",
   "metadata": {},
   "source": [
    "## Improving Default Representation"
   ]
  },
  {
   "cell_type": "code",
   "execution_count": 52,
   "metadata": {},
   "outputs": [],
   "source": [
    "from sklearn.feature_extraction.text import CountVectorizer\n",
    "vectorizer_model = CountVectorizer(stop_words=\"english\", min_df=2, ngram_range=(1, 3))"
   ]
  },
  {
   "cell_type": "markdown",
   "metadata": {},
   "source": [
    "## Additional Representations"
   ]
  },
  {
   "cell_type": "code",
   "execution_count": 53,
   "metadata": {},
   "outputs": [],
   "source": [
    "#import openai\n",
    "from bertopic.representation import KeyBERTInspired, MaximalMarginalRelevance, PartOfSpeech\n",
    "\n",
    "from transformers import pipeline\n",
    "from bertopic.representation import TextGeneration\n",
    "\n",
    "summarization_prompt = \"\"\"\n",
    "I have a topic that is described by the following keywords: [KEYWORDS]\n",
    "In this topic, the following documents are a small but representative subset of all documents in the topic:\n",
    "[DOCUMENTS]\n",
    "\n",
    "Based on the information above, please give a description of this topic in the following format:\n",
    "description: <description>\n",
    "\"\"\"\n",
    "# Create your representation model\n",
    "generator_pipeline = pipeline('text2text-generation', model='google/flan-t5-base')\n",
    "generator = TextGeneration(generator_pipeline, prompt=summarization_prompt)\n",
    "\n",
    "# KeyBERT\n",
    "keybert_model = KeyBERTInspired()\n",
    "\n",
    "# Part-of-Speech\n",
    "#pos_model = PartOfSpeech(\"en_core_web_sm\")\n",
    "\n",
    "# MMR\n",
    "mmr_model = MaximalMarginalRelevance(diversity=0.3)\n",
    "\n",
    "'''\n",
    "# GPT-3.5\n",
    "openai.api_key = \"sk-...\"\n",
    "prompt = \"\"\"\n",
    "I have a topic that contains the following documents: \n",
    "[DOCUMENTS]\n",
    "The topic is described by the following keywords: [KEYWORDS]\n",
    "\n",
    "Based on the information above, extract a short but highly descriptive topic label of at most 5 words. Make sure it is in the following format:\n",
    "topic: <topic label>\n",
    "\"\"\"\n",
    "openai_model = OpenAI(model=\"gpt-3.5-turbo\", exponential_backoff=True, chat=True, prompt=prompt)\n",
    "'''\n",
    "# All representation models\n",
    "representation_model = {\n",
    "    \"KeyBERT\": keybert_model,\n",
    "    # \"OpenAI\": openai_model,  # Uncomment if you will use OpenAI\n",
    "    \"MMR\": mmr_model,\n",
    "    #\"POS\": pos_model\n",
    "    #\"Generator\": generator\n",
    "}\n"
   ]
  },
  {
   "cell_type": "markdown",
   "metadata": {},
   "source": [
    "## Train"
   ]
  },
  {
   "cell_type": "code",
   "execution_count": 54,
   "metadata": {},
   "outputs": [
    {
     "ename": "KeyboardInterrupt",
     "evalue": "",
     "output_type": "error",
     "traceback": [
      "\u001b[0;31m---------------------------------------------------------------------------\u001b[0m",
      "\u001b[0;31mKeyboardInterrupt\u001b[0m                         Traceback (most recent call last)",
      "\u001b[1;32m/Users/leonackermann/Desktop/ml_word_visualisations/bert_topic/first_notebook.ipynb Cell 16\u001b[0m line \u001b[0;36m1\n\u001b[1;32m      <a href='vscode-notebook-cell:/Users/leonackermann/Desktop/ml_word_visualisations/bert_topic/first_notebook.ipynb#X54sZmlsZQ%3D%3D?line=2'>3</a>\u001b[0m topic_model \u001b[39m=\u001b[39m BERTopic(\n\u001b[1;32m      <a href='vscode-notebook-cell:/Users/leonackermann/Desktop/ml_word_visualisations/bert_topic/first_notebook.ipynb#X54sZmlsZQ%3D%3D?line=3'>4</a>\u001b[0m \n\u001b[1;32m      <a href='vscode-notebook-cell:/Users/leonackermann/Desktop/ml_word_visualisations/bert_topic/first_notebook.ipynb#X54sZmlsZQ%3D%3D?line=4'>5</a>\u001b[0m   \u001b[39m# Pipeline models\u001b[39;00m\n\u001b[0;32m   (...)\u001b[0m\n\u001b[1;32m     <a href='vscode-notebook-cell:/Users/leonackermann/Desktop/ml_word_visualisations/bert_topic/first_notebook.ipynb#X54sZmlsZQ%3D%3D?line=13'>14</a>\u001b[0m   verbose\u001b[39m=\u001b[39m\u001b[39mTrue\u001b[39;00m\n\u001b[1;32m     <a href='vscode-notebook-cell:/Users/leonackermann/Desktop/ml_word_visualisations/bert_topic/first_notebook.ipynb#X54sZmlsZQ%3D%3D?line=14'>15</a>\u001b[0m )\n\u001b[1;32m     <a href='vscode-notebook-cell:/Users/leonackermann/Desktop/ml_word_visualisations/bert_topic/first_notebook.ipynb#X54sZmlsZQ%3D%3D?line=16'>17</a>\u001b[0m \u001b[39m# Train model\u001b[39;00m\n\u001b[0;32m---> <a href='vscode-notebook-cell:/Users/leonackermann/Desktop/ml_word_visualisations/bert_topic/first_notebook.ipynb#X54sZmlsZQ%3D%3D?line=17'>18</a>\u001b[0m topics, probs \u001b[39m=\u001b[39m topic_model\u001b[39m.\u001b[39;49mfit_transform(data[\u001b[39m\"\u001b[39;49m\u001b[39mdep_text\u001b[39;49m\u001b[39m\"\u001b[39;49m], embeddings\u001b[39m=\u001b[39;49membeddings)\n\u001b[1;32m     <a href='vscode-notebook-cell:/Users/leonackermann/Desktop/ml_word_visualisations/bert_topic/first_notebook.ipynb#X54sZmlsZQ%3D%3D?line=19'>20</a>\u001b[0m \u001b[39m# Show topics\u001b[39;00m\n\u001b[1;32m     <a href='vscode-notebook-cell:/Users/leonackermann/Desktop/ml_word_visualisations/bert_topic/first_notebook.ipynb#X54sZmlsZQ%3D%3D?line=20'>21</a>\u001b[0m topic_model\u001b[39m.\u001b[39mget_topic_info()\n",
      "File \u001b[0;32m~/miniforge3/envs/bert_topic/lib/python3.11/site-packages/bertopic/_bertopic.py:386\u001b[0m, in \u001b[0;36mBERTopic.fit_transform\u001b[0;34m(self, documents, embeddings, images, y)\u001b[0m\n\u001b[1;32m    384\u001b[0m \u001b[39mif\u001b[39;00m \u001b[39mself\u001b[39m\u001b[39m.\u001b[39mseed_topic_list \u001b[39mis\u001b[39;00m \u001b[39mnot\u001b[39;00m \u001b[39mNone\u001b[39;00m \u001b[39mand\u001b[39;00m \u001b[39mself\u001b[39m\u001b[39m.\u001b[39membedding_model \u001b[39mis\u001b[39;00m \u001b[39mnot\u001b[39;00m \u001b[39mNone\u001b[39;00m:\n\u001b[1;32m    385\u001b[0m     y, embeddings \u001b[39m=\u001b[39m \u001b[39mself\u001b[39m\u001b[39m.\u001b[39m_guided_topic_modeling(embeddings)\n\u001b[0;32m--> 386\u001b[0m umap_embeddings \u001b[39m=\u001b[39m \u001b[39mself\u001b[39;49m\u001b[39m.\u001b[39;49m_reduce_dimensionality(embeddings, y)\n\u001b[1;32m    388\u001b[0m \u001b[39m# Cluster reduced embeddings\u001b[39;00m\n\u001b[1;32m    389\u001b[0m documents, probabilities \u001b[39m=\u001b[39m \u001b[39mself\u001b[39m\u001b[39m.\u001b[39m_cluster_embeddings(umap_embeddings, documents, y\u001b[39m=\u001b[39my)\n",
      "File \u001b[0;32m~/miniforge3/envs/bert_topic/lib/python3.11/site-packages/bertopic/_bertopic.py:3183\u001b[0m, in \u001b[0;36mBERTopic._reduce_dimensionality\u001b[0;34m(self, embeddings, y, partial_fit)\u001b[0m\n\u001b[1;32m   3180\u001b[0m \u001b[39m# Regular fit\u001b[39;00m\n\u001b[1;32m   3181\u001b[0m \u001b[39melse\u001b[39;00m:\n\u001b[1;32m   3182\u001b[0m     \u001b[39mtry\u001b[39;00m:\n\u001b[0;32m-> 3183\u001b[0m         \u001b[39mself\u001b[39;49m\u001b[39m.\u001b[39;49mumap_model\u001b[39m.\u001b[39;49mfit(embeddings, y\u001b[39m=\u001b[39;49my)\n\u001b[1;32m   3184\u001b[0m     \u001b[39mexcept\u001b[39;00m \u001b[39mTypeError\u001b[39;00m:\n\u001b[1;32m   3185\u001b[0m         logger\u001b[39m.\u001b[39minfo(\u001b[39m\"\u001b[39m\u001b[39mThe dimensionality reduction algorithm did not contain the `y` parameter and\u001b[39m\u001b[39m\"\u001b[39m\n\u001b[1;32m   3186\u001b[0m                     \u001b[39m\"\u001b[39m\u001b[39m therefore the `y` parameter was not used\u001b[39m\u001b[39m\"\u001b[39m)\n",
      "File \u001b[0;32m~/miniforge3/envs/bert_topic/lib/python3.11/site-packages/umap/umap_.py:2780\u001b[0m, in \u001b[0;36mUMAP.fit\u001b[0;34m(self, X, y, force_all_finite)\u001b[0m\n\u001b[1;32m   2776\u001b[0m \u001b[39mif\u001b[39;00m \u001b[39mself\u001b[39m\u001b[39m.\u001b[39mtransform_mode \u001b[39m==\u001b[39m \u001b[39m\"\u001b[39m\u001b[39membedding\u001b[39m\u001b[39m\"\u001b[39m:\n\u001b[1;32m   2777\u001b[0m     epochs \u001b[39m=\u001b[39m (\n\u001b[1;32m   2778\u001b[0m         \u001b[39mself\u001b[39m\u001b[39m.\u001b[39mn_epochs_list \u001b[39mif\u001b[39;00m \u001b[39mself\u001b[39m\u001b[39m.\u001b[39mn_epochs_list \u001b[39mis\u001b[39;00m \u001b[39mnot\u001b[39;00m \u001b[39mNone\u001b[39;00m \u001b[39melse\u001b[39;00m \u001b[39mself\u001b[39m\u001b[39m.\u001b[39mn_epochs\n\u001b[1;32m   2779\u001b[0m     )\n\u001b[0;32m-> 2780\u001b[0m     \u001b[39mself\u001b[39m\u001b[39m.\u001b[39membedding_, aux_data \u001b[39m=\u001b[39m \u001b[39mself\u001b[39;49m\u001b[39m.\u001b[39;49m_fit_embed_data(\n\u001b[1;32m   2781\u001b[0m         \u001b[39mself\u001b[39;49m\u001b[39m.\u001b[39;49m_raw_data[index],\n\u001b[1;32m   2782\u001b[0m         epochs,\n\u001b[1;32m   2783\u001b[0m         init,\n\u001b[1;32m   2784\u001b[0m         random_state,  \u001b[39m# JH why raw data?\u001b[39;49;00m\n\u001b[1;32m   2785\u001b[0m     )\n\u001b[1;32m   2787\u001b[0m     \u001b[39mif\u001b[39;00m \u001b[39mself\u001b[39m\u001b[39m.\u001b[39mn_epochs_list \u001b[39mis\u001b[39;00m \u001b[39mnot\u001b[39;00m \u001b[39mNone\u001b[39;00m:\n\u001b[1;32m   2788\u001b[0m         \u001b[39mif\u001b[39;00m \u001b[39m\"\u001b[39m\u001b[39membedding_list\u001b[39m\u001b[39m\"\u001b[39m \u001b[39mnot\u001b[39;00m \u001b[39min\u001b[39;00m aux_data:\n",
      "File \u001b[0;32m~/miniforge3/envs/bert_topic/lib/python3.11/site-packages/umap/umap_.py:2826\u001b[0m, in \u001b[0;36mUMAP._fit_embed_data\u001b[0;34m(self, X, n_epochs, init, random_state)\u001b[0m\n\u001b[1;32m   2822\u001b[0m \u001b[39mdef\u001b[39;00m \u001b[39m_fit_embed_data\u001b[39m(\u001b[39mself\u001b[39m, X, n_epochs, init, random_state):\n\u001b[1;32m   2823\u001b[0m \u001b[39m    \u001b[39m\u001b[39m\"\"\"A method wrapper for simplicial_set_embedding that can be\u001b[39;00m\n\u001b[1;32m   2824\u001b[0m \u001b[39m    replaced by subclasses.\u001b[39;00m\n\u001b[1;32m   2825\u001b[0m \u001b[39m    \"\"\"\u001b[39;00m\n\u001b[0;32m-> 2826\u001b[0m     \u001b[39mreturn\u001b[39;00m simplicial_set_embedding(\n\u001b[1;32m   2827\u001b[0m         X,\n\u001b[1;32m   2828\u001b[0m         \u001b[39mself\u001b[39;49m\u001b[39m.\u001b[39;49mgraph_,\n\u001b[1;32m   2829\u001b[0m         \u001b[39mself\u001b[39;49m\u001b[39m.\u001b[39;49mn_components,\n\u001b[1;32m   2830\u001b[0m         \u001b[39mself\u001b[39;49m\u001b[39m.\u001b[39;49m_initial_alpha,\n\u001b[1;32m   2831\u001b[0m         \u001b[39mself\u001b[39;49m\u001b[39m.\u001b[39;49m_a,\n\u001b[1;32m   2832\u001b[0m         \u001b[39mself\u001b[39;49m\u001b[39m.\u001b[39;49m_b,\n\u001b[1;32m   2833\u001b[0m         \u001b[39mself\u001b[39;49m\u001b[39m.\u001b[39;49mrepulsion_strength,\n\u001b[1;32m   2834\u001b[0m         \u001b[39mself\u001b[39;49m\u001b[39m.\u001b[39;49mnegative_sample_rate,\n\u001b[1;32m   2835\u001b[0m         n_epochs,\n\u001b[1;32m   2836\u001b[0m         init,\n\u001b[1;32m   2837\u001b[0m         random_state,\n\u001b[1;32m   2838\u001b[0m         \u001b[39mself\u001b[39;49m\u001b[39m.\u001b[39;49m_input_distance_func,\n\u001b[1;32m   2839\u001b[0m         \u001b[39mself\u001b[39;49m\u001b[39m.\u001b[39;49m_metric_kwds,\n\u001b[1;32m   2840\u001b[0m         \u001b[39mself\u001b[39;49m\u001b[39m.\u001b[39;49mdensmap,\n\u001b[1;32m   2841\u001b[0m         \u001b[39mself\u001b[39;49m\u001b[39m.\u001b[39;49m_densmap_kwds,\n\u001b[1;32m   2842\u001b[0m         \u001b[39mself\u001b[39;49m\u001b[39m.\u001b[39;49moutput_dens,\n\u001b[1;32m   2843\u001b[0m         \u001b[39mself\u001b[39;49m\u001b[39m.\u001b[39;49m_output_distance_func,\n\u001b[1;32m   2844\u001b[0m         \u001b[39mself\u001b[39;49m\u001b[39m.\u001b[39;49m_output_metric_kwds,\n\u001b[1;32m   2845\u001b[0m         \u001b[39mself\u001b[39;49m\u001b[39m.\u001b[39;49moutput_metric \u001b[39min\u001b[39;49;00m (\u001b[39m\"\u001b[39;49m\u001b[39meuclidean\u001b[39;49m\u001b[39m\"\u001b[39;49m, \u001b[39m\"\u001b[39;49m\u001b[39ml2\u001b[39;49m\u001b[39m\"\u001b[39;49m),\n\u001b[1;32m   2846\u001b[0m         \u001b[39mself\u001b[39;49m\u001b[39m.\u001b[39;49mrandom_state \u001b[39mis\u001b[39;49;00m \u001b[39mNone\u001b[39;49;00m,\n\u001b[1;32m   2847\u001b[0m         \u001b[39mself\u001b[39;49m\u001b[39m.\u001b[39;49mverbose,\n\u001b[1;32m   2848\u001b[0m         tqdm_kwds\u001b[39m=\u001b[39;49m\u001b[39mself\u001b[39;49m\u001b[39m.\u001b[39;49mtqdm_kwds,\n\u001b[1;32m   2849\u001b[0m     )\n",
      "File \u001b[0;32m~/miniforge3/envs/bert_topic/lib/python3.11/site-packages/umap/umap_.py:1192\u001b[0m, in \u001b[0;36msimplicial_set_embedding\u001b[0;34m(data, graph, n_components, initial_alpha, a, b, gamma, negative_sample_rate, n_epochs, init, random_state, metric, metric_kwds, densmap, densmap_kwds, output_dens, output_metric, output_metric_kwds, euclidean_output, parallel, verbose, tqdm_kwds)\u001b[0m\n\u001b[1;32m   1185\u001b[0m embedding \u001b[39m=\u001b[39m (\n\u001b[1;32m   1186\u001b[0m     \u001b[39m10.0\u001b[39m\n\u001b[1;32m   1187\u001b[0m     \u001b[39m*\u001b[39m (embedding \u001b[39m-\u001b[39m np\u001b[39m.\u001b[39mmin(embedding, \u001b[39m0\u001b[39m))\n\u001b[1;32m   1188\u001b[0m     \u001b[39m/\u001b[39m (np\u001b[39m.\u001b[39mmax(embedding, \u001b[39m0\u001b[39m) \u001b[39m-\u001b[39m np\u001b[39m.\u001b[39mmin(embedding, \u001b[39m0\u001b[39m))\n\u001b[1;32m   1189\u001b[0m )\u001b[39m.\u001b[39mastype(np\u001b[39m.\u001b[39mfloat32, order\u001b[39m=\u001b[39m\u001b[39m\"\u001b[39m\u001b[39mC\u001b[39m\u001b[39m\"\u001b[39m)\n\u001b[1;32m   1191\u001b[0m \u001b[39mif\u001b[39;00m euclidean_output:\n\u001b[0;32m-> 1192\u001b[0m     embedding \u001b[39m=\u001b[39m optimize_layout_euclidean(\n\u001b[1;32m   1193\u001b[0m         embedding,\n\u001b[1;32m   1194\u001b[0m         embedding,\n\u001b[1;32m   1195\u001b[0m         head,\n\u001b[1;32m   1196\u001b[0m         tail,\n\u001b[1;32m   1197\u001b[0m         n_epochs,\n\u001b[1;32m   1198\u001b[0m         n_vertices,\n\u001b[1;32m   1199\u001b[0m         epochs_per_sample,\n\u001b[1;32m   1200\u001b[0m         a,\n\u001b[1;32m   1201\u001b[0m         b,\n\u001b[1;32m   1202\u001b[0m         rng_state,\n\u001b[1;32m   1203\u001b[0m         gamma,\n\u001b[1;32m   1204\u001b[0m         initial_alpha,\n\u001b[1;32m   1205\u001b[0m         negative_sample_rate,\n\u001b[1;32m   1206\u001b[0m         parallel\u001b[39m=\u001b[39;49mparallel,\n\u001b[1;32m   1207\u001b[0m         verbose\u001b[39m=\u001b[39;49mverbose,\n\u001b[1;32m   1208\u001b[0m         densmap\u001b[39m=\u001b[39;49mdensmap,\n\u001b[1;32m   1209\u001b[0m         densmap_kwds\u001b[39m=\u001b[39;49mdensmap_kwds,\n\u001b[1;32m   1210\u001b[0m         tqdm_kwds\u001b[39m=\u001b[39;49mtqdm_kwds,\n\u001b[1;32m   1211\u001b[0m         move_other\u001b[39m=\u001b[39;49m\u001b[39mTrue\u001b[39;49;00m,\n\u001b[1;32m   1212\u001b[0m     )\n\u001b[1;32m   1213\u001b[0m \u001b[39melse\u001b[39;00m:\n\u001b[1;32m   1214\u001b[0m     embedding \u001b[39m=\u001b[39m optimize_layout_generic(\n\u001b[1;32m   1215\u001b[0m         embedding,\n\u001b[1;32m   1216\u001b[0m         embedding,\n\u001b[0;32m   (...)\u001b[0m\n\u001b[1;32m   1232\u001b[0m         move_other\u001b[39m=\u001b[39m\u001b[39mTrue\u001b[39;00m,\n\u001b[1;32m   1233\u001b[0m     )\n",
      "File \u001b[0;32m~/miniforge3/envs/bert_topic/lib/python3.11/site-packages/umap/layouts.py:380\u001b[0m, in \u001b[0;36moptimize_layout_euclidean\u001b[0;34m(head_embedding, tail_embedding, head, tail, n_epochs, n_vertices, epochs_per_sample, a, b, rng_state, gamma, initial_alpha, negative_sample_rate, parallel, verbose, densmap, densmap_kwds, tqdm_kwds, move_other)\u001b[0m\n\u001b[1;32m    377\u001b[0m     dens_re_mean \u001b[39m=\u001b[39m \u001b[39m0\u001b[39m\n\u001b[1;32m    378\u001b[0m     dens_re_cov \u001b[39m=\u001b[39m \u001b[39m0\u001b[39m\n\u001b[0;32m--> 380\u001b[0m optimize_fn(\n\u001b[1;32m    381\u001b[0m     head_embedding,\n\u001b[1;32m    382\u001b[0m     tail_embedding,\n\u001b[1;32m    383\u001b[0m     head,\n\u001b[1;32m    384\u001b[0m     tail,\n\u001b[1;32m    385\u001b[0m     n_vertices,\n\u001b[1;32m    386\u001b[0m     epochs_per_sample,\n\u001b[1;32m    387\u001b[0m     a,\n\u001b[1;32m    388\u001b[0m     b,\n\u001b[1;32m    389\u001b[0m     rng_state,\n\u001b[1;32m    390\u001b[0m     gamma,\n\u001b[1;32m    391\u001b[0m     dim,\n\u001b[1;32m    392\u001b[0m     move_other,\n\u001b[1;32m    393\u001b[0m     alpha,\n\u001b[1;32m    394\u001b[0m     epochs_per_negative_sample,\n\u001b[1;32m    395\u001b[0m     epoch_of_next_negative_sample,\n\u001b[1;32m    396\u001b[0m     epoch_of_next_sample,\n\u001b[1;32m    397\u001b[0m     n,\n\u001b[1;32m    398\u001b[0m     densmap_flag,\n\u001b[1;32m    399\u001b[0m     dens_phi_sum,\n\u001b[1;32m    400\u001b[0m     dens_re_sum,\n\u001b[1;32m    401\u001b[0m     dens_re_cov,\n\u001b[1;32m    402\u001b[0m     dens_re_std,\n\u001b[1;32m    403\u001b[0m     dens_re_mean,\n\u001b[1;32m    404\u001b[0m     dens_lambda,\n\u001b[1;32m    405\u001b[0m     dens_R,\n\u001b[1;32m    406\u001b[0m     dens_mu,\n\u001b[1;32m    407\u001b[0m     dens_mu_tot,\n\u001b[1;32m    408\u001b[0m )\n\u001b[1;32m    410\u001b[0m alpha \u001b[39m=\u001b[39m initial_alpha \u001b[39m*\u001b[39m (\u001b[39m1.0\u001b[39m \u001b[39m-\u001b[39m (\u001b[39mfloat\u001b[39m(n) \u001b[39m/\u001b[39m \u001b[39mfloat\u001b[39m(n_epochs)))\n\u001b[1;32m    412\u001b[0m \u001b[39mif\u001b[39;00m verbose \u001b[39mand\u001b[39;00m n \u001b[39m%\u001b[39m \u001b[39mint\u001b[39m(n_epochs \u001b[39m/\u001b[39m \u001b[39m10\u001b[39m) \u001b[39m==\u001b[39m \u001b[39m0\u001b[39m:\n",
      "\u001b[0;31mKeyboardInterrupt\u001b[0m: "
     ]
    }
   ],
   "source": [
    "from bertopic import BERTopic\n",
    "\n",
    "topic_model = BERTopic(\n",
    "\n",
    "  # Pipeline models\n",
    "  embedding_model=embedding_model,\n",
    "  umap_model=umap_model,\n",
    "  hdbscan_model=hdbscan_model,\n",
    "  vectorizer_model=vectorizer_model,\n",
    "  representation_model=representation_model,\n",
    "\n",
    "  # Hyperparameters\n",
    "  top_n_words=10,\n",
    "  verbose=True\n",
    ")\n",
    "\n",
    "# Train model\n",
    "topics, probs = topic_model.fit_transform(data[\"dep_text\"], embeddings=embeddings)\n",
    "\n",
    "# Show topics\n",
    "topic_model.get_topic_info()"
   ]
  },
  {
   "cell_type": "code",
   "execution_count": null,
   "metadata": {},
   "outputs": [
    {
     "data": {
      "text/html": [
       "<div>\n",
       "<style scoped>\n",
       "    .dataframe tbody tr th:only-of-type {\n",
       "        vertical-align: middle;\n",
       "    }\n",
       "\n",
       "    .dataframe tbody tr th {\n",
       "        vertical-align: top;\n",
       "    }\n",
       "\n",
       "    .dataframe thead th {\n",
       "        text-align: right;\n",
       "    }\n",
       "</style>\n",
       "<table border=\"1\" class=\"dataframe\">\n",
       "  <thead>\n",
       "    <tr style=\"text-align: right;\">\n",
       "      <th></th>\n",
       "      <th>topic</th>\n",
       "      <th>document</th>\n",
       "    </tr>\n",
       "  </thead>\n",
       "  <tbody>\n",
       "    <tr>\n",
       "      <th>0</th>\n",
       "      <td>3</td>\n",
       "      <td>happy eager to learn restful sleep motivated j...</td>\n",
       "    </tr>\n",
       "    <tr>\n",
       "      <th>1</th>\n",
       "      <td>-1</td>\n",
       "      <td>Feel connected to the world Care about people ...</td>\n",
       "    </tr>\n",
       "    <tr>\n",
       "      <th>2</th>\n",
       "      <td>0</td>\n",
       "      <td>Mostly Often Constantly Habitually More often ...</td>\n",
       "    </tr>\n",
       "    <tr>\n",
       "      <th>3</th>\n",
       "      <td>15</td>\n",
       "      <td>lonelyness builds from deep within mild depres...</td>\n",
       "    </tr>\n",
       "    <tr>\n",
       "      <th>4</th>\n",
       "      <td>22</td>\n",
       "      <td>alone sad not myself short fused shouting</td>\n",
       "    </tr>\n",
       "    <tr>\n",
       "      <th>...</th>\n",
       "      <td>...</td>\n",
       "      <td>...</td>\n",
       "    </tr>\n",
       "    <tr>\n",
       "      <th>942</th>\n",
       "      <td>26</td>\n",
       "      <td>Worried Not wanting to go out Finding hard to ...</td>\n",
       "    </tr>\n",
       "    <tr>\n",
       "      <th>943</th>\n",
       "      <td>0</td>\n",
       "      <td>Fed up Bored Lazy Sadness Worry</td>\n",
       "    </tr>\n",
       "    <tr>\n",
       "      <th>944</th>\n",
       "      <td>-1</td>\n",
       "      <td>Unhappy Drowsy Lazy Mood swings Negative</td>\n",
       "    </tr>\n",
       "    <tr>\n",
       "      <th>945</th>\n",
       "      <td>4</td>\n",
       "      <td>Deep despair Suicidal thoughts Guilt for being...</td>\n",
       "    </tr>\n",
       "    <tr>\n",
       "      <th>946</th>\n",
       "      <td>1</td>\n",
       "      <td>Unsettled Lack of energy Unenthused Losing int...</td>\n",
       "    </tr>\n",
       "  </tbody>\n",
       "</table>\n",
       "<p>947 rows × 2 columns</p>\n",
       "</div>"
      ],
      "text/plain": [
       "     topic                                           document\n",
       "0        3  happy eager to learn restful sleep motivated j...\n",
       "1       -1  Feel connected to the world Care about people ...\n",
       "2        0  Mostly Often Constantly Habitually More often ...\n",
       "3       15  lonelyness builds from deep within mild depres...\n",
       "4       22          alone sad not myself short fused shouting\n",
       "..     ...                                                ...\n",
       "942     26  Worried Not wanting to go out Finding hard to ...\n",
       "943      0                    Fed up Bored Lazy Sadness Worry\n",
       "944     -1           Unhappy Drowsy Lazy Mood swings Negative\n",
       "945      4  Deep despair Suicidal thoughts Guilt for being...\n",
       "946      1  Unsettled Lack of energy Unenthused Losing int...\n",
       "\n",
       "[947 rows x 2 columns]"
      ]
     },
     "execution_count": 31,
     "metadata": {},
     "output_type": "execute_result"
    }
   ],
   "source": [
    "df = pd.DataFrame({\"topic\": topics, \"document\": data[\"dep_all_phrases\"]})\n",
    "df"
   ]
  },
  {
   "cell_type": "code",
   "execution_count": null,
   "metadata": {},
   "outputs": [
    {
     "data": {
      "application/vnd.plotly.v1+json": {
       "config": {
        "plotlyServerURL": "https://plot.ly"
       },
       "data": [
        {
         "customdata": [
          [
           0,
           "covid | 19 | covid 19 | pandemic | work",
           130
          ],
          [
           1,
           "sleep | bed | day | struggle | wake",
           31
          ],
          [
           2,
           "lonely | friends | talk | feel | loneliness",
           30
          ],
          [
           3,
           "depressed weeks | weeks | depressed | weeks depressed | past weeks",
           27
          ],
          [
           4,
           "feel | shut | remember | know | won",
           22
          ],
          [
           5,
           "anxiety | feel | anxious | weeks | feel like",
           21
          ],
          [
           6,
           "lockdown | mental health | moment | able | mental",
           20
          ],
          [
           7,
           "depression | family | control | don | edge",
           19
          ],
          [
           8,
           "haven depressed | depressed | haven | wouldn say | wouldn",
           18
          ],
          [
           9,
           "low | feeling | really low | flat | better",
           17
          ],
          [
           10,
           "happy | life try | family | furlough | depressed",
           16
          ],
          [
           11,
           "sad | days | like | day | felt",
           16
          ],
          [
           12,
           "future | optimistic | hopeful | succeed | feel optimistic",
           16
          ],
          [
           13,
           "worried | worried depressed | worrying | write | aspects",
           14
          ],
          [
           14,
           "money | debt | financial | result | ends meet",
           14
          ],
          [
           15,
           "thankful | weeks | particular | depressed weeks | evening",
           14
          ],
          [
           16,
           "sleeping | boyfriend | past | hard | personal life",
           12
          ],
          [
           17,
           "felt | felt times | ve felt | times | feeling",
           11
          ],
          [
           18,
           "pointless | feels pointless | useless | existence | feel useless",
           11
          ],
          [
           19,
           "self | low self | low self esteem | esteem | self esteem",
           11
          ],
          [
           20,
           "yes depressed | yes | yes depressed past | pain | sleeping",
           10
          ],
          [
           21,
           "happy | family life | recently | fairly | going",
           10
          ],
          [
           22,
           "moment | ready | able | day | people",
           10
          ],
          [
           23,
           "having | coronavirus | reflection | recently | friends",
           9
          ],
          [
           24,
           "yes | yes depressed | exercise | bay | medication",
           9
          ],
          [
           25,
           "yes | yes depressed | bed | result | want bed",
           9
          ],
          [
           26,
           "motivate | wanted | difficult | ve | yes ve",
           8
          ],
          [
           27,
           "children | kids | lot things | activities | look",
           8
          ],
          [
           28,
           "taking | ive | depressive | episodes | disorder",
           7
          ],
          [
           29,
           "depressed weeks | financially | life good | life | weeks",
           7
          ],
          [
           30,
           "positive | felt | calm | felt depressed weeks | healthy",
           7
          ],
          [
           31,
           "future | endless | die | look forward | lot time",
           7
          ],
          [
           32,
           "relationship | partner | upset | quite | break",
           7
          ],
          [
           33,
           "hasn | level | issue | caused | sustained",
           6
          ],
          [
           34,
           "yesterday | haven felt depressed | didn | dog | somewhat",
           6
          ],
          [
           35,
           "numbness | numb | necessarily | matter | come",
           6
          ]
         ],
         "hovertemplate": "<b>Topic %{customdata[0]}</b><br>%{customdata[1]}<br>Size: %{customdata[2]}",
         "legendgroup": "",
         "marker": {
          "color": "#B0BEC5",
          "line": {
           "color": "DarkSlateGrey",
           "width": 2
          },
          "size": [
           130,
           31,
           30,
           27,
           22,
           21,
           20,
           19,
           18,
           17,
           16,
           16,
           16,
           14,
           14,
           14,
           12,
           11,
           11,
           11,
           10,
           10,
           10,
           9,
           9,
           9,
           8,
           8,
           7,
           7,
           7,
           7,
           7,
           6,
           6,
           6
          ],
          "sizemode": "area",
          "sizeref": 0.08125,
          "symbol": "circle"
         },
         "mode": "markers",
         "name": "",
         "orientation": "v",
         "showlegend": false,
         "type": "scatter",
         "x": [
          7.695941925048828,
          6.486033916473389,
          4.989427089691162,
          -12.241524696350098,
          6.528001308441162,
          -12.548066139221191,
          7.17181396484375,
          7.466505527496338,
          13.433205604553223,
          6.4364423751831055,
          -11.829893112182617,
          5.000331401824951,
          3.6625664234161377,
          -12.44010066986084,
          7.949967861175537,
          -11.75788402557373,
          -11.295928001403809,
          5.256104469299316,
          5.105393886566162,
          4.254827976226807,
          13.934088706970215,
          -12.311427116394043,
          -12.551898956298828,
          7.250720977783203,
          13.57984447479248,
          14.012578964233398,
          5.168977737426758,
          -11.727927207946777,
          6.749051570892334,
          -12.20333194732666,
          -11.967232704162598,
          3.826249837875366,
          -11.579882621765137,
          -12.630044937133789,
          7.125758647918701,
          -11.067315101623535
         ],
         "xaxis": "x",
         "y": [
          5.836059093475342,
          23.887081146240234,
          5.3370361328125,
          -2.455451488494873,
          23.92936897277832,
          -1.7506585121154785,
          5.575857162475586,
          5.427182197570801,
          13.476058006286621,
          23.8375301361084,
          -3.8042681217193604,
          5.130184650421143,
          5.887048244476318,
          -1.8444912433624268,
          5.957259178161621,
          -3.015944719314575,
          -1.7667219638824463,
          5.592571258544922,
          4.688199043273926,
          5.689382076263428,
          12.981852531433105,
          -3.7909393310546875,
          -3.7516844272613525,
          5.694960594177246,
          13.329951286315918,
          12.90450382232666,
          4.544980049133301,
          -3.899153709411621,
          24.149526596069336,
          -2.438336133956909,
          -2.1751182079315186,
          5.873349189758301,
          -2.9725067615509033,
          -1.5124353170394897,
          5.819797992706299,
          -1.593874216079712
         ],
         "yaxis": "y"
        }
       ],
       "layout": {
        "annotations": [
         {
          "showarrow": false,
          "text": "D1",
          "x": -14.524551677703858,
          "y": 11.643964409828186,
          "yshift": 10
         },
         {
          "showarrow": false,
          "text": "D2",
          "x": 0.7949570655822757,
          "xshift": 10,
          "y": 27.771955585479738
         }
        ],
        "height": 650,
        "hoverlabel": {
         "bgcolor": "white",
         "font": {
          "family": "Rockwell",
          "size": 16
         }
        },
        "legend": {
         "itemsizing": "constant",
         "tracegroupgap": 0
        },
        "margin": {
         "t": 60
        },
        "shapes": [
         {
          "line": {
           "color": "#CFD8DC",
           "width": 2
          },
          "type": "line",
          "x0": 0.7949570655822757,
          "x1": 0.7949570655822757,
          "y0": -4.484026765823364,
          "y1": 27.771955585479738
         },
         {
          "line": {
           "color": "#9E9E9E",
           "width": 2
          },
          "type": "line",
          "x0": -14.524551677703858,
          "x1": 16.11446580886841,
          "y0": 11.643964409828186,
          "y1": 11.643964409828186
         }
        ],
        "sliders": [
         {
          "active": 0,
          "pad": {
           "t": 50
          },
          "steps": [
           {
            "args": [
             {
              "marker.color": [
               [
                "red",
                "#B0BEC5",
                "#B0BEC5",
                "#B0BEC5",
                "#B0BEC5",
                "#B0BEC5",
                "#B0BEC5",
                "#B0BEC5",
                "#B0BEC5",
                "#B0BEC5",
                "#B0BEC5",
                "#B0BEC5",
                "#B0BEC5",
                "#B0BEC5",
                "#B0BEC5",
                "#B0BEC5",
                "#B0BEC5",
                "#B0BEC5",
                "#B0BEC5",
                "#B0BEC5",
                "#B0BEC5",
                "#B0BEC5",
                "#B0BEC5",
                "#B0BEC5",
                "#B0BEC5",
                "#B0BEC5",
                "#B0BEC5",
                "#B0BEC5",
                "#B0BEC5",
                "#B0BEC5",
                "#B0BEC5",
                "#B0BEC5",
                "#B0BEC5",
                "#B0BEC5",
                "#B0BEC5",
                "#B0BEC5"
               ]
              ]
             }
            ],
            "label": "Topic 0",
            "method": "update"
           },
           {
            "args": [
             {
              "marker.color": [
               [
                "#B0BEC5",
                "red",
                "#B0BEC5",
                "#B0BEC5",
                "#B0BEC5",
                "#B0BEC5",
                "#B0BEC5",
                "#B0BEC5",
                "#B0BEC5",
                "#B0BEC5",
                "#B0BEC5",
                "#B0BEC5",
                "#B0BEC5",
                "#B0BEC5",
                "#B0BEC5",
                "#B0BEC5",
                "#B0BEC5",
                "#B0BEC5",
                "#B0BEC5",
                "#B0BEC5",
                "#B0BEC5",
                "#B0BEC5",
                "#B0BEC5",
                "#B0BEC5",
                "#B0BEC5",
                "#B0BEC5",
                "#B0BEC5",
                "#B0BEC5",
                "#B0BEC5",
                "#B0BEC5",
                "#B0BEC5",
                "#B0BEC5",
                "#B0BEC5",
                "#B0BEC5",
                "#B0BEC5",
                "#B0BEC5"
               ]
              ]
             }
            ],
            "label": "Topic 1",
            "method": "update"
           },
           {
            "args": [
             {
              "marker.color": [
               [
                "#B0BEC5",
                "#B0BEC5",
                "red",
                "#B0BEC5",
                "#B0BEC5",
                "#B0BEC5",
                "#B0BEC5",
                "#B0BEC5",
                "#B0BEC5",
                "#B0BEC5",
                "#B0BEC5",
                "#B0BEC5",
                "#B0BEC5",
                "#B0BEC5",
                "#B0BEC5",
                "#B0BEC5",
                "#B0BEC5",
                "#B0BEC5",
                "#B0BEC5",
                "#B0BEC5",
                "#B0BEC5",
                "#B0BEC5",
                "#B0BEC5",
                "#B0BEC5",
                "#B0BEC5",
                "#B0BEC5",
                "#B0BEC5",
                "#B0BEC5",
                "#B0BEC5",
                "#B0BEC5",
                "#B0BEC5",
                "#B0BEC5",
                "#B0BEC5",
                "#B0BEC5",
                "#B0BEC5",
                "#B0BEC5"
               ]
              ]
             }
            ],
            "label": "Topic 2",
            "method": "update"
           },
           {
            "args": [
             {
              "marker.color": [
               [
                "#B0BEC5",
                "#B0BEC5",
                "#B0BEC5",
                "red",
                "#B0BEC5",
                "#B0BEC5",
                "#B0BEC5",
                "#B0BEC5",
                "#B0BEC5",
                "#B0BEC5",
                "#B0BEC5",
                "#B0BEC5",
                "#B0BEC5",
                "#B0BEC5",
                "#B0BEC5",
                "#B0BEC5",
                "#B0BEC5",
                "#B0BEC5",
                "#B0BEC5",
                "#B0BEC5",
                "#B0BEC5",
                "#B0BEC5",
                "#B0BEC5",
                "#B0BEC5",
                "#B0BEC5",
                "#B0BEC5",
                "#B0BEC5",
                "#B0BEC5",
                "#B0BEC5",
                "#B0BEC5",
                "#B0BEC5",
                "#B0BEC5",
                "#B0BEC5",
                "#B0BEC5",
                "#B0BEC5",
                "#B0BEC5"
               ]
              ]
             }
            ],
            "label": "Topic 3",
            "method": "update"
           },
           {
            "args": [
             {
              "marker.color": [
               [
                "#B0BEC5",
                "#B0BEC5",
                "#B0BEC5",
                "#B0BEC5",
                "red",
                "#B0BEC5",
                "#B0BEC5",
                "#B0BEC5",
                "#B0BEC5",
                "#B0BEC5",
                "#B0BEC5",
                "#B0BEC5",
                "#B0BEC5",
                "#B0BEC5",
                "#B0BEC5",
                "#B0BEC5",
                "#B0BEC5",
                "#B0BEC5",
                "#B0BEC5",
                "#B0BEC5",
                "#B0BEC5",
                "#B0BEC5",
                "#B0BEC5",
                "#B0BEC5",
                "#B0BEC5",
                "#B0BEC5",
                "#B0BEC5",
                "#B0BEC5",
                "#B0BEC5",
                "#B0BEC5",
                "#B0BEC5",
                "#B0BEC5",
                "#B0BEC5",
                "#B0BEC5",
                "#B0BEC5",
                "#B0BEC5"
               ]
              ]
             }
            ],
            "label": "Topic 4",
            "method": "update"
           },
           {
            "args": [
             {
              "marker.color": [
               [
                "#B0BEC5",
                "#B0BEC5",
                "#B0BEC5",
                "#B0BEC5",
                "#B0BEC5",
                "red",
                "#B0BEC5",
                "#B0BEC5",
                "#B0BEC5",
                "#B0BEC5",
                "#B0BEC5",
                "#B0BEC5",
                "#B0BEC5",
                "#B0BEC5",
                "#B0BEC5",
                "#B0BEC5",
                "#B0BEC5",
                "#B0BEC5",
                "#B0BEC5",
                "#B0BEC5",
                "#B0BEC5",
                "#B0BEC5",
                "#B0BEC5",
                "#B0BEC5",
                "#B0BEC5",
                "#B0BEC5",
                "#B0BEC5",
                "#B0BEC5",
                "#B0BEC5",
                "#B0BEC5",
                "#B0BEC5",
                "#B0BEC5",
                "#B0BEC5",
                "#B0BEC5",
                "#B0BEC5",
                "#B0BEC5"
               ]
              ]
             }
            ],
            "label": "Topic 5",
            "method": "update"
           },
           {
            "args": [
             {
              "marker.color": [
               [
                "#B0BEC5",
                "#B0BEC5",
                "#B0BEC5",
                "#B0BEC5",
                "#B0BEC5",
                "#B0BEC5",
                "red",
                "#B0BEC5",
                "#B0BEC5",
                "#B0BEC5",
                "#B0BEC5",
                "#B0BEC5",
                "#B0BEC5",
                "#B0BEC5",
                "#B0BEC5",
                "#B0BEC5",
                "#B0BEC5",
                "#B0BEC5",
                "#B0BEC5",
                "#B0BEC5",
                "#B0BEC5",
                "#B0BEC5",
                "#B0BEC5",
                "#B0BEC5",
                "#B0BEC5",
                "#B0BEC5",
                "#B0BEC5",
                "#B0BEC5",
                "#B0BEC5",
                "#B0BEC5",
                "#B0BEC5",
                "#B0BEC5",
                "#B0BEC5",
                "#B0BEC5",
                "#B0BEC5",
                "#B0BEC5"
               ]
              ]
             }
            ],
            "label": "Topic 6",
            "method": "update"
           },
           {
            "args": [
             {
              "marker.color": [
               [
                "#B0BEC5",
                "#B0BEC5",
                "#B0BEC5",
                "#B0BEC5",
                "#B0BEC5",
                "#B0BEC5",
                "#B0BEC5",
                "red",
                "#B0BEC5",
                "#B0BEC5",
                "#B0BEC5",
                "#B0BEC5",
                "#B0BEC5",
                "#B0BEC5",
                "#B0BEC5",
                "#B0BEC5",
                "#B0BEC5",
                "#B0BEC5",
                "#B0BEC5",
                "#B0BEC5",
                "#B0BEC5",
                "#B0BEC5",
                "#B0BEC5",
                "#B0BEC5",
                "#B0BEC5",
                "#B0BEC5",
                "#B0BEC5",
                "#B0BEC5",
                "#B0BEC5",
                "#B0BEC5",
                "#B0BEC5",
                "#B0BEC5",
                "#B0BEC5",
                "#B0BEC5",
                "#B0BEC5",
                "#B0BEC5"
               ]
              ]
             }
            ],
            "label": "Topic 7",
            "method": "update"
           },
           {
            "args": [
             {
              "marker.color": [
               [
                "#B0BEC5",
                "#B0BEC5",
                "#B0BEC5",
                "#B0BEC5",
                "#B0BEC5",
                "#B0BEC5",
                "#B0BEC5",
                "#B0BEC5",
                "red",
                "#B0BEC5",
                "#B0BEC5",
                "#B0BEC5",
                "#B0BEC5",
                "#B0BEC5",
                "#B0BEC5",
                "#B0BEC5",
                "#B0BEC5",
                "#B0BEC5",
                "#B0BEC5",
                "#B0BEC5",
                "#B0BEC5",
                "#B0BEC5",
                "#B0BEC5",
                "#B0BEC5",
                "#B0BEC5",
                "#B0BEC5",
                "#B0BEC5",
                "#B0BEC5",
                "#B0BEC5",
                "#B0BEC5",
                "#B0BEC5",
                "#B0BEC5",
                "#B0BEC5",
                "#B0BEC5",
                "#B0BEC5",
                "#B0BEC5"
               ]
              ]
             }
            ],
            "label": "Topic 8",
            "method": "update"
           },
           {
            "args": [
             {
              "marker.color": [
               [
                "#B0BEC5",
                "#B0BEC5",
                "#B0BEC5",
                "#B0BEC5",
                "#B0BEC5",
                "#B0BEC5",
                "#B0BEC5",
                "#B0BEC5",
                "#B0BEC5",
                "red",
                "#B0BEC5",
                "#B0BEC5",
                "#B0BEC5",
                "#B0BEC5",
                "#B0BEC5",
                "#B0BEC5",
                "#B0BEC5",
                "#B0BEC5",
                "#B0BEC5",
                "#B0BEC5",
                "#B0BEC5",
                "#B0BEC5",
                "#B0BEC5",
                "#B0BEC5",
                "#B0BEC5",
                "#B0BEC5",
                "#B0BEC5",
                "#B0BEC5",
                "#B0BEC5",
                "#B0BEC5",
                "#B0BEC5",
                "#B0BEC5",
                "#B0BEC5",
                "#B0BEC5",
                "#B0BEC5",
                "#B0BEC5"
               ]
              ]
             }
            ],
            "label": "Topic 9",
            "method": "update"
           },
           {
            "args": [
             {
              "marker.color": [
               [
                "#B0BEC5",
                "#B0BEC5",
                "#B0BEC5",
                "#B0BEC5",
                "#B0BEC5",
                "#B0BEC5",
                "#B0BEC5",
                "#B0BEC5",
                "#B0BEC5",
                "#B0BEC5",
                "red",
                "#B0BEC5",
                "#B0BEC5",
                "#B0BEC5",
                "#B0BEC5",
                "#B0BEC5",
                "#B0BEC5",
                "#B0BEC5",
                "#B0BEC5",
                "#B0BEC5",
                "#B0BEC5",
                "#B0BEC5",
                "#B0BEC5",
                "#B0BEC5",
                "#B0BEC5",
                "#B0BEC5",
                "#B0BEC5",
                "#B0BEC5",
                "#B0BEC5",
                "#B0BEC5",
                "#B0BEC5",
                "#B0BEC5",
                "#B0BEC5",
                "#B0BEC5",
                "#B0BEC5",
                "#B0BEC5"
               ]
              ]
             }
            ],
            "label": "Topic 10",
            "method": "update"
           },
           {
            "args": [
             {
              "marker.color": [
               [
                "#B0BEC5",
                "#B0BEC5",
                "#B0BEC5",
                "#B0BEC5",
                "#B0BEC5",
                "#B0BEC5",
                "#B0BEC5",
                "#B0BEC5",
                "#B0BEC5",
                "#B0BEC5",
                "#B0BEC5",
                "red",
                "#B0BEC5",
                "#B0BEC5",
                "#B0BEC5",
                "#B0BEC5",
                "#B0BEC5",
                "#B0BEC5",
                "#B0BEC5",
                "#B0BEC5",
                "#B0BEC5",
                "#B0BEC5",
                "#B0BEC5",
                "#B0BEC5",
                "#B0BEC5",
                "#B0BEC5",
                "#B0BEC5",
                "#B0BEC5",
                "#B0BEC5",
                "#B0BEC5",
                "#B0BEC5",
                "#B0BEC5",
                "#B0BEC5",
                "#B0BEC5",
                "#B0BEC5",
                "#B0BEC5"
               ]
              ]
             }
            ],
            "label": "Topic 11",
            "method": "update"
           },
           {
            "args": [
             {
              "marker.color": [
               [
                "#B0BEC5",
                "#B0BEC5",
                "#B0BEC5",
                "#B0BEC5",
                "#B0BEC5",
                "#B0BEC5",
                "#B0BEC5",
                "#B0BEC5",
                "#B0BEC5",
                "#B0BEC5",
                "#B0BEC5",
                "#B0BEC5",
                "red",
                "#B0BEC5",
                "#B0BEC5",
                "#B0BEC5",
                "#B0BEC5",
                "#B0BEC5",
                "#B0BEC5",
                "#B0BEC5",
                "#B0BEC5",
                "#B0BEC5",
                "#B0BEC5",
                "#B0BEC5",
                "#B0BEC5",
                "#B0BEC5",
                "#B0BEC5",
                "#B0BEC5",
                "#B0BEC5",
                "#B0BEC5",
                "#B0BEC5",
                "#B0BEC5",
                "#B0BEC5",
                "#B0BEC5",
                "#B0BEC5",
                "#B0BEC5"
               ]
              ]
             }
            ],
            "label": "Topic 12",
            "method": "update"
           },
           {
            "args": [
             {
              "marker.color": [
               [
                "#B0BEC5",
                "#B0BEC5",
                "#B0BEC5",
                "#B0BEC5",
                "#B0BEC5",
                "#B0BEC5",
                "#B0BEC5",
                "#B0BEC5",
                "#B0BEC5",
                "#B0BEC5",
                "#B0BEC5",
                "#B0BEC5",
                "#B0BEC5",
                "red",
                "#B0BEC5",
                "#B0BEC5",
                "#B0BEC5",
                "#B0BEC5",
                "#B0BEC5",
                "#B0BEC5",
                "#B0BEC5",
                "#B0BEC5",
                "#B0BEC5",
                "#B0BEC5",
                "#B0BEC5",
                "#B0BEC5",
                "#B0BEC5",
                "#B0BEC5",
                "#B0BEC5",
                "#B0BEC5",
                "#B0BEC5",
                "#B0BEC5",
                "#B0BEC5",
                "#B0BEC5",
                "#B0BEC5",
                "#B0BEC5"
               ]
              ]
             }
            ],
            "label": "Topic 13",
            "method": "update"
           },
           {
            "args": [
             {
              "marker.color": [
               [
                "#B0BEC5",
                "#B0BEC5",
                "#B0BEC5",
                "#B0BEC5",
                "#B0BEC5",
                "#B0BEC5",
                "#B0BEC5",
                "#B0BEC5",
                "#B0BEC5",
                "#B0BEC5",
                "#B0BEC5",
                "#B0BEC5",
                "#B0BEC5",
                "#B0BEC5",
                "red",
                "#B0BEC5",
                "#B0BEC5",
                "#B0BEC5",
                "#B0BEC5",
                "#B0BEC5",
                "#B0BEC5",
                "#B0BEC5",
                "#B0BEC5",
                "#B0BEC5",
                "#B0BEC5",
                "#B0BEC5",
                "#B0BEC5",
                "#B0BEC5",
                "#B0BEC5",
                "#B0BEC5",
                "#B0BEC5",
                "#B0BEC5",
                "#B0BEC5",
                "#B0BEC5",
                "#B0BEC5",
                "#B0BEC5"
               ]
              ]
             }
            ],
            "label": "Topic 14",
            "method": "update"
           },
           {
            "args": [
             {
              "marker.color": [
               [
                "#B0BEC5",
                "#B0BEC5",
                "#B0BEC5",
                "#B0BEC5",
                "#B0BEC5",
                "#B0BEC5",
                "#B0BEC5",
                "#B0BEC5",
                "#B0BEC5",
                "#B0BEC5",
                "#B0BEC5",
                "#B0BEC5",
                "#B0BEC5",
                "#B0BEC5",
                "#B0BEC5",
                "red",
                "#B0BEC5",
                "#B0BEC5",
                "#B0BEC5",
                "#B0BEC5",
                "#B0BEC5",
                "#B0BEC5",
                "#B0BEC5",
                "#B0BEC5",
                "#B0BEC5",
                "#B0BEC5",
                "#B0BEC5",
                "#B0BEC5",
                "#B0BEC5",
                "#B0BEC5",
                "#B0BEC5",
                "#B0BEC5",
                "#B0BEC5",
                "#B0BEC5",
                "#B0BEC5",
                "#B0BEC5"
               ]
              ]
             }
            ],
            "label": "Topic 15",
            "method": "update"
           },
           {
            "args": [
             {
              "marker.color": [
               [
                "#B0BEC5",
                "#B0BEC5",
                "#B0BEC5",
                "#B0BEC5",
                "#B0BEC5",
                "#B0BEC5",
                "#B0BEC5",
                "#B0BEC5",
                "#B0BEC5",
                "#B0BEC5",
                "#B0BEC5",
                "#B0BEC5",
                "#B0BEC5",
                "#B0BEC5",
                "#B0BEC5",
                "#B0BEC5",
                "red",
                "#B0BEC5",
                "#B0BEC5",
                "#B0BEC5",
                "#B0BEC5",
                "#B0BEC5",
                "#B0BEC5",
                "#B0BEC5",
                "#B0BEC5",
                "#B0BEC5",
                "#B0BEC5",
                "#B0BEC5",
                "#B0BEC5",
                "#B0BEC5",
                "#B0BEC5",
                "#B0BEC5",
                "#B0BEC5",
                "#B0BEC5",
                "#B0BEC5",
                "#B0BEC5"
               ]
              ]
             }
            ],
            "label": "Topic 16",
            "method": "update"
           },
           {
            "args": [
             {
              "marker.color": [
               [
                "#B0BEC5",
                "#B0BEC5",
                "#B0BEC5",
                "#B0BEC5",
                "#B0BEC5",
                "#B0BEC5",
                "#B0BEC5",
                "#B0BEC5",
                "#B0BEC5",
                "#B0BEC5",
                "#B0BEC5",
                "#B0BEC5",
                "#B0BEC5",
                "#B0BEC5",
                "#B0BEC5",
                "#B0BEC5",
                "#B0BEC5",
                "red",
                "#B0BEC5",
                "#B0BEC5",
                "#B0BEC5",
                "#B0BEC5",
                "#B0BEC5",
                "#B0BEC5",
                "#B0BEC5",
                "#B0BEC5",
                "#B0BEC5",
                "#B0BEC5",
                "#B0BEC5",
                "#B0BEC5",
                "#B0BEC5",
                "#B0BEC5",
                "#B0BEC5",
                "#B0BEC5",
                "#B0BEC5",
                "#B0BEC5"
               ]
              ]
             }
            ],
            "label": "Topic 17",
            "method": "update"
           },
           {
            "args": [
             {
              "marker.color": [
               [
                "#B0BEC5",
                "#B0BEC5",
                "#B0BEC5",
                "#B0BEC5",
                "#B0BEC5",
                "#B0BEC5",
                "#B0BEC5",
                "#B0BEC5",
                "#B0BEC5",
                "#B0BEC5",
                "#B0BEC5",
                "#B0BEC5",
                "#B0BEC5",
                "#B0BEC5",
                "#B0BEC5",
                "#B0BEC5",
                "#B0BEC5",
                "#B0BEC5",
                "red",
                "#B0BEC5",
                "#B0BEC5",
                "#B0BEC5",
                "#B0BEC5",
                "#B0BEC5",
                "#B0BEC5",
                "#B0BEC5",
                "#B0BEC5",
                "#B0BEC5",
                "#B0BEC5",
                "#B0BEC5",
                "#B0BEC5",
                "#B0BEC5",
                "#B0BEC5",
                "#B0BEC5",
                "#B0BEC5",
                "#B0BEC5"
               ]
              ]
             }
            ],
            "label": "Topic 18",
            "method": "update"
           },
           {
            "args": [
             {
              "marker.color": [
               [
                "#B0BEC5",
                "#B0BEC5",
                "#B0BEC5",
                "#B0BEC5",
                "#B0BEC5",
                "#B0BEC5",
                "#B0BEC5",
                "#B0BEC5",
                "#B0BEC5",
                "#B0BEC5",
                "#B0BEC5",
                "#B0BEC5",
                "#B0BEC5",
                "#B0BEC5",
                "#B0BEC5",
                "#B0BEC5",
                "#B0BEC5",
                "#B0BEC5",
                "#B0BEC5",
                "red",
                "#B0BEC5",
                "#B0BEC5",
                "#B0BEC5",
                "#B0BEC5",
                "#B0BEC5",
                "#B0BEC5",
                "#B0BEC5",
                "#B0BEC5",
                "#B0BEC5",
                "#B0BEC5",
                "#B0BEC5",
                "#B0BEC5",
                "#B0BEC5",
                "#B0BEC5",
                "#B0BEC5",
                "#B0BEC5"
               ]
              ]
             }
            ],
            "label": "Topic 19",
            "method": "update"
           },
           {
            "args": [
             {
              "marker.color": [
               [
                "#B0BEC5",
                "#B0BEC5",
                "#B0BEC5",
                "#B0BEC5",
                "#B0BEC5",
                "#B0BEC5",
                "#B0BEC5",
                "#B0BEC5",
                "#B0BEC5",
                "#B0BEC5",
                "#B0BEC5",
                "#B0BEC5",
                "#B0BEC5",
                "#B0BEC5",
                "#B0BEC5",
                "#B0BEC5",
                "#B0BEC5",
                "#B0BEC5",
                "#B0BEC5",
                "#B0BEC5",
                "red",
                "#B0BEC5",
                "#B0BEC5",
                "#B0BEC5",
                "#B0BEC5",
                "#B0BEC5",
                "#B0BEC5",
                "#B0BEC5",
                "#B0BEC5",
                "#B0BEC5",
                "#B0BEC5",
                "#B0BEC5",
                "#B0BEC5",
                "#B0BEC5",
                "#B0BEC5",
                "#B0BEC5"
               ]
              ]
             }
            ],
            "label": "Topic 20",
            "method": "update"
           },
           {
            "args": [
             {
              "marker.color": [
               [
                "#B0BEC5",
                "#B0BEC5",
                "#B0BEC5",
                "#B0BEC5",
                "#B0BEC5",
                "#B0BEC5",
                "#B0BEC5",
                "#B0BEC5",
                "#B0BEC5",
                "#B0BEC5",
                "#B0BEC5",
                "#B0BEC5",
                "#B0BEC5",
                "#B0BEC5",
                "#B0BEC5",
                "#B0BEC5",
                "#B0BEC5",
                "#B0BEC5",
                "#B0BEC5",
                "#B0BEC5",
                "#B0BEC5",
                "red",
                "#B0BEC5",
                "#B0BEC5",
                "#B0BEC5",
                "#B0BEC5",
                "#B0BEC5",
                "#B0BEC5",
                "#B0BEC5",
                "#B0BEC5",
                "#B0BEC5",
                "#B0BEC5",
                "#B0BEC5",
                "#B0BEC5",
                "#B0BEC5",
                "#B0BEC5"
               ]
              ]
             }
            ],
            "label": "Topic 21",
            "method": "update"
           },
           {
            "args": [
             {
              "marker.color": [
               [
                "#B0BEC5",
                "#B0BEC5",
                "#B0BEC5",
                "#B0BEC5",
                "#B0BEC5",
                "#B0BEC5",
                "#B0BEC5",
                "#B0BEC5",
                "#B0BEC5",
                "#B0BEC5",
                "#B0BEC5",
                "#B0BEC5",
                "#B0BEC5",
                "#B0BEC5",
                "#B0BEC5",
                "#B0BEC5",
                "#B0BEC5",
                "#B0BEC5",
                "#B0BEC5",
                "#B0BEC5",
                "#B0BEC5",
                "#B0BEC5",
                "red",
                "#B0BEC5",
                "#B0BEC5",
                "#B0BEC5",
                "#B0BEC5",
                "#B0BEC5",
                "#B0BEC5",
                "#B0BEC5",
                "#B0BEC5",
                "#B0BEC5",
                "#B0BEC5",
                "#B0BEC5",
                "#B0BEC5",
                "#B0BEC5"
               ]
              ]
             }
            ],
            "label": "Topic 22",
            "method": "update"
           },
           {
            "args": [
             {
              "marker.color": [
               [
                "#B0BEC5",
                "#B0BEC5",
                "#B0BEC5",
                "#B0BEC5",
                "#B0BEC5",
                "#B0BEC5",
                "#B0BEC5",
                "#B0BEC5",
                "#B0BEC5",
                "#B0BEC5",
                "#B0BEC5",
                "#B0BEC5",
                "#B0BEC5",
                "#B0BEC5",
                "#B0BEC5",
                "#B0BEC5",
                "#B0BEC5",
                "#B0BEC5",
                "#B0BEC5",
                "#B0BEC5",
                "#B0BEC5",
                "#B0BEC5",
                "#B0BEC5",
                "red",
                "#B0BEC5",
                "#B0BEC5",
                "#B0BEC5",
                "#B0BEC5",
                "#B0BEC5",
                "#B0BEC5",
                "#B0BEC5",
                "#B0BEC5",
                "#B0BEC5",
                "#B0BEC5",
                "#B0BEC5",
                "#B0BEC5"
               ]
              ]
             }
            ],
            "label": "Topic 23",
            "method": "update"
           },
           {
            "args": [
             {
              "marker.color": [
               [
                "#B0BEC5",
                "#B0BEC5",
                "#B0BEC5",
                "#B0BEC5",
                "#B0BEC5",
                "#B0BEC5",
                "#B0BEC5",
                "#B0BEC5",
                "#B0BEC5",
                "#B0BEC5",
                "#B0BEC5",
                "#B0BEC5",
                "#B0BEC5",
                "#B0BEC5",
                "#B0BEC5",
                "#B0BEC5",
                "#B0BEC5",
                "#B0BEC5",
                "#B0BEC5",
                "#B0BEC5",
                "#B0BEC5",
                "#B0BEC5",
                "#B0BEC5",
                "#B0BEC5",
                "red",
                "#B0BEC5",
                "#B0BEC5",
                "#B0BEC5",
                "#B0BEC5",
                "#B0BEC5",
                "#B0BEC5",
                "#B0BEC5",
                "#B0BEC5",
                "#B0BEC5",
                "#B0BEC5",
                "#B0BEC5"
               ]
              ]
             }
            ],
            "label": "Topic 24",
            "method": "update"
           },
           {
            "args": [
             {
              "marker.color": [
               [
                "#B0BEC5",
                "#B0BEC5",
                "#B0BEC5",
                "#B0BEC5",
                "#B0BEC5",
                "#B0BEC5",
                "#B0BEC5",
                "#B0BEC5",
                "#B0BEC5",
                "#B0BEC5",
                "#B0BEC5",
                "#B0BEC5",
                "#B0BEC5",
                "#B0BEC5",
                "#B0BEC5",
                "#B0BEC5",
                "#B0BEC5",
                "#B0BEC5",
                "#B0BEC5",
                "#B0BEC5",
                "#B0BEC5",
                "#B0BEC5",
                "#B0BEC5",
                "#B0BEC5",
                "#B0BEC5",
                "red",
                "#B0BEC5",
                "#B0BEC5",
                "#B0BEC5",
                "#B0BEC5",
                "#B0BEC5",
                "#B0BEC5",
                "#B0BEC5",
                "#B0BEC5",
                "#B0BEC5",
                "#B0BEC5"
               ]
              ]
             }
            ],
            "label": "Topic 25",
            "method": "update"
           },
           {
            "args": [
             {
              "marker.color": [
               [
                "#B0BEC5",
                "#B0BEC5",
                "#B0BEC5",
                "#B0BEC5",
                "#B0BEC5",
                "#B0BEC5",
                "#B0BEC5",
                "#B0BEC5",
                "#B0BEC5",
                "#B0BEC5",
                "#B0BEC5",
                "#B0BEC5",
                "#B0BEC5",
                "#B0BEC5",
                "#B0BEC5",
                "#B0BEC5",
                "#B0BEC5",
                "#B0BEC5",
                "#B0BEC5",
                "#B0BEC5",
                "#B0BEC5",
                "#B0BEC5",
                "#B0BEC5",
                "#B0BEC5",
                "#B0BEC5",
                "#B0BEC5",
                "red",
                "#B0BEC5",
                "#B0BEC5",
                "#B0BEC5",
                "#B0BEC5",
                "#B0BEC5",
                "#B0BEC5",
                "#B0BEC5",
                "#B0BEC5",
                "#B0BEC5"
               ]
              ]
             }
            ],
            "label": "Topic 26",
            "method": "update"
           },
           {
            "args": [
             {
              "marker.color": [
               [
                "#B0BEC5",
                "#B0BEC5",
                "#B0BEC5",
                "#B0BEC5",
                "#B0BEC5",
                "#B0BEC5",
                "#B0BEC5",
                "#B0BEC5",
                "#B0BEC5",
                "#B0BEC5",
                "#B0BEC5",
                "#B0BEC5",
                "#B0BEC5",
                "#B0BEC5",
                "#B0BEC5",
                "#B0BEC5",
                "#B0BEC5",
                "#B0BEC5",
                "#B0BEC5",
                "#B0BEC5",
                "#B0BEC5",
                "#B0BEC5",
                "#B0BEC5",
                "#B0BEC5",
                "#B0BEC5",
                "#B0BEC5",
                "#B0BEC5",
                "red",
                "#B0BEC5",
                "#B0BEC5",
                "#B0BEC5",
                "#B0BEC5",
                "#B0BEC5",
                "#B0BEC5",
                "#B0BEC5",
                "#B0BEC5"
               ]
              ]
             }
            ],
            "label": "Topic 27",
            "method": "update"
           },
           {
            "args": [
             {
              "marker.color": [
               [
                "#B0BEC5",
                "#B0BEC5",
                "#B0BEC5",
                "#B0BEC5",
                "#B0BEC5",
                "#B0BEC5",
                "#B0BEC5",
                "#B0BEC5",
                "#B0BEC5",
                "#B0BEC5",
                "#B0BEC5",
                "#B0BEC5",
                "#B0BEC5",
                "#B0BEC5",
                "#B0BEC5",
                "#B0BEC5",
                "#B0BEC5",
                "#B0BEC5",
                "#B0BEC5",
                "#B0BEC5",
                "#B0BEC5",
                "#B0BEC5",
                "#B0BEC5",
                "#B0BEC5",
                "#B0BEC5",
                "#B0BEC5",
                "#B0BEC5",
                "#B0BEC5",
                "red",
                "#B0BEC5",
                "#B0BEC5",
                "#B0BEC5",
                "#B0BEC5",
                "#B0BEC5",
                "#B0BEC5",
                "#B0BEC5"
               ]
              ]
             }
            ],
            "label": "Topic 28",
            "method": "update"
           },
           {
            "args": [
             {
              "marker.color": [
               [
                "#B0BEC5",
                "#B0BEC5",
                "#B0BEC5",
                "#B0BEC5",
                "#B0BEC5",
                "#B0BEC5",
                "#B0BEC5",
                "#B0BEC5",
                "#B0BEC5",
                "#B0BEC5",
                "#B0BEC5",
                "#B0BEC5",
                "#B0BEC5",
                "#B0BEC5",
                "#B0BEC5",
                "#B0BEC5",
                "#B0BEC5",
                "#B0BEC5",
                "#B0BEC5",
                "#B0BEC5",
                "#B0BEC5",
                "#B0BEC5",
                "#B0BEC5",
                "#B0BEC5",
                "#B0BEC5",
                "#B0BEC5",
                "#B0BEC5",
                "#B0BEC5",
                "#B0BEC5",
                "red",
                "#B0BEC5",
                "#B0BEC5",
                "#B0BEC5",
                "#B0BEC5",
                "#B0BEC5",
                "#B0BEC5"
               ]
              ]
             }
            ],
            "label": "Topic 29",
            "method": "update"
           },
           {
            "args": [
             {
              "marker.color": [
               [
                "#B0BEC5",
                "#B0BEC5",
                "#B0BEC5",
                "#B0BEC5",
                "#B0BEC5",
                "#B0BEC5",
                "#B0BEC5",
                "#B0BEC5",
                "#B0BEC5",
                "#B0BEC5",
                "#B0BEC5",
                "#B0BEC5",
                "#B0BEC5",
                "#B0BEC5",
                "#B0BEC5",
                "#B0BEC5",
                "#B0BEC5",
                "#B0BEC5",
                "#B0BEC5",
                "#B0BEC5",
                "#B0BEC5",
                "#B0BEC5",
                "#B0BEC5",
                "#B0BEC5",
                "#B0BEC5",
                "#B0BEC5",
                "#B0BEC5",
                "#B0BEC5",
                "#B0BEC5",
                "#B0BEC5",
                "red",
                "#B0BEC5",
                "#B0BEC5",
                "#B0BEC5",
                "#B0BEC5",
                "#B0BEC5"
               ]
              ]
             }
            ],
            "label": "Topic 30",
            "method": "update"
           },
           {
            "args": [
             {
              "marker.color": [
               [
                "#B0BEC5",
                "#B0BEC5",
                "#B0BEC5",
                "#B0BEC5",
                "#B0BEC5",
                "#B0BEC5",
                "#B0BEC5",
                "#B0BEC5",
                "#B0BEC5",
                "#B0BEC5",
                "#B0BEC5",
                "#B0BEC5",
                "#B0BEC5",
                "#B0BEC5",
                "#B0BEC5",
                "#B0BEC5",
                "#B0BEC5",
                "#B0BEC5",
                "#B0BEC5",
                "#B0BEC5",
                "#B0BEC5",
                "#B0BEC5",
                "#B0BEC5",
                "#B0BEC5",
                "#B0BEC5",
                "#B0BEC5",
                "#B0BEC5",
                "#B0BEC5",
                "#B0BEC5",
                "#B0BEC5",
                "#B0BEC5",
                "red",
                "#B0BEC5",
                "#B0BEC5",
                "#B0BEC5",
                "#B0BEC5"
               ]
              ]
             }
            ],
            "label": "Topic 31",
            "method": "update"
           },
           {
            "args": [
             {
              "marker.color": [
               [
                "#B0BEC5",
                "#B0BEC5",
                "#B0BEC5",
                "#B0BEC5",
                "#B0BEC5",
                "#B0BEC5",
                "#B0BEC5",
                "#B0BEC5",
                "#B0BEC5",
                "#B0BEC5",
                "#B0BEC5",
                "#B0BEC5",
                "#B0BEC5",
                "#B0BEC5",
                "#B0BEC5",
                "#B0BEC5",
                "#B0BEC5",
                "#B0BEC5",
                "#B0BEC5",
                "#B0BEC5",
                "#B0BEC5",
                "#B0BEC5",
                "#B0BEC5",
                "#B0BEC5",
                "#B0BEC5",
                "#B0BEC5",
                "#B0BEC5",
                "#B0BEC5",
                "#B0BEC5",
                "#B0BEC5",
                "#B0BEC5",
                "#B0BEC5",
                "red",
                "#B0BEC5",
                "#B0BEC5",
                "#B0BEC5"
               ]
              ]
             }
            ],
            "label": "Topic 32",
            "method": "update"
           },
           {
            "args": [
             {
              "marker.color": [
               [
                "#B0BEC5",
                "#B0BEC5",
                "#B0BEC5",
                "#B0BEC5",
                "#B0BEC5",
                "#B0BEC5",
                "#B0BEC5",
                "#B0BEC5",
                "#B0BEC5",
                "#B0BEC5",
                "#B0BEC5",
                "#B0BEC5",
                "#B0BEC5",
                "#B0BEC5",
                "#B0BEC5",
                "#B0BEC5",
                "#B0BEC5",
                "#B0BEC5",
                "#B0BEC5",
                "#B0BEC5",
                "#B0BEC5",
                "#B0BEC5",
                "#B0BEC5",
                "#B0BEC5",
                "#B0BEC5",
                "#B0BEC5",
                "#B0BEC5",
                "#B0BEC5",
                "#B0BEC5",
                "#B0BEC5",
                "#B0BEC5",
                "#B0BEC5",
                "#B0BEC5",
                "red",
                "#B0BEC5",
                "#B0BEC5"
               ]
              ]
             }
            ],
            "label": "Topic 33",
            "method": "update"
           },
           {
            "args": [
             {
              "marker.color": [
               [
                "#B0BEC5",
                "#B0BEC5",
                "#B0BEC5",
                "#B0BEC5",
                "#B0BEC5",
                "#B0BEC5",
                "#B0BEC5",
                "#B0BEC5",
                "#B0BEC5",
                "#B0BEC5",
                "#B0BEC5",
                "#B0BEC5",
                "#B0BEC5",
                "#B0BEC5",
                "#B0BEC5",
                "#B0BEC5",
                "#B0BEC5",
                "#B0BEC5",
                "#B0BEC5",
                "#B0BEC5",
                "#B0BEC5",
                "#B0BEC5",
                "#B0BEC5",
                "#B0BEC5",
                "#B0BEC5",
                "#B0BEC5",
                "#B0BEC5",
                "#B0BEC5",
                "#B0BEC5",
                "#B0BEC5",
                "#B0BEC5",
                "#B0BEC5",
                "#B0BEC5",
                "#B0BEC5",
                "red",
                "#B0BEC5"
               ]
              ]
             }
            ],
            "label": "Topic 34",
            "method": "update"
           },
           {
            "args": [
             {
              "marker.color": [
               [
                "#B0BEC5",
                "#B0BEC5",
                "#B0BEC5",
                "#B0BEC5",
                "#B0BEC5",
                "#B0BEC5",
                "#B0BEC5",
                "#B0BEC5",
                "#B0BEC5",
                "#B0BEC5",
                "#B0BEC5",
                "#B0BEC5",
                "#B0BEC5",
                "#B0BEC5",
                "#B0BEC5",
                "#B0BEC5",
                "#B0BEC5",
                "#B0BEC5",
                "#B0BEC5",
                "#B0BEC5",
                "#B0BEC5",
                "#B0BEC5",
                "#B0BEC5",
                "#B0BEC5",
                "#B0BEC5",
                "#B0BEC5",
                "#B0BEC5",
                "#B0BEC5",
                "#B0BEC5",
                "#B0BEC5",
                "#B0BEC5",
                "#B0BEC5",
                "#B0BEC5",
                "#B0BEC5",
                "#B0BEC5",
                "red"
               ]
              ]
             }
            ],
            "label": "Topic 35",
            "method": "update"
           }
          ]
         }
        ],
        "template": {
         "data": {
          "bar": [
           {
            "error_x": {
             "color": "rgb(36,36,36)"
            },
            "error_y": {
             "color": "rgb(36,36,36)"
            },
            "marker": {
             "line": {
              "color": "white",
              "width": 0.5
             },
             "pattern": {
              "fillmode": "overlay",
              "size": 10,
              "solidity": 0.2
             }
            },
            "type": "bar"
           }
          ],
          "barpolar": [
           {
            "marker": {
             "line": {
              "color": "white",
              "width": 0.5
             },
             "pattern": {
              "fillmode": "overlay",
              "size": 10,
              "solidity": 0.2
             }
            },
            "type": "barpolar"
           }
          ],
          "carpet": [
           {
            "aaxis": {
             "endlinecolor": "rgb(36,36,36)",
             "gridcolor": "white",
             "linecolor": "white",
             "minorgridcolor": "white",
             "startlinecolor": "rgb(36,36,36)"
            },
            "baxis": {
             "endlinecolor": "rgb(36,36,36)",
             "gridcolor": "white",
             "linecolor": "white",
             "minorgridcolor": "white",
             "startlinecolor": "rgb(36,36,36)"
            },
            "type": "carpet"
           }
          ],
          "choropleth": [
           {
            "colorbar": {
             "outlinewidth": 1,
             "tickcolor": "rgb(36,36,36)",
             "ticks": "outside"
            },
            "type": "choropleth"
           }
          ],
          "contour": [
           {
            "colorbar": {
             "outlinewidth": 1,
             "tickcolor": "rgb(36,36,36)",
             "ticks": "outside"
            },
            "colorscale": [
             [
              0,
              "#440154"
             ],
             [
              0.1111111111111111,
              "#482878"
             ],
             [
              0.2222222222222222,
              "#3e4989"
             ],
             [
              0.3333333333333333,
              "#31688e"
             ],
             [
              0.4444444444444444,
              "#26828e"
             ],
             [
              0.5555555555555556,
              "#1f9e89"
             ],
             [
              0.6666666666666666,
              "#35b779"
             ],
             [
              0.7777777777777778,
              "#6ece58"
             ],
             [
              0.8888888888888888,
              "#b5de2b"
             ],
             [
              1,
              "#fde725"
             ]
            ],
            "type": "contour"
           }
          ],
          "contourcarpet": [
           {
            "colorbar": {
             "outlinewidth": 1,
             "tickcolor": "rgb(36,36,36)",
             "ticks": "outside"
            },
            "type": "contourcarpet"
           }
          ],
          "heatmap": [
           {
            "colorbar": {
             "outlinewidth": 1,
             "tickcolor": "rgb(36,36,36)",
             "ticks": "outside"
            },
            "colorscale": [
             [
              0,
              "#440154"
             ],
             [
              0.1111111111111111,
              "#482878"
             ],
             [
              0.2222222222222222,
              "#3e4989"
             ],
             [
              0.3333333333333333,
              "#31688e"
             ],
             [
              0.4444444444444444,
              "#26828e"
             ],
             [
              0.5555555555555556,
              "#1f9e89"
             ],
             [
              0.6666666666666666,
              "#35b779"
             ],
             [
              0.7777777777777778,
              "#6ece58"
             ],
             [
              0.8888888888888888,
              "#b5de2b"
             ],
             [
              1,
              "#fde725"
             ]
            ],
            "type": "heatmap"
           }
          ],
          "heatmapgl": [
           {
            "colorbar": {
             "outlinewidth": 1,
             "tickcolor": "rgb(36,36,36)",
             "ticks": "outside"
            },
            "colorscale": [
             [
              0,
              "#440154"
             ],
             [
              0.1111111111111111,
              "#482878"
             ],
             [
              0.2222222222222222,
              "#3e4989"
             ],
             [
              0.3333333333333333,
              "#31688e"
             ],
             [
              0.4444444444444444,
              "#26828e"
             ],
             [
              0.5555555555555556,
              "#1f9e89"
             ],
             [
              0.6666666666666666,
              "#35b779"
             ],
             [
              0.7777777777777778,
              "#6ece58"
             ],
             [
              0.8888888888888888,
              "#b5de2b"
             ],
             [
              1,
              "#fde725"
             ]
            ],
            "type": "heatmapgl"
           }
          ],
          "histogram": [
           {
            "marker": {
             "line": {
              "color": "white",
              "width": 0.6
             }
            },
            "type": "histogram"
           }
          ],
          "histogram2d": [
           {
            "colorbar": {
             "outlinewidth": 1,
             "tickcolor": "rgb(36,36,36)",
             "ticks": "outside"
            },
            "colorscale": [
             [
              0,
              "#440154"
             ],
             [
              0.1111111111111111,
              "#482878"
             ],
             [
              0.2222222222222222,
              "#3e4989"
             ],
             [
              0.3333333333333333,
              "#31688e"
             ],
             [
              0.4444444444444444,
              "#26828e"
             ],
             [
              0.5555555555555556,
              "#1f9e89"
             ],
             [
              0.6666666666666666,
              "#35b779"
             ],
             [
              0.7777777777777778,
              "#6ece58"
             ],
             [
              0.8888888888888888,
              "#b5de2b"
             ],
             [
              1,
              "#fde725"
             ]
            ],
            "type": "histogram2d"
           }
          ],
          "histogram2dcontour": [
           {
            "colorbar": {
             "outlinewidth": 1,
             "tickcolor": "rgb(36,36,36)",
             "ticks": "outside"
            },
            "colorscale": [
             [
              0,
              "#440154"
             ],
             [
              0.1111111111111111,
              "#482878"
             ],
             [
              0.2222222222222222,
              "#3e4989"
             ],
             [
              0.3333333333333333,
              "#31688e"
             ],
             [
              0.4444444444444444,
              "#26828e"
             ],
             [
              0.5555555555555556,
              "#1f9e89"
             ],
             [
              0.6666666666666666,
              "#35b779"
             ],
             [
              0.7777777777777778,
              "#6ece58"
             ],
             [
              0.8888888888888888,
              "#b5de2b"
             ],
             [
              1,
              "#fde725"
             ]
            ],
            "type": "histogram2dcontour"
           }
          ],
          "mesh3d": [
           {
            "colorbar": {
             "outlinewidth": 1,
             "tickcolor": "rgb(36,36,36)",
             "ticks": "outside"
            },
            "type": "mesh3d"
           }
          ],
          "parcoords": [
           {
            "line": {
             "colorbar": {
              "outlinewidth": 1,
              "tickcolor": "rgb(36,36,36)",
              "ticks": "outside"
             }
            },
            "type": "parcoords"
           }
          ],
          "pie": [
           {
            "automargin": true,
            "type": "pie"
           }
          ],
          "scatter": [
           {
            "fillpattern": {
             "fillmode": "overlay",
             "size": 10,
             "solidity": 0.2
            },
            "type": "scatter"
           }
          ],
          "scatter3d": [
           {
            "line": {
             "colorbar": {
              "outlinewidth": 1,
              "tickcolor": "rgb(36,36,36)",
              "ticks": "outside"
             }
            },
            "marker": {
             "colorbar": {
              "outlinewidth": 1,
              "tickcolor": "rgb(36,36,36)",
              "ticks": "outside"
             }
            },
            "type": "scatter3d"
           }
          ],
          "scattercarpet": [
           {
            "marker": {
             "colorbar": {
              "outlinewidth": 1,
              "tickcolor": "rgb(36,36,36)",
              "ticks": "outside"
             }
            },
            "type": "scattercarpet"
           }
          ],
          "scattergeo": [
           {
            "marker": {
             "colorbar": {
              "outlinewidth": 1,
              "tickcolor": "rgb(36,36,36)",
              "ticks": "outside"
             }
            },
            "type": "scattergeo"
           }
          ],
          "scattergl": [
           {
            "marker": {
             "colorbar": {
              "outlinewidth": 1,
              "tickcolor": "rgb(36,36,36)",
              "ticks": "outside"
             }
            },
            "type": "scattergl"
           }
          ],
          "scattermapbox": [
           {
            "marker": {
             "colorbar": {
              "outlinewidth": 1,
              "tickcolor": "rgb(36,36,36)",
              "ticks": "outside"
             }
            },
            "type": "scattermapbox"
           }
          ],
          "scatterpolar": [
           {
            "marker": {
             "colorbar": {
              "outlinewidth": 1,
              "tickcolor": "rgb(36,36,36)",
              "ticks": "outside"
             }
            },
            "type": "scatterpolar"
           }
          ],
          "scatterpolargl": [
           {
            "marker": {
             "colorbar": {
              "outlinewidth": 1,
              "tickcolor": "rgb(36,36,36)",
              "ticks": "outside"
             }
            },
            "type": "scatterpolargl"
           }
          ],
          "scatterternary": [
           {
            "marker": {
             "colorbar": {
              "outlinewidth": 1,
              "tickcolor": "rgb(36,36,36)",
              "ticks": "outside"
             }
            },
            "type": "scatterternary"
           }
          ],
          "surface": [
           {
            "colorbar": {
             "outlinewidth": 1,
             "tickcolor": "rgb(36,36,36)",
             "ticks": "outside"
            },
            "colorscale": [
             [
              0,
              "#440154"
             ],
             [
              0.1111111111111111,
              "#482878"
             ],
             [
              0.2222222222222222,
              "#3e4989"
             ],
             [
              0.3333333333333333,
              "#31688e"
             ],
             [
              0.4444444444444444,
              "#26828e"
             ],
             [
              0.5555555555555556,
              "#1f9e89"
             ],
             [
              0.6666666666666666,
              "#35b779"
             ],
             [
              0.7777777777777778,
              "#6ece58"
             ],
             [
              0.8888888888888888,
              "#b5de2b"
             ],
             [
              1,
              "#fde725"
             ]
            ],
            "type": "surface"
           }
          ],
          "table": [
           {
            "cells": {
             "fill": {
              "color": "rgb(237,237,237)"
             },
             "line": {
              "color": "white"
             }
            },
            "header": {
             "fill": {
              "color": "rgb(217,217,217)"
             },
             "line": {
              "color": "white"
             }
            },
            "type": "table"
           }
          ]
         },
         "layout": {
          "annotationdefaults": {
           "arrowhead": 0,
           "arrowwidth": 1
          },
          "autotypenumbers": "strict",
          "coloraxis": {
           "colorbar": {
            "outlinewidth": 1,
            "tickcolor": "rgb(36,36,36)",
            "ticks": "outside"
           }
          },
          "colorscale": {
           "diverging": [
            [
             0,
             "rgb(103,0,31)"
            ],
            [
             0.1,
             "rgb(178,24,43)"
            ],
            [
             0.2,
             "rgb(214,96,77)"
            ],
            [
             0.3,
             "rgb(244,165,130)"
            ],
            [
             0.4,
             "rgb(253,219,199)"
            ],
            [
             0.5,
             "rgb(247,247,247)"
            ],
            [
             0.6,
             "rgb(209,229,240)"
            ],
            [
             0.7,
             "rgb(146,197,222)"
            ],
            [
             0.8,
             "rgb(67,147,195)"
            ],
            [
             0.9,
             "rgb(33,102,172)"
            ],
            [
             1,
             "rgb(5,48,97)"
            ]
           ],
           "sequential": [
            [
             0,
             "#440154"
            ],
            [
             0.1111111111111111,
             "#482878"
            ],
            [
             0.2222222222222222,
             "#3e4989"
            ],
            [
             0.3333333333333333,
             "#31688e"
            ],
            [
             0.4444444444444444,
             "#26828e"
            ],
            [
             0.5555555555555556,
             "#1f9e89"
            ],
            [
             0.6666666666666666,
             "#35b779"
            ],
            [
             0.7777777777777778,
             "#6ece58"
            ],
            [
             0.8888888888888888,
             "#b5de2b"
            ],
            [
             1,
             "#fde725"
            ]
           ],
           "sequentialminus": [
            [
             0,
             "#440154"
            ],
            [
             0.1111111111111111,
             "#482878"
            ],
            [
             0.2222222222222222,
             "#3e4989"
            ],
            [
             0.3333333333333333,
             "#31688e"
            ],
            [
             0.4444444444444444,
             "#26828e"
            ],
            [
             0.5555555555555556,
             "#1f9e89"
            ],
            [
             0.6666666666666666,
             "#35b779"
            ],
            [
             0.7777777777777778,
             "#6ece58"
            ],
            [
             0.8888888888888888,
             "#b5de2b"
            ],
            [
             1,
             "#fde725"
            ]
           ]
          },
          "colorway": [
           "#1F77B4",
           "#FF7F0E",
           "#2CA02C",
           "#D62728",
           "#9467BD",
           "#8C564B",
           "#E377C2",
           "#7F7F7F",
           "#BCBD22",
           "#17BECF"
          ],
          "font": {
           "color": "rgb(36,36,36)"
          },
          "geo": {
           "bgcolor": "white",
           "lakecolor": "white",
           "landcolor": "white",
           "showlakes": true,
           "showland": true,
           "subunitcolor": "white"
          },
          "hoverlabel": {
           "align": "left"
          },
          "hovermode": "closest",
          "mapbox": {
           "style": "light"
          },
          "paper_bgcolor": "white",
          "plot_bgcolor": "white",
          "polar": {
           "angularaxis": {
            "gridcolor": "rgb(232,232,232)",
            "linecolor": "rgb(36,36,36)",
            "showgrid": false,
            "showline": true,
            "ticks": "outside"
           },
           "bgcolor": "white",
           "radialaxis": {
            "gridcolor": "rgb(232,232,232)",
            "linecolor": "rgb(36,36,36)",
            "showgrid": false,
            "showline": true,
            "ticks": "outside"
           }
          },
          "scene": {
           "xaxis": {
            "backgroundcolor": "white",
            "gridcolor": "rgb(232,232,232)",
            "gridwidth": 2,
            "linecolor": "rgb(36,36,36)",
            "showbackground": true,
            "showgrid": false,
            "showline": true,
            "ticks": "outside",
            "zeroline": false,
            "zerolinecolor": "rgb(36,36,36)"
           },
           "yaxis": {
            "backgroundcolor": "white",
            "gridcolor": "rgb(232,232,232)",
            "gridwidth": 2,
            "linecolor": "rgb(36,36,36)",
            "showbackground": true,
            "showgrid": false,
            "showline": true,
            "ticks": "outside",
            "zeroline": false,
            "zerolinecolor": "rgb(36,36,36)"
           },
           "zaxis": {
            "backgroundcolor": "white",
            "gridcolor": "rgb(232,232,232)",
            "gridwidth": 2,
            "linecolor": "rgb(36,36,36)",
            "showbackground": true,
            "showgrid": false,
            "showline": true,
            "ticks": "outside",
            "zeroline": false,
            "zerolinecolor": "rgb(36,36,36)"
           }
          },
          "shapedefaults": {
           "fillcolor": "black",
           "line": {
            "width": 0
           },
           "opacity": 0.3
          },
          "ternary": {
           "aaxis": {
            "gridcolor": "rgb(232,232,232)",
            "linecolor": "rgb(36,36,36)",
            "showgrid": false,
            "showline": true,
            "ticks": "outside"
           },
           "baxis": {
            "gridcolor": "rgb(232,232,232)",
            "linecolor": "rgb(36,36,36)",
            "showgrid": false,
            "showline": true,
            "ticks": "outside"
           },
           "bgcolor": "white",
           "caxis": {
            "gridcolor": "rgb(232,232,232)",
            "linecolor": "rgb(36,36,36)",
            "showgrid": false,
            "showline": true,
            "ticks": "outside"
           }
          },
          "title": {
           "x": 0.05
          },
          "xaxis": {
           "automargin": true,
           "gridcolor": "rgb(232,232,232)",
           "linecolor": "rgb(36,36,36)",
           "showgrid": false,
           "showline": true,
           "ticks": "outside",
           "title": {
            "standoff": 15
           },
           "zeroline": false,
           "zerolinecolor": "rgb(36,36,36)"
          },
          "yaxis": {
           "automargin": true,
           "gridcolor": "rgb(232,232,232)",
           "linecolor": "rgb(36,36,36)",
           "showgrid": false,
           "showline": true,
           "ticks": "outside",
           "title": {
            "standoff": 15
           },
           "zeroline": false,
           "zerolinecolor": "rgb(36,36,36)"
          }
         }
        },
        "title": {
         "font": {
          "color": "Black",
          "size": 22
         },
         "text": "<b>Intertopic Distance Map</b>",
         "x": 0.5,
         "xanchor": "center",
         "y": 0.95,
         "yanchor": "top"
        },
        "width": 650,
        "xaxis": {
         "anchor": "y",
         "domain": [
          0,
          1
         ],
         "range": [
          -14.524551677703858,
          16.11446580886841
         ],
         "title": {
          "text": ""
         },
         "visible": false
        },
        "yaxis": {
         "anchor": "x",
         "domain": [
          0,
          1
         ],
         "range": [
          -4.484026765823364,
          27.771955585479738
         ],
         "title": {
          "text": ""
         },
         "visible": false
        }
       }
      }
     },
     "metadata": {},
     "output_type": "display_data"
    }
   ],
   "source": [
    "topic_model.visualize_topics()"
   ]
  },
  {
   "cell_type": "code",
   "execution_count": null,
   "metadata": {},
   "outputs": [
    {
     "data": {
      "application/vnd.plotly.v1+json": {
       "config": {
        "plotlyServerURL": "https://plot.ly"
       },
       "data": [
        {
         "hoverinfo": "text",
         "hovertext": [
          "I have been depressed over the last 2 weeks. This involves experiencing at least 2 days a week during which my mood is very low. I will feel very tired and lethargic with no physical strength. I am very irritable and find simple tasks like talking a real struggle and takes a lot of effort. I feel unmotivated and isolate myself.",
          "I have been depressed over the last 2 weeks. I have been struggling a lot at work and it is really hurting my mental health. I have called the doctor and they have put up my prescription.",
          "I have not been depressed as of lately. I think it can sometimes be boring having to stay inside more often but that won't let me be depressed. I want to live a meaningful life and be able to enjoy the time I have.",
          "My father died 2 1/2 years ago, at the age of 100. Up to one year ago, I occasionally had feelings of great sadness, loss and tears. That would be the main thing that might depress me at the moment but, helped by a little sunshine and a happy household, it has not happened. Sometimes it is hard to measure one's own depression. My wife sometimes asks 'are you depressed?' when I crack some silly joke. My personal answer, and I believe it to be correct, is 'no.'",
          "I have not been depressed. I am always optimistic and hope any bad situation is only temporary and I will come through it.",
          "I have not been depressed in the last 2 weeks. I have had days where I have felt down because of my current situations but I wouldn't say I have been depressed. I've been clinically depressed in the past and these down moments are nothing like that time.",
          "I've been extremely depressed over the past two weeks. I do my best to find ways to spend my time, but more and more often, it just feels like I'm finding empty things to do and then sleeping. It doesn't feel enjoyable overall. I'm just going through the motions. I'm tired of my life being affected entirely by others' actions; I can't do anything more than what I'm already doing about the pandemic, and other people continue to make it worse for all of us. I want life to go back to normal but it's going to take much longer than originally predicted, and that's upsetting. I find less enjoyment in the things I used to, like drawing and gaming, because I've been doing them so often.",
          "I would not go as far as to say I have felt depressed. I have certainly lost motivation and struggle to find the normal amount of enjoyment I usually would from my hobbies at the moment. But I am still doing things and staying active to an extent. \nI noticed that I had not been in touch with friends and family as much over the past few weeks so am making more of an effort in that respect.",
          "I think i am always depressed , my mind is broke . I keep telling people and my therapist that . She changed my meds, i am hoping it works.",
          "I don’ t know if I’m depressed. I am always tired and don’t want to do anything, I have been at home since Lockdown in March and the only times I’ve been out is to attend doctors appointments or to pick up groceries from a click and collect point. But on the other had I have so much to be grateful for. I have family and a job to go back to..",
          "I have been mildly to moderately depressed over the past two weeks. I have been worse in the past, but recently I have had a slight worsening of symptoms and affect on my daily life. I have been feeling worthless, not as motivated as I would hope to be, and feel my presence is a burden due to many aspects of me as a person. The last few weeks I have spent less time on my hobbies, more time lying/sitting and doing nothing due to lack of enthusiasm, and more time feeling useless/worthless to society as a whole.",
          "Thinking about loosing my job and being out of job in such devious times scares me and i have been feeling kind of depressed for a while.",
          "I've been down and my mood has suffered purely due to the current global situation and having an overwhelming feeling of helplessness.",
          "i think i have felt depressed as all our plans made for the year have been changed and there seems no end to the uproar that is going on in the country it makes me feel very dark and hopeless at times",
          "I do not think I have been depressed. I have been diagnosed with clinical depression in the past and I have not felt the weight of mental fatigue and despair that I felt at that time. I know that the issues that have caused me worry will pass and be resolved so I know the thoughts that circle in my brain will go & that I do not need to pay them much heed.",
          "Over the past 2 weeks I have not been depressed. It has been the height of summer, the birds are singing and the beer is flowing.",
          "I have certainly not been depressed. As mentioned above I am living with anxiety and have learnt to manage it. However, at no point as my anxiety become too much to handle or any thoughts of real hopelessness/despair have not occurred. \n\nI feel I am very self-aware so I would recognise any real symptons of depression straight away.",
          "I have not been depressed.  I am active with lots of interests, and I'm trying to establish working from home as a therapist.  I am generally a naturally optimistic person and able to manage my mood by doing what I know helps on days when I might feel a bit low, which are seldom",
          "In the last 2 weeks, I have felt apathetic and empty. I am lying longer in bed, cannot sleep and of wonder about why things do not bring as much joy. To counteract this, I reflect on whether this is due to lifestyle or a symptom of a deeper problem.",
          "My mental state has been good throughout my entire life and I have only faced a short amount of time (a week at the most) of experiencing a low mood.",
          "I have been depressed for longer than 2 weeks. I recently had a miscarriage after trying to get pregnant for years. And then the same day that my miscarriage was confirmed, the one person that would listen and not judge me passed away. I have absolutely no one to talk to. She was my last person that I knew cared about me.",
          "Im unsure whether or not I've been depressed however I have most definitely been worried and anxious. This has led to poor appetite and poor sleep. There is so much uncertainty around work, schools  childcare, etc. Its very difficult to really know what will happen in the coming months.",
          "I have been depressed. I have always suffered from this and am now doing a little better on medication but I still often find it difficult. I am pessimistic and don't have any long-term goals because I don't want to be disappointed. I also sleep a lot and have poor mood sometimes but I do feel like I have made some improvements.",
          "I've felt able to cope with daily life overall and not felt overly upset or sad. I've felt fairly stable in terms of my mood and not really low. I've felt mostly optimistic about the future and had things to look forward to.",
          "Over the last 2 weeks, I sometimes loose concentration and I try to keep my mind at rest and stay positive. It's quite depressing to think about the uncertainties happening right now.",
          "I have been depressed. I have been working from home and got into a comfortable routine where as I didn't have to see anyone or deal with going outside. I had to start going back into work and in the days before I was incredibly depressed. I cried a lot and couldn't sleep. I thought about going on the sick and not going back as I was so down.",
          "No not at all I've been very excited and hopeful. Depression has never been my thing and hopefully it would stay the same.",
          "Yes, I would say I have been depressed at some point over the last 2 weeks. I have felt down, empty, tired, loss of interest of interest in activities I enjoy doing. These all indicate towards being depressed. As well as not wanting to get out of bed.",
          "The last two weeks have seen a bit more positivity in terms of work which has removed some of my concerns.   Certainly, it has been a happier time than the previous five months.  Prior to this my family of four were all living on top of each other with nowhere to go and trying to juggle a full-time job whilst entertaining two young children was stressful and led me to working late into the night with a lack of sleep.\nFortunately, the government relaxed the rules and allowed golf courses to open.  A group of my friends and I then decided to start to play golf for the first time in our lives and this enabled us to meet up for the first time in months.\nI now play regularly once a week with friends and once a week on my own and use it as a form of meditation.\nI was a keen gym-goer and now that the gyms have reopened I am also visiting several times a week.\nThe use of fitness combined with the fact my young family are now able to travel beyond our house has definitely led to an upturn in my own well-being and indeed those of the whole family.",
          "Over the last 2 weeks I have been feeling more depressed than usual. I think it may be due to the fact that everyday I feel like I’m living in hell with my inner mind and now it’s taking a toll on my physical health too. I also feel like my condition limits me from even doing the things I once used to enjoy and that gets me so upset. I also get upset that if I try and reach out for professional help they just refuse to help me or they brush my problems off as if I can handle the pain. I can’t handle the pain.",
          "Yes I have had bouts of depression. Being at home most of the time has left me feeling more down than usual.",
          "I have felt down at times, like a cloud over me that I can't lift - it may be gone by the next day. I'm unmotivated but happier with a routine and a list of things that I can achieve. I can enjoy an event one day and not enjoy the exact same event another day.",
          "When I am depressed behind my smile is a hurting heart, behind my laugh I’m falling apart. Look closely at me and you will see, the man I am, it isn’t me. This Man that you see here it’s the Man that smiles everyday but, that he cries every night.",
          "I've been pretty strongly depressed over the past few weeks, not sleeping well and generally plagued with the memories of slights gone past. It's coincided significantly with the increase in anxiety and has left me feeling completely exhausted. My current anti-depressants don't appear to be doing the trick so I'm trying to change that around a bit, but it's a bit difficult as the depressions means actually getting an appointment with the doctor is a bit much for me to handle. I'm a little better than I was at my worse but it's very annoying and painful to deal with.",
          "I have not felt depressed over the last two weeks. I am on tablets for my depression but am still riding the high of having had my husband working from home.",
          "I haven't been depressed but have felt down because of money worries that I have. This has caused me to have tingling in my arms. I do feel anxious some days and then others I am fine. My husband doesn't know about my money problems so this makes my anxiety worse.",
          "I wouldn't say I am depressed. I have not been formally diagnosed by a professional and my regular life has not been affected by any negative emotions. I'm not sure if I have ever experienced true depression. Although it's possible I have experienced it in the past - being overlooked for a promotion, loss of a loved one etc. More recently, like all people, I may have periods of sadness, worry or a lack of motivation. However, these often pass relatively quickly.",
          "Over the last few weeks, I have felt depressed over many different things. I have felt anxious about my work situation, feeling unsure as to whether I was up to the job and debating whether my colleagues liked me or just put up with me. My contributions to my household have also depressed me and made me feel like I had no way out.",
          "Personal finances, finals in a couple weeks, my mental health\nI hope this will fade away with time; i'm just being hopeful",
          "I have been lucky enough in that I haven't been depressed ever as I work through stress and survive, sleep well most of the time and because of my happy go lucky attitude to all aspects of life, I've never been in an unfortunate position of experiencing that kind of pain to cause depression.",
          "I'd consider my level of depression over the past 2 weeks as being a little higher than usual. On a scale where 0 is not depressed at all and 10 is extremely depressed, I'd place myself at 7, whereas I am usually at a 6.",
          "I do not feel like I have been depressed over the last two weeks. While my life has changed, I feel fortunate compared to other people and find I have been able to establish a new routine in the current circumstances. I also find exercise and doing daily meditation helps with my mood, although sometimes the whole situation can feel a bit frustrating. I appreciate this is probably a widely felt feeling.",
          "Over the last two weeks I have been been down physically but I have not felt depressed at any moment regardless of the down times.",
          "I tend to have a cycle of depression, i have been on an upswing recently but after my monthly menstruation I always get worse and so have had at least a few days this past week of really bad depression.",
          "Yes, I have been depressed for at least some days during the last two weeks. I don't know what it means when the question asks to weigh the aspects, but I will say that it has been hard to really focus on anything, I don't have much motivation, and I really don't know what to do with my life.",
          "I wouldnt say I have been depressed over the last 2 weeks I may have felt a little down at times but not depressed.",
          "Luckily I've been better than I have been over the past year or so. I think this is because I've finally found a good therapist and have started medication to help control my energy and mood swings but like everything else I'm still a work in progress. Maybe the fact that I haven't been able to talk to my therapist explains my recent anxieties however but I feel I can be better, just in time.",
          "I have been depressed about an unfortunate incident.\nI really hope to be able to clear it away from my head",
          "I initially did not feel that I had been depressed however, as the week has gone on both my Manager and my Husband have made comments that I have been unresponsive, stressed, not enjoying my work, tired and irritable.\n\nReflecting on my week and being asked to think about it as part of this survey makes me understand my thoughts and actions more and I would agree that I have been feeling low and depressed, this week.\n\n",
          "I do not believe i have been depressed at all. I have been motivated, determined and in a happy mood for a while.",
          "Yes, i would usually spend a lot of time with my family and because my anxiety has worsened since lockdown i dont want to leave the house as much as i use to so i dont get to see a lot of people only my partner and son who live with me. I look to my family for support so this is really affecting me.",
          "i have found it hard to concentrate and been the most restless i have ever felt and not been able to have as much energy as usual",
          "I have not been feeling depressed, it has been a long time since I was depressed. I don't feel overwhelming sadness anymore - my depression evolved into anxiety.",
          "i have been depressed, but this is an ongoing thing, mainly due to not being able to see my son, and not knowing if i will see him again.\n",
          "I tend to see the glass as half full as opposed to half empty and to go into a state of depression it would normally take one really serious event or a culmination of bad smaller events to make me feel that way...i feel i am an eternal optimist and my friends and family see me in that way to.",
          "Over the last couple weeks i have been sticking to a daily routine and keeping promises i made to myself with regards to staying committed and actively pushing myself to reach the goals i set for my self. The last couple of days have been more cheerful as i have been introduced to people who praise my talents and are trying to support me in following them through in a work setting.",
          "I have not felt depressed for a very long time, after a long period of reactive depression.  I seem to have a well of contentment I can draw on, which stops me feeling too sad.  I am often anxious and fearful, but I think I am resilient now.  Despite there being things to be depressed about in the world in general, and in my own life, I don't feel sad or depressed.",
          "I am totally unhappy, depressed and unstable and weak. I feel sad and unhappy with recent outcome surrounding my life and financial status. I hope I come out Stroug",
          "No I haven't really been depressed. I have been quite happy and have been socialising through video call with my friends and doing surveys.",
          "Over the last two weeks I have been prodominantly happy I have managed my depression well and I have been able to focus on what I have needed to do. I practice meditation where I focus on the things I feel greatful for. I am proactive in my mental health recovery and most days I can managed myself there are day when I cannot and I get overwhelmed and on those days I try to reasure myself that they will pass.",
          "I have my good days and bad days, which is usual. Lately I have been having less depressive episodes than usual.",
          "No, I have not been depressed.  The weather has been good so I have spent lots of time outdoors getting fresh air.",
          "Yes, I have been very depressed over the last two weeks. To be honest, I've been very depressed for almost 7 years, with intermittent periods of relative normality (i.e. cessation of most depressive symptoms). However, most of the the last several years I have met the criteria for Major Depressive Disorder and/or Persistent Depressive Disorder, as well as co-morbid disorders which I'd rather not go into for privacy purposes. Overall, I would rate my depression, on average, to be about 7 out of 10 on any arbitrary day. My symptoms include low motivation, anhedonia, low energy, feeling fatigued throughout the day, recurring memories of negative past events that I cannot move past, a propensity to relieve my depression through a variety of means, and generally feeling like I am not capable of achieving what I believe I can achieve. It has affected my social life, my emotional/mental health, my family, my employment, and pretty much everything else in my life. Within the past few weeks, my depression as skyrocketed and is much worse than normal.",
          "I have struggled on and off with depression since being a young teen, at its worse I struggled to motivate myself to do things like eating or interacting with my family and self-harmed. However, it is not always that bad and sometimes does not last long spells, depression for me is not feeling sad so much as feeling empty and like I will never feel happy again, that I am not wanted and I often suffer from physical pains when I feel depressed.",
          "Yes. I cant afford rent or bills or the medical care I need to have a tooth pulled that's been causing me horrible pain.",
          "I don't feel that I have been depressed in the last two weeks. I have felt motivated, active and happy, enabling me to get tasks done and completed, and being focussed what I need to achieve.",
          "I have not really been depressed, just more anxious. At times I have felt down because of the state of the world and feeling like my life has been put on hold.",
          "I’m finding it difficult to keep things together. I’m not as depressed as I have been in the past, I’ve got the restlessness that comes with an anxiety peak at the moment, but I’m feeling low in mood and unmotivated to do anything (even though I really want to do something creative I don’t have the energy to do it)",
          "I have been  a bit depressed over the last 2 weeks because I find it a bit difficult to get myself together and WOR things out.",
          "I am by nature cheerful  and optimistic and have never suffered from depression. But events around the world leave one anxious for the future of many people and future generations",
          "There are days or moments where I feel that I just can't anymore. It feels like drowning and no matter how hard I try to stay above the water the storm only gets worse. there are when I take refuge in the safety of dreamless sleep. Other times, it feels inescapable and I just have to wait out the storm.",
          "I work in education and we are going back next week. I am very concerned about lack of the nitty gritty detail of H&S issues - PPE distancing etc. The needs of my ASN class and department are not being addressed - they are considered in with mainstream children who have netter understanding",
          "I have been working from for more than 4 months. Personally I hate working from home and it makes me feel depressed. The last week was a complete disaster.  We have one toddler at home, 2 months old. Trying to stick to work while having to look after the kids, It's really complicated.  Currently there's a lot of uncertanity, which makes us feel uncomfortable.",
          "with upcoming exams, I have been more stressed and worried than I have depressed. The stress and worry has been on the forefront of my mind, so the depression is not a main concern, although the thought of failing my exams does upset me and the worry does make me unhappy.",
          "I have felt depressed and it has caused me to feel exhausted. I feel like a disappointment. I dont feel I'm doing anything worthwhile.",
          "I believe have been depressed. I have found motivation to be difficult and a sense of apathy towards doing things that i used to enjoy. I have spent a lot of time aimlessly browsing while being aware that it was aimless but not caring enough to stop. I have also been thinking about suicide more.",
          "i believe to have been depressed as the lonliness i have felt has increased within these 2 weeks. my family isn't very big so not having many people around me has been hard. i have also become lazy with not having much to do, i feel like i am wasting my time and it is hard for me to become productive and have a good routine, therefore i have been coming out of bed later than i should, wasting most of my day. exercise has been hard to do as i am gym person, not having that has caused me to slack and caused me to become down. hearing more bad news such as the death toll increasing has also increased my depression as well as having that fear for others lives and my own.",
          "I haven't really been depressed over the last two weeks. I have been hopeful, optimistic , contented, pleased and positive.",
          "I have felt a little bit less depressed  over the last 2 weeks when compared to the last 4-6 months, but still perhaps moderately depressed. This has been a long-term condition for me. I take medication for it, and until recently I was receiving treatment (CBT). My depression concerns feelings of futility and the inability to change behaviours I know are unproductive.",
          "I definitely haven't been depressed. Emotionally I'm very stable with no extreme highs or lows. I don't feel I have anything to be hugely unhappy with. I have hope for the future.",
          "No, I am not and I haven't felt depressed over the last weeks. Depression for me occurs when I feel lonely or when I lose a dear one but so far,none of those are yet to happen and won't happen anytime soon. I sometimes feel depressed due to work related issues but things have been pretty decent at work and I have no reason to worry or feel depressed on that aspect.",
          "In the last two weeks my mood has been fluctuating and most of the time I feel quite depressed. I feel hopeless about the future and feel like I am alone and no one cares about me.",
          "I believe that I have not been depressed over the last 2 weeks. I know that I have been worried or stressed out about my incoming exams, but I am well prepared due to a couple of months of well prepared revision so nothing should go wrong. In addition, the gyms have opened up so I am able to partake in my hobbies once again, aiding my mental health as it is a form of escapism for me going to the gym and working out. Overall, between being able to partake in my hobbies during this lockdown, as well as managing my time well, I do not believe I am depressed",
          "I have been depressed because of the lack of respect I have had.  It is not fair.  I cannot manage without support and help.  PLease let this end.  Hang on. Hang on.",
          "Yea I have been really depressed.\n  Been thinking about the situation am faced with daily and how I can source solutions for the issues arising daily.",
          "I have felt slightly tired and emotional about things going in on my life. I am not a patient person and let things get on top of me quite easily.",
          "Yes I am regularly depressed and end up drinking too much, making the problem worse. I am ok to around lunchtime, but then there is absolutely nothing to do for the rest of the day, but drink or watch T.V.",
          "I think I overly compare myself to others on a constant basis and this gets me down. I end up being inconsolable for a few hours and then I feel like punishing myself for not being as successful as other friends that I am the same age as. I shut down on the outside and my boyfriend gets worried about me.",
          "I haven't been depressed over the past 2 weeks, but I have been feeling somewhat neutral and indifferent towards the current situation.  There have been challenges at work that normally I would feel excited and happy by but I have found myself to be distracted and unmotivated towards doing them.",
          "The day i was depressed was a day i will never like to experience again in my life.\ni had a spontaneous abortion",
          "I have been having a few sad thoughts lately but by no means to the level I used to have and I find I am able to better control these using my DBT and CBT therapies I have learnt. I have however been feeling increasing sad thoughts and second guessing myself surround my education and whether I am actually good enough for what I want to do. I would say my state of depression is not too bad overall and I feel privileged to have been able to have therapy so I can known signs and symptoms to be able to get on top of it before it gets bad again.",
          "I have not been depressed nor have ever been depressed. To prevent myself from becoming sad I speak with friends and family often which helps relax me and helps me become happier.",
          "I have been pretty badly depressed as of late. I often get a bit sadder towards the end of the semester as I deal with the stress of finals, but this was unusually bad. I felt sad, but more importantly, I felt really bleak. Everything felt grey and difficult. Gathering motivation was impossible. I felt particularly bad about myself. I find depression can be sneaky in this way.",
          "I have been low in mood but I do not think I have been depressed. I have found it difficult to make plans and motivated myself to do anything",
          "Yes I have been depressed quite a lot because of my health, I suffer with arthritis and everyday I am in constant pain which makes me really mad as I unable to do things for my self and having to rely on other people to help me with everyday life, it gets me down severely because I shouldn’t have to rely on other people to live my life, I’m unable to get out so I am stuck indoors all day long which is depressing me even more as I’m just stuck in four walls and not being able to do anything else",
          "I have struggled with depression for many years but due to recent events, including bereavement and expecting another bereavement, I have been feeling very depressed in the past few weeks.",
          "I have been slightly depressed, mostly due to the pandemic and state of the world at the moment, but also because I often feel horrible and am in pain. I wouldn't say I'm depressed though, just more that I am not exactly finding much enjoyment in life lately.",
          "I have suffered from depression for a number of years, however it can be much worse during certain periods in the year. I have identified that it is triggered by feelings of jealousy and inadequacy, of friends having more or better things or living situations than myself, who is just scarping by with enough savings to cover emergencies.",
          "I have been able to make sure I haven't been getting to depressed, I have been making sure any time I've been feeling low I've just been going some fitness training like lifting some weight or going for a run to keep my mind strong and clear. Also I've made sure I've only mainly been eating natural foods, drinking plenty of water and getting enough sleep.",
          "I have been stressed and anxious as I have been working harder than I would be than if I was in the office. I am trying to focus on personal ways to enjoy myself",
          "I don't believe I have been depressed however I am having symptoms due to current circumstances. Such as I'm not getting out of bed well and I'm not attentive to the needs of the household",
          "I am not depressed and in general do not get depressed. Whilst I may have worries and frustrations they never lead to me feeling depressed. I am generally a very easy-going, relaxed person who takes anything that happens in my stride. I have never been depressed, even after major events in my life such as the death of a relative.",
          "I have been constantly depressed and down, low mood due to lack of sleep because of a new born. Work is my main source of depression right now, I don't want to got here everyday, I spend my life hating what I do and no matter how hard I search for a new job it doesn't seem to happen for me. I feel if I were to get away from my work place I would be able to handle my depression alot better.",
          "I have felt extremely depressed the last 2 weeks. The reason for this is just the overwhelming feeling  of hopelessness with the situation that is happening in the world right now. There are people much worse off than me but I can't help but feel helpless myself.",
          "I've been extremely miserable. I've been sitting in my room, lying on my bed, or keeping busy on my computer all day. I see no way out and I have no hope. I'm completely disheartened.",
          "I hate being stuck in the house alone, it makes me very down and I don't know how to solve it.",
          "In the last two weeks my mental health has improved quite a lot. I had been feeling down more than usual for previous six weeks because being so distant from most of my family for so long was highlighted by several family occasions that we had plans to celebrate, than then had to be cancelled. A lot of my family had to shield because of various chronic and terminal illnesses, which made it more frightening to be away from them for so long. But over a week ago that shielding period ended and we were able to go and visit a few people. Just being around family and hanging out, doing normal things, gave me a huge mental boost, brightening my mood and lifting my spirits. We've only met up twice so far but it has already impacted my mental health in a positive way.",
          "I feel overwhelmed because I am bearing the weight of all the domestic and financial responsibilities. I should be getting more help than I am and it makes me feel resentful and annoyed with myself for allowing it to continue. I am avoiding talking to people because my emotions are unpredictable and I worry that the mask might slip.",
          "Over the last two weeks i have not felt depressed. My mental health in this aspect has improved as I have been surrounded by friends and family, both bring joy into my life.",
          "I have been feeling more depressed than usual this month because of the state of the world right now. My feelings have been that of sadness and longing for my family. I’ve felt physically nauseous and have had anxiety for weeks on end.",
          "I was diagnosed with Major Depressive Disorder in mid-2017 (after having gone untreated or undiagnosed for at least two years, though likely a good deal longer than that), and have since then undergone trials of different prescribed medication for several months at a time in an effort to find some relief for what I'd been unable to get myself out of on my own. I've now been on the first medication that truly seems to be working in a positive way (as opposed to just numbing me completely, I actually still have feelings, and they're not all laden with misery and hopelessness) for about eight months, so I can say with near-certainty that I have not been clinically depressed over the last two weeks. Obviously, I have no idea how my response might differ if I weren't on this particular medication; further, I can't say that over the last few weeks I haven't felt the occasional, slight pang of the familiar depressive episodes that formerly imprisoned me. But those pangs are only flickers of what being truly depressed feels like, so in my current situation, I cannot say that I've been depressed during the last two weeks.",
          "Sometimes I get depressed. Usually it's when I think about my dog that died in April, or missing my dad, who lives a couple states away, or missing my mom, who died 13 years ago. I have to work to keep the sadness from becoming depression. I'm on antidepressants so that helps.",
          "I have not felt depressed over the last two weeks. Of course, there were some fluctuations in my mood - sometimes I felt stressed or had minor bouts of anxiety, but these passed very quickly. I am very grateful for many things in my life, especially my health and that my family and friends are also healthy. There are so many things to show gratitude for and I feel very lucky for all the blessings I have in my life.",
          "I have been on anti depressants for over 10 years now. These do a  very good of controlling my depression. So in the last 2 weeks although I am more anxious I have not been depressed and there has not been a significant drop in my mood. Without the tablets I feel this could  e very different due to the state of the country at this time.",
          "Depression actually sin't a thing for me because regardless what happens to me in this life, there is more or the least positivity is enough for me to live a better life",
          "I do not feel that I have been depressed over the past 2 weeks, I have not experienced particularly low mood, I have felt quite optimistic and cheerful at times and have been mostly happy.",
          "I have been extremely anxious the past few weeks thinking what will happen once my savings run out, with no job there has been alot of frustration and sleep issues during the night",
          "As some who has been diagnosed with severe depression, it is a daily battle. Not just a fortnightly thing. In the past two weeks, I have been feeling more and more isolated from the rest of the world. It's getting due to the current situation and I am fed up with it. I just see the point of us still living and breathing on this earth if we are going to be living like the way we are now. Its pointless!",
          "I think it’s impossible to not feel at least a little depressed with everything going on in the world right now. It feels like everything is stuck",
          "Over the last couple of weeks I have felt low, and disinterested in a lot of things. It's been really hard to sleep, and when I have managed some sleep it has been fretful & full of nightmares. This leads to a low mood during the day, and further disinterest in activities or work or study. I signed up to the gym, hoping the endorphins would help to improve my mood, and the physical activity help tire me out, but I have felt lethargic and uninterested in going.",
          "I don't think I have felt depressed. I'm not familiar with the feelings of depression. Worry, yes, anxiety, joylesssness - something my former husband always accused me of and he may be right ... I do find it hard to get pleasure out of things but I feel connected with other people and the world so I don't think I could count as depressed",
          "I have laughed a lot, felt supported and comfortable in all situations. I've been able to work every day but I have no exercised.",
          "I have been a little down at times, but also optimistic and I am taking actions to work on improving my situation.",
          "I believe I have been depressed over the last 2 weeks due to the current climate and pandemic we are all currently facing. The reason I have come to this conclusion is that I have found myself eating more and not wanting to get out of bed and in genuinely just a load mood.",
          "No I have been really happy and positive over the last two weeks, surrounding myself with lots of good vibes and people.",
          "I have only had very short bursts of feelings of depression over the last 2 weeks. I have mostly felt hopeful about the future, and encouraged by the steps I have taken to better my situation.",
          "Depression causes selflessness. In my situation, I became depressed the moment I and my partner argued over an issue concerning having babies. I wanted to but he opposed because he said he's too busy to take care of him when am not around.",
          "I have been depressed over the past 2 weeks. I feel depressed as I hate my job and I am not good at it, but I’m stuck in it due to financial strains on my family. The Covid19 situation has made this worse as I realise not many opportunities are available.",
          "I don't know if it is depression or whether im feeling more anxiety but i have had spells of contemplation about my life and future. ive been blue and generally a little down",
          "My dog has always been my favorite pet and \"friend\". As a reserved person, I spend most times with my dog. Just last week week my dog was ran over by a car. It was a really sad and depressing sight to behold.",
          "In the last two weeks have been great just like the weeks before. Working from home has given me enough time to connect with my kids more.",
          "I would say I have not been depressed in the last two week, I've had some feelings of worry and anxiety but for the most part, I have been trying to stay positive to get through my university deadlines.",
          "I have felt quite lonely as I live alone and do not have a lot of close friends to meet up with nearby, and have not had a lot to do as I am furloughed so have been bored quite often. I also miss seeing my friends and family as my father has been shielding so I have been unable to visit them. I have also been quite worried about my family's health as my parents are both quite old and now lockdown rules have relaxed I have been worried about them catching coronavirus. However I have tried to keep myself busy, found things to watch on tv and tried to go out rollerskating which was a hobby of mine before lockdown which makes me feel better, and I feel I am coping ok.",
          "Yes I would say I have been depressed but it has run parallel to feeling very angry (about both a particular event and an ongoing situation in particular) so it has been more difficult to recognise as depression but certain symptoms have  been happening that I recognise as a sign of depression (crying, feelings of worthlessness, feelings of frustration (& anger), lack of patience with others and a small degree of self harming.) These feelings have been very strong (particularly the anger.) I am someone diagnosed with depression anyway so am able to see from a somewhat detached viewpoint in regards depression.",
          "It is very hard to fight against depression at a time like this, but I have hope that good will triumph over evil and the light will always shine in the darkness. We all need to see the light and we will all awken and head towards it.",
          "I have been having a positive outlook on life, despite the current pandemic, I have been optimistic and focusing more on the aspects of life that have improved such as having more time to spend with family.",
          "Over the last two weeks my depression has been controlled. My sleep is usually terrible but it has been much better which has improved my mood. Having my family with me helps the way I feel. My motivation has been relatively low but I’ve tried to be as active as possible.",
          "I have been feeling a little depressed. During lockdown I have had to live at home with my family and I miss living alone and I have no job so I feel like I’m contributing nothing to the family.",
          "Over the last 2 weeks, I have been moderately depressed, this is has been reduced from strong depressive thoughts with the help of 60mg fluoxetine. My depression shows up as a strong sense of apathy, extremely foggy thoughts, strong fatigue, a reduced attention to personal hygiene and a mild loss of appetite and occasional suicidal thoughts.",
          "Over the last two weeks I have felt happy despite feeling anxious. I have felt content with my life and the people that I have in it.",
          "I have suffered from depression in the past. I would say my life is more impacted by severe anxiety than depression now. I do however feel great sad sadness sometimes and also find it difficult to summon up the energy to perform everyday tasks.",
          "I'm not sure about medical depression - I've been anxious, nervous and worried at points, but I don't think I've been depressed. I've always seen a way to go around things - very different from my first bout of depression in 2015 when I saw nothing but bleak emptiness.",
          "Due to my anixiety of needing the toilet/toilet facilities I am in pain with my stomach thus causing me to belive that this pain is disrupting my family, friends life. It is also getting me down due to it disrupting my social life.",
          "I have not been depressed over the past two weeks. I may have had depression prior to that, but I feel like I have gone through the the different stages of grief and have let it go (especially the loss of the business which was a very emotional attachment). But now I feel focused at accomplishing what we need to accomplish to survive. The worry is there, but the depression is gone.",
          "When I find it hard to carry out a task, I always feel sad about myself and worry about what others would think about me.",
          "I have been extremely low over the last two weeks, the reason is that I have been diagnosed with a chronic illness which is extremely frightening. It has made me feel so low and so unhappy as there is no known cure or treatment for my illness so I'm unsure how long I can put up with it for.",
          "I wouldn’t describe myself as being depressed at all really. I would think my mood in this respect has been fairly stable if occasionally down, but not depressed.",
          "I've been sleeping a lot and struggling to keep awake and wanting to do things, however I think my anxiety keeps this in check by making me want to keep myself busy. It's been rough but I'm getting through, I don't think I'm necessarily depressed however, just really down.",
          "For the last two weeks I have been depressed. Depression is something that I have been dealing with for more than 15 years but I still can't get comfortable with it. The despair I feel has broken me. I am tired of it and even though I am not suicidal if something were about to kill me I don't think I would have much of a will to live therefore I would not fight very hard to survive. It sucks looking back on my life knowing that there was never a time when I was truly happy. Life has been nothing but chaos, grief, and trauma. What a waste when it could have been so different.",
          "I HAVE FELT QUITE DEPRESSED FOR MOST OF THE DAYS. THIS IS MAINLY DUE TO FEELING LOW AND UNPRODUCTIVE AS I HAVE LOST MY JOB, AND WORRY ABOUT HAVING NO INCOME.",
          "I have not been depressed over the last two weeks. I have had paid work which helps my sense of security and my personal sense of value. I have also had the time and energy to work on my own projects. A few friends have reached out to me at precisely the times I needed them to...and I have felt confident in reaching out to them.",
          "Yes, I've been depressed. I've struggled to get motivation to get up and do things I have to do. Including housework, and feeding my livestock. I've spent a lot of time playing games on my phone and watching TV instead.",
          "When I am depressed behind my smile is a hurting heart, behind my laugh I’m falling apart. Look closely at me and you will see, the man I am, it isn’t me. This Man that you see here it’s the Man that smiles everyday but, that he cries every night.",
          "I have had battles with depression, but not lately. I have vacation coming up and am excited to get some much needed time off of work.",
          "I have not felt depressed in the last two week, there have been times when felt sad.  These have been due to the weather and not being able to go out.",
          "I lost a close family friend to death. I have been experiencing some really sad feelings. Grieve has been my companion for a while now. I know things feelings will fade with time.",
          "Yes, I am depressed somehow. My earnings goes gone down to part-time and it is difficult to pay bills.",
          "I have been some depressed. because my chronic illnesses that may cause depression are diabetes, heart disease, arthritis, kidney disease, HIV/AIDS, lupus, and multiple sclerosis (MS). Hypothyroidism may also lead to depressed feelings.",
          "I have been depressed for year even since I was in High School. It's just apart of me now, I get ups and down through the day. With the current lock down/virus my depression is at an all time high, I didn't like my life before and I sure don't like it now. I fell stuck in the situation of unhappiness,",
          "My mood has been fluctuating recently, with some days being worse and me feeling low and a bit hopeless, but with others being good and me doing activities as normal and being happy.",
          "Yes i have been depressed. I am going through a custody battle for my children.  I have not seen them since march, and anxiety is also something i have suffering from.  Being housebound effectively because of covid has not helped with my depression,",
          "Yes, i have been depressed and down. I think a lot of this is related to the isolation that i suffer from not leaving my room. I have lots of reasons not to be depressed but i always seem to come back to have this dreaded feeling and it is something that i really struggle to shake off. I have some medication that i take on a daily basis that helps to a degree but doesn't really solve the issue.\n\n",
          "I'm on a new anti-depressant, Vibryyd, that's working pretty well. I have more energy than I used to and can actually get up the strength to leave the house sometimes. Still... I'd say I'm depressed. Hardly anything is fun or interesting. If none of my friends are online, I just sleep because I can't bring myself to stay awake. There's so many books, manga, anime, and games I want to get through, but I can't make myself do any of them. I'm rarely happy or even content. I have no motivation to do anything and often think I'd be better off dead.",
          "Occasionally I have felt down as I am struggling to be productive at work whilst we balance working from home with young children to look after. They sometimes misbehave and I lose my temper and shout at them, and feel bad later about how I handled the situation, and feel like a bad parent.",
          "I've not been able to look after myself and struggled with getting the energy to do anything including showering.",
          "I have been depressed. I suffer from apathy due to low dopamine levels in the brain and am unable to feel happiness and have no interest in the things that I used to enjoy in life before. In addition to this, my OCD has led to me overthinking and self diagnosing myself through google, worrying about whether I have several other illnesses. It is very hard",
          "I never feel depressed, I've been generally happy although a little bored and sick of working at home. While I've been working I've been concerned that my son is bored at home (or using the screen too much) rather than being out and about in the garden or on the farm. But generally it's been as relaxing if not more than before lockdown because we've not needed to go out and we've got everything needed here, as well as plenty of people from family to see around on the farm.",
          "Yes, extremely. Being closed in the house 24/7 with two children, one being young and another being a teen is proving to be such hard work.  I don't work so there has been no escape.  \nWith that and the worry of my poor health having MS and constantly fighting pain from being in a relapse I feel like life isn't worth it. \n\nTrying to lose weight to try and make myself feel a little healthier.",
          "I have been feeling depressed over the last 2 weeks, I can't seem to get my head clear of negative thoughts. I am sad about how life is no longer the same and the how there is no knowing about what the future no holds. I am down about all the hard work that has been happening over the last few years, has been for no reason and now every thing is lost.",
          "I was diagnosed with depression disorder in August 2019 following years of stress related managerial work.  All at once I suffered a major anxiety panic attack, my symptoms and/are, worry, feeling low, anger, frustration, tears and feeling useless, I also have raised blood pressure.  In addition to this imagine thinks around me in me peripheral vision that simply are not there.",
          "I wouldn't say i was depressed; depressed is a strong word, I just didn't feel like doing the stuff i enjoyed in the past. I am slowly returning back to my normal self, thankfully",
          "I have days where I feel very depressed as I don’t currently have a job. The weather plays a part, I tend to feel better if it’s very sunny and warm. My mood has been low on those days where I can sit and do nothing for hours. But not the other days I need to be constantly doing something. Keeping busy lifts my mood most days.",
          "I was seriously depressed and angry at my kid brother when he abused my mum and dad last week because he was adviced",
          "I wouldn't say I have been depressed however more stressed at times purely due to circumstances, being a parent to two demanding young children which can leave me feeling physically and emotionally worn out.  I do experience huge changes in my emotions but I think this is driven by hormones and my age.  There were two days where I felt huge anxiety, a big knot in my inside and this was a hideous feeling but then it subsided.",
          "I have felt very blue thinking about all that is going on in the world at the moment. Having to cancel all plans, the holiday we booked and the wedding, it has taken a major toll on my mood. I am very irritable. I feel hard to be around because i am so angry all the time.",
          "I've felt deeply sad about the present state of things around me about my mental health and my inability to keep up with a schedule or plan",
          "I haven't been depressed. I have energy in my days and hope for the future. Even if things aren't the best right now, I don't think this will last forever. I feel like bad feelings I have had have been situational and I've been resilient in not letting them affect my mood. It makes me feel like I'm capable of not being determined by external things and that I'm growing stronger mentally. I've been able to find joy most days and have only had a few off days.",
          "I think I am either not depressed, or that being depressed is so much a part of who I am that I don't really notice -- it might be the water I swim in or the air I breathe. More than one therapist has told me that my childhood could cause long-term depression, but I don't feel that as a negative ongoing thing.",
          "Yes I’ve felt low and I knew it would pass but my depression is a period of time I know I have to put my head down and push through",
          "I have been depressed most of the time. I often have no motivation, and a lack of interest in my normal hobbies. My appetite is poor, and I feel hopeless.",
          "I do not think that I have been depressed over the past two weeks. I have experienced depression in the past and I know how horrible it is and how bad I felt at that time. How I have felt over the past two weeks was nothing at all like the time I was suffering from depression. I have woken each day feeling positive and keen to do things that interest me.",
          "Depression is a monster I have battled with since I was a teenager. It's something that runs in my family so I was bound to suffer from it sooner than later. I have serious bounds of inability to undertake any human activity during such seasons. I can barely get out of bed let alone take a shower or get dressed up.  I tend to over eat junk food which might explain my obesity and human interaction is daunting and I lack the capacity to even hold a conversation. Small things such as curtains being drawn trigger me and send me into a full blown meltdown.",
          "If the weather is bad in the summer and I am just sitting in my house I get fed up and gradually get anxious as I should be sitting in the sun relaxing feeling good",
          "Over the last two weeks my depression has steadily got worse, I had already been suffering with depression for the last few months.",
          "Yes I have been depressed due to me having agoraphobia I don't really have a life.I spend the majority of my time in my house and I don't really have any freinds anymore due to me being isolated 24/7.\n\nI also have body dysmorphia which elevates my negative emotions.",
          "We are always faced with realities that are sometimes beyond our understanding but as a rational being, it is an obligation to take charge of my happiness.\nThere is no need blowing some sad moments out of proportion.\nStaying positive is essential for mental wellbeing, I know this ,and I keep it",
          "During the last few weeks, I have noticed my depression remained stable. I still lack motivation to keep up with daily routines such as housework and exercise. I have ceased doing any of my hobbies as I have no desire to engage with them at present but compared with historical symptoms I am not worried.",
          "Yes I have been depressed. My dad is very sick and the thought of losing him scares me. Whenever I'm alone he is all I think about and this makes me sad. I can't even think straight, all I can think of is how to make him feel better.",
          "I have not been depressed because despite the pandemic and many other things happening around me, things are still going smoothly on my end. i have been able to achieve most of my goals for the year and i am very happy with that.",
          "I am not the type that gets depressed so easily cause things don't bother me that much. I always try to keep things simple.",
          "Yes. Very. I have gone back on SSRIs after having been off them for about 6 months. I am struggling to motivate myself to do anything, including eating. It is a chore even trying to produce new artwork. Living in parents' home at the age of 39 is stressful and makes me feel very sad that I have not managed to have my own space.",
          "I think my anxiety plays in hugely with my depression, so because I'm anxious about exams, it's making me feel awfully discouraged. I genuinely just feel like my self esteem is especially low right now.",
          "I think I have been depressed over the past two weeks but I can't seem to narrow down as to why.  I think a lot of it has to do with the way of the world at the moment and being unable to see any light at the end of the tunnel.  I have been worried about if the world will ever go back to normal and not wanting to do anything because I cant see any point when the world feels like its ended.",
          "I have been in a constant state of depression for so long now that I cant remember being any different. I lock myself in my flat,and if I can, see nobody and actively avoid social interaction. I usually feel one of 2 ways, empty and devoid of emotion or with an overactive mind that forces me to dwell upon anything negative, or obsessively about whatever has taken my interest at the time.",
          "Again, the idea of talking about my mental health has depressed me.i feels though I can't control things",
          "I have been depressed but also very manic. It's been an odd sort of rollercoaster for me but I'm enjoying it?",
          "Over the last two weeks, my mental state can be described with no better words than depressed. I have been feeling mentally drained throughout the majority of the my days for the last fortnight. This has resulted in further anxiety resulting in reduced productivity at work and inability to talk with others.",
          "I would not say I am depressed, I have down days but always pick my self up again. I have young children that need me to be strong and stable for them",
          "Yes, I have felt very down, it seems like there is no way out of this current health crisis and it seems like nothing is getting back to normal and not knowing if and when everything will settle down makes me feel quite anxious.",
          "I have not been depressed or felt depressed in the last two weeks, I have been in a good state of mind and have not let things get on top of me or even had stresses that has lead me to depression or upset.",
          "No, I don't think I have been depressed. I have planned things to do each day and carried them out and I have been interested in my surroundings, other people and the world. I have spent time gardening, riding my motorbike, playing music and recording audio for a friend so I feel that my time is spent purposefully and usefully.  I am generally cheerful",
          "I feel lonely sometimes because I don't get to do what I normally do before the covid-19 pandemic. I miss most of my social activities and I find it hard to adjust to the current situation.",
          "I have been feeling very depressed and that life is effort, I feel like crying most days. I also feel like people don’t want to spend time with me or help me out even though I am always helping out others",
          "I dont feel depressed as much as down.Life feels a little flat,a bit like waiting for a storm to arrive.Like colour is seeping away from the picture of life.",
          "I have felt sad over the past 24 hours to receiving some unexpected negative news. This has made me feel very low.",
          "I would not describe myself as depressed at all.  The weather is a positive affect on my mood and I am looking forward to a life change moment in selling my house.  I am aware that this disruption is likely to result in hypo manic behaviour and risk taking and fully predict a depressive episode after 2 weeks of being in the new place.  I currently feel slightly elevated in mood and need to keep this in check.  I have found myself spending more money, giving things away, increased risk taking with regard to decision making at work and getting more agitated with colleagues - thinking I know better.",
          "Over the last 2 weeks I haven't been depressed. I have had low points due to triggers occurring that make me feel lower than usual. On these days I have felt more emotional but can get over it reasonably quickly and can push negative thoughts away.",
          "I had a project that i have been able to complete a whole lots of abandoned project in the last 2 weeks",
          "My mood has been lower than usual over these past two weeks though I would not class it as full blown depression. I have felt more bored, tired and overall less enthusiastic about things in general.",
          "I have been depressed and sometimes I am not interested in anything.  When I make decisions I procrastinate or make excuses and put off very important things which I can take care of it right at the  moment.  Sometimes I feel sad and hurt.  I think about the past or even think about the future.   I am not in the moment at times.  I need to be more grounded in the here and now.  I also think about all the mistakes I have made in the past and it hurts.  Sometimes when I think the past I feel guilt and I have to remind myself that who ever I was in the past is not who I am now.",
          "I have over thought a lot regarding what's going on in the world or anything going on in any of my personal relationships. It's been really hard to distract my mind from it.",
          "I suffer with depression anyway so i naturally have up and down days depending on my mood. So, yes i have felt depressed on occasion in the last 2 weeks.",
          "I would not say I have been depressed over the last 2 weeks, although I think I have the potential to be depressed about matters if I continue to worry about them constantly.",
          "I have felt low especially when looking to the future. I do not know when or if things will return to normality, and if they do, if it will be as before. Everything is uncertain and our lives have changed in almost every single aspect. Whenever I turn on the news, it's always about Covid and people dying. It's got to the point where I feel almost numb about it all.",
          "Hopefully I've formatted everything correctly so far.\n\nI would say that it's a general numbness and insensitivity to emotions, almost as if I'm a rock that waves of feelings just crash over. There are plenty of situations that I know ought to illict a response from me emotionally, but I truly feel nothing unless it personally impacts me, and even then I'm only concerned for the logistical implications of something bad or good happening.\n\nIt's also a feeling of hopelessness alongside the apathy, particularly with regards to feeling overwhelmed by the enormity of expectation upon me (and therefore never being able to live up to that, or never being able to feel \"normal\" in the future, etc.).",
          "I feel depressed, gloomy and miserable right now because the feeling of being sacked from my work is really affecting me mentally, socially and physically. I sincerely need help on how to get over this sphere of my life.",
          "I have felt numb and depressed, as if nothin matters and the world is false and not worth my time. I thought coming back to university would change everything but leaving as someone who could not cope without drinks everyday means coming back has not solved a single thing. My parents have rejected me time and time again and the silence of my friends occasionally terrifies me.",
          "I haven't been depressed at all. In fact I've recently been thinking that I've made great progress with my condition and have taken a lot of positive steps to improve my quality of life, which has helped improve my mental health.",
          "When I am depressed behind my smile is a hurting heart, behind my laugh I’m falling apart. Look closely at me and you will see, the man I am, it isn’t me. This Man that you see here it’s the Man that smiles everyday but, that he cries every night.",
          "My suffering, laughable though it is, has become intolerable, interminable and inescapable. Nobody is to blame but myself. My life was marked by interpersonal conflict and limited social support, producing isolation, social anxiety and difficulty forming new relationships. At the end of the day, I chose that, and now I have to live with it. I am nearly 30 years old which is 9 more than I wanted or needed. I don't feel there is anything else I am missing out on. On the contrary, the rest of my natural life would be spent pressed up against the glass watching others with envy as they reap the benefits of their well-spent youths. I would rather drop out now with a little dignity than have to keep going day after day until I drop dead anyway.",
          "No I have not but I have been close to it I think. I have developed a worrying gambling problem due to trying to win money to make up for short falls in finances due to COVID-19",
          "I would not say I have been depressed over the past 2 weeks. I also wouldn't say I have necessarily been happy but I wouldn't go as far as to say I've been depressed. Just generally worried and anxious about normal things in life and the general state of the world at the moment.",
          "Being stick in the house all day is very depressing and as I already suffer with depression it can effect me quite bad.",
          "Yes, at the same sort of level I would normally experience but with a different context – e.g. I'm more likely to want to stay at home when I'm depressed, which is actually a sensible thing to do during a pandemic, so it's sort of strengthening the bad coping mechanisms that I have.",
          "I have felt depressed I have struggled with my mood and felt really low and that I am not good enough I feel that I can’t get out the past",
          "I have maintained fairly positive during the last few weeks even though they have been pretty stressful. I am very happy with my life. It is the summer holidays, so I'm spending some time with my young daughters and enjoying the beautiful weather and our garden. I have been running two or three times a week. I definitely haven't felt low or depressed, though I have been a bit worried and anxious.",
          "I have been feeling an increasing sense of sadness over the last few weeks. I just moved into a new home with my fiancée, and things should be great, but I can’t be happy and I don’t know why. The guilt makes me feel so crushed and I wish I can articulate why better.",
          "Over the last two weeks,  I have felt down and out consistently. Though, the severity of the depression I felt would change in terms of it's severity. Ranging from subtle to severe/major . Antidepressants do not help, meditation does not help, and life definitely does not help. Life is a kind of pain, at least for my soul I guess, and to live is to suffer through that pain, and try to make meaning or purpose from it.",
          "Over the past 2 weeks I have been engaged in activities such as decorating and renovating a recently purchased new home. This has kept me active and upbeat facing small challenges each day.",
          "When I have struggled to not complete a task that I wanted to; it has made me feel like a failure and as if I'm not worthy of success. I have also felt really down about my weight, as I suffered with bulimia for a few years and I look back at old photos which is now triggering my mental health and making me feel like a disgusting human being.",
          "I have not been depressed in the last two weeks, because I have been avoiding alcohol, which is one of the major factors in making me feel bad.",
          "I have not been depressed and don't tend to feel that way. In fact my outlook has been positive overall. I have fun things to look forward to and realize that problems in my past stay in my past.",
          "Maybe a bit less depressed than I have been, because the whole body fear took over.  I have had to do some specific tasks at specific times so less time to wallow like the land whale I am. but I am still low, still just hiding in my room and letting my head live in fictional worlds that don't demand anything but the lightest attention.",
          "I have been very unmotivated and unsociable over the last 2 weeks. I’ve found myself angry and getting snappy with those around me for no good reason.",
          "I don't think I have been depressed as such. I've been worried and unhappy, but I don't think I'm in a state of depression. I've been focusing on work to keep me busy, and keeping my brain distracted with puzzles and tv, so that I don't overthink too much or spiral into depression.",
          "The past few weeks have been good for me and I haven't felt depressed except for one day when I woke up in a bad mood that I couldn't shake off. Despite that, I have been in a good mood, even in reaction to things that would normally upset me.",
          "I feel really down, just like  I'm no good for anything. I've not been successful in my life and I feel like I've stagnated. I just want to spend all my time in bed, I feel lonely but I also just want to be left alone.",
          "I have not felt depressed in the past two weeks. It has been really sunny and quite nice down here, and I've just moved to my new place and got to decorate which was nice, and I got away from an annoying living situation. My medication has been working really well.",
          "My depression never really goes away and I feel it controls me and I can't really do anything about it. Being off work has given me too much free time and my depressive thought have been getting worse and I have started to self-harm again due to how much I hate myself and how I have made a mess of my life and hurt the few people who care for me.",
          "While depression is in greater part an illness, also for some people it isn't, it's a choice to feel sorry for one's self. However ugly the situation I try as much as I can to be calm and collected. Everything in life is just a phase",
          "I have been quite happy. I have nothing to be depressed about. I am always in a good mood and never take things to heart. I rarely think too much about anything.",
          "Over the last two weeks i have not been depressed as in particular i have felt motivated and relaxed about my current situation.",
          "I definitely wouldn't class myself as depressed. Sometimes I'm slightly unhappy or feel a bit fed up but I wouldn't say I'm concerned by it. Especially during the current circumstances and coronavirus pandemic I think it is ok for people to have their down days. I have lots of fun day to day with my little boy and feel content with my life. Sometimes there are times when I'm frustrated with money related issues or living in a rented property but overall I pick myself up and try to resolve any problems that might cause me upset. I have a perfect loving family, great friends and lots of precious memories so don't feel that I could ever get depressed.",
          "My depression stems from the issue of not thinking I am good enough, that I am a failure, that I have failed my family and that I have been born with bad luck.",
          "I've never been depressed. Over the past two weeks, I've actually had very positive moments. I have attacked tasks with energy, enthusiasm and vigor. My  productivity levels are also very high.",
          "I haven't been depressed, i have experienced some happy moment.\nI have also take my health into consideration in things I do.",
          "I have been depressed lately. I have been overly sad and sluggish, been having difficulty sleeping, trouble finding reasons to get out of bed in the morning, and my self-worth is pretty low. This is nothing new to me, but when it occurs for long stretches of time, it makes me weary.",
          "I have been depressed. Situations have arisen that have caused me to lose faith in a lot of people. I tend to feel a weight on my chest and my thoughts don't stop.",
          "I struggle daily with Negative Automatic Thoughts and rumination. and these instances make me feel depressed. I suffer these thoughts frequently. The feeling of depression as a result of the memories can last just a few minutes, or much longer, like an hour or two. Otherwise, I am generally fairly positive.",
          "Over the last 2 weeks I have been feeling increasingly flat and deflated. I feel as though I have lost all mental strength as I cry all the time. After every social interaction or phone call I engage in I am left exhausted from pretending to be upbeat. I have felt constantly hopeless over these past 2 weeks waiting for this all to be over.",
          "I have not felt as depressed as I usually do until about two days ago. Before that, I was in more of a manic state. I spent 3 hours cleaning the bathroom and 2 hours wiping down furniture and other items. The past two days have filed me with dark thoughts due to the fact that my little sister keeps running away. I am worried that I did not do enough as a big sister to keep her here and do what she needs and to be that emotional support for her.",
          "I would not say i have been depressed although i have had points over  the last two weeks in which things haven't been really good but i am a strong person",
          "I have experienced depressive episodes before and been diagnosed as such by my GP. My episodes include tiredness lasting for weeks, lack of appetite, unwillingness to interact with others and frustration that occurs randomly.",
          "I have been greatly positive about my life and family in general. I have less addiction and a healthy self esteem",
          "no i have not been depressed ... if i feel things are overwhelming me i find something positive to distract myself with -arts/crafts ,a walk etc and i stop watching the news/media",
          "I have been very depressed over the last 2 weeks, with my symptoms worsening since the start of the pandemic. I have some hope that things will get better, but it doesn't seem like they'll get better soon and I'm tired of feeling like this. I miss my friends and feel lonely all the time.",
          "I have felt pretty good for most of the last two weeks. From time to time I have been very upset or exhausted and have needed a moment to myself to cry. I have spent a lot of my time hanging out with or talking to friends which has helped me. Being social pulls me out of my depression. On other days I have woken up late and spent time sleeping in which has made me feel more depressed but I am actively working to do this a lot less as I want to eliminate my depression. Overall, I am taking adequate steps to make myself feel as happy as possible. I think the last two weeks accurately represent the fact that my depression is slowly but surely going away.",
          "I wouldn't say I'm a depressed person, however due tot the fact that I am not able to go out as much and see people that are not my family it does put me into bad moods where I cannot leave my room for a few days and I fall into the habit of sitting alone watching tv with no real social interaction which I don't think is healthy as it leaves me alone with my thoughts more, which causes more stress and worry within myself.",
          "No, I do not believe I have been depressed, I think I have been quite happy.\n\nI sometimes wish I didn’t have to go to work etc, but can appreciate that is a fact of life that I must do in order to keep my household running.",
          "I was depressed. My friend died due to suicide and my grades in college were falling. I was at risk of being suspended or expelled. I turned to alcohol and had a terrible relationship  with that substance.",
          "I am not the type that gets depressed so easily cause things don't bother me that much. I always try to keep things simple.",
          "I have been feeling low and down and unhappy. I have had feelings of being depressed and blue and not happy.",
          "I don think i have been depressed because i have been stress-free due to limited work from the office. I spent quality time with my family now. I am happy in general.",
          "I've just started taking half my antidepressant medication, compared to the full tablet I had to up myself to across the lockdown period. I did it without asking the GP as I couldn't access them at the time and I know I was within my limits. I started taking the full 50mg table, which I was on originally when I asked the GP for help and am now back down to 25mg as I don't have to home school - so stressful!",
          "Yes I have been depressed on several occasions. Overall I have been worried about losing my job which has caused bouts of depression. I also have to have a biopsy so that has made me depressed and worried. I have shut myself away and tried to avoid communicating with anyone.",
          "I have not experienced very low depression but have struggled to bring energy into my social interactions throughout the two weeks. I feel distanced from my loved ones and unable to bring energy to call them and check how they are doing. I have been procrastinating at work and feeling unmotivated but then spiral into worry about not doing enough at work.\n\nSmall tasks that I know need to be done, like cooking and cleaning and doing my laundry, are exhausting and sometimes I would rather just sleep as I am quite tired. I have participated in lots of activity outside which brings me joy and makes me feel more energised but I prefer doing these things along currently.",
          "No, I have not been depressed at all in the last two weeks, in fact, I have been quite happy and optimistic about the future.",
          "I have not been as depressed as I have been previously.\n\nHowever, there have been some instances where my mood has become suddenly extremely low. \nAfter multiple weeks of being clean, I self-harmed again last night. I was sitting on my bathroom floor, crying, convinced that my life was not worth living and that I was a waste of space. \nAfter cutting, I was very angry at myself for having broken my clean streak. This made me even more upset.\nI ended up powering off my devices and going to sleep.\n\nThis morning, I feel fine again. It's just that my depression seems to come and go.",
          "For the past 2 weeks now have been out of job because of the layoff going in my place of work thinking of that makes me stressful",
          "I have felt depressed occasionally, but not very depressed. Although all the news is quite depressing now, and I am an avid news consumer, I have tried to avoid getting depressed, mainly by keeping active.",
          "Over the last few weeks I have not been depressed, I have in fact been feeling the opposite. I have  been getting up in the morning feeling rather tired, but also positive knowing that once I have managed to open my eyes, it's time to be productive.",
          "I haven't been depressed as its such a strong word and shouldnt throw it around. I try to remain upbeat, optimistic and try to look at the bigger situation. Such as my family and close friends are in good health, all have jobs and try to think of the better things that are happening.",
          "Yes, I have been. I've felt tired for days on end, combined with a decreasing appetite and growing worry.",
          "I have felt depressed over the last couple of weeks but not badly. I've found myself wanting to nap during the day which i only do when I'm sad. It's hard to feel happy with everything that is going on.",
          "Depression is a state I'll never pray for my enemy to be..The last time I experienced depression was when I lost my dad and mum at the same day in a road traffic accident",
          "I have felt despairing at my social isolation; feeling resigned that I have few people willing and available to meet or chat over the phone. I have felt irritable and short-tempered with friends and family. I feel apathetic, uninterested and nihilistic about my work, as I do not see manageable  goals in this time of constant uncertainty. I feel uninterested about continued professional development and have no motivation to 'upskill', 'better myself' or 'make myself more marketable'.",
          "I often stare blankly, to nothing. I lay down on my bed trying to sleep but can't get my mind to stop thinking.",
          "As someone diagnosed with depression I feel like it’s alway there, just lingering in the back of my mind until it decides to become louder. I feel like I’m drowning and it’s hard to do anything but try to breathe. This paired with worry is a horrible combination, and it feel nonstop.",
          "I've struggled with depression all my adult life with no clear idea or what to do with my life and times. I've basically given up at this point and just waiting for something to kill me, as my own attempts to end my life don't succeed. I'm dependant on both prescription and illegal drugs just to deal with my mental issues. professional services dont care and i just want to die.",
          "I have on multiple occasions due to the problem with my stomach. I felt like I wanted to stay in bed all day so I didnt want to worry about anything and i felt like i was ruining my fiancees birhtday.",
          "I have not been as depressed in the past two weeks. I have left helpless for a long time now, but have recently began to except my situation and now it's just a case of feeling motivated and excited to get on with my life again even if things do turn out badly, I want to get on with it.",
          "My life's a mess so I think I've been depressed. My fiance's having a midlife crisis and wants space, there's a pandemic and I'm considered vulnerable. I'm not in my home, having to stay with my Mum who has to shield and she's depressed too. I'm so bored, lonely and scared that my life isn't going to be the same again. I've been feeling tired and hungry all the time, no matter how much I sleep I'm always tired.",
          "I have had very low mood. Some days I don’t get out of bed. I tend to cry a lot. I find it difficult to be hopeful.",
          "I have been depressed, not constantly but I have had periods of down days over the last 2 weeks. Particularly following an argument with my husband",
          "I have not been depressed. I started a new job and I love my co-workers. I got paid today, which is nice! Things can definitely be worse.",
          "My neighbour had a terrible accident few days ago and it was a fatal one.I had been in a state of depression since it happened",
          "I try as much as possible not to make situations or occurrences around me weigh me down to the extent of me getting depressed. I am not depressed, I am very happy and full of good energy",
          "The symptoms of depression that I have been experiencing include a lack of energy and motivation - I don't even find things fun any more, and I don't enjoy spending time with my friends as much as I used to. Nothing seems exciting any more and it all feels very pointless",
          "I have been depressed. I have felt contemplative and confused. I have not been able to hold my concentration or think abut things immediately.",
          "I have been feeling up and down. Sometimes feeling depressed and sometimes feeling okay. Sometimes feeling positive about the future and current situations and sometimes negative.",
          "I have been slipping in and out of depression, but it seems to have gotten worse lately. Very little things upset me",
          "I've been happy with myself over the last two weeks since I have no reason to be sad or depressed.",
          "I’m getting fed up with not being able to travel and not having a social life. I miss interacting with people and it has me down.",
          "I have felt slightly depressed, like a small blue mist showering on to my shoulders or a black dog of despair gently licking at my ears. It has made me feel slightly numb and ambivalent.",
          "I have definitely experienced moments of feeling depressed over the past 2 weeks. Certain features of my depression have been stronger and there have been days where i feel unable to get out of bed.",
          "Over the months my financial status has been a major topic in my thoughts, I can't just help but wonder when it will be all over.",
          "I am generally happy and content in my life and the past two weeks have been no different. I have experienced times when I have been unhappy in the past two weeks however these have been for a short period of time and in relation to a specific situation. I moved on from those feelings and they have not affected by overall feeling about myself and my life. I feel that I am good at identifying and addressing when I have negative feelings.",
          "The thoughts Ashe weighting on my mind whether lift is impossible anymore all my health problems are a worry to me",
          "Yes, i have been a little depressed too.\nI hope the government finds a way across this so we all can live again!",
          "I've been depressed lately because of the situations of things in my family. I have anxiety over some things and I worry a lot.",
          "My depression these days is not as bad as it has been in my past, luckily. I'm very grateful for that. However I do have up and down moments. I can't pinpoint an exact time that I have been depressed but my low moments are usually caused by me feeling not good enough and having low self-esteem. I think my depression has been taking over by worry these last two weeks as described in the last paragraph.",
          "There have been times where I felt depressed, mainly due to my worry of job security. Some days, I simply do want to leave my bed. I want to curl up into a ball, draw the curtains shut, and forget about the world outside. Some days, I wonder about the purpose of life, the purpose of my life. I try so hard to improve myself, to have a positive and optimistic mindset, but sooner or later I receive some setback and then I question the point of it all.",
          "I wouldn't say I have been depressed, there have been days where I have felt incredibly flat and or low, not wanted to do anything or go anywhere. As a result of the current pandemic, this may have been emphasized as even if I did want to go out it was not possible or it felt unsafe to do so.",
          "I haven not been depressed over the past 2 weeks because I am working as usual and things are going quite well around my home and my family.",
          "I would say I have been depressed the last few weeks, although I have been a lot better in the past few weeks than a few months ago where i was scared for myself. I hav e good and bad days, each a lottery of what will happen on which day.",
          "Over the past two weeks I've definitely been depressed a bit as well.  With all of these idiots that keep going out, hanging out with friends and not social distancing or wearing masks.  Our downfall will be those selfish morons and it's truly sad.",
          "I have not felt depressed over this time frame.  I have felt very connected with friends by meeting more outside and by having more time to chat with them in general (in person or online).  I feel very relaxed and healthy - having more time for exercise and wellness activities.",
          "Having had a serious bout of depression in 2018 I cannot say that I have experienced depression in the past two weeks because that would be flippant. However, I have had a somewhat constant low level bad mood for a while now, probably since the start of lockdown. Again, I wouldn't say this is depression, but it is certainly hard to shake even when good things happen. I think this is because I derive a lot of joy from making plans, and at the moment, with everything so uncertain, it is hard to be able to get excited about anything. Even things that I now do have planned I find it difficult to get excited about because I do not know whether they might be cancelled at a moments notice.",
          "I have been working on so many things this last few weeks, keeping my self busy and volunteer to help others",
          "I have not been depressed over the last two weeks because I have had instances to look forward too such as meeting my friends outdoors and looking forward to going on holidays. I have also tried to look for positive small moments in the day",
          "When I am having a bad day I will be very tearful but very angry with everyone and everything. I will refuse to get dressed or eat or even socialise with anyone. Some days I will just sit and stare into space for no apparent reason",
          "I've been drinking and smoking more than I should and have not been sleeping very well. I find it hard to concentrate a lot of the time and when I go out shopping I feel anxious.",
          "I think I haven't been depressed, then I realize I do things like not wanting to eat and not showering. It seems like too much, but also I have a kid to take care of so I'm forced to do things. My housework has suffered so I did a little bit yesterday and today. I don't want to eat and want to lay in bed watching tv, which makes me feel like a lazy failure but the kid makes me do stuff around the house to take care of and entertain her.",
          "Yes I have been feeling rather down and out, not very present and very unmotivated, however the depression I’m feeling is less intense than past times",
          "I have been depressed and low these past two weeks. I have found no joy in things and have been crying a lot. I dont feel like I am any use to anyone",
          "In the last two weeks I have heard that a family member is ill.  I feel helpless and stressed.\nI also feel tired although I am getting enough sleep.",
          "Over the last two weeks, I've been a little depressed but most a times I try to calm myself. \nMy mother being ill and uncle who just died recently as a result of the Corona virus has made me very sad lately.",
          "I have not felt and do not feel depressed. I am at ease with my current situation and feel like I can achieve what I set out to do.",
          "Yes, I have been depressed over the last two weeks. However, over the past week, I have been feeling better. I started a new medication in combination with my existing one and it seems to be helping. But I don't know how long it will last. I could potentially feel like shit again by the end of the day for all I know.",
          "I have generally maintained a stable mood over the last two weeks. Which has been quite positive and upbeat relative to the other periods during my illness. Aspects such as, the brighter summer weather and preparing for positive events in the upcoming months, have had a large influence on this.",
          "Yes I have been depressed in the last two weeks. This included crying, not being able to sleep. Over sleeping. Not wanting to go out nor socialise nor participate. My body has felt heavy, tense and unsettled also. I’ve also had negative thoughts, which I have had to overcome.",
          "I have been depressed over the past and the present and the current situations I face in my life . I have felt depressed with low appetite",
          "Worrying about my job left me a bit depressed, constantly thinking what other alternatives i could have and the fact the i have a wedding to plan for left me with a few sleepless nights",
          "I have felt unusually down at the moment, not feeling certain about the future and knowing how the current situation will pan out. Have felt out of sorts, tired and that I can’t be bothered tomdo things and go anywhere",
          "I've never been depressed i always try to be happy and if im sad i try not to show it to other so they don't have to worry about me",
          "I think I have been depressed generally, I have felt a bit rudderless and lost for the last couple of weeks.  I've felt hopeless at times, I'm not at my worst though.",
          "Over the last two weeks I have not felt depressed at all. I do not suffer from depression or anxiety and I have had no incidents in my life that has affected me negatively.",
          "At times I have felt extremely lethargic and down. I lost all desire to do anything fun or get dressed I didn't want to see anyone or speak to anyone. I thought there was only one way out. It hits me in waves and then I can feel much better.",
          "My worries on depression have never overwhelmed me only when I would have worried  was when I lost a value asset at work which almost cost my job.",
          "I have on occassion felt depressed in that I have felt lost, empty and tired with no motivatin to do anything. For the most part I have been ok though and managed to be hopeful about the future and about myself.",
          "I have been feeling pretty good these past couple of weeks. It has been sunny and warm so I have been out in the sunshine enjoying the nice weather whenever I can. I have enjoyed reading my book and just chilling out with friends. I had to move back to my flat away from home which was quite upsetting as I had to leave my family behind, but I have lots of friends here so it was good to see them all again.",
          "I have been a bit depressed over the last 2 weeks due to the fact that my car has been giving me some issues coupled with the stress I  face at work.",
          "I have been depressed in the last 2 weeks. I'm still depressed now. Each day is a struggle but after talking to friends  and my wife about it I feel as if a load has been taken off my shoulders.",
          "Yes. I've been depressed because I feel useless due to not being able to work or find work as well as not being able to afford medical care.",
          "I haven’t felt depressed. However, I have experienced mood swings. This could be due to the negativity in the news and in daily life.",
          "I have been pretty depressed. Depression has a hold over me that I am more easily able to break free from than anxiety. Though ultimately I always end up back here in a dark, deep hole of despair.",
          "Every morning there is a constant cloud, a weather that hangs over me. I cannot shake it. My whole body aches and is so heavy. I fell constantly down, a hopeless spiral. My thoughts are clouded.",
          "I have felt moderately depressed on various days over the last two weeks due to various factors concerning work, home life and the global situation.",
          "I was doing better with depression and my meds but recently I have been backsliding. I'm not sure of the exact cause of it but know that the feelings have reemerged. I find it hard to maintain any sort of focus or attention. I've started to drink more again and that only seems to be furthering the issue at hand. I just have the urge to be alone and drink.",
          "I have been neither happy or unhappy in recent weeks, I have just been getting on with my life, taking it one day at a time.",
          "It's very hard to take in your instructions, I've had to keep retrying before it would accept my answers. depression makes everything hard\n\nthis isn't the worst i've ever felt or I could't be writing this but there have been lots of depressed times in the last couple of weeks",
          "I wouldn't categorically classify it as depression, but i have been feeling overwhelmed by internal and external factors. My family has been the lone source of joy for me",
          "I have not been depressed at all, the recent spell of good weather has meant being able to spend more time outside, gardening, sunbathing and taking longer walks with the dog",
          "Over the last two weeks I have not been depressed but have had episodes of feeling sad or uncomfortable with my studies and future career prospects",
          "This summer has been very difficult. I always suffer with depression, but the isolation and lonliness of staying in and not seeing family is unbearable. I eat, sleep, and watch TV on the couch 24 hours a day. I don't ever go up into my beautiful bedroom. I haven't showered in weeks. My psychiatrist is changing my medication.",
          "Depressive thinking is a common occurrence. Often I feel severely low and depressed about my current situation and what the future might hold, resulting in thoughts of suicide etc. Am I good enough to still be worthy of life? Am I living the best I can? The strength of depression is something I've dealt with since my early teens and the best treatments/medications can only do so much. Deep down I know I can't simply get rid of depression, it's something you have to live with as best as you possibly can.",
          "I've not had depression for a number of years. I did struggle for a while about 10 years ago but now I've got a lot to be thankful for. I own my own home outright, i'm getting married next year and I've been given a promotion at work. Life is what you make it and I try and make the best of everything I've got. Friends and family are important and thankfully me and my partner have both. We live in a country with enough to eat each day and stable employment.",
          "I don't know if I'm depressed because I just feel like this is a constant state of mind. I fantasise about not being alive and not existing but I'm too much of a coward to do anything about it. My whole life I've lived in poverty but so has pretty much most people whom I'm close with, so I don't think I'm significant in that respect. That has been the defining factor of my life and I hate it, I went to uni and studied my passion, environmental science. Most of the jobs required personal vehicles and volunteering for months to gain desired experience. I worked two jobs whilst at uni and volunteered. I try and I try but nothing changes, I feel old and like I have no experiences in life, in just numb.",
          "I haven't been dressed. I have been stressed by work and worried about elderly parents but I haven't had the symptoms of depression. My wife does suffer from depression so I know what to look out for",
          "Over the past two weeks, I have felt very depressed at times, perhaps around half of the days. I have felt quite hopeless at the state of the world and my country in particular, mostly with regard to how they have handled the pandemic but also the way society is structured and the government operates. Contemplating the world like this has made me feel very low and very unenthusiastic to do things I used to find interesting and exciting. I am finding it more difficult recently to enjoy things, and to think of things I'd like to do. Being stuck in the house all the time has made me feel trapped and upset and hopeless.",
          "I've rarely been actually depressed. I've occasionally found it hard to think of anything interesting to do, and felt apathetic and very weary. My partner has been feeling down also and the combined atmosphere is harder to break out of. But generally I have just been tired and bored of the monotony of lock down life and the strangeness of working at home and not really understanding or knowing what's going on or what's going to happen when I go back to work. That's more apprehension and worry than depression. I feel like I've been coping pretty well and have felt less depressed during this period than previously. I try to remain in the present and have been meditating. It's helping me see things from a better perspective and so I haven't felt 'blue' very often.",
          null
         ],
         "marker": {
          "color": "#CFD8DC",
          "opacity": 0.5,
          "size": 5
         },
         "mode": "markers+text",
         "name": "other",
         "showlegend": false,
         "type": "scattergl",
         "x": [
          12.46894359588623,
          12.459859848022461,
          10.807427406311035,
          13.253764152526855,
          12.247296333312988,
          14.372197151184082,
          11.572185516357422,
          11.302831649780273,
          12.522907257080078,
          13.089509963989258,
          12.362203598022461,
          11.540907859802246,
          12.224538803100586,
          12.152175903320312,
          13.679821968078613,
          13.779616355895996,
          13.632686614990234,
          13.072022438049316,
          12.746689796447754,
          13.637835502624512,
          11.608563423156738,
          13.917303085327148,
          13.28756046295166,
          11.369580268859863,
          13.60582160949707,
          13.082074165344238,
          14.121475219726562,
          14.094858169555664,
          9.948101043701172,
          12.64873218536377,
          12.499184608459473,
          11.336149215698242,
          13.23001766204834,
          13.098201751708984,
          14.118416786193848,
          11.302740097045898,
          13.399420738220215,
          13.456875801086426,
          11.225016593933105,
          13.530604362487793,
          14.47908878326416,
          13.29520320892334,
          13.929455757141113,
          14.201327323913574,
          13.201065063476562,
          14.18947696685791,
          13.33467960357666,
          11.010687828063965,
          14.200801849365234,
          13.725343704223633,
          11.19190502166748,
          12.21396541595459,
          13.531110763549805,
          9.961568832397461,
          12.455362319946289,
          10.790095329284668,
          12.986944198608398,
          11.621150016784668,
          13.432568550109863,
          13.508135795593262,
          13.80344295501709,
          13.13016128540039,
          13.465715408325195,
          12.131796836853027,
          12.803157806396484,
          13.8492431640625,
          12.18248462677002,
          12.185718536376953,
          13.476584434509277,
          12.172820091247559,
          11.430298805236816,
          9.690448760986328,
          9.508407592773438,
          13.671382904052734,
          11.266364097595215,
          11.277053833007812,
          12.500462532043457,
          13.850128173828125,
          14.368138313293457,
          12.249435424804688,
          13.982318878173828,
          12.86231803894043,
          13.773073196411133,
          12.005476951599121,
          12.284050941467285,
          11.622828483581543,
          14.009325981140137,
          10.639963150024414,
          13.541963577270508,
          11.808395385742188,
          12.347908020019531,
          13.404559135437012,
          12.061905860900879,
          13.73076343536377,
          12.930859565734863,
          12.470464706420898,
          12.915412902832031,
          10.696114540100098,
          13.762746810913086,
          13.342546463012695,
          13.934431076049805,
          13.148600578308105,
          9.9449462890625,
          12.062503814697266,
          11.633796691894531,
          10.4805908203125,
          14.348346710205078,
          10.182878494262695,
          13.422720909118652,
          12.205288887023926,
          14.64692211151123,
          11.332022666931152,
          13.638993263244629,
          14.20908260345459,
          12.771785736083984,
          14.00546932220459,
          11.386788368225098,
          11.362543106079102,
          12.052769660949707,
          12.240410804748535,
          13.183184623718262,
          11.034412384033203,
          11.639378547668457,
          12.731616973876953,
          14.164679527282715,
          13.324928283691406,
          12.218860626220703,
          9.895557403564453,
          13.287543296813965,
          10.950000762939453,
          9.500884056091309,
          13.99246597290039,
          9.965576171875,
          13.583226203918457,
          12.462878227233887,
          11.524759292602539,
          13.33442497253418,
          10.12552547454834,
          14.733454704284668,
          14.045380592346191,
          13.410666465759277,
          13.582162857055664,
          12.452055931091309,
          11.976191520690918,
          10.703608512878418,
          12.93608283996582,
          12.744935035705566,
          13.43080997467041,
          12.05570125579834,
          11.377080917358398,
          11.615886688232422,
          12.980204582214355,
          13.229317665100098,
          9.892273902893066,
          13.59097671508789,
          11.130753517150879,
          12.794191360473633,
          12.755363464355469,
          11.301041603088379,
          12.850503921508789,
          12.071294784545898,
          13.016002655029297,
          11.914666175842285,
          9.58646011352539,
          11.963839530944824,
          11.510777473449707,
          12.310789108276367,
          11.067501068115234,
          11.891220092773438,
          13.507259368896484,
          13.304183006286621,
          12.677069664001465,
          12.199130058288574,
          13.445035934448242,
          13.176094055175781,
          11.7233304977417,
          13.161942481994629,
          13.423659324645996,
          12.482831001281738,
          12.020744323730469,
          14.477500915527344,
          12.794480323791504,
          12.918341636657715,
          14.133147239685059,
          13.087258338928223,
          11.762431144714355,
          13.019786834716797,
          13.094072341918945,
          11.060981750488281,
          12.936830520629883,
          11.066831588745117,
          13.663919448852539,
          12.080480575561523,
          12.4531831741333,
          11.775569915771484,
          13.327569007873535,
          13.34237289428711,
          12.856593132019043,
          12.317546844482422,
          14.2207612991333,
          13.225358963012695,
          10.102563858032227,
          11.671280860900879,
          12.2392578125,
          13.19663143157959,
          12.697232246398926,
          13.720609664916992,
          10.805695533752441,
          13.852127075195312,
          12.294829368591309,
          13.484556198120117,
          14.241272926330566,
          14.563632011413574,
          11.390368461608887,
          12.791913986206055,
          11.266932487487793,
          10.665487289428711,
          13.520435333251953,
          13.234889030456543,
          10.637895584106445,
          10.634764671325684,
          14.532384872436523,
          12.701656341552734,
          11.117921829223633,
          12.139091491699219,
          13.80090045928955,
          13.076818466186523,
          13.306187629699707,
          10.810734748840332,
          11.28294849395752,
          14.024645805358887,
          12.578041076660156,
          11.329047203063965,
          13.5664644241333,
          13.685413360595703,
          13.859902381896973,
          10.443305015563965,
          13.505657196044922,
          9.991032600402832,
          12.094609260559082,
          12.053537368774414,
          13.962066650390625,
          12.838469505310059,
          12.251302719116211,
          14.11159896850586,
          12.756718635559082,
          13.234540939331055,
          13.75154972076416,
          12.656352996826172,
          13.24155044555664,
          13.446954727172852,
          12.041207313537598,
          13.613465309143066,
          11.530195236206055,
          13.283936500549316,
          10.364319801330566,
          13.680316925048828,
          13.021858215332031,
          13.332711219787598,
          12.057641983032227,
          12.926497459411621,
          13.752943992614746,
          13.268322944641113,
          14.117024421691895,
          13.614660263061523,
          12.225772857666016,
          14.002762794494629,
          12.345015525817871,
          11.583846092224121,
          12.992319107055664,
          13.631919860839844,
          12.580425262451172,
          14.021527290344238,
          13.4374418258667,
          12.635385513305664,
          10.649542808532715,
          13.583168983459473,
          12.854721069335938,
          12.343830108642578,
          12.7322998046875,
          13.591748237609863,
          12.086088180541992,
          13.632648468017578,
          14.179314613342285,
          13.320765495300293,
          10.907880783081055,
          12.908552169799805,
          11.500757217407227,
          13.656964302062988,
          12.16411018371582,
          14.19955825805664,
          13.572940826416016,
          10.223448753356934,
          12.874428749084473,
          14.280218124389648,
          11.083474159240723,
          13.880082130432129,
          11.212297439575195,
          12.666872024536133,
          12.442270278930664,
          13.976492881774902,
          11.596095085144043,
          12.881467819213867,
          13.361662864685059,
          13.68884563446045,
          12.731101989746094,
          10.757206916809082,
          13.303497314453125,
          10.777234077453613,
          13.575194358825684,
          11.943394660949707,
          13.416001319885254,
          9.840543746948242,
          12.45761775970459,
          11.772774696350098,
          12.364795684814453,
          10.561084747314453,
          11.649471282958984,
          14.700697898864746,
          13.880284309387207,
          13.888622283935547,
          12.078429222106934,
          11.509099960327148,
          11.420170783996582,
          12.966024398803711,
          12.039735794067383,
          14.162397384643555,
          11.395552635192871,
          10.825844764709473,
          11.457330703735352,
          11.126485824584961,
          12.1928129196167,
          13.098371505737305,
          12.84520435333252,
          13.136404037475586,
          12.49875259399414,
          11.497187614440918,
          12.274977684020996,
          14.032637596130371,
          13.672515869140625,
          14.124641418457031,
          12.619925498962402,
          13.212677955627441,
          13.298128128051758,
          12.754267692565918,
          12.294739723205566,
          11.30016040802002,
          11.774413108825684,
          13.425846099853516,
          11.727520942687988,
          13.205534934997559,
          12.588963508605957
         ],
         "y": [
          7.306334018707275,
          7.772873878479004,
          8.415756225585938,
          12.696090698242188,
          10.080184936523438,
          9.672524452209473,
          7.060459613800049,
          7.868171215057373,
          7.893028259277344,
          9.657544136047363,
          7.43244743347168,
          9.388533592224121,
          10.51765251159668,
          8.84982681274414,
          10.936235427856445,
          10.066003799438477,
          11.313040733337402,
          9.909256935119629,
          7.436755180358887,
          8.18181324005127,
          8.862329483032227,
          11.95658016204834,
          7.663541316986084,
          9.956704139709473,
          7.926336765289307,
          9.75085163116455,
          11.757352828979492,
          11.083069801330566,
          9.299139022827148,
          7.536902904510498,
          11.627466201782227,
          7.286365509033203,
          12.773407936096191,
          6.816420555114746,
          9.204656600952148,
          10.298154830932617,
          11.283079147338867,
          9.223702430725098,
          9.835652351379395,
          11.545137405395508,
          10.07461929321289,
          8.91907024383545,
          9.197352409362793,
          9.576302528381348,
          12.173002243041992,
          9.47000503540039,
          8.790125846862793,
          10.432516098022461,
          10.006972312927246,
          10.8243408203125,
          11.535853385925293,
          6.897958755493164,
          9.03458309173584,
          9.003419876098633,
          8.990199089050293,
          7.199837684631348,
          9.007625579833984,
          8.118537902832031,
          11.737874984741211,
          8.905068397521973,
          8.318792343139648,
          11.789287567138672,
          12.050311088562012,
          8.7136869430542,
          12.244892120361328,
          8.819860458374023,
          10.000061988830566,
          6.912790298461914,
          9.434980392456055,
          9.846029281616211,
          8.007452011108398,
          10.006647109985352,
          9.901541709899902,
          8.596639633178711,
          7.5827460289001465,
          7.861085414886475,
          7.185719966888428,
          9.719825744628906,
          9.457768440246582,
          9.95468521118164,
          11.95178508758545,
          7.309399127960205,
          8.737992286682129,
          7.997469902038574,
          10.612048149108887,
          8.760414123535156,
          10.13526725769043,
          7.87974739074707,
          8.718293190002441,
          8.88050651550293,
          9.388203620910645,
          11.221643447875977,
          8.742274284362793,
          8.271584510803223,
          11.814346313476562,
          8.602397918701172,
          11.242206573486328,
          9.849953651428223,
          9.28589916229248,
          8.48788070678711,
          10.262960433959961,
          11.190293312072754,
          10.02752685546875,
          8.708858489990234,
          8.305625915527344,
          7.91182279586792,
          8.397628784179688,
          9.953271865844727,
          9.519360542297363,
          8.812911987304688,
          9.618888854980469,
          8.380988121032715,
          10.12021541595459,
          7.818703651428223,
          10.269330978393555,
          8.822278022766113,
          10.29157543182373,
          10.818903923034668,
          9.083549499511719,
          6.887040138244629,
          11.471641540527344,
          7.037788391113281,
          10.277778625488281,
          6.577980995178223,
          11.670421600341797,
          9.393569946289062,
          9.633667945861816,
          10.812851905822754,
          8.520913124084473,
          8.831071853637695,
          9.924464225769043,
          8.848799705505371,
          9.251779556274414,
          11.409582138061523,
          10.296252250671387,
          10.31302261352539,
          9.50428581237793,
          9.300769805908203,
          9.604619979858398,
          8.745930671691895,
          11.14911937713623,
          11.10665225982666,
          7.934625625610352,
          8.648260116577148,
          7.807847023010254,
          7.773983001708984,
          11.12977409362793,
          8.08459186553955,
          8.620646476745605,
          7.640514373779297,
          11.724883079528809,
          12.082891464233398,
          12.778650283813477,
          10.123493194580078,
          9.335463523864746,
          8.814486503601074,
          12.238195419311523,
          10.929486274719238,
          8.74384880065918,
          7.380551338195801,
          11.867383003234863,
          11.925518989562988,
          6.752768039703369,
          9.927525520324707,
          6.897829532623291,
          7.882668495178223,
          11.690399169921875,
          6.5011677742004395,
          8.779152870178223,
          7.260717868804932,
          11.610245704650879,
          7.667542934417725,
          8.891030311584473,
          11.302190780639648,
          8.517780303955078,
          9.082457542419434,
          9.027304649353027,
          11.313791275024414,
          11.358454704284668,
          7.388176441192627,
          9.442466735839844,
          6.646660804748535,
          8.118257522583008,
          9.584038734436035,
          11.588122367858887,
          10.375411033630371,
          8.893802642822266,
          12.538790702819824,
          10.797562599182129,
          10.5446138381958,
          6.486501216888428,
          8.491299629211426,
          9.206806182861328,
          8.726183891296387,
          8.995843887329102,
          7.370366096496582,
          7.678030967712402,
          11.129573822021484,
          11.257288932800293,
          9.042160034179688,
          11.699052810668945,
          8.662299156188965,
          7.734966278076172,
          9.00483512878418,
          9.390303611755371,
          11.171977996826172,
          8.966840744018555,
          7.2998270988464355,
          8.397448539733887,
          7.813282012939453,
          7.902911186218262,
          11.026114463806152,
          10.252257347106934,
          9.166117668151855,
          8.061955451965332,
          9.14513874053955,
          8.939652442932129,
          11.442038536071777,
          12.784982681274414,
          8.16761589050293,
          11.716046333312988,
          10.178321838378906,
          11.613977432250977,
          11.448526382446289,
          7.970836639404297,
          9.466028213500977,
          8.666282653808594,
          8.954605102539062,
          7.160745143890381,
          7.331328392028809,
          10.024686813354492,
          9.934346199035645,
          7.369194030761719,
          8.61361312866211,
          10.917923927307129,
          8.620786666870117,
          7.925226211547852,
          9.372735977172852,
          10.026310920715332,
          9.849343299865723,
          10.19139289855957,
          9.04278564453125,
          11.176092147827148,
          9.623281478881836,
          9.36512279510498,
          10.482600212097168,
          7.728535175323486,
          7.874948024749756,
          9.784143447875977,
          7.603407382965088,
          9.778267860412598,
          11.962114334106445,
          7.25008487701416,
          10.274620056152344,
          11.787859916687012,
          8.675466537475586,
          9.033926963806152,
          11.265201568603516,
          11.63659381866455,
          9.010211944580078,
          10.56513500213623,
          8.79483413696289,
          10.74803638458252,
          7.678297519683838,
          11.982593536376953,
          6.880157470703125,
          11.757301330566406,
          8.175556182861328,
          9.60442066192627,
          9.568780899047852,
          8.410804748535156,
          10.32177734375,
          11.853333473205566,
          8.792840957641602,
          10.179019927978516,
          8.229382514953613,
          7.887722492218018,
          8.790326118469238,
          8.278460502624512,
          8.841426849365234,
          8.729737281799316,
          7.640574932098389,
          8.222490310668945,
          9.542872428894043,
          10.800922393798828,
          10.410356521606445,
          10.586782455444336,
          7.740385055541992,
          7.876968860626221,
          10.412727355957031,
          9.653075218200684,
          8.963604927062988,
          8.807921409606934,
          8.045435905456543,
          10.801942825317383,
          10.056245803833008,
          8.662602424621582,
          7.548460960388184,
          11.713763236999512,
          9.677643775939941,
          9.166826248168945,
          8.301198959350586,
          11.757372856140137,
          9.68858528137207,
          9.82333755493164,
          11.65558910369873,
          8.959816932678223,
          9.099720001220703,
          7.178415298461914,
          9.640769004821777,
          8.16734504699707,
          8.054516792297363,
          9.431011199951172,
          11.41079330444336,
          7.661201477050781,
          7.193755626678467,
          9.88209342956543,
          8.6387939453125,
          9.688126564025879,
          8.46158218383789,
          11.102548599243164,
          7.331887245178223,
          9.439251899719238,
          9.10352897644043,
          10.851988792419434,
          8.992294311523438,
          8.980203628540039,
          7.310412406921387,
          10.167815208435059,
          8.460718154907227,
          10.079728126525879,
          10.418461799621582,
          7.451910495758057,
          12.193103790283203,
          9.454631805419922,
          9.117956161499023,
          8.151159286499023,
          10.530288696289062,
          10.096195220947266,
          8.582512855529785,
          9.231758117675781,
          9.938368797302246,
          10.759185791015625,
          9.476963996887207,
          6.679050922393799,
          9.372077941894531,
          10.734624862670898,
          8.420509338378906,
          9.61684799194336,
          8.280653953552246,
          8.455854415893555,
          9.399374961853027
         ]
        },
        {
         "hoverinfo": "text",
         "hovertext": [
          "I have been depressed over the last few weeks, because of being in lockdown and being constantly worried about catching coronavirus - i havent been out like normal to the shops or walking or exercising. And because im not active much im not tired during the evening so i can't sleep. As well as no sleep my weight is creeping up which affects how low i am feeling.",
          "For around 8 days I was happy, upbeat about life, getting on with my routine.  However, the following 6 days I have felt anxious and troubled about issues in my life regarding my relationship with my partner, which has made me feel sad, concerned and really worried about the future.  I am also feeling disheartened regarding the situation of the COVID 19 pandemic, as there seems to be spikes again and it feels like this is never going to go away, which is very worrying for peoples mental health and the state of the economy which has a huge impact on peoples jobs.",
          "I have not been depressed during the last two weeks. Despite worrying about my health it has not led me to be depressed. However this could change when I get the results of medical tests I have had during the last two weeks. I am managing to keep a positive attitude towards both my health and the concerning times we are going through due to Covid-19.",
          "I have been more depressed than usual but given that we are currently in a pandemic I am not surprised.",
          "I’m not sure if I’ve been depressed exactly, I have definitely been feeling down. The worry of how the world currently is with the virus and the fact there’s been more cases in Scotland recently. It’s not close to where I live but it doesn’t take long to start showing cases closer to home.  Some days I feel what’s the point of much really. Going to work is a struggle as so is doing normal daily things",
          "My financial status hasn't really been encouraging since COVID-19 outbreak, i just wish and hope it all gets better",
          "Depressed that this is not our normality. There is no routine, everything is different. There are no smiles as they are hidden by facemasks. People avoiding you down to the risk of corona.. but is this about me instead?",
          "I have been mildly depressed, having weird dreams and bouts of insomnia , low appetite and an all time anxiety about my life and future. And the fate of my immediate environment and family in the wake of the epidemic.",
          "I have been somewhat low over the past two weeks, mainly in relation to the possibility of a Covid resurgence in our country / area. It has meant I have had difficulty sleeping and been quite irritable",
          "I don’t think I’ve been too depressed — since the pandemic started to ease in my area, I’ve been able to go outside more which makes my mental state a bit more stable. I still feel worthless quite often, and have momentary suicidal thoughts, but it’s getting better than it was back in April or so.",
          "covid hasnt helped but not being able to see people as i would like, not being able to do anything all the things i would like to do would just make me sad that they have to be done in a mask e.g. museums etc.\nim tired, overwhelmed so struggle to get daily tasks done at all never mind any kind of standard.\ni just feel like eberuthing is a placebo",
          "I have a young family and who have been limited to what we can do due to Covid. We have had to cancel our holiday to France and we are unable to take planned day trips and go to events. This has caused a level of depression as we are able to give our kids the enjoyment we had hoped or planned.\n\nThe items recently on the news regarding Covid or Beirut have been depressing to see and thinking on these can be mentally exhausting.",
          "I have been depressed for a while now. I worry so much about everything. My husband lost his job due to Covid-19 so bills have been hard to meet. Since he has been home, we have been fighting a lot more because he tends to be lazy and not help around the house or with the kids like I need. I also live with my mother, whom hates my husband, so we have been fighting a lot more. She called me a bad mother which makes me feel terrible. I feel like I have failed at everything.",
          "I have felt depressed because I am immunocompromised I am unable to leave my house. I am having to continue 'shielding' although my friends and peers are able to follow the new eased guidlines. I want to be able to socialise and leave my house without bring fearful.",
          "I have clinical depression but in the last two weeks have had more up days than down days. Being off work still with covid 19 has led me to worry more about financial issues but it’s not been as pressing the last two weeks. I’ve had more time with my young son and being able to go out more and see family and friends has improved my mood a lot. I’ve been generally happy but the bad days have led me to be very lazy and not want to do anything. \nNot having time to ride my horse has also affected my mood but making sure I have time in the last week meant I could ride and this has helped me feel happier",
          "Strongly depressed how this year has been crazy by taking loved ones away due to the pandemic, I hope it will end soon so that we can move on and start better life.",
          "I was depressed for fees hours during the past 2 weeks due to the well and economic being of my Country, it's affect me in a way that i feel some people are been affected badly economically due to the ongoing pandemic which they have to power over.\n\nIt is touchy to know someone are out there suffering for what they didn't bring upon themselves.",
          "Series of events beyond my control have put me in this position, I'm usually a stable person. My dad was diagnosed last week of having covid-19. He's been isolated and it's a tough period for us",
          "I have a long history of Depression and Social Anxiety which is very hard to control. During the Covi-19 pandemic my symptoms have lessened, however over the past couple of weeks as things begin to get back to some sort of normality, my Anxiety levels and Depression have increased. One example was last week when i needed something from a supermarket but to avoid myself going, i ordered the item online and waited for the delivery",
          "Have not been really depressed but I get easily stressed about the issues and racial war going on in my state",
          "For the result of COVID-19 I can not do my job regular way. For this many of my work pending. I can not go to the office to do my work. I only do is communicating with people in online.",
          "I have been very depressed. Quarantining makes me lonely. I am so worried about my family’s health and covid. I cry easily and feel worthless often.  I feel as though I can’t control anything. It seems things will never be the way they used to be.",
          "I feel I have been somewhat more depressed recently than usual. I think this is due to the prolonged situation with the current pandemic. Whilst I have my family I do in recent weeks feel somewhat isolated from the rest of society and think that is impacting upon me.",
          "Yes I have. Sustained lockdown, furlough has taken a beating on my mood and caused persistent felling worthless and physically weak.",
          "My job has made me depressed over the last 2 weeks because it is such a toxic environment and the people are horrible and with the added stress of the pandemic has made me feel more uneasy than i usually would.",
          "I have not been depressed. This is largely due to my dissertation, which I am under pressure to finish within a month. Having schoolwork to focus on has prevented my mind from wandering and worrying. Also, none of my family or friends have been affected by the pandemic. I have been motivated to work, and I am optimistic about my future because I believe I will have ample job opportunities related to the pandemic.",
          "Over the last two weeks I have been feeling pretty depressed. I was made redundant because of Covid 19 and I'm now struggling to find a job; I usually use exercise as a form of release for my mental health so prior to the start of lockdown I was going to the gym 6 days a week and my mental health was great and now I don't have the motivation or energy to go running or work out in the house. I don't particularly like leaving the house right now, I'm spending most of my time in the house not doing anything meaningful.",
          "Over the last two weeks I have not felt depressed. I have had prolonged periods of low mood but these have not slipped into depression. I am currently off work and have struggled to adjust to this situation however I have found things to improve my mood and relax me like drawing, reading, exercise and eating well. I have had quite distinct mood swings from day to day, one day feeling quite low and the next feeling quite positive and productive. I have found the 'stripped back' life during the coronavirus pandemic and quite relaxing and restorative taking away endless commitments and choice however this does not remove worry and concern and work, my career and my future.",
          "Yes I have been depressed in the last two weeks. The combination of lockdown  pandemic and being made redundant is really taking its toll on my already delicate mental health.",
          "No, I have not been depressed. While many people have found the Covid lockdown troublesome, I'm accustomed to not going out unless necessary. Not being able to eat gets me down a little, but since I'm aware that my cancer was probably caused by my smoking my current circumstances are something I just have to accept.",
          "I dont feel that i have been depressed in the last two week, i have been motivated and posative despite the covid situtaion which i have accepted as just the way that things are going to be for a while, and the longer my husband has to work from home the better it is for me and my mental health.",
          "I have felt low within my mood and thoughts over the last few months and this has continued. I think a large amount of this is due to COVID and it restricting a large amount of things. I have wanted to be secluded and not wanted to do things which I would usually enjoy such as seeing friends.",
          "I have felt depressed on some days when everything that has recently happened becomes overwhelming.What with the worries about covid, how my family will cope in the future and how my skin cancer will progress, I on some days find it hard to get going and do anything productive.I have tried to feel better by doing more normal things around the house but sometimes all the negative things just become too much.",
          "I have not been depressed this fortnight. I have been outgoing and social within covid guidelines and been to see a friend. I have had video chats with friends.",
          "Financial worries due to family, bills covid and other aspects including school uniforms to purchase. Gambling to try make up for it hasnt worked either.",
          "The past few month have have been stressful and and depressing due to the covid-19.Days have become longer,i usually stay idle most times after a 3 hours remote work.",
          "I have had depression the past couple of weeks. My mother's health is deteriorating, and the COrona virus worries and measures have put a lot of pressure on me. I am working from home, but I am a teacher, so it is very limiting what I can do over the internet with my students. I feel that I am not able to do my job properly. I feel that I am letting people down who are counting on me. Sometimes, I feel like a failure.",
          "I don't really see any reason to be depressed because at the moment things are fine. Although, I admit that the pandemic might cause depression to a few people but not me. Things are good, things are fine and whenever I suffer a setback or the loss of a dear one, I try as much as possible not to focus on that and rather deviate attention to my family and what I love to do.",
          "I haven't been to down over the past couple weeks, life seems to be getting back to a bit more of normality after the covid 19 pendemic.",
          "Over the last two weeks I have not felt depressed. I was getting to that stage a few weeks ago and I think it was because I had no routine and structure to my day due to the restrictions in place due to COVID 19. I have implemented much more structure into my day and this has led me to feel much more in control within myself and has helped my mood greatly.",
          "I think I have been much less depressed than previously as I feel a lot more content with my future and job despite worries about how corona will affect this. I know I have job security and feel accomplished in passing my course so that has improved my mood. I think generally my mood has been low being stuck in quarantine and working from home the past 5 months but now some things are returning to normal and can see friends, my mood has improved.",
          "I have been feeling a bit depressed recently, which is also due to COVID.  I have been isolated from friends and coworkers for several months now and not seeing them has made me feel blue.",
          "I have not felt depressed in the last 2 weeks. I have felt anxious and nervous about the future, possible a little bit sad at my future prospects however, I do not feel depressed about it. Life hasn't been as smooth sailing as I would have liked it to be. The start of 2020 was good for me but obviously with Covid-19 that has all changed.",
          "I don’t think I have been depressed over the last two weeks however, I have felt anxious, worried and sometimes low and unhappy due to the current climate. I have also felt sometimes happy and content, especially when seeing family and being able to have time away from work. There is a constant worry about the coronavirus and fear for my family that they may end up unwell. It has also been hard to stay at home and work from home as well.",
          "yes over the last few weeks i have been depressed with the covid situation and the litlest thing can set me off feeling useless",
          "No, I have tried to focus my mind as much as possible during the pandemic. I knew it would be a tough period so mentally prepared myself to go through it. I have been structuring my days as much as possible so they have meaning to me and are business as usual. I’m in a good place.",
          "It's so difficult to just keep going. It's difficult to be around people. My face hurts from pretending to smile during social interactions. I haven't slept in weeks, well not properly. Time is going by far too fast and I have so little to show for it. I'm terrified of returning to work because I am scared I will be infected by someone. I'm scared that I am not well enough to return and yet, I know I will lose my job and spiral into severe poverty if I don't. I am being forced to put money before my own life and that is the new normal. The new normal is cold and heartless. No one wants to hear how I feel about it or how I think about it though. I just bring other people down when I try to tell them.",
          "I would say that I have been slightly depressed at times over the past two weeks. I think this is partly because I haven't been seeing anyone outside of my household because of the coronavirus pandemic. I take antidepressants which usually help to keep me on an 'even keel', so to speak.",
          "I have felt a sense of numbness and hopelessness recently. Particularly around the uncertainties of covid and my responsibilities. I have found it hard to concentrate as it doesnt seem to effect anything. I have also had returning health issues and lots of pain which has effected my mood. I also have felt unable to communicate what I feel properly and this has furthered my frustations in general.",
          "In the present climate that is COVID19 I constantly feel very depressed and can't shake the fear of losing someone close to me, I'm not in the best of health and have been in self isolation since March, which has impacted on my mental health and overall wellbeing.",
          "I have not felt depressed in the last 2 weeks, I have a very secure and happy family family. Although the current covid situation makes me worry at time i have a good support network around me. Should my emotions waiver I always try to do something to improve my mental health. Something I enjoy like a long walk, catch up with a friend etc. I am very open about how I am feeling with my partner and this really helps.",
          "Since the outbreak of COVID-19 I’ve hardly seen my family as my dad is shielding as his over a certain age I would normally see my dad daily but since the start of lockdown I’ve seen him 5 times not seeing my dad has got my very low",
          "I have felt some amount of depression recently, due to the stagnancy that the pandemic has caused to my career growth. This has made me uncertain, a bit depressed and anxious",
          "While I'm currently dealing with my pulsatile tinnitus, it has not left me feeling depressed because I've been through this before so I'm grateful I know the signs and that I'm appreciative that it's not life threatening",
          "I haven’t felt depressed over the past 2 weeks - I’m very happy with everything in my life except for coronavirus! Luckily I live at home with my fiancé and pets, and everything is great here.",
          "Over the last two weeks I have not been depressed. Life is going well despite the Coronavirus pandemic and I am able to stay in relatively close contact with everyone important to me.",
          "As a social worker, working in an Acute hospital setting, I have been worried about the impact on Covid-19 on patients, but also on my practice as a social worker. I have felt frustrated and stressed at times.\n\nI have previously suffered with depression and do not feel that I am at that level. I am taking steps to better look after my mental health.",
          "I have been depressed at times over the last two weeks. This has been feelings of low motivation and lack of interest in things. I think this is related to how mundane things have become due to Covid and how hard it is to plan anything for the future.",
          "No, I have not been depressed at any point during the last two weeks. I find great meaning in much of my life and am really enjoying some of the 'benefits' that Coronavirus is pushing on me. For instance, I am able to be home more so I can interact with my family more. I'm able to jump into work and am getting a lot of meaning out of it.",
          "I have been mildly depressed over the last two weeks. Coronavirus has meant my routine has been disrupted and I've been unable to do any special things over the summer holidays.",
          "I have felt depressed. My visual health is detoriationg which is making me dislike going outside. This teamed with the lockdown during pandemic has made it hard for me to go outside from a mental point of view. I have started going out more again in the last few days, but Iam not myself.",
          "I have not been depressed as such but more I have been feeling anxious and isolated with a degree of helplessness because of this virus.",
          "This is hard to answer. If I am completely honest I think I have been. I sleep for incredibly long hours, sometimes spending an entire day in bed, as I just don't feel motivated to get up. I have had dishes in my sink since mid-July, which I only washed two days ago. I don't want to go out, or even talk to anyone. I just feel blah. This year has been tough for me - work has been brutal, I live alone so lockdown was really isolating, and I lost a family member to Covid-19. I have also been trying to buy the remaining shares of my shared ownership property, and there seems to be problems and delays at every step of the process. Nothing seems to be going right in my life, and it feels so unfair, and I'm tired of fighting and continually getting nowhere. So although not diagnosed, I guess I have been depressed.",
          "I have been struggling with anxiety and depression for a number of years so it feels like it’s constantly with me. The last two weeks have been particularly tough as it isn’t possible to get out and about as much as I’d like due to Covid-19 and so it feels like life has little meaning. This is a bad state of mind for me to sink into.",
          "I have felt very moody and constantly feel under pressure incase my job is furloughed or if i am made unemployed because of the effects of covid. As my job is agency and I am on a temporary contract I feel anxious constantly about the future and feel lost trying to think about what will happen if I lose my job.",
          "I was, this week, signed off work for 4 weeks with depression. The increasing stresses of my job with NHS, the worry about the raising rate of infections, have all contributed to this.",
          "The recent pandemic got me thinking about so many things, I sometimes wondered how the homeless and old people are coping during yhis trying time and this get me depress every time.",
          "I was slightly depressed in the past two week as a result of my current financial situation which has been worsened by the current covid 19 pandemic, however am currently hoping things get better",
          "The wider world issues about Covid 19 depress me a lot.  I can't see how the world is ever going to get back to anything like normal and the lack of freedom, that we always had, might never come back.  This is so very depressing.",
          "I have been depressed because I am worried about losing my job and doubtful whether I will find another one at my age.  This leads me to depression about the state of the country at the moment and the coronavirus pandemic and the incoming fiasco about Brexit.",
          "I've been pretty depressed for the past twenty two months or so. My mother's health took a sharp decline, and I've been taking care of her full time ever since. She's gotten very, frighteningly sick several times since then, and it's been a huge struggle to keep her healthy, and a huge burden financially on both of us with her going in and out of hospitals and having surgery, not to mention the constant pressure of all the appointments for doctors and her home health help visits such as physical therapy and nursing to juggle. Life has changed dramatically, in a very frightening way.",
          "I have been depressed I have been trying to work study and look after my home affairs when I am with my daughter I have no depression when I'm at work or away from her I struggle but cannot afford to take time of. I work 40 hours a week.. I convince myself this is a difficult period and I will get through it as I always have",
          "I think I am depressed as my life wasn’t going as planned before the virus and seems to have got worse since. I don’t feel like I want to do anything but sit and watch tv and eat. I have put weight on and am not motivated to lose it as there goes my seem to be a point. The weight doesn’t help my back but even that doesn’t help me. I don’t see my future only my present.",
          "No, I have not been depressed. I definitely have been in my room more often and shut out from the rest of the world but I try to find ways to keep in contact with friends and family. I have been going on walks in my neighborhood every morning to get some sort of physical activity. There are few benefits with living a sedentary lifestyle so I need to keep active as much as I can otherwise it will be hard going back to my normal lifestyle once COVID no longer remains as much of an issue.",
          "I am worried about spreading the COvid-19 in our country. If it stay for long time it will impact in our economy. There for we have to follow the instruction about the COVID-10 strictly.",
          "I do suffer from depression already (and take medicine for that condition), but the knee injury sent me a bit further down that path because it has meant that I have been unable to exercise regularly. Not being able to exercise regularly has been detrimental. There are also potentially major restructuring things that are set to happen at work. The administration doesn't seem to take the views or the morale of the staff very seriously and a lot of people are pretty unhappy. I find myself falling into an almost \"learned helplessness\" state when I think about it. Yes, I think that the decisions being made are horribly short-sighted and stupid, but I also recognize that they are going to happen anyway.",
          "I have been quite depressed due to the uncertainty around Covid-19 at the moment. Moreover, I have felt very down because of a lack of human interaction with anyone outside my family and household.",
          "not sure if it's considered depression, but a few things happening together under the umbrella of the covid situation have definitely made me feel a bit down and despondent, in terms of being made redundant from work and not able to do the usual things, i think i have weathered it fairly well but at the end  of the day it makes you feel a bit down and blue to some extent, although i am sure there are many people with a lot more issues because of the covid lockdown, and feel as if thanks to my family i have decent support so thats why i don't want to class it as full on depression, more just slightly challenging times!",
          "Overthe past two weeks, I have felt on the edge of depression caused by financial worries due to covid and frustration that I cannot change the situation and don't know how long it will last for. I feel demotivated a lot of the time and struggle to exercise, my focus is poor and I cry easily. I am also quick to feel angry and offended. I am not severely depressed though and still sleeping okay, if I had some very good news or something like that then I'd feel much happier again.",
          "For the result of COVID-19 I can not do my job regular way. For this many of my work pending. I can not go to the office to do my work. I only do is communicating with people in online. If I could not do my job I might be fired.",
          "For thr 2 weeks I sometimes have thr thought that my kids or family maybe caught in the USA war of racism bias and rio going on now",
          "I have not been depressed. I would like to get out and do things but am not well enough or am hampered by Covid.  I am sometimes a bit down or lonely but generally my mood is good.  Small things lift my spirits- talking to my boyfriend, a sunny day, making a nice meal",
          "I have been having some financial issues due to the covid-19 outbreak which have affected my ability to settle some bills.",
          "I have been depressed due to the coronavirus and lack of coherent informaiton about it. I have been in self isolation for about six months now and I am still no less frightened. My low immune system puts me at risk. The state of the country is depressing and worrying and it is only going to get worse.",
          "I have felt slightly depressed over the last two weeks. I am currently working in my office and the rest of my office are working from home or on furlough. This annoys me because of the loneliness of it, as well as the financial aspect of it. This has been the case for approx 18 weeks now so my mental health is wearing thin on the whole situation. I was also poorly this week (sickness) and had to have two days off work. This has had a negative aspect on me as i will not be paid nothing for these days and i feel like i am being taken for granted now.\n\nI also live at home while trying to save for a house deposit. This makes me depressed and makes me feel like my goal is unrealistic and I will end up having to give up on my dream or stay with my parents forever!",
          "Due to this pandemic, I’ve tried to keep a more positive outlook towards life. Anxiety and depression is a terrible combination to have, especially during this pandemic. As a result, I’ve been trying to be more positive about things.",
          "During this pandemic, I’ve tried to have a more positive outlook towards life. Being depressed and anxious is not a good combination. To avoid that combination, I’ve tried to ignore my unpleasant feelings. So far, I’ve been successful in feeling happier.",
          "I am not depressed, though my anxiety is stopping me wanting to do normal things.\nOf course covid posts a huge part in this \nBut my anxiety over nursery is wanting me to stay in my own wee bubble within my house.",
          "I have been slightly depressed and concerned with regards to the situation at hand which is the virus that is here in the world, it has caused such pain and misery for me and many families...it’s as if there is no end in sight",
          "I've had moments of depression.  I tried to sweep the floor and was just exhausted and in pain afterwards, which made me cry.  It gets me down that I'm so physically limited that I can't even do my own housework, and people think I'm lazy because they can't see anything wrong with me.  It gets me down that year by year it's getting worse.  i can't see a way in which it will get better.  There's no cure.  I feel as old as my grandma, and she's 98!  I feel like I shouldn't feel like this in my 40s.\nLife is a struggle.  How am I supposed to get my son to school for the next 10 years?  There's no help with things like that.\nMy partner is so fit, he loves to run, cycle, go on long walks....I feel a disappointment and limit on him because I struggle to just get up the stairs, so we can't do the things together that he would like.  I'm holding him back.",
          "I don’t think that I have been depressed over the last couple of weeks. I have a demanding toddler and have been frustrated by the restrictions Covid has put on my life, so I have felt tired and annoyed, but I do not think I have been depressed. I am a very practical person, and try to keep myself busy and occupied. I rarely stop and think about things too much. \n\nI laugh most days, and take great pleasure in my family.",
          "I have been depressed lately because of the current covid-19 pandemic and I have to work from home and I also have to take care of my kids and I have not been able to do as much work as I use to before.",
          "I have suffered in the battle against depression for many years now. COVID 19 has certainly placed a strain on this. Being labelled a key worker has meant I have had to continue going into work while others are at home. I work in a school with special needs children and with no disrespect meant, children will often have unsavory habits such as coughing/sneezing without covering their faces. Nose picking, farting, belching etc with no thought for others. The government under Boris Johnson (and like his pal Donald Trump in America ) have deemed kids at low risk of infection from COVID. However, I am certain children will get exposed to the virus and carry it on their clothes, shoes, and skin even if they do not suffer from it themselves. As they mingle in schools and then go home to all parts of my home town I often wonder who they are mixing with. Hence, I feel in a vulnerable situation. My age makes me at risk too although without any underlying health condition I must continue working.\n\nSo yes, I have ought depression and low mood but I have also taken some proactive steps to try to battle this. I think I have always been a highly sensitive person and with that comes the angst that most don't have to deal with. That's not to say other people have it easy or do not have problems. I just feel less able to deal with the same issues.",
          "Yes, I have been depressed in the last 2 weeks which has affected various aspects of my life. I have struggled with depression throughout my teenage and young adult life, but the COVID-19 pandemic has significantly worsened my symptoms. I find it hard to get out of bed in the morning or motivate myself to do anything, as life feels very unstructured and overwhelmingly grim. The state of the world seems filled with despair, from the number of deaths due to COVID-19 to police brutality in a racist country to natural disasters. With a disruption to my typical school and work schedule, I no longer have things in my social or professional life to focus on; this leads me to spend more time caught up in my feelings and ruminating on my thoughts. I have trouble focusing and even hard tasks like cooking and laundry seem overwhelmingly difficult. I can't seem to find the energy to do things that I would normally find fun. Without seeing my friends everyday at college, I feel lonely and like I have no one to talk to.",
          "Yes I have been depressed a lot due to most of my plans and goals for 2020 has been disrupted by the covid-19 situation. I lost lots of money and been quite disconnected from my friends and social life.  \n    Due to the restricted access of movement, I have gained a lot of weight which has made me look misfit and not proud of my body. \n",
          "Yes. Thhe covid situation, money situation an family life have all played a part in lowering my mood dooesnt seem to be any end to any of the problems",
          "I have been depressed as I suffer from depression and with all the stress at the moment with corona virus it has been a lot harder for me. I find the depression the worst at morning and night as you can’t fall asleep and you don’t want to get up in the morning",
          "I've been depressed unkowningly in the past week, and it's most due to me worrying about whether my family or loved ones will contact the virus, though i sincerely hope it doesn't happen",
          "I'm a little frustrated with the Corona virus because it's affecting my economy and it's scaring us.",
          "There have been days which i have felt lower than normal, it has been difficult to manage well being in light of the current virus crisis and the impact it has had on everyday life. Due to being isolated and in an area which has been in lockdown for an extended period of time this has lead to have less contact with others and engage in social activities. This has lead to feeling unproductive and not content with current life. I have tried to take steps to manage this by engage in daily exercise, long walks, stayed away from drinking alcohol, eatting well, using phone or whatsapp application to keep in contact with others. Feeling low has presented by struggling with sleep, low motivation to do activities and has been a struggle however hopefully with the lockdown easing would be able to engage with family and friend support",
          "For the result of COVID-19 I can not do my job regular way. For this many of my work pending. I can not go to the office to do my work. I only do is communicating with people in online. Also I am worried that I might loos my job.",
          "Last two weeks I returned back to work and met some of my colleagues. Some of us have been working remotely as a result of COVID-19. This year had been quite difficult and meeting up with my colleagues was quite a delightful sight to behold. I felt very happy meeting up with them. My work and colleagues are a very important aspect of my life.",
          "I have been depressed due to the breakup of a relationship that I had high hopes for as well as the current state of the world. The pandemic makes me feel low because I can’t do the things that I normally do. I feel trapped and hopeless which leads me to feeling depressed.",
          "The current pandemic ravaging the world, has brought a lot of uncertainty with it.\nThe Covid-19 pandemic has affected me negatively, i was a full time worker, but since the start of the pandemic, i now work part-time, receiving half pay, uncertain whether i will retain my job, due to low sales in the company i work for, this have had a negative effect on me, sometimes i am depressed, because i think about my precarious situation a lot. \nI am not able to make ends meet unlike before. Its really depressing and terrifying too.",
          "Due to the covid 19 issues, I have been rather anxious and extremely depressed due to financial challenges and family issues as well. I seem to be snapping a lot easier and noticing people are avoiding me which leads to more loneliness and further escalates my issues.",
          "I have been back at work for 2 months, having been off due to covid-19 lockdown. Work has been busier than usual, but I have managed well and been able to allocate my time efficiently to get stuff done. When I am not at work i have been with my partner and children, enjoying the good weather and winding down.",
          "yeah, been worried a lot majorly cos of the illness and how we are going foot the bills,cos it's not cheap at all.",
          "Before COVID happened, I was severely depressed. I rarely left my room. I sometimes would go days without eating, then binge eat. Depression made me lose all of my friends so I have been very lonely. I use the internet way more than I used to. I feel hopeless all the time. COVID makes all of my feelings much worse. I sleep all day, and yet I have a hard time falling asleep at night. I feel like all of my family members are ashamed of me.",
          "I have been down over the last 2 weeks, thinking about how we have all ended up due to Covid19, how it has affected my life and my family's life. How on my own I feel, even though I live with my family. I have been furloughed, so don't even have work to fall back on. Nothing going on in my life, so am I just bored or down. I know Im not depressed as I can usually bring myself out of it.",
          "I have not been depressed the past month. Of course, my mental health has fluctuated and been affected by the pandemic. It has been a time for plenty of reflection and time to think over what has happened and this has possibly impacted my mental health.",
          "I often have this mood swings over the past 6 months since the beginning of covid-19 pandemic. I try to feel relaxed and take enough rest but I find it difficult to fall asleep. I'm always worried and feels like the worst could happen anytime. Over the last 2 weeks, I still find troubles falling asleep and keeping my mind at rest.",
          "I have been pressed because of the issue of Covid19. People are are really facing challenges in this era of covid19",
          "I've been clinically depressed for about 4 years now. I wasn't expecting covid to affect me, but it really has. My mood has been so low. I've had more than one mini breakdown over the phone with my Mum and sister. I'm extremely lucky to have such a supportive family. I've cried a lot, and either sleep too much or not at all. My spending became out of control to the point I was aalmost in debt. This hasn't helped my mood.I've also felt anxious and shaky, and also antsy even though I have little energy currently.",
          "I have been feeling a little down, given the overall circumstances of the pandemic, but I have mostly been trying to accept fate. Spending more time with loved ones, and giving time to myself to make myself feel better.",
          "I have not been depressed over the last two weeks despite a worrying turn of events with regard to the covid-19 pandemic. I continue to take all necessary precautions to mitigate risks and am generally optimistic that I personally will not contract the disease, and I continue to remind friends and family of the dangers and risks as we exit lockdown.",
          "I WOULDNT SAY DEPRESSED BUT IMM LONELY DUE TO COVID AND NOT BEING ABLE TO SEE MY FRIENDS THE ONLY RELIEF IS THAT I CAN NOW GO THE GYM AND SEE THEM",
          "Since I have started working out and walking the dog, my mood has improved. At the start of  'Lock down' it was very difficult, but from the positive encouragement from my husband, I do not often feel the pull of my postnatal depression. Seeing my son slowly grow and having a better/closer relationship with my husband, I guess i can see a positive side to this horrible time (Covid-19) we are going through.",
          "While I have not been depressed I have been lethargic and feeling on occasions unwell, likely due to an ongoing problem with tinnitus, skin reactions (itchiness, dermatitius) and irritable bowel syndrome. \nMy concern about niggling health problems has been outweighed by positive aspects to do with my home and garden and work. Negative aspects - including two unnecessary bouts of damage to my car - were enough to make me feel temporarily depressed but this was very short term.",
          "The hardest part of depression at the moment is dealing with the usual worries but also the added pressures that Covid 19 has brought. Not sleeping, feeling constantly exhausted and suffering with \"mum guilt\" - do i do enough with my children whilst trying not to spend too much money.",
          "I have been depressed because i am not happy with the covid-19 situation and the restricted movement, I have also not been able to achieve the goals of this year. I have also looked out of shape because there is no room to access gym equipments.",
          "I have not been depressed these past two weeks. I am fairly certain there is plenty to look forward to in life and overall I am optimistic of the future despite the current situation with COVID-19. Yes, there will be changes going forward but there are still opportunities available and new ones will be created in the future.",
          "Over the past 2 weeks my depression has become much worse - more so than at any other time in my life. Because of the lack of opportunities in my local area, which has been made worse due to COVID-19, I have come to the realization that many of my plans and objectives that I had made for the next 12 months are simply unattainable and impossible. For the past 8 years I have had to deal with a profoundly bad form of depression, and this year was meant to mark a change in my life. However, with the national and international COVID-19 situation not getting any better, I don't think my future - when considering COVID-19, local economic opportunities, and my own living and financial situation - has anything that I can look forward to. Combined with the aforementioned issues is my autism, which has basically messed up my entire life, and will likely continue to do so - despite my best efforts, I just can't remove the awful pathologies that are the result of having autism spectrum disorder. I think at some point I will develop the courage to kill myself, but as of right now (and the past 8 years) I'm too scared of death to want to kill myself - despite having such a terrible life, which is quite amusing to me at times. I think my autism may also be one of the main reasons why I haven't been able to do much with my life for the past 8 years - such as getting a job.",
          "The last 2 weeks, in terms of depression, I have been not as bad as usual. I have an anxiety disorder which someone crosses over into panic attacks however due to the covid-19 outbreak the need to go out has been severely reduced which actually benefits me as being outside makes me nervous. That's not to say there hasn't been moments of depression which usually occur at night when I am in bed and thinking about having to face normal life again. At this point my anxiety and depression will spike somewhat causing me to have to turn on the tv to fall or asleep or perhaps walk around the house for a little while but this will only be if the rest of the family is asleep as I don't like to worry them.",
          "The last two weeks I have been depressed. I think that the situation with the corona virus has had a harder impact on my mental health than normally. I've not had any motivation to do anything in my normal routine, some mornings I have a hard time getting out of bed. I have a hard time mustering energy to care about my normal hobbies or things that I enjoy. My parents have been very supportive of me during this time and thankfully my employer also feels the same. I am finally starting to feel more like myself and I can get back to the things I enjoy doing.",
          "I've not really been depressed. Although it hasn't been easy since the start of the lockdown and the coronavirus. However, I'm hopeful.",
          "I have not been depressed, but have had waves of sadness due to the current COVID-19 situation and the pathetic handling of this by the government. On top of this, my Acne has returned and I keep breaking out which is causing me to become even more sad, and I can't go see a dermatologist because of my restrictions and shielding.",
          "No I have not been depressed lately, I’ve been quite happy as my family are all well and healthy as I know that’s not the case for a lot of families because of corona.",
          "Looking back there have definitely been weeks during the pandemic that I have felt depressed and have little energy.  The last 2 weeks have been better as I have had a weekend away and see that life carries on despite being confined by working at home.",
          "Depression is a big part of my life I think being disabled and self isolating due to covid does make matters worse when you are unable to see family",
          "In the last 2 weeks i have been depressed i have suffered from depression for a long time so i am on anti depressants.\nI am been feeling hopeless, lonely, unhappy, lost and i have been feeling even more so with covid 19"
         ],
         "marker": {
          "opacity": 0.5,
          "size": 5
         },
         "mode": "markers+text",
         "name": "0_covid_19_covid 19",
         "text": [
          "",
          "",
          "",
          "",
          "",
          "",
          "",
          "",
          "",
          "",
          "",
          "",
          "",
          "",
          "",
          "",
          "",
          "",
          "",
          "",
          "",
          "",
          "",
          "",
          "",
          "",
          "",
          "",
          "",
          "",
          "",
          "",
          "",
          "",
          "",
          "",
          "",
          "",
          "",
          "",
          "",
          "",
          "",
          "",
          "",
          "",
          "",
          "",
          "",
          "",
          "",
          "",
          "",
          "",
          "",
          "",
          "",
          "",
          "",
          "",
          "",
          "",
          "",
          "",
          "",
          "",
          "",
          "",
          "",
          "",
          "",
          "",
          "",
          "",
          "",
          "",
          "",
          "",
          "",
          "",
          "",
          "",
          "",
          "",
          "",
          "",
          "",
          "",
          "",
          "",
          "",
          "",
          "",
          "",
          "",
          "",
          "",
          "",
          "",
          "",
          "",
          "",
          "",
          "",
          "",
          "",
          "",
          "",
          "",
          "",
          "",
          "",
          "",
          "",
          "",
          "",
          "",
          "",
          "",
          "",
          "",
          "",
          "",
          "",
          "",
          "",
          "",
          "",
          "",
          ""
         ],
         "textfont": {
          "size": 12
         },
         "type": "scattergl",
         "x": [
          9.790172576904297,
          10.400100708007812,
          9.942109107971191,
          10.6666898727417,
          9.484649658203125,
          9.84149169921875,
          10.242508888244629,
          9.505816459655762,
          9.422507286071777,
          10.873161315917969,
          9.505915641784668,
          9.400086402893066,
          9.819661140441895,
          9.246830940246582,
          9.76123332977295,
          10.819097518920898,
          10.569587707519531,
          9.440011978149414,
          10.517756462097168,
          11.533512115478516,
          9.128667831420898,
          9.304004669189453,
          10.731090545654297,
          10.816664695739746,
          10.664722442626953,
          10.829201698303223,
          9.634245872497559,
          9.958061218261719,
          11.07403564453125,
          10.477985382080078,
          9.789863586425781,
          9.525090217590332,
          9.66537094116211,
          10.236462593078613,
          9.801756858825684,
          9.175748825073242,
          9.468436241149902,
          10.97860336303711,
          9.720921516418457,
          10.026407241821289,
          10.430662155151367,
          9.356760025024414,
          10.074824333190918,
          10.531632423400879,
          10.11990737915039,
          11.01152229309082,
          9.526058197021484,
          10.68254566192627,
          9.558329582214355,
          9.293235778808594,
          9.99471378326416,
          9.468055725097656,
          10.695804595947266,
          10.15332317352295,
          10.832297325134277,
          10.450874328613281,
          9.404317855834961,
          9.583401679992676,
          10.698528289794922,
          9.986045837402344,
          11.058319091796875,
          9.372496604919434,
          9.544071197509766,
          9.320127487182617,
          10.641255378723145,
          10.537788391113281,
          10.88314437866211,
          10.269148826599121,
          9.625253677368164,
          10.943584442138672,
          9.867356300354004,
          9.57144546508789,
          9.77270221710205,
          10.611340522766113,
          9.692315101623535,
          11.180758476257324,
          9.390462875366211,
          9.763956069946289,
          10.17449951171875,
          9.13240909576416,
          11.620087623596191,
          9.806839942932129,
          9.812965393066406,
          9.328750610351562,
          9.600669860839844,
          11.064894676208496,
          11.154597282409668,
          10.237956047058105,
          9.346282958984375,
          9.61577320098877,
          9.763373374938965,
          9.542490005493164,
          9.315261840820312,
          9.562609672546387,
          10.255309104919434,
          10.051215171813965,
          10.795029640197754,
          9.319323539733887,
          9.74924087524414,
          9.610980033874512,
          9.127946853637695,
          9.177102088928223,
          10.993570327758789,
          10.377315521240234,
          9.25300121307373,
          9.182218551635742,
          9.791205406188965,
          9.578190803527832,
          9.516358375549316,
          10.669575691223145,
          9.388157844543457,
          9.618550300598145,
          9.645387649536133,
          11.16530704498291,
          10.011483192443848,
          10.068084716796875,
          10.096931457519531,
          10.14421272277832,
          9.632402420043945,
          9.976480484008789,
          10.042989730834961,
          9.498379707336426,
          10.837002754211426,
          9.595744132995605,
          11.005059242248535,
          10.405618667602539,
          10.73448371887207,
          10.577869415283203,
          9.468998908996582,
          9.801904678344727
         ],
         "y": [
          10.456171035766602,
          11.045652389526367,
          11.120939254760742,
          10.988424301147461,
          11.325641632080078,
          11.609703063964844,
          10.863557815551758,
          11.143595695495605,
          10.579475402832031,
          10.977877616882324,
          10.961549758911133,
          10.974973678588867,
          10.511107444763184,
          11.1692476272583,
          10.29063892364502,
          10.834879875183105,
          11.041426658630371,
          11.106170654296875,
          10.962339401245117,
          10.967677116394043,
          10.48384952545166,
          11.145886421203613,
          10.869668006896973,
          11.633896827697754,
          10.943938255310059,
          10.913078308105469,
          10.139487266540527,
          10.415271759033203,
          11.404269218444824,
          11.440422058105469,
          10.761539459228516,
          10.711987495422363,
          10.810437202453613,
          11.028185844421387,
          11.632624626159668,
          10.498687744140625,
          10.262362480163574,
          10.88393783569336,
          11.266714096069336,
          11.156608581542969,
          10.748351097106934,
          11.02116870880127,
          11.246635437011719,
          10.858661651611328,
          11.436400413513184,
          11.349923133850098,
          10.394756317138672,
          10.776819229125977,
          10.835474014282227,
          11.022924423217773,
          10.802940368652344,
          11.273334503173828,
          10.930373191833496,
          10.567683219909668,
          10.510785102844238,
          10.796880722045898,
          11.039826393127441,
          10.727555274963379,
          11.302489280700684,
          10.685384750366211,
          11.000219345092773,
          11.219198226928711,
          10.289335250854492,
          11.05856704711914,
          10.901713371276855,
          11.184332847595215,
          10.842927932739258,
          11.094698905944824,
          11.4263334274292,
          10.991288185119629,
          10.484312057495117,
          10.208830833435059,
          10.351612091064453,
          11.577439308166504,
          11.582215309143066,
          11.380091667175293,
          11.012251853942871,
          11.079854965209961,
          10.901030540466309,
          10.470914840698242,
          10.962848663330078,
          10.747281074523926,
          11.647069931030273,
          11.200373649597168,
          10.046489715576172,
          10.789385795593262,
          10.752775192260742,
          11.311461448669434,
          11.270130157470703,
          10.004446983337402,
          10.812281608581543,
          10.658413887023926,
          11.061718940734863,
          10.257068634033203,
          11.432621955871582,
          11.449036598205566,
          11.133515357971191,
          11.305044174194336,
          11.629423141479492,
          10.438026428222656,
          10.478752136230469,
          10.678313255310059,
          10.823478698730469,
          11.121339797973633,
          11.061466217041016,
          10.501829147338867,
          11.655220985412598,
          10.904041290283203,
          11.076547622680664,
          10.927964210510254,
          10.593765258789062,
          11.50560188293457,
          10.626937866210938,
          10.745743751525879,
          11.249161720275879,
          10.866509437561035,
          11.197957992553711,
          10.518111228942871,
          10.811202049255371,
          11.204319953918457,
          11.294573783874512,
          10.670692443847656,
          10.815374374389648,
          10.257233619689941,
          11.0609769821167,
          11.151305198669434,
          11.226218223571777,
          10.92913818359375,
          11.20248794555664,
          10.994684219360352
         ]
        },
        {
         "hoverinfo": "text",
         "hovertext": [
          "I have been depressed over the last two weeks. I have been sleeping 14 hours a day which causes me to wake up feeling numb. After I wake up, I have no appetite and don't eat much when I am hungry. Just enough to make me feel okay. I can't stop overthinking all the time and this causes me to lay in bed and cry until I can fall asleep. Once I fall asleep, I wake up numerous times throughout the night but I still sleep for an average of 14 hours.",
          "Waking early each morning not wanting to get out of bed. Feeling more tired than the night before, each day feeling like a long joyless struggle.",
          "In the last two weeks I have been less depressed than overall in the last few months but have had some days where I have felt quite hopeless and lacking of motivation. When I feel depressed, I often want to sleep away the day or feel very overwhelmed at the most simple of tasks: this past week I have felt very detached from work and starting tasks but I have been able to turn it into a positive to allow for self care and focus on important aspects of my life right now.",
          "I  take 70 mg a day of Nortriptyline for my depression, it also helps to manage the pain I have in the neck and shoulder region due to degeneration of discs. But in the last couple of weeks the Nortriptyline has not been managing my mood as well. I found out that I had lost my part time job, which means that I am £20 a week worse off. I know it's not a massive amount of money to most people, but that money means the difference between eating, household fuel and any small treats. My mood has plummeted and I now have concerns, which run circles in my brain about paying the bills I used to use this money for. These thoughts lead to low mood, lack of sleep as the concerns really come to the forefront of my mind later on. Also as a complete turn about to this , during the day I cannot motivate myself to do simple or routine tasks and just wish to sleep all the time. I have not had any suicidal thoughts, yet but if this carries on for a month or so then these thoughts will start to intrude too",
          "My depression has been strong and impacting my decision making and sleep. Work has been trickier especially with the added insomnia",
          "I have been diagnosed with depression. This includes low mood most days, I struggle to get out of bed some days and I also have to take medication to create the energy just to get out of bed and do things. My sleep is not great and I struggle most nights to get sleep, or find it disjointed. I also usually do not have the drive to do things that I even enjoy and do not take care of myself from eating, or hygiene wise because of my depression.",
          "I have had low sleep nights, and struggle to sleep. Feel worthless and don't feel like doing any activities, even ones that I've liked before.",
          "I have been depressed. I have been sleeping at odd times throughout the day. My sleep is what's most affected. I can't pay attention to routines like eating regular meals either.",
          "Waking up is an altogether dull experience where I spend at least 2 hours continuing to lie down in bed and wish that I could just go back to sleep as if it were the flick of a switch. The rest of the day doesn't matter much until the evening where I can distract myself more through drinking until sleep is a viable option again. So yeah. Moreso the first than the latter. Don't really know what else to write without getting way too personal through a random survey.",
          "Trouble staying asleep due to over thinking which leads to lethargy and tiredness during the day, hard to be intimate with my partner due to feeling down and tired. Manifests by putting on a front and joking all the time.",
          "The last few nights I have had a mental breakdown and I have been unable to sleep for a few hours.",
          "Over the past few weeks I have been very down with little no no energy to do anything! Even getting out of bed is hard",
          "I have been depressed. I have been unable to maintain a normal sleep schedule. My eating schedule has been messed up too. I haven't been tending to my hygiene as much as I should too.",
          "I have suffered from depression since childhood and was first diagnosed at the age of 25. Since then there have been major depressive events every few years, including the current one which began in Spring 2019. This chronic condition, made worse by poor physical health, contributed to my retirement through ill health after 30 years as a teacher. I have been prescribed Citalopram and Amitriptyline which helped with the worst feelings of hopelessness in the second half of 2019 when I was plagued with thoughts of suicide. Now I am feeling much better mentally, but still get thoughts of failure and letting my wife and daughters down. My sleep quality is better (less insomnia) but I am tired most of the time and easily fall asleep during the day if I lie down. I prefer to spend my time lying on my bed with my computer/TV news/video games as the thought of meeting people is a worry.",
          "I have been depressed over the last two weeks, just taking care of myself has been a struggle. I don't sleep very well which then makes it harder to muster the energy to complete tasks during the day.",
          "I have known depression, it leaves you too tired to get up in the mornings. too drained to be able to give emotionally to anyone. it leaves you hollow and spent.",
          "I was diagnosed with severe depression 4 years ago and I'm taking prescribed medication to help manage the condition. The strength of depression varies from day to day, and is often influenced by the weather or things I see or hear on the news. The medication takes the edge off the depression so that I don't have despairing thoughts, but I still find it very hard to get going on some days - getting up in the morning is sometimes a real battle between mind and body.",
          "I have been feeling very low in mood, suicidal, and self harming much more. It’s been harder to get out of bed because of feeling really tired. Also, it’s been hard to take part in personal hygiene because I’m very tired.",
          "I have been depressed, a lot of this is related to working from home i think where i literally work and sleep in the same small room. I am hiding from people, trying to not get into conversations, trying to ensure i can deal with everyone via email. I struggle to wake up and want to get out of bed in the morning.",
          "Over the last few weeks I have experienced prolonged depression. I have had no motivation to get up and complete even simple everyday tasks and I haven't had any energy. I've spent a lot of time crying in bed just thinking that everything is pointless.",
          "I have been depressed over the last couple of weeks. The summer heat does not help with this as I become more sensitive to noise outside (increase of visitors to the park / neighbours playing music loudly) thus increasing my irritability too. My sleep has not been good either, often waking during the night and unable to nap during the day to balance out the lack of sleep. My housemate also takes calls during the day at a loud volume which makes me annoyed but I do not communicate this and I'm considering leaving the home but I question whether it's the right step due to my low mood.",
          "I have lost a lot of motivation to get up out if bed. I find myself irritated easily and often at small things. I struggle to find joy in most of the things im able to do and i despair at spending too much money",
          "There have been up and down days. I find myself sleeping a lot more when going through a depressive episode and eating more, being slower, messier, nervous, overthinking everything.",
          "I have not been depressed in the past 2 weeks but when I have been in the past, it tends to stem from such a little thing like struggling to sleep one day or a tiny little thing going wrong. When this has happened I feel utterly helpless and just want to lie in bed for the rest of the day and block out the world.",
          "In the past two weeks, I have felt mildly depressed. I feel hopeless and I find it hard to get out of bed. I have no motivation to do any work.",
          "I have also been depressed. It's often difficult to get out of bed to function normally. It takes me significantly longer to do very simple tasks than I use to. Sometimes, when no one is watching, I struggle to walk. As if there's some heavy weight holding my legs back.",
          "You have to be proud of yourself for getting up and out of bed as that’s sometimes all you can achieve. You should praise the small productive steps otherwise it’s a spiral back to the bottom.",
          "I have spent the last two weeks being depressed. I have had a lot of nights were it takes me forever to fall asleep and I wake up all most every night at least 4 times. I spend an average of 12 hours a day sleeping but when I wake up I feel tired and ready to go to bed again. I also have a loss of appetite so when I get hungry I don't usually eat because I can't work up the courage to eat.",
          "Over the past two weeks I have felt varying rates of depression. On the days where I have felt the worst, I have been unable to get out of bed until at least after lunchtime as all my body wants to do is sleep. I also struggle to fall asleep at night so I end up on my phone until 2am usually so I know this contributes to me not wanting to get up at a reasonable time.",
          "I have been feeling down and lacking energy over the past 2 weeks. There have been times when i have not wanted to get out of bed to go to work even though i have done so.\nI have felt irritable and a bit emotional",
          "My depression has crept up recently, I have found it very hard to be motivated. Going out is hard, I have a tendency to isolate and have been doing that a lot lately. I am sleeping badly and finding it hard to find a reason to start the day.\nMy usual interests are just not appealing to me and I know I am being irritable with my husband."
         ],
         "marker": {
          "opacity": 0.5,
          "size": 5
         },
         "mode": "markers+text",
         "name": "1_sleep_bed_day",
         "text": [
          "",
          "",
          "",
          "",
          "",
          "",
          "",
          "",
          "",
          "",
          "",
          "",
          "",
          "",
          "",
          "",
          "",
          "",
          "",
          "",
          "",
          "",
          "",
          "",
          "",
          "",
          "",
          "",
          "",
          "",
          ""
         ],
         "textfont": {
          "size": 12
         },
         "type": "scattergl",
         "x": [
          12.628626823425293,
          12.554351806640625,
          12.336109161376953,
          12.359593391418457,
          12.516297340393066,
          12.449214935302734,
          12.42990493774414,
          12.57686710357666,
          12.57718563079834,
          12.522817611694336,
          12.543391227722168,
          12.138307571411133,
          12.651383399963379,
          12.487719535827637,
          12.538148880004883,
          12.518144607543945,
          13.073935508728027,
          12.240966796875,
          12.484792709350586,
          12.356911659240723,
          12.487671852111816,
          12.009775161743164,
          12.593473434448242,
          12.703927993774414,
          12.222804069519043,
          12.248295783996582,
          11.9772310256958,
          12.652140617370605,
          12.57861328125,
          12.224885940551758,
          12.33074951171875
         ],
         "y": [
          6.401412010192871,
          6.242671966552734,
          6.700508117675781,
          6.566605091094971,
          6.389281749725342,
          6.426393032073975,
          6.3751678466796875,
          6.37668514251709,
          6.224628925323486,
          6.339912414550781,
          6.450531959533691,
          6.487593173980713,
          6.459332466125488,
          6.457377910614014,
          6.606076717376709,
          6.391232013702393,
          6.7869768142700195,
          6.54698371887207,
          6.479299068450928,
          6.443793296813965,
          6.562771320343018,
          6.334414005279541,
          6.273074150085449,
          6.622435092926025,
          6.626363277435303,
          6.36873197555542,
          6.3004560470581055,
          6.320199012756348,
          6.276859283447266,
          6.540923595428467,
          6.519537925720215
         ]
        },
        {
         "hoverinfo": "text",
         "hovertext": [
          "I have been feeling very alone and unwanted due to a break up with a partner and I feel that I will always be alone.",
          "I feel very lonely at the moment and that I have no one to talk to. I feel others are getting back into their lives and mine is on hold and that no one wants to spend time with me. It is hot and I feel too fat and ugly to go out. I know exercise will make me feel better but I think that people are looking at me and laughing if I go out to exercise.",
          "Over the last two weeks and beyond I have been feeling depressed. It is more loneliness than sadness. I feel unloved, bored, tired, etc. I want to go out and enjoy my life while I am still young and healthy.",
          "I have been depressed. I lost the closest person to me whilst in lockdown. For the few months they were ill I could not visit them nevermind hug them or hold their hand. The worst few months of my life. I was stuck. Nothing i could no. I had no control over the situation. I feel sad for myself and the other people around me. I dont like bringing other people down. I cry at night time when everyone is asleep. I feel like im surrounded by darkness and things cant get much worse. Losing them makes me feel alone.",
          "This previous week's, i have been calm, relax, social and i have been communicating with my loved ones to prevent that lonely feeling and also I get to know the conditions of others",
          "i cannot see my friends and that makes me upset! they are everything to me, if i cannot see them i feel really upset",
          "I have been depressed but there is not always a conscious reason for this, I just feel so down and dejected, nothing helps.\nI just want to hide away and not speak to anybody.",
          "I was on my own at home, and all my friends were out, the only reason I didn’t go with them because the person who invited them all, I was arguing with at the moment. So I watched all my friends story’s showing them having a good time while I was under my covers in the dark on my own.",
          "i have been depressed over the last few weeks because i have currently been alone with no one to talk to. I have tried to reach out and make new friends online but usually they have no time for me or only want to know me for a brief amount of time. Sometimes i talk to no one and feel sad.",
          "I have felt lonely at times through this crisis \nWhich I try to overcome by going for walks and doing things that I enjoy",
          "I have been very lonely due to the current situations and it’s been causing me to be quite upset and depressed",
          "I have been depressed because I feel very lonely and especially through the pandemic I am not able to spend time with my friends and my partner as much as I’d like and keep myself occupied. When I get bored I start thinking bad thoughts and so I like to keep busy as much as possible",
          "I just feel a bit lonely and lost there doesn't seem much point in daily activities. I don't care for myself like i should.",
          "There are times that no what I do it isn’t right. I  don’t want to socialise with others and I find it difficult to talk as it  at times makes me feel rubbish inside",
          "i have an online friend that i talk to, but i do have a crush on her. Over the past week she has been on holiday in Missouri and even though I know this, I have been messaging her and getting no response from her. This in turn has made me anxious and in turn depressed because she is the only person I really talk to. Might not mean that much but I have had no luck with women, and I am in my late 20s, so I always feel like i need to impress her and because she is the only one I talk to, it's like I need constant reassurance from her that everything is alright.",
          "The feelings of loneliness and being alone have made me sad on a few occasions in the last 2 weeks. On top of my mental health difficulties, I also have some physical health issues which prevent me from working and not being economically active makes me feel worthless and a burden. However, by my standards, it has been worse and I've not spiralled into a void which can happen sometimes and can take some comfort from that as it hasn't developed into \"full\" depression and has only been mild and more of a sadness than depression.",
          "I have felt lonely almost all of the time. \n\nLast night I broke my streak of a couple of weeks free of self-harm. \n\nMy body image is currently terrible.",
          "I have been quite depressed, as it feels like life will never go back to normal. Depressed and lonely as I find it hard to go and see my friends and family as I have worry and just a lack of energy to go out.",
          "I’ve struggled the last two weeks. After separating from my partner during lockdown I’ve gone downhill a bit. I’m sad lonely I see my boys quite a bit but miss my relationship with her",
          "I haven't been depressed but I have been painfully aware, maybe anxious at how easy it would be for me, or others, just to give up mentally and emotionally. As an olny child solitude isn't a loneliness for me, it's a welcome predictable state in uncertain times and is mainly positive to manage my emotions. However loneliness is a factor which is magnified and difficult to ignore with no end in sight.",
          "I have been depressed - isolation over the past few months has forced me back to my parents’ house and I have a very fraught relationship with them. My mother is very critical of my appearance, which has caused a relapse in my eating disorder, and my father is very emotionally distant from me. \n\nIsolation has also isolated me from my friends. It is painful to never be able to speak to them without knowing my parents could be listening in. They provided a great outlet for me to vent and relax and that has been taken away.",
          "I have felt depressed most days during the last couple of weeks. I feel hopeless about the job situation but I also feel I can't communicate my needs to friends and start to question their friendship. When I express I am unwell, they tend to retreat or do not make much of an effort. Plus, I see them out and about on social media and I feel it is misguided given the pandemic. I'm not sure when I will be able to see one of my close friends too and I have a lot I wish to tell this person but don't wish to annoy them with constant messages.",
          "i have felt depressed aloth over the last 2 weeks and im missing my home my firends and my family. They arenin northern ireland and im in scotland. I am also in a realtionship i dnt know ig i want to be in. I just cry alot and want to sleep alot. Im not my usual bubbly self.",
          "Over the past 2 weeks I have felt a little depressed sometimes because i have not been able to see my friends or family in a long time. I wish I could do more things outside of the house and see the people i love. It makes me sad and angry that I am forced to interact with strangers in the outside world but being able to visit your friends is still not advised. \nI have also felt very down about trying to move house. However, I am getting a puppy soon and this has given me something to look forward to. I feel less depressed when I think about getting my puppy.",
          "over the last few few i have been feeling depressed, ive had lots of feeling like im invisible and unworthy of nice things",
          "I have been more down recently than I can ever remember being. Every single day is a struggle. I smoke like a chimney and I drink like a fish, probably because I know these are both destructive behaviours. I want to be alone all the time but I also feel so incredibly lonely. I have started hiding how down I feel from my partner because I don't want to keep bringing him down. I cry so often.",
          "At times I have felt depressed as I have felt incredibly alone and doubtful that my friends really are my friends or not. At other times, however, I have felt free and liberated and loved life. Overall, I still remain somewhat depressed that I am alone in the world and I am anxious for the year ahead because of the potential for social isolation.",
          "I'd been a little depressed off and on. Mainly because I've been stuck at home for the most part. In truth, I've become rather lonely and in need of companionship in all this time. I feel as if I'm getting older and my looks are not as good as they once were. I'm beginning to break down in some aspects of my life, so finding a suitable partner in all of this is becoming increasingly difficult, especially since I can't go out like I normally would.",
          "Thought I was OK til a few days ago when I realised I was really missing not going out and visiting friends and places",
          "I haven't been in communicate with lots of people, but only with family. I feel lonely in the perspective of love life. This loneliness makes me think how will I be more social in future regarding with friends and love life."
         ],
         "marker": {
          "opacity": 0.5,
          "size": 5
         },
         "mode": "markers+text",
         "name": "2_lonely_friends_talk",
         "text": [
          "",
          "",
          "",
          "",
          "",
          "",
          "",
          "",
          "",
          "",
          "",
          "",
          "",
          "",
          "",
          "",
          "",
          "",
          "",
          "",
          "",
          "",
          "",
          "",
          "",
          "",
          "",
          "",
          "",
          ""
         ],
         "textfont": {
          "size": 12
         },
         "type": "scattergl",
         "x": [
          10.281364440917969,
          10.202178955078125,
          10.69054889678955,
          10.637110710144043,
          10.203794479370117,
          10.798388481140137,
          10.42016315460205,
          10.520196914672852,
          10.34790325164795,
          10.168447494506836,
          10.222970962524414,
          10.351666450500488,
          10.20265007019043,
          10.3246431350708,
          10.329224586486816,
          10.430066108703613,
          10.239350318908691,
          10.783781051635742,
          10.18013858795166,
          10.23454761505127,
          10.115297317504883,
          10.325204849243164,
          10.800500869750977,
          10.855814933776855,
          10.899459838867188,
          10.394547462463379,
          10.240121841430664,
          10.532791137695312,
          10.33238410949707,
          10.225518226623535
         ],
         "y": [
          8.118592262268066,
          8.223755836486816,
          8.397698402404785,
          8.774076461791992,
          8.404104232788086,
          8.651697158813477,
          8.662205696105957,
          8.771634101867676,
          8.597692489624023,
          8.22500991821289,
          8.193744659423828,
          8.329554557800293,
          8.238798141479492,
          8.333946228027344,
          8.63093090057373,
          8.231616973876953,
          8.180100440979004,
          8.53172492980957,
          8.18457317352295,
          8.645173072814941,
          9.09657096862793,
          8.64405632019043,
          8.351892471313477,
          8.752288818359375,
          8.559112548828125,
          7.990344047546387,
          8.671302795410156,
          8.25501537322998,
          8.823344230651855,
          8.367741584777832
         ]
        },
        {
         "hoverinfo": "text",
         "hovertext": [
          "I have not been depressed over the last two weeks. I haven't had any sad or bad news to deal with, and on the whole I have felt very happy these past two weeks. I have been going on walks in the countryside and this helps my mental health.",
          "I have not been depressed over the last two weeks. Depressed is something that i dont think i have ever been or not recognized if i have been. I am quite a happy/content person. Of course things do get stressful - but i am one to sit and sort things out. I have supportive family, fiance and friends.",
          "I have not been depressed at all in the last 2 weeks.  To be fair, I've never  been depressed in my life.  I have nothing to be depressed about.",
          "I have not been depressed in the last two weeks. I have felt happy and in a secure, stable emotional state. I have felt like I have everything to live for and am optimistic for my future. I have felt able to cope with various challenges, and have slept normally and eaten healthily. I have enjoyed strong relationships with my family and friends.",
          "I have not been at all depressed in the last 2 weeks, I am generally not depressed unless there is an extreme circumstance.",
          "I have not been depressed over past two weeks.  I have not had any depressive feelings. I have felt that my  life is good and fulfilled at this time.",
          "Well, i have not been depressed over the last two weeks. I felt happy, loved, jovial and well taken care of by my family and my friends. I have been encouraged emotionally, financially and psychologically,",
          "I have not been depressed the past two weeks. I have been energetic, active and relaxed these few weeks. I have not been stressed recently.\n  My hubby and my children have been a source of joy to me. My job is not strenuous and their have been no added pressure at work.",
          "I have not been depressed within the last two weeks. Sure, I have my ups and downs just like everyone else, but not to the point where I let it affect my daily activities.",
          "I have been depressed over the past two weeks, but I am so used to depression it usually doesn't really occur to me that there is something wrong. The only difference about the depression I am currently experiencing is the loneliness, which is certainly amplifying the weight of depression.",
          "I have been depressed for about 7 years now with Major depressive disorder and although I felt depressed in the last two week, it wasn´t the worst depressive state I have endured.",
          "I have not been depressed in any way. Quite the opposite. I have been in a very good mood, higher even than my normal quite high based line.",
          "I have not been depressed within the last two weeks. Though things have been challenging and my routine has been disrupted, I have not been depressed within the last two weeks. There have been times in my life where I think it is safe to say that I was depressed. To me it represents a time when my emotions were so intense that I entered a state of minimal daily effort. That was during a stressful period in college. I certainly have been emotional but I have not been depressed within the last two weeks.",
          "I have not been depressed in the past 2 weeks. I’ve been trying to keep a more positive outlook on life. Being depressed and anxious is not a good combo during these times. I am trying to stay positive during these difficult times.",
          "I have not been depressed over the last two weeks. I've felt normal and perfectly fine with the current state of my life in all regards.",
          "I have not been too depressed over the last couple of weeks, but it also helps that I am on medication which helps a lot. Sometimes my depression is a lot worse.",
          "I was depressed for the first week but not depressed for the second.  I was depressed during the first week as I had many appointments rearranged, split with my partner and my cat also passed away in the same week!  Therefore this depression was situational - I am autistic also so dislike change and this is a factor.  I have naturally depressive tendencies anyway.  During the second week, I was less depressed as I finally received medication for my ADHD.  This is a huge positive change in my life as I've been waiting for it for a long time - I only got diagnosed at age 20!",
          "I have not been depressed in the last two weeks. I have found the last few weeks to be quite beneficial to my mental health in terms of depression. I have slept well and have had time to relax at home and with my partner. My eating has been regular and relatively healthy and my mood has been stable.",
          "Depression is a very sad and tempting situation which i wouldn't want to experience. \nActually, i haven't been depressed in the last 2 weeks. I'm very much okay.",
          "Over the past 2 weeks, I have not been depressed throughout those weeks since I have been very active and social. I was able to put my mind on fun tasks to do throughout the 2 weeks that made me very joyful and gave me happy thoughts rather than depressing thoughts. I was able to  do certain tasks such as hanging out with friends and families and do fun activities such as playing games or watching a tv show/movie.",
          "Over the past two weeks, I have not been depressed.  I have been interested in things as much as I normally have been.  I have been in a good mood and I have been motivated to do things.  I have been engaged in my normal activities and my sleep has been pretty good.",
          "I have not been depressed even if it's the time of the month, moody maybe but not depressed. I don't think anything can make me depressed now.",
          "I didn't get depressed at all over the last two weeks. It adds no value to my life ,and as such I don't have reason to be depressed.",
          "I haven't been depressed in the last two weeks.  Having had episodes of depression previously I can both recognise the signs of it, and also know from experience that things can get better.  So I know that I'm definitely not depressed and have made a concerted effort to remind myself of the good things that are going on in my life.  I have made a point of contemplating and considering the positive things to focus on at the moment.",
          "Depression is a really crazy stuff . I have been depressed some days, but i would be fine the next minute. It's been coming on and off for some weeks now",
          "I was depressed for a little while last week but I was back to normal due the word of encouragement from love ones",
          "Over the past 2 weeks I have not been depressed. I am not someone who is prone to depression and generally cope fairly well with most situations. Despite there being certain stresses on my personal life, this has not led to depressive moods."
         ],
         "marker": {
          "opacity": 0.5,
          "size": 5
         },
         "mode": "markers+text",
         "name": "3_depressed weeks_weeks_depressed",
         "text": [
          "",
          "",
          "",
          "",
          "",
          "",
          "",
          "",
          "",
          "",
          "",
          "",
          "",
          "",
          "",
          "",
          "",
          "",
          "",
          "",
          "",
          "",
          "",
          "",
          "",
          "",
          ""
         ],
         "textfont": {
          "size": 12
         },
         "type": "scattergl",
         "x": [
          13.798261642456055,
          14.125726699829102,
          14.230262756347656,
          13.893875122070312,
          14.250205039978027,
          13.926027297973633,
          13.924972534179688,
          14.089160919189453,
          14.235347747802734,
          14.370258331298828,
          14.334553718566895,
          14.166513442993164,
          14.374631881713867,
          13.906400680541992,
          14.062216758728027,
          14.387228012084961,
          14.303832054138184,
          14.07913875579834,
          14.312251091003418,
          14.04946517944336,
          14.306496620178223,
          14.202953338623047,
          14.332825660705566,
          13.923543930053711,
          14.389089584350586,
          14.036552429199219,
          14.299107551574707
         ],
         "y": [
          9.588469505310059,
          9.683595657348633,
          9.814844131469727,
          9.601658821105957,
          9.778685569763184,
          9.416509628295898,
          9.644594192504883,
          9.391504287719727,
          9.641009330749512,
          9.8407564163208,
          9.683379173278809,
          9.384868621826172,
          9.635101318359375,
          9.468769073486328,
          9.524885177612305,
          9.719202041625977,
          9.657389640808105,
          9.579024314880371,
          9.748884201049805,
          9.53752326965332,
          9.395991325378418,
          9.807258605957031,
          9.684183120727539,
          9.481618881225586,
          9.852123260498047,
          9.456303596496582,
          9.888483047485352
         ]
        },
        {
         "hoverinfo": "text",
         "hovertext": [
          "Everything I've done over the last few weeks has seemed to overwhelm me, I'm constantly teary and upset and I just cant seem to find reason to smile. I know if I could get a decent sleep I'd probably feel a little better tomorrow but each night when I try and shut off my head fills with all my memories.",
          "I think I am prone to bouts of sudden low mood but I can just as quickly raise my mood again by distracting myself. The low mood is caused mostly by pressure from my parents to be doing something more than I am currently. They are not outrageous demands and I do feel that their suggestions will help me build my character but having a constant nagging voice can be draining.\n\nWhen I feel down, I feel as if nothing I do will ever matter, nothing I do will impact the world in the slightest, the world will go on with or without me, but that’s exactly why I shouldn’t be afraid to try new things, because nobody will remember my failures. Just as how the people I pass on the streets won’t remember me, they aren’t going to waste time remembering my mistakes so there’s no reason to be fearful of failure when there won’t be anyone to remember it except myself, and what I keep to myself, nobody will know.",
          "I have suffered from depression since my early teen years, but recently it has been particularly bad due to a few factors. I have no motivation or energy, I’m over eating and over sleeping, I cycle through feelings of complete despair and numbness. I struggle with memory loss and brain fog, I feel like I can’t seem to do anything right. It’s impacting my relationships with others and I don’t know how to fix it.",
          "I have been depressed over the past 2 weeks. I recently requested mental health support from my GP and I was only given a brief phonecall then rejected and told that I seem to be coping okay so i'm not eligible for any further support. I feel really down, I sleep a lot, I don't have much energy and I don't have much hope or joy in my life. I know this is temporary and I know that i'll feel better soon, but it all feels so pointless right now and it's hard to imagine things getting drastically better. I don't feel like i'm going to do anything drastic, I just feel really really down.",
          "No full on bouts of depression but I am high functioning. For the most part I get by but everything builds up and I then have break downs. So whilst I have not been excessively low I am very up and down.",
          "I know I am still feeling depressed although I am on medication (since Nov 2019) which makes me feel calmer and more relaxed. I can \"act\" happy and normal but inside I feel very weighed down and extremely exhausted. I know what the factors are that are causing me to feel this way and unfortunately there is no resolution in sight as it is to do with other people around me being very ill. I'm finding it harder to get up in the mornings but I do force myself to start the day at a decent time. I find things to do but it is an effort. Saying that I feel very secure, safe, happy and content to have my family around me and to a degree everything is carrying on just the same as always.",
          "I have recently been perscribed medication for depression. I have been struggling to lift myself from this state of mind. I am low, irritable and lack motivation. I have lots interest in things i enjoy.",
          "I have been feeling depressed for the last two weeks.  I often feel 'down' and lose motivation in life to even do basic tasks. I tend to shut myself off from everyone until I am able to get out of this 'phase'.",
          "I've slowly watched my appetite for anything leave. I'm feel I can't control myself anymore. I feel so low all day and things only cheer me up for a short time. I don't want to be alive anymore because I feel like I'm already not.",
          "I am terribly depressed. I have that ache, pain that just won't go away. The feeling of impending doom. I read. I read a lot of books. Novels. I immerse myself in other worlds to avoid my own. I am wasting my life reading books. Writing about the depression is hard. I do need to see my GP as I need help. But getting an appointment is hard. I hate using the phone. The receptionists are difficult to speak to and make me nervous. I become so nervous I find it hard ot get out my words and they get more irritated with me. I am always thinking about life and time and how pointless life has become.",
          "I have been wasting away the time, and dont find anything that interesting as well as eating mindlessly and gaining weight. I feel disconnected and lacking in direction but feel unable to pull myself out of it or seek help.",
          "Feeling very down and sleeping more than usual. Everyday tasks have seemed rather pointless and I have plunged into childhood trauma which I have been going over and over whilst at the same thing knowing that this is a destructive and unhelpful thing to do. I have been using a mindfulness app and breathing exercises to help me. They do seem to alleviate the negative feelings when I am engaged in the tasks but I feel the effects wear off quite quickly.",
          "In the last 2 weeks, and probably for much longer than that, I have been struggling with depression.  I constantly think about my past mistakes. I feel completely worthless and utterly unmotivated to really take care of myself. I am scared that I have wasted any potential I may have had and I won't amount to anything now. I can not fall asleep or stay asleep easily. I constantly have nightmares. I am exhausted everyday. All of my efforts seem futile and the future looks bleak.",
          "This month has been quiet overwhelming at times, trying to pick the good from the bad has become draining to do on a day to day basis when you see little good but an awful lot on bad. Being able to shut off and go to sleep at night would help I supose but the same vivid memories reply over and over again each night and I just seemingly am unable to shut off from it all.",
          "i have always struggled with low mood, which i personally think is depression. It has been better in recent years/months but i don't think it's something that ever leaves you!\n\nI need a lot of sleep, and if i don't get it I feel very low. I'm not a very sociable person and suffer from FOMO very badly, but can't seem to push myself to go out more. I see people expressing themselves creatively and it being successful (i.e. they make financial gains from creative path) and this is something i wish i could do.\n\nI also feel sadness for my partner who's father died 2 years ago. There is a lot of sadness within his immediate family surrounding this.\n\nHowever over the years i have learned to accept myself for who i am, and that it's ok that i'm not sociable and get anxious. I also have a great support system and feel loved and appreciated.",
          "I have been depressed in the past. Constantly feeling down and low, isolating myself from others, cancelling on plans last minute",
          "My type of depression is the numb kind. More than just that, I am completely detached from everything and have been for so long I rarely remember what it's actually like to feel or want anything, I'm just watching myself on auto-pilot pretending to be a real person, but I'm not really there. And it's a vicious circle cos without being able to feel or care, I have no motivation or will to do anything that might start to make me better. And on the rare occasions I do start to feel emotions, it's so overwhelming I shut down again almost immediately cos I can't cope with how shit I've let everything become.",
          "I do not feel depressed, because I have been on medication for the last 3 months.  I do feel that I do not enjoy and do not desire to go out and do the things I normally enjoy, because I am too fatigued and tired.  People invite me out but I would rather go home and lay in bed and do nothing.  Sometimes I eat too much and I get tired easily.  I don't have the feelings of worthlessness and hopelessness that I did prior to starting medication.",
          "Feeling like I can't do what I set out to and easily distracted to make myself feel better but to no avail.",
          "I am mostly a positive person but I am very emotional and sensitive to others and reality sometimes over thinking and getting stuck in issues that can get me down but it’s always on a level. In the past it’s been worse but I have learned from my mistakes and no longer let it get the better of me. I focus on things I can do and achieve and make me happy but still I fight the dog biting my heels but this is normal it’s pet of life you can’t have light without the dark and so I accept sometimes I go to low but I find to force myself to get up and be active doing tidying and house work makes me happy and the wash and get dressed smart to socialise is important as indulging in hobbies and creative pursuits and also sex but sadly on lockdown this is impossible and as someone with a high sex drive I need this to balance my emotions or I get depressed without human contact. So keeping busy helps.",
          "I have been feeling really down for the last two weeks. I feel behind in life and unmotivated to keep in contact with friends and family, I just cannot be bothered to do anything at all",
          "I have felt down over the past 2 weeks, but have tried to ignore it. Mostly, I've felt very lethargic and numb and haven't wanted to get out of bed (unexcited about the day ahead). I know that it is important for me to keep busy so I often try to distract myself and keep myself very busy focusing on work or making plans. I've tried hard to battle against it making sure I meet people and exercise. I've felt worried about the future and slightly hopeless even though I think I have lots to be excited about. It has also impacted my relationship with my family as when I feel bad, I act in a more hostile way or don't want to talk and then I feel guilty afterwards. I'll keep trying to push through. I've also felt extremely exhausted even though I am getting enough sleep."
         ],
         "marker": {
          "opacity": 0.5,
          "size": 5
         },
         "mode": "markers+text",
         "name": "4_feel_shut_remember",
         "text": [
          "",
          "",
          "",
          "",
          "",
          "",
          "",
          "",
          "",
          "",
          "",
          "",
          "",
          "",
          "",
          "",
          "",
          "",
          "",
          "",
          "",
          ""
         ],
         "textfont": {
          "size": 12
         },
         "type": "scattergl",
         "x": [
          12.68380069732666,
          12.00463581085205,
          12.577705383300781,
          12.092222213745117,
          12.128981590270996,
          12.222132682800293,
          12.408851623535156,
          12.357946395874023,
          12.15628719329834,
          12.243399620056152,
          11.964509963989258,
          12.29655933380127,
          12.542518615722656,
          12.676091194152832,
          12.159425735473633,
          12.272340774536133,
          12.34018611907959,
          11.84223747253418,
          12.091296195983887,
          12.263345718383789,
          12.24882984161377,
          12.19178581237793
         ],
         "y": [
          7.312202453613281,
          7.563999176025391,
          7.3776655197143555,
          7.4579010009765625,
          7.506433010101318,
          7.3848090171813965,
          7.638781547546387,
          7.401366710662842,
          7.43860387802124,
          7.690810680389404,
          7.279323577880859,
          7.000755786895752,
          7.50199556350708,
          7.266879081726074,
          7.481258392333984,
          7.585813522338867,
          7.821709632873535,
          7.580507278442383,
          7.138038158416748,
          7.58392858505249,
          7.362964630126953,
          7.310434341430664
         ]
        },
        {
         "hoverinfo": "text",
         "hovertext": [
          "I have not been significantly depressed in the last two weeks although on some days I have been lower than my base level mood. This is due to the anxiety I am feeling regarding some situations in my life. It has had no major impact on my life.",
          "I suffer from anxiety but have not been depressed. As a committed Christian, I count my blesdings and trust in God. I have been furloughed from work and have more relaxation time. I have been walking for over an hour daily and have more time for hobbies, such as baking.",
          "I don't believe I have been depressed in the last 2 weeks. I have often felt low and anxious, however this is not a constant state of mind and is not depression as I have experienced before. My mood often lifts after a while and I have no reason to be worried about this.",
          "The last two weeks have felt difficult and hard, mostly in relation to work issues which have caused some more general anxiety. I wouldn’t say I have felt depressed, but certainly more stressed than usual which has impacted my enjoyment of things in personal time.",
          "Last two weeks has not been different ,i try not to worry a bit. Even though worries did surface, but was quashed.",
          "Over the last 2 weeks I have not had any prolonged feelings of anxiety and my mental health has been a lot better than it was over the last few months. I have not had episodes of great waves of emotion and sadness. I've not had those feelings for a while now. As my life has improved a lot and I am able to go out and do more things (in relation to the pandemic) I feel as though I am not stuck at home trapped with my emotions and thoughts. That type of environment really impacted my mental health however over the last 2 weeks I've been feeling better and not been depressed.",
          "I can not say that I have been depressed during these last weeks. I am certainly worried, concerned and upset at what is going on, however depression is a big black cloud that I don't feel I have showering above me.",
          "I fell into some nasty anxious depression or depressive anxiety about a month ago. Over the last couple of weeks it's been getting better but it still feels volatile. Sometimes I'm pretty positive and enthusiastic. Other times my thoughts go dark or just go south.",
          "I have had moments of feeling generally uninterested and unmotivated because of the over-arching anxiousness. I would describe this bout as general depression.",
          "Over the last two I have been stressed and bored at the same time. I have anxiety issues and they spiked about two weeks ago, although the wories have receded in the last week or so.",
          "I have not been depressed in the past 2 weeks, but have had some symptoms of anxiety which I think overlap (low mood, tiredness).",
          "I've been feeling more anxious than depressed (hyper-fixated on stuff that is worrying me), but there have been days where I feel listless, tired, and unable to motivate myself to work, or exercise. I do feel like they are more moments of depression as opposed to a depressive episode.",
          "I have less feelings of depression, it's more the anxiety that haunts me. However, that been said I do not feel like I'm good enough at even the basic things of life, I feel like a bad mother and poor wife. But the anxiety medication seems to numb me, or make me accept that I'm a failure as a human being. I endevour to not let my child end up feeling the same, but have to make sure I treat as a separate person to me and not an extension.",
          "I feel that I have been depressed over the past 2 weeks but my anxiety has been bothering me more than this. I do suffer with low moods and over the past few months these have been getting worse however I do not feel that I am so bad that I need medication - I have previous experience of depression and medication and I do not feel that I am in this place. I do feel, however, that my anxiety and worries cause me to have a low mood because I feel helpless and powerless against it at times.",
          "Over the last few weeks I have felt more depressed than anxious if I’m honest, feeling more down than usual with lack of motivation for activities I would usually partake in without an issue. Partly this could be my birth control side effects which I understand but i have noticed more recently I feel more sadness and doubt about my friends and family around me, I feel like a nuisance to them. It feels strange to not have my anxiety above this feeling of depression (perhaps due to my improvement in anxiety I just ‘feel’ like my depressed feelings are worse than usual?)",
          "Although I have anxiety I don’t tend to feel too depressed. In the last two weeks at no point would I say I’ve felt depressed.",
          "I have had depressive phases, but I have never been diagnosed with depression. However, I have been treated for having depressive tendencies a long side anxiety, which has also not been diagnosed.",
          "I have not been depressed in a clinical sense, perhaps more feeling down with my never ending anxiety I suffer from",
          "I haven't been depressed as such over the past two weeks, more feeling low and anxious.  I have been a little lacking in motivation and inclination to do things, but not so much to negatively impact on my day to day life.  Anxiety has been the main issue for me recently.",
          "I do not feel I have been depressed over the last two weeks, however I have experienced worries and anxiety. Mostly my mood has been fairly positive in the daytime, with stress particularly significant at night",
          "I have not been depressed as such just extremely anxious since January. In a way my anxiety does cause a bit of depression because it makes me feel down. \nMy anxiety relates to health and illness and death\nI often feel a symptom and then immediately feel like I am in danger or dying\nThis can make some activities  quite difficult.\n"
         ],
         "marker": {
          "opacity": 0.5,
          "size": 5
         },
         "mode": "markers+text",
         "name": "5_anxiety_feel_anxious",
         "text": [
          "",
          "",
          "",
          "",
          "",
          "",
          "",
          "",
          "",
          "",
          "",
          "",
          "",
          "",
          "",
          "",
          "",
          "",
          "",
          "",
          ""
         ],
         "textfont": {
          "size": 12
         },
         "type": "scattergl",
         "x": [
          14.539495468139648,
          14.376835823059082,
          14.500712394714355,
          14.242968559265137,
          14.261853218078613,
          14.469374656677246,
          14.370400428771973,
          14.215356826782227,
          13.702779769897461,
          14.27280044555664,
          14.545948028564453,
          14.367432594299316,
          14.51109504699707,
          14.544544219970703,
          14.562060356140137,
          14.533595085144043,
          14.607643127441406,
          14.560502052307129,
          14.509998321533203,
          14.400876998901367,
          14.556103706359863
         ],
         "y": [
          8.642426490783691,
          8.409282684326172,
          8.803058624267578,
          8.863907814025879,
          8.848003387451172,
          8.448368072509766,
          9.029287338256836,
          8.485599517822266,
          8.667340278625488,
          8.545013427734375,
          8.73253345489502,
          8.561517715454102,
          8.471049308776855,
          8.476516723632812,
          8.54670238494873,
          8.63553524017334,
          9.029776573181152,
          8.572732925415039,
          8.700580596923828,
          8.77043628692627,
          8.634271621704102
         ]
        },
        {
         "hoverinfo": "text",
         "hovertext": [
          "Yeah, definitely. Lockdown is hard on us as we can't socialise or go out to eat as my partner is particularly vulnerable,  so we are in out 6th month of this, watching everyone else enjoy themselves in risky ways. It has made the domestic situation tense as we are both exhausted and mentally burnt out.",
          "I am almost always in a state of depression, the only that seems to change is the severity.  Lately I was feeling less depressed as I was making some changes and was more focused on cleaning my room and being more active. This was leading me to feel better about things.  However, with the having this power outage happen and being in a position of not being able to help very much due to physical disabilities it really has made me feel quite sad.",
          "There are times throughout the day where I do feel depressed. I think that for me this is caused by the anxiety of everything happening right now. Not being able to see many people due to the lockdown has caused issues for me because I find a lot of peace being around people.",
          "I do have clinically diagnosed depression, but my mental health has somewhat deteriorated in the past two weeks although it has improved at the moment. Particularly as I am in Greater Manchester, where lockdown restrictions have been renewed, I have felt a sense of hopelessness and being really uncertain as to when things will improve and how long it will go on for.",
          "I think that I have been mildly depressed at points. I think this has largely because I haven't had anything to do, I've exhausted all the things I had been doing to pass the time during lockdown and I have been very bored. I've felt like I haven't had much control over things in my life. I've tried to exercise by going for walks and this has helped on the days that I've been able to do it but quite often the weather hasn't been nice enough!",
          "I do not believe I am depressed; however, like anything there are ups and downs. At the moment I am enjoying my summer holidays with friends so I am in high spirits, and do not feel depressed. Lockdown has started to ease in my country so I have been going outside with family which I have enjoyed. There has been times where quarantine was was still going on in my country that I started to feel bored and stressed, but at the moment I feel fine.",
          "I have been locked in the house over the past 2 weeks which caused me to feel bored and fairly depressed. During this time, I had thoughts that I would not normally have but now since i am able to go out again this is no longer the case.",
          "Currently walking Around target while my dad is in brain surgery. \nI don’t know what will happen to if he doesn’t make it.",
          "I have been moderately depressed over the last two weeks (and seriously depressed over the last four months). I attribute my small level of improvement to treatment that I sought. I sought short-term CBT with my university's mental health service, and when that ended I sought more CBT with the NHS mental health service. My symptoms have a lot to do with my experience as a grad student finishing my PhD. They are exacerbated by the lockdown. I have also experienced symptoms of anxiety, making it difficult for me to sleep and to enjoy leisure activities.",
          "Being in lockdown has at a strange affect on my depression. At the start I was very depressed, more so than normal. A lot of that had to do with feeling powerless and hopeless, to an extent I still feel that way. I have just gotten so used to the situation that I haven't experenced much depression in the past two weeks, I just feel anxious - I've accepted my situation in a away and I'm eger to move on from this, regardless if things turn out badly.",
          "During the lock down, I find that I do not meet as many people.  This lack of contact with others seems to have affected my mood.  I do seem a little down at times.  Not too sure of the reason, but I think it must be related to the lock down, going out less and being at home most of the day.",
          "I believe I have not been depressed in the last 2 weeks.  Work has picked up again as pubs have reopened and the office is gradually becoming more lively as lockdown restriction are starting to ease a bit more.  Positivity seems to be creeping back into the world and I feel that also.",
          "I have been slightly depressed, but I have soon realised that part of that is due to the current conditions of the world and how we are all having to think about how we do things so much. I have realised that to help my anxiety what helped me truly was enjoying the moment, whilst lockdown has allowed me to reminisce it has also given me times to think of memories that I thought I had forgotten, Of dark times in my life when it felt like no-one understood me. It also took opportunities away from me which has made me feel depressed, and made me question why do I live my life and what am I good at. Although there is also another side of it which makes me feel strength full that when provided with the opportunity after lockdown, I will live my best life and enjoy every single moment.",
          "Over the last two weeks I have not been feeling depressed. With the easing of lockdown restriction I have been able to spend more time outdoors and I've been feeling very happy compared to previous weeks during lockdown.",
          "latley i have been depressed. being out of work and having the kids out of school. we cant do anything because of the lockdown. i cant see family and friends and all this has taken its toll on me.",
          "I have been depressed for the past two weeks however an increase in medication is seeing the severity lessening. I have struggled to juggle caring for my son who is shielding, with financial stress, threat of redundacy and general fatigue/isolation impact from not being able to “resume” normal life with the rest of England.",
          "I have been depressed in the last couple of weeks and cried every day as a result. This has been exacerbated by a disabling illness which I have lived with for over 20 years, and by the isolation I have experienced under lockdown.",
          "Over the past couple of weeks I have not felt down or depressed at all. At the beginning of lockdown my mental health deteriorated massively but since things are getting back to normal in the UK my mental health has gotten increasingly better and I am even considering coming off my antidepressants.",
          "I wouldn't say I have been depressed but I have felt pressure in the last two weeks, mostly job related. I have been hopeful though with lockdown restrictions easing and being able to see my friends more.",
          "I’m still grieving for my son , so lockdown has made it worse as when I was working I could keep my mind occupied for part of the day. Now it’s all I think about and I’ve seen the Dr again to start my medication and counselling. \n"
         ],
         "marker": {
          "opacity": 0.5,
          "size": 5
         },
         "mode": "markers+text",
         "name": "6_lockdown_mental health_moment",
         "text": [
          "",
          "",
          "",
          "",
          "",
          "",
          "",
          "",
          "",
          "",
          "",
          "",
          "",
          "",
          "",
          "",
          "",
          "",
          "",
          ""
         ],
         "textfont": {
          "size": 12
         },
         "type": "scattergl",
         "x": [
          11.29450798034668,
          11.393311500549316,
          11.27798843383789,
          11.540006637573242,
          11.481795310974121,
          11.902275085449219,
          11.28370475769043,
          10.784347534179688,
          11.608200073242188,
          11.289376258850098,
          11.22474193572998,
          11.477753639221191,
          11.316444396972656,
          11.495729446411133,
          11.288325309753418,
          11.579607009887695,
          11.325222969055176,
          11.63626766204834,
          11.559844017028809,
          11.261390686035156
         ],
         "y": [
          11.93616008758545,
          11.80570125579834,
          11.904869079589844,
          11.64254379272461,
          11.867966651916504,
          11.583693504333496,
          11.946416854858398,
          11.746110916137695,
          11.486186027526855,
          11.955384254455566,
          11.957959175109863,
          11.788162231445312,
          11.97669792175293,
          11.81661319732666,
          11.864583969116211,
          11.571138381958008,
          11.905354499816895,
          11.504932403564453,
          11.845245361328125,
          11.928832054138184
         ]
        },
        {
         "hoverinfo": "text",
         "hovertext": [
          "I’ve been depressed to a degree, related to recent grief and just being overwhelmed at times. The situations under my control are ok, and I’m more or less ok with some of the things I can’t control. Depression for me means feeling resigned, hopeless and just everyday activities feel really effortful or undoable.",
          "relationships that I had, not only with my significant others, but with family members also. No one knew what was going on, and before I received a correct diagnosis for depression, I couldn't explain my behavior to anyone as I couldn't account for what was happening.",
          "My depression is something that has been a constant issue in my life fore as long as I dare to remember. There is no trigger, I had a relatively stable childhood, I just feel a constant sense of not fitting in, no matter what I do. I often wonder what is the point of it all?",
          "With my family with me, I have no reason to feel any form of depression whatsoever and I'm grateful for that.",
          "My depression is something I've learnt to live with. It's a lot more under control than it has been in the past, but it's is flaring up recently because of an ongoing situation. I feel like I'm the only one who feels this way when it's at its worst. It brings out my anxiety.",
          "I have suffered depression for eight years. It started after I had a heart attack. The current situation has escalated my depression as I see a very uncertain future for me and my family.",
          "I have had depression for over 25years, the older I become, I feel less able to cope. I take medication, which helps me get through, and keep to a regular routine. I always feel I am on the edge of trying to keep my depression under control, I find any unexpected events very hard to cope with.",
          "I do not give room for depression. In my entire life, i have managed to always tame moment, events that can lead to depression.",
          "Depression for me relates to my personal circumstances whereby there is a level of isolation and lack of life activities. Depression also relates to my feeling of inability  to make decisions about the my life going forward.",
          "For the most part, my depression isn't linked to my circumstances. It's just always there knocking at the door. However, since starting medication things have improved enormously for me. I used to be so overwhelmed by what I was going through that I had no real room for feelings of ordinary depression, of feeling down when things don't quite go how I wanted them to. My medication has changed all that. I still get down and depressed, but the fact that nowadays it tends to be linked to something going on in my life is actually quite a relief.",
          "I was keeping my depression under control until a large problem arose, this tips me over the edge and I cannot see a way out of this.\nIt is like being in a fog with the only way out is over a cliff edge.",
          "Medication is effective. I have felt content overall. There are occasional sad feelings when I think about being out of contact with my family, but this has been manageable",
          "While I feel my depression has improved considerably over the last few months in comparison to previous periods of my life I still know there is work to do and feel the emotions and instincts to return to self destructive behaviours when my head space is particularly negative.",
          "I  suffer from clinical depression so depression and  feeling of overwhelming inadequacy tend to be  normal for me. I  struggle  on a  daily basis  to find  positive  things  in my life , and  while I could  give  you a  list of things I should  be greatful for in order to give  the  impression of being fine, in my heart I don't actually believe  them . I don't think I am  more depressed than normal, but truthfully, I do not feel worthy of  my family and  am currently struggling with the  feelings  that they don't deserve  the  pain and  misery of living with someone  like me",
          "I have been depressed as I don't feel like I can provide for my family as best as I should.\n\nMy depression has caused a strain on family relationships due to negativity.",
          "I have not been depressed. I think a big part of why I don't really get depressed is I always know I'm not alone. Whenever I'm stressed out I always know that I have a loving family and friends that will support me no matter what. Don't get me wrong, I know that some people get depressed for no reason. It is an illness. And I also know that a lot of people who do get depressed do have a supporting family. What I'm saying what has preventive me personally from never being depressed was knowing that I am not alone. But I completely understand that this does not work for other people. And this might not work for me in the future. Depression is an illness not a choice.",
          "family pressure has extremely affected my mental health i find it difficult to concentrate nowadays i occasionally feel suicidal but am just holding on strong.",
          "Depression as a melancholy is a very dangerous state which no one would like to experience. But in life, we don't choose what happens to us. While we'd expect the best, the reverse may be the case at times. Well, all said, i once experienced this disconsolate state when i failed a core departmental course while in college. It was an excruciating moment as i was almost compelled to give up. I saw myself as a failure and wished i never existed. Nevertheless, i was made to understand that failure is part of life and it doesn't really mean one can't make it in that area but rather, it's an opportunity to put in more effort and fight more.",
          "I’ve been severely depressed because of my illness it effects my everyday life to the point where I don’t want to be here anymore or it would be better for my family that I wasn’t here anymore, I hate my life and just want it to end sometimes"
         ],
         "marker": {
          "opacity": 0.5,
          "size": 5
         },
         "mode": "markers+text",
         "name": "7_depression_family_control",
         "text": [
          "",
          "",
          "",
          "",
          "",
          "",
          "",
          "",
          "",
          "",
          "",
          "",
          "",
          "",
          "",
          "",
          "",
          "",
          ""
         ],
         "textfont": {
          "size": 12
         },
         "type": "scattergl",
         "x": [
          12.223136901855469,
          12.437224388122559,
          12.39488697052002,
          12.622822761535645,
          12.573796272277832,
          12.440863609313965,
          12.427449226379395,
          12.368053436279297,
          12.177452087402344,
          12.682371139526367,
          12.544903755187988,
          12.607288360595703,
          12.495107650756836,
          12.287609100341797,
          12.382285118103027,
          12.285223007202148,
          12.48917007446289,
          12.139957427978516,
          12.217984199523926
         ],
         "y": [
          8.895585060119629,
          9.56006908416748,
          8.91862678527832,
          9.85793685913086,
          8.91136646270752,
          9.37906265258789,
          9.055042266845703,
          10.078898429870605,
          8.987641334533691,
          8.711034774780273,
          8.960219383239746,
          9.779766082763672,
          8.604583740234375,
          9.3104829788208,
          9.592686653137207,
          9.498008728027344,
          9.660844802856445,
          9.439606666564941,
          9.584315299987793
         ]
        },
        {
         "hoverinfo": "text",
         "hovertext": [
          "No I have not been depressed.\n\nI have been down and possible sad at times due to being worried about finaces etc but I dont feel I have been depressed.",
          "No, I have not been depressed. I am a happy person and always try to see keep it that way no matter what i might be facing",
          "No I haven’t been depressed, I’ve felt flat some days and not sure what my purpose is- but it is also my birthday this weekend and I’ve been off work this week so I’ve had lots planned and lots to look forward to which has definitely helped my mood.",
          "I have not been depressed. Although I have has some sad moments and things concerning me, I wouldn't say this has caused me to be depressed. I have more to be happy about than sad.",
          "No I haven't been depressed at all recently, mostly things have been going well all being told. Some minor annoyances but nothing to affect me mentally.",
          "No, I have not been depressed.  I can have many concerns abut the things going on in my life, but I do not get depressed about them.  I work on things I can control, and do not get depressed over the things that are outside the sphere of my control.",
          "I wouldn't say I have been depressed badly. However, I do have anxiety and the stress of anxiety has made me feel depressed and exhausted due to all the worries. But overall I don't feel like I have been depressed.",
          "I wouldn't say that I have been depressed recently however there have been instances where certain workplace events have made me a little sad. Plus I wouldn't say I have been too happy recently either.",
          "No i haven't been depressed. The last couple of months has really brought me and husband together. We have been more intimate, we have move more  closer to God.",
          "NO I Have not been depressed thankfully my miood has been ok just very anxious but genrally an ok mood",
          "No I have not been depressed, I know about that and I have been concerned but not so down as to class as depressed.",
          "No, I haven't been depressed over the last few couple of weeks. I am generally a 'glass half full' personality. I can get bogged down with little things from time to time but have happily never suffered with depression. By nature I am optimistic, a problem solver, and I try to be sensitive to my own mental health and emotions.",
          "No I haven’t been depressed I have been feeling ok just a little tired and exhausted l, but not depressed.",
          "No, I don't/haven't felt depressed in years and years, not since I split up with an ex - that was almost 20 years ago now.  I'm basically a happy/content person.",
          "Yes I have been depressed. I suffer from severe3 depression and have done for over 20 years. Some times are worse than others and this week I would score as 6/10. Have spent the nights awake and a lot of daytime just laying in bed.",
          "I would say there were times when I was more sad than depressed. I feel there is a strong difference between the two and I've learned to recognise that. The sadness usually happens when I've made a mistake and been called on it and working to give myself the confidence in myself again that I am good at what I do (in general) and people are allowed to make errors.",
          "No I have not been depressed I have been trying to solve my problems with practical solutions \nI dont get depressed often and when I do i try to snap out of it",
          "No I haven't been depressed at all I have the love of my husband and family and Life is so much tougher for other people who are struggling so I consider myself lucky.  I'm not pron to depression in any way I'm a positive person and try to look on the bright side of life"
         ],
         "marker": {
          "opacity": 0.5,
          "size": 5
         },
         "mode": "markers+text",
         "name": "8_haven depressed_depressed_haven",
         "text": [
          "",
          "",
          "",
          "",
          "",
          "",
          "",
          "",
          "",
          "",
          "",
          "",
          "",
          "",
          "",
          "",
          "",
          ""
         ],
         "textfont": {
          "size": 12
         },
         "type": "scattergl",
         "x": [
          13.663941383361816,
          13.587206840515137,
          13.7760009765625,
          13.567695617675781,
          13.799933433532715,
          13.725604057312012,
          13.768135070800781,
          13.570734977722168,
          13.463533401489258,
          13.73745059967041,
          13.752820014953613,
          13.851341247558594,
          13.785444259643555,
          13.700434684753418,
          13.552295684814453,
          13.545856475830078,
          13.52945327758789,
          13.645215034484863
         ],
         "y": [
          11.573939323425293,
          11.822871208190918,
          11.865806579589844,
          11.392674446105957,
          11.848443984985352,
          11.849148750305176,
          11.504300117492676,
          11.381649017333984,
          11.78874683380127,
          11.796137809753418,
          11.81482219696045,
          12.045992851257324,
          11.808158874511719,
          11.931007385253906,
          12.051965713500977,
          11.394245147705078,
          11.721908569335938,
          11.890552520751953
         ]
        },
        {
         "hoverinfo": "text",
         "hovertext": [
          "Lately due the lack of physical social interactions with multiple different people (my coworkers, close friends and family) I have been feeling a bit down lately. I have also noticed myself being less energetic when contacting my friends than usual when has also effected by overall mood in the past weeks",
          "Well, due to how poorly my life seems to be going, I've been very down in the dumps and just not able to get through certain days without feeling down.",
          "I've been depressed and sad and feeling hopeless and despondent as I always have been for many many years. Really low all the time.",
          "In the last 2 weeks I have been feeling a bit down about certain things including relationships with friends and family.",
          "I have been ok depending on the day I feel normal or other days I feel like I’m worthless I guess for example today I feel fine.",
          "I have felt very low and as if I am alone, some days are better than others and on some I am dissociated.",
          "I’ve had a couple of days where I’ve felt really low and that things aren’t ever going to get better and that everything is wrong and rubbish. I try to tell myself that these feelings will pass although sometimes it does feel that way",
          "I have felt so low down and depressed!. I have struggled to do daily things even get up and showered",
          "I feel depressed and low at times especially in the morning.  I can work through things in the day, distract myself and get support and will gradually feel better as the day goes on.  I am also very reactive and so the smallest thing will send me into a bout of feeling hopeless, wanting to give up and not being able to stop crying.",
          "I have been feeling low for a while now. I don't seem to have any 'get up and go'. Everything seems like a struggle. My flat is a mess but I would rather walk around stuff than tidy it up. I have no desire to be around other people. I know there are lots of things I should be doing but, even if I could muster the energy, I wouldn't know where to start, so I just don't bother.",
          "I have had periods of being very low in the past two weeks, I am gearing up to move countries and the stress and anxiety of that, coupled with interpersonal relationships changing for the same reason. I have spent many hours in a state of zero enthusiasm to do anything or speak to anyone.",
          "Low grade depression linked to my worries and anxiety. I feel helpless and unmotivated and have been comfort eating. There is a little self-blame for  not achieving the things I feel I should be. It feels manageable at the moment with self care and low-level CBT self-intervention.",
          "I have constant mood swings, sometimes feeling normal and other times feeling low and tired. I've lost interest in most things I usually find enjoyable. Overall, I feel like I have to work hard to earn worth and love, and that I'm never quite good enough.",
          "recently i have been feeling really low because the stress of being confined to my flat. it has been quite stressful and makes me feel like i cannot live the life i want to. the life i live right now is not the happy one i once had",
          "I don't think I feel completely normal, but I feel alot better than I did last year. by taking Vitamin D supplements, going on walks, and gyms opening up (so I can go gym aswell) I'm slowly feeling alot better lately. I'm gaining more motivation to partake in my hobbies. Been reaching out to some friends that I didnt message back, and I have more feelings recently.",
          "I have low in the past week. I have felt fatigued in the afternoons and haven't wanted to engage in anything. I haven't felt as cheerful as normal.",
          "I have generally been feeling quite flat and not interested in doing things that i used to / normally enjoy doing. I don't have much motivation to carry out daily activities such as cooking a nutritious meal or going for a walk. I don't necessarily feel down or unhappy which is quite a confusing feeling."
         ],
         "marker": {
          "opacity": 0.5,
          "size": 5
         },
         "mode": "markers+text",
         "name": "9_low_feeling_really low",
         "text": [
          "",
          "",
          "",
          "",
          "",
          "",
          "",
          "",
          "",
          "",
          "",
          "",
          "",
          "",
          "",
          "",
          ""
         ],
         "textfont": {
          "size": 12
         },
         "type": "scattergl",
         "x": [
          11.820592880249023,
          11.541131973266602,
          11.74415397644043,
          11.738615036010742,
          11.471449851989746,
          11.637042999267578,
          11.69052791595459,
          11.640731811523438,
          11.659225463867188,
          11.702725410461426,
          11.730387687683105,
          11.596138000488281,
          11.607056617736816,
          11.66878604888916,
          11.646092414855957,
          11.779631614685059,
          11.508698463439941
         ],
         "y": [
          7.1653265953063965,
          7.448704242706299,
          7.555102825164795,
          7.433840274810791,
          7.59059476852417,
          7.514883518218994,
          7.525315761566162,
          7.3380866050720215,
          7.6731672286987305,
          7.065526485443115,
          7.06272029876709,
          11.360994338989258,
          7.218328952789307,
          7.109433174133301,
          7.2065911293029785,
          7.050496578216553,
          7.136062145233154
         ]
        },
        {
         "hoverinfo": "text",
         "hovertext": [
          "I am not depressed at all. I am having good time with family. I am working from home and maintaining the rules also.",
          "I haven't not been depressed since I was 9.  I cannot bring myself to believe that the things people care about in this world matter in the slightest (aside from family).  Which leaves me on the outside all the time with no motivation or interest in the things that drive others and give them meaning.  These things seem all so superficial and egocentric that it is hard for me to believe that anyone actually cares at all about them, let alone everyone caring so much about them.",
          "I have not been depressed, my life seems perfect to me currently and I think I have achieved what others cannot.",
          "I am not at all depressed. I am really happy with my life, my family, my job,  and everything else pertaining to me.",
          "I enjoy what I have, I appreciate how important life is and I try to take full advantage of it. In life you have to try everything. I'm not depressed",
          "Not depressed but trying my best to put things in order by doing things I know how to do best all the time",
          "I will say that am  not depressed, one of the thing that keeps me going is my dependence upon God and faith in my family that is the bond between us. I make sure i share every thing and have an open mind over issues.",
          "i have not been depressed as of recently i have a pretty clear state of mind  in where in heading in life",
          "During the last two weeks, i have i came across event that ordinary will lead to depression but being happy has managed to be my watchword.",
          "I have not been feeling depressed over the past 2 weeks. I think this is because I have gone back to wok after being on furlough for nearly 4 months so I'm feelong more optimistic about the future.",
          "I don't have depressed. I AM verry happy . I have a holiday and spend time with my lovely friends",
          "I have not been depressed, I have felt happy as I have been on holiday. I felt calm and clear headed and determined to return home refreshed and inspired.",
          "I have not been depressed recently. I have been living in good health and I have my loved ones around.  Also,  I have been having deals this period which I know will bring in money. So in all, I have been happy.",
          "I am not at all depressed. I am content in my life I love my family and the little life and routine we have. It brings me a lot of joy and I appreciate the small things and I am thankful for them.",
          "I have not been depressed I feel happy been furlough on full pay job secure have never felt more relaxed have really made the most of spending time with family",
          "over the the last two i have not been depressed. i have been very happy and cheerful with my self and people around me."
         ],
         "marker": {
          "opacity": 0.5,
          "size": 5
         },
         "mode": "markers+text",
         "name": "10_happy_life try_family",
         "text": [
          "",
          "",
          "",
          "",
          "",
          "",
          "",
          "",
          "",
          "",
          "",
          "",
          "",
          "",
          "",
          ""
         ],
         "textfont": {
          "size": 12
         },
         "type": "scattergl",
         "x": [
          13.175415992736816,
          12.940274238586426,
          13.19941520690918,
          13.182419776916504,
          13.102850914001465,
          13.222675323486328,
          12.924927711486816,
          13.110589981079102,
          12.949996948242188,
          13.420897483825684,
          13.261547088623047,
          13.259477615356445,
          13.071417808532715,
          13.139893531799316,
          13.33211898803711,
          13.205699920654297
         ],
         "y": [
          10.299537658691406,
          10.388004302978516,
          10.395308494567871,
          10.322073936462402,
          10.397685050964355,
          10.380982398986816,
          10.302974700927734,
          10.09187126159668,
          10.291853904724121,
          10.289909362792969,
          10.327214241027832,
          9.99533748626709,
          10.227256774902344,
          10.391560554504395,
          10.266143798828125,
          10.165546417236328
         ]
        },
        {
         "hoverinfo": "text",
         "hovertext": [
          "Yes, in the last two weeks I have had a particularly difficult period of depression. I was feeling completely despairing, like I was in too deep a sadness to ever return to normal. I was thinking I was worthless and felt like I had no one to turn to. The sadness felt like a cloud hanging over me, or like pressure building around my head and chest so that it was effortful to move. I was unable to regulate the sadness and frequently began uncontrollably crying with very little warning. I found this to be alarming and frustrating - I wanted so much to stop being sad but it felt impossible, I couldn't see a way out. And the guilt and frustration about being sad made me feel even more sad and I found myself entering into a downward spiral, life began to feel too hard and I felt like I needed to just go to sleep until it was all over.",
          "Had a very bad day where i felt very lonely and like nobody cared for me. Felt gloopy and tired just wanted the day to end.  Time watching constantly. Not eating no washing.",
          "My depressed feelings stem from feelings of hopelessness and pointlessness, like nothing I do has any point in the grand scheme of my life or life in general.  It leaves me feeling stressed and unable to focus on completing tasks, which leaves me drained.",
          "I have struggled to motivate myself at times and been plagued by memories from the past related to traumatic events. I haven't felt able to do the things I have intended to do on several days over the past two weeks. I have chosen not to answer my phone or respond to text messages more than I should have done because I couldn't be bothered to speak with people as I thought they would probably say something that would upset me. I have struggled to concentrate on things and have therefore not enjoyed things like reading or watching TV. I have felt very sad, tearful and lonely on several days over the past two weeks.",
          "Sadness, feeling down, and having a loss of interest or pleasure in daily activities are familiar feelings for all of us. But if they persist and affect our lives substantially, the issue may be depression.",
          "I am often feeling sad about things that have happened in the past. I am coming to terms with losing someone and this makes me feel very down and blue a lot of the time. It's hard to be motivated to do things in life when these thoughts are constantly on my mind. Sometimes I feel extremely unhappy and down hearted about this.",
          "Depression feels like Groundhog Day as I feel like I’m constantly replaying my emotions every day and it gets tiring having to repeat my feelings every day.",
          "I have been a bit down some days. Also angry some days. Arrogant people annoy me. I lost somebody a few months ago and I still feel sad.",
          "Not exactly depressed but I've had some days recently where I've just been feeling lonely and down. The day after I usually feel a lot better and these feelings haven't stopped me from doing day to day activities.",
          "Over the last 2 weeks there have been a few days where I have felt depressed, but luckily the majority of time i have been okay. When i felt depressed i didnt get out of bed, didnt bother to take care of myself or eat properly. During this time i felt my life was pointless and a waste of time, as i am not achieving anything or where i want to be in life.",
          "In the last few days I’ve been crying a lot. I had been anxious about people, I couldn’t go outside even to the shop to buy food. Been feeling miserable and useless. I felt that everybody hates me and thinks that I’m stupid. World was a dark and sad place that I couldn’t live up to. I thought my life was meaningless because nobody accepts me (not including my family).\n",
          "I have been depressed these past two weeks. I have been contemplative and wondering how my life could be different and what it would be like. However I have not been motivated to do anything about it as I feel useless and unworthy.",
          "Sometimes I feel like I might be depressed as I can have really low and sad days where I feel a bit useless. However I feel like my happy days do outweigh my bad days which makes me feel like I’m definitely not depressed, just a normal person with feelings.",
          "I have been extremely depressed during the last two weeks. I have had crying fits that hit me out of nowhere, and can not shake this empty feeling inside.  I wake up every morning feeling guilty, and regretting my choices that lead me to where I am today. I mourn over who was taken from me almost 24 hours evry single day. My heart and soul feel as though they are slowly dying.",
          "I have felt despair over the last few weeks. Some days are better than others. I spend too much time over thinking and wasting time getting nothing done then beating myself up as I’m wasting time. I have cried a lot and felt sad and lonely even though I’m live with family.",
          "I have been a bit sad because I was feeling ill and also just nervous about my future and people were annoying me and this was upsetting me."
         ],
         "marker": {
          "opacity": 0.5,
          "size": 5
         },
         "mode": "markers+text",
         "name": "11_sad_days_like",
         "text": [
          "",
          "",
          "",
          "",
          "",
          "",
          "",
          "",
          "",
          "",
          "",
          "",
          "",
          "",
          "",
          ""
         ],
         "textfont": {
          "size": 12
         },
         "type": "scattergl",
         "x": [
          11.560477256774902,
          11.519922256469727,
          11.388885498046875,
          11.728679656982422,
          11.344344139099121,
          11.373560905456543,
          11.373011589050293,
          11.346368789672852,
          11.273981094360352,
          11.557943344116211,
          11.48564624786377,
          11.473804473876953,
          11.416780471801758,
          11.605478286743164,
          11.750375747680664,
          11.330116271972656
         ],
         "y": [
          8.68426513671875,
          8.262493133544922,
          8.053553581237793,
          8.32364559173584,
          7.934741497039795,
          8.586825370788574,
          8.22401237487793,
          8.634438514709473,
          8.155774116516113,
          8.241339683532715,
          8.517478942871094,
          8.12380313873291,
          8.177254676818848,
          8.665987968444824,
          8.492852210998535,
          8.699729919433594
         ]
        },
        {
         "hoverinfo": "text",
         "hovertext": [
          "In the present the main aspect of my depression is lethargy and low energy levels. The biggest aspect of my personal state of depression is a lack of self-belief and pessimism for the future. I strongly feel inadqueate and unlikely to succeed and that my efforts to succeed will be futile.",
          "There are some days that are worse than others but lately i have been a bit more optimistic about the future given i now have a goal in mind going forward.",
          "I have been depressed about my performance in the last 2 weeks and am worried about my future, my lack of discipline, motivation, desire, but have no strength to make any actionable plans",
          "I feel optimistic about the future because I expect a number of good things to happen in my life soon. At the same time, my partner has been stressed and seems depressed herself, and this tends to have an effect on me as I can be affected by her emotional state.",
          "I have been feeling less depressed, less concerned and worried lately. I used to have only one plan for the future, and if that wouldn't work then I would be in a bind. But other future, promising options have come up giving less reason to be depressed.",
          "I'm in a fairly constant state of worry for the future, I have a young family, mental issues any money concerns that leave me depressed about my ability to provide in the future",
          "I have been worried about the future but I know everyone is in the same boat so that helps me feel more optimistic",
          "I have not been depressed but I do feel very anxious about the future and the uncertainty of my personal circumctsances and that of my family",
          "I have been taking stock and thinking how lucky I am to be employed in the current state that the world is in.",
          "I would answer this question by saying that, by and large, I have not been depressed over the last two weeks, however this period has featured aspects of what could be classified as depression in some sense (listlessness, struggling to feel hopeful about the future, regretful etc). I would estimate this has only accounted for perhaps 10 or 15% of the time over this period. Aside from that, I have been focused on personal and career endeavours in these time which I hope will allow me to overcome these negative feelings - this has included research, study and giving more focus to people I care about. While I feel that some of the circumstances I am in are difficult, overall I try and maintain an optimistic and idealistic perception of the world and of my future.",
          "I have been quite talkative and upbeat lately and looking forward to the future. I have worrying thoughts but I am still feeling cheerful and able to look ahead and still take pleasure from the little things in life.",
          "I have been depressed thinking about my future and how my life will not go back to hoe it was. I'm depressed that I may lose my job and won't return to full fitness",
          "I have found it hard to stay optimistic when facing so many different challenges. When one thing appears to be sorted another issues occurs.",
          "yes,  i am worried about the stock market and our country’s future.\nI feel very weak and depressed about this.",
          "I have not been depressed as I am hopeful for the future. If I am not hopeful then I would feel depressed",
          "I have felt depressed about the future and whether or not I will acheive things that I want to achieve by a certain point."
         ],
         "marker": {
          "opacity": 0.5,
          "size": 5
         },
         "mode": "markers+text",
         "name": "12_future_optimistic_hopeful",
         "text": [
          "",
          "",
          "",
          "",
          "",
          "",
          "",
          "",
          "",
          "",
          "",
          "",
          "",
          "",
          "",
          ""
         ],
         "textfont": {
          "size": 12
         },
         "type": "scattergl",
         "x": [
          11.913761138916016,
          11.650861740112305,
          11.803474426269531,
          11.803067207336426,
          11.845681190490723,
          11.623818397521973,
          11.592206001281738,
          11.910351753234863,
          11.501239776611328,
          12.041426658630371,
          11.823208808898926,
          11.683403968811035,
          11.63294792175293,
          11.509172439575195,
          11.918222427368164,
          11.781656265258789
         ],
         "y": [
          9.48702335357666,
          9.895426750183105,
          9.432583808898926,
          9.81672477722168,
          9.559124946594238,
          9.692461967468262,
          9.881739616394043,
          9.693869590759277,
          9.951184272766113,
          9.46096134185791,
          9.98176383972168,
          9.391307830810547,
          9.956156730651855,
          9.907092094421387,
          9.805034637451172,
          9.519213676452637
         ]
        },
        {
         "hoverinfo": "text",
         "hovertext": [
          "I am nervous but don't have enough time to dwell on it to be depressed. Usually I feel sad when I am bored.",
          "I am worried about my life. Actually I don't know what to do. I have a lot of friends to share my problems but I don't want to share. Actually life is so messed up now that I cant even tell anything",
          "Over the past two weeks I have had a heath worry that has caused my mood to drop considerably.  The more that I focus on the problem the more depressed I feel. I have been trying to summon up the courage to make an appointment to see my doctor for a diagnosis but I keep procrastinating as I  fear that he will find something seriously wrong with me. As time passes, the more despondent I become.",
          "I have been worried but definitely not depressed. I try hard to avoid anxiety and try to be hopeful and focus on positivity. It's the reason for my optimism. I find joy in entertainment and art. It keeps me stable.",
          "I haven't been depressed as such but I have felt anxious a number of times. I have been over thinking things and probably worrying too much about money. I have still been able to be happy though and it hasn't impacted me too much",
          "I have more than anything felt worried throughout the last few weeks. I am a chronic worrier and tend to worry about problems that may not exist. I believe this worrying has caused me to be in a negative mood that almost feels depressing. I feel some days I don't want to get up and proceed with my day to day tasks. My dog is the only one who can almost certainly pull me out of that state.",
          "I have been worried, but not depressed. I have taught myself to always find every opportunity in any given situation. So I’m this trying times where things aren’t as they used to be, I have tried my very best to rise above the current situation and give my very best in what I do. So this mindset and character I believe, have pushed depression or anything relating to it far away from me.",
          "Please answer the question by typing at least a paragraph below that indicates whether you have been worried or not. Try to weigh the strength and the number of aspects that describe if you have been worried or not so that they reflect your overall personal state of worry. For example, if you have been worried then write more about aspects describing this, and if you have not been worried then write more about aspects describing that. \n\nWrite about those aspects that are most important and meaningful to you.",
          "I have had my worrying days if those are a thing. It hasn't really been easy all round.\n\nI try as much as possible not to allow worry slip into depression",
          "I believe the over worrying has made my overall mood worse, I feel a lot more withdrawn and worn out. I don't feel like I have much energy for the things that I enjoy as much as I don't feel excited or up to doing much.",
          "I feel like I have been more worried than depressed over the last two weeks. I have had really bad lows after finding out good news- which was odd as I thought I should feel more hopeful and optimistic. I found out I had gotten a job which I thought was off the table and its in something I am (or profess) to be really interested in and should be really interesting work. Rather than feeling overjoyed I felt a bit shocked and numb and found it a bit easier to see the negatives around it although its really good news.",
          "I have worried about things and the situation we are in but there's nothing I can do about it. We have to get on with it and take each day as it comes. I have suffered being anxious, worried,stressed and insomnia . Worrying if my family are safe during this time and making sure I can do what I can to keep them safe healthy and well.",
          "Over the past two weeks I have been more worried than depressed.  There have been times that I felt hopeless and that life is not going right.",
          "I don't understand these questions, what does it mean to describe whether you have been worried or depressed or not?!"
         ],
         "marker": {
          "opacity": 0.5,
          "size": 5
         },
         "mode": "markers+text",
         "name": "13_worried_worried depressed_worrying",
         "text": [
          "",
          "",
          "",
          "",
          "",
          "",
          "",
          "",
          "",
          "",
          "",
          "",
          "",
          ""
         ],
         "textfont": {
          "size": 12
         },
         "type": "scattergl",
         "x": [
          11.82251262664795,
          12.7677583694458,
          13.19040584564209,
          12.836587905883789,
          11.68215274810791,
          12.852787017822266,
          12.83178997039795,
          12.7726469039917,
          12.809700012207031,
          12.799308776855469,
          12.95538330078125,
          12.631332397460938,
          12.903711318969727,
          12.851812362670898
         ],
         "y": [
          10.019994735717773,
          9.441292762756348,
          7.798099994659424,
          9.468708038330078,
          10.187494277954102,
          9.270650863647461,
          9.459808349609375,
          9.47023868560791,
          9.215005874633789,
          9.145505905151367,
          9.301472663879395,
          9.585567474365234,
          9.39216423034668,
          9.517086029052734
         ]
        },
        {
         "hoverinfo": "text",
         "hovertext": [
          "I have been very depressed in the last 2 weeks. My relationship has been going badly and my debt levels have made me feel terrible and I have been contacting my local mental health team.",
          "I was short of money and none was forth coming so I was thinking of ways to get more money with no tangible result. I was depressed",
          "Due to these times, financial loss has been a great influence on my moods. Money is low to non-existent, I suffer with ocular migraines, sleeping is up and down, I have back problems, and the lack of employment is putting a great strain and worry on my partner.",
          "Lately, I've been really depressed, lif has been so tiring and I'm tired and sad. It's difficult to make ends meet",
          "I get bouts of depression when I think of the state of my finances. It wighs me diwn a lot",
          "I have been relatively depressed in the last two weeks mainly due to the coronavirus situation and the fact that i am not able to see my friends. I have also been relatively depressed on the money sides of thing with me not earning enough money.",
          "I have been depressed over the past few weeks because things have not been going my way. My financial situation has taken a huge downfall, and I am in debt. There's nothing I am doing that is currently working out, and it gives me sleepless nights. It's difficult trying to make ends meet, especially in this time of pandemic.",
          "I have felt depressed at some times in the last 2 weeks. One of the main reasons is that money is tight for me at the moment because I am self employed and my business has not been performing as I would hope in the last couple of months. One of the main reasons for this is the way that Coronavirus has affected shops. My mum is ill and more suseptible to catching the virus so I have been extra careful. Also I find a lot of my stock from second hand stores so I have not been able to replenish my stock for a long while.",
          "Feeling like I have no purpose, constantly tired and feel like I'm not contributing enough to my household.  Having to deal with talking to my bank about money worries makes me feel guilty for letting my family down.",
          "I've been restless thinking about how I don't have money compared to my peers which is making kind of depressed.",
          "I have felt hopeless about being debt and like I would never be comfortable financially.  This makes me sad and worried.",
          "I have been depressed somewhat as a result of the fact that i have not been able to settle some debts.",
          "I was depressed when I learnt that my car was no longer working.  Having the financial worry and not being able to get out and about.",
          "I have been depressed for some times now because of so many things. Life seems not to be working in my favor right now, my wife has lost her job as a result of the pandemic and also my salary has been slashed, these are badly affecting my mental health right now."
         ],
         "marker": {
          "opacity": 0.5,
          "size": 5
         },
         "mode": "markers+text",
         "name": "14_money_debt_financial",
         "text": [
          "",
          "",
          "",
          "",
          "",
          "",
          "",
          "",
          "",
          "",
          "",
          "",
          "",
          ""
         ],
         "textfont": {
          "size": 12
         },
         "type": "scattergl",
         "x": [
          10.33975601196289,
          10.31257152557373,
          10.349287986755371,
          13.43049144744873,
          10.511302947998047,
          10.247332572937012,
          10.301607131958008,
          10.487933158874512,
          10.518213272094727,
          10.422358512878418,
          10.53637981414795,
          10.377765655517578,
          10.825536727905273,
          10.292938232421875
         ],
         "y": [
          10.420890808105469,
          10.356605529785156,
          10.56648063659668,
          9.377237319946289,
          10.16041088104248,
          10.494544982910156,
          10.428439140319824,
          10.538777351379395,
          10.117700576782227,
          10.225422859191895,
          10.22050666809082,
          10.357185363769531,
          10.222886085510254,
          10.478589057922363
         ]
        },
        {
         "hoverinfo": "text",
         "hovertext": [
          "Over the past 2 weeks i have been feeling depressed and not being able to go out made it worse.",
          "I have never had an issue with depression so over these last  2 weeks I have be more happier than I have since this year. I have been happy,",
          "Over the last 2 weeks, i have not been depressed. Things are going well in my life and i have been feeling positive about the future. I have also been enjoying nice weather and time with my husband and pets.",
          "The last 2 weeks for me have been wonderful. I've been going back to restaurants and cafes. I've been meeting up with friends and going for long walks. I've been going out with my children and getting fresh air. There has been nothing for me to be depressed about. I've truly felt fortunate and happy.",
          "I haven't been depressed over the last two weeks.  This is due to the love my family and my co workers have shown me during this particular period.",
          "I have not been depressed in the last several weeks. My life has been great and I am very thankful to be in the position that I am in life.",
          "Over the last 2 weeks I certainly haven't been as depressed as I have been in recent years. There have been some days, mostly on an evening, when I think about an ex relationship and I burst into tears or when I was unhappy with myself and my body and how I look. This in particular I would say has been the most depressing element of my life over the past few weeks. My overall personality has been about 80% but on an evening in particular I do struggle.",
          "Actually I'm not depressed. What ever thing that will make me feel depress, i will just find something that will keep me busy",
          "I do not feel that i have been depressed in the last 2 weeks as i have been spending more time with my family to keep my spirits up.  My six year old sister brings light into my life and keeps me happy everyday by just being there and smiling.  She keeps me from going to a dark place.",
          "Over the last 2 weeks I have been thankful and grateful. I haven’t been feeling depressed but I might have my ups and downs sometime",
          "I was not depressed in last 2 weeks. Like i mentioned in last question i'm making a lot of things which giving me pleasure. I have lovely family. It is normal that sometimies we arque but we want for each other the best and it is beautiful. I'm so shy and introverted and thanks to pandemic i can sit at home and watch film or read books or even write books so it so positive time for me.",
          "I have not been depressed in the past week. I have a lot to be thankful for at the moment.f",
          "I have not been depressed at all over the last 2 weeks, I'm happy with my life and job",
          "I have not been depressed in the last 2 weeks, I enjoy my life and am comfortable with my mental wellbeing"
         ],
         "marker": {
          "opacity": 0.5,
          "size": 5
         },
         "mode": "markers+text",
         "name": "15_thankful_weeks_particular",
         "text": [
          "",
          "",
          "",
          "",
          "",
          "",
          "",
          "",
          "",
          "",
          "",
          "",
          "",
          ""
         ],
         "textfont": {
          "size": 12
         },
         "type": "scattergl",
         "x": [
          13.696961402893066,
          13.59353256225586,
          13.64326000213623,
          13.55482292175293,
          13.472134590148926,
          13.413878440856934,
          13.772568702697754,
          13.346417427062988,
          13.468411445617676,
          13.609626770019531,
          13.354231834411621,
          13.565950393676758,
          13.513167381286621,
          13.514100074768066
         ],
         "y": [
          9.367595672607422,
          9.757664680480957,
          9.741934776306152,
          9.617744445800781,
          9.772588729858398,
          10.059849739074707,
          9.767298698425293,
          10.046463966369629,
          9.822714805603027,
          10.104413986206055,
          9.889726638793945,
          10.10561466217041,
          9.813863754272461,
          9.771408081054688
         ]
        },
        {
         "hoverinfo": "text",
         "hovertext": [
          "I feel like I've been depressed more than 2 weeks ago maybe since I was 11. I have bad thoughts, I cry almost every night and I stay in my dark room.",
          "over the last 2 weeks, I have been slightly depressed. My boyfriend and I broke up and my mom also got mad at me for lying to her about something else. It just felt like i was a burden on everyone and that i am never good enough for anyone. It was hard for me to sleep at night, i usually dont eat a lot but this time my appetite decreased even more. I did not know how i was feeling, i kind of just felt numb and it felt like something was trapped in me that i did not know how to show, it was hard for me to cry.",
          "I have been slightly depressed for the past month too.\nI really hope to see a doctor as regards this as soon as i can",
          "i have been feeling very depressed this week ....having a constant headache not wanting to get out of bed and sleeping alot more than usual. Ihave not wanted to participate in any activity with my family. I have neglected the house work and laundry as i have had no energgy at all i ache all over and my body feels so heavy. i have just been eating junk food that does not take any preparing",
          "I have been depressed on and off over the past week. Not every day, but it comes and goes. Sometimes I can be ok for a few days, but then it always creeps back in. I'll start sleeping more, neglecting my household chores, and I don't enjoy my hobbies as much as usual.",
          "I have not been depressed at all recently. Whilst I have been stressed about various different things in my personal life and financially, things have gotten a lot better recently in regards to my mental health. I love my job, have a wonderful boyfriend and am feeling very stable. I also have amazing friends who support me. This all makes me very happy and I am very lucky that my mental health is on track. My boyfriend does suffer with depression so watching him go through this makes me very sad; however, I know I am not depressed as he describes his feelings to me and I do not feel this way. I am very happy at the moment. I feel content and I sleep very well. My sleeping patterns are a very good indication for me of how I am really feeling as I tend to dream very vividly. When I am particularly sad or down, I dream a lot more than usual about things in my life that aren't as I would want them. I am very happy.",
          "I have felt depressed for a few days over the past two weeks. I have been listless and heavy. Things that would usually bring me joy have not, I am unable to focus.",
          "I have been depressed over the past two weeks. I have had trouble sleeping and I cry all the time. A lot of things in my life are not going the way I want them too but I also think I may have a chemical imbalance in my brain. It is hard for me to be the person I want to be when I am depressed.",
          "I feel like I have been very depressed over the last 2 weeks. Lots of triggers have been happening for me over the past few weeks and on top of being recently diagnosed with depression, I feel like things have reached a breaking point in my personal life and in my head. It is hard for me to sleep over the past few weeks, work has been terrible, and I have no one to communicate with.",
          "Over the last 2 weeks, I have been depressed. I have been feeling sad, have loss of interest in activities once enjoyed such as exercising and reading, I'm hungry all the time and have trouble sleeping. \n",
          "over the last two weeks i have felt depressed but not as badly as i have in the past. i have noticed that i am more tired than normal.",
          "I have felt quite depressed over the last 2 weeks. The main symptom is fatigue: if I am not at work then I have been lying on the sofa, with barely any energy. I have also found it quite hard to concentrate or enjoy any activities that would help me to relax and take my mind off things."
         ],
         "marker": {
          "opacity": 0.5,
          "size": 5
         },
         "mode": "markers+text",
         "name": "16_sleeping_boyfriend_past",
         "text": [
          "",
          "",
          "",
          "",
          "",
          "",
          "",
          "",
          "",
          "",
          "",
          ""
         ],
         "textfont": {
          "size": 12
         },
         "type": "scattergl",
         "x": [
          12.903346061706543,
          12.867008209228516,
          12.895292282104492,
          12.525744438171387,
          12.915059089660645,
          13.040643692016602,
          13.013712882995605,
          12.845695495605469,
          12.86418342590332,
          12.820182800292969,
          12.885990142822266,
          12.572235107421875
         ],
         "y": [
          6.982823371887207,
          7.570117473602295,
          7.083868026733398,
          7.076582431793213,
          6.81315803527832,
          7.016353130340576,
          7.4061665534973145,
          7.088249683380127,
          6.916834354400635,
          7.050580024719238,
          7.031374454498291,
          6.918865203857422
         ]
        },
        {
         "hoverinfo": "text",
         "hovertext": [
          "Not depression per se, but just down In general. With the loss of a family member, looking on and upward.",
          "To be honest there have been times I may have been down but it was very short lived. There really is a lot to be grateful for , if there isnt. There's always a reason to be hopeful",
          "Over the past fortnight, I haven't felt down very often. In fact, I can't remember having any bad episodes. I think I've felt sad because of films and TV shows in this time but that's all. Having said this, I haven't been extremely happy either. It's more that I've been getting on with day to day life and nothing has happened to make me feel down. In general, I feel happy and good but not excited.",
          "I have had some feelings of being very down. I was crying yesterday morning as I really felt trapped and needed to get out of home. This was mild feelings but to me felt very overwhelming.",
          "Definitely felt down at times, low energy, lacking motivation, and wanting to stay in bed all day and not get out. What's been most important to me is just the lack of energy which I get when I know depression has hit hard.",
          "I've felt down at times and sometimes felt weepy. I think I'm more emotional than usual due to it being near my period. Sometimes I've felt very low and disinterested in activities. However I have felt happy at other times and I've enjoyed spending time with my partner and my friends.",
          "I have not been depressed. There is currently nothing majorly going wrong with my life. So there is no reason for be to be sad or to be feeling down. I am happy with my place in life and am enjoying it.",
          "I have had moments in the past 2 weeks where I have felt down, but I wouldn't say it was depression as such. I have felt a little sad and lonely due to Covid restrictions in my area, but overall I have been quite upbeat and productive.",
          "Downhearted I would say is the best way to describe how I have felt recently. I have been feeling like a sigh, which I know is not necessarily a normal way to describe a feeling, but I feel that heavy feeling that comes when you sigh with sadness. I have been starting to withdraw into myself and isolate from people I love, which I know is unhelpful, but is my reflex.",
          "I have clinically diagnosed depression. Over this past week I have felt pretty good and have noted this but last week I was feeling quite down, on one or two days I became frustrated with how I was feeling because there was nothing that should have been keeping me down.",
          "Generally I have not been depressed, as I have had things to do around the house and have been able to see some friends. There have been moments when I have felt down but these are less frequent compared to the stable mood I have felt. I also take antidepressants which help"
         ],
         "marker": {
          "opacity": 0.5,
          "size": 5
         },
         "mode": "markers+text",
         "name": "17_felt_felt times_ve felt",
         "text": [
          "",
          "",
          "",
          "",
          "",
          "",
          "",
          "",
          "",
          "",
          ""
         ],
         "textfont": {
          "size": 12
         },
         "type": "scattergl",
         "x": [
          12.343107223510742,
          12.285002708435059,
          12.32701301574707,
          12.253009796142578,
          12.440858840942383,
          12.293335914611816,
          12.68774700164795,
          12.29653549194336,
          12.25648021697998,
          13.86418628692627,
          12.448518753051758
         ],
         "y": [
          11.06205940246582,
          11.014702796936035,
          10.956157684326172,
          10.952479362487793,
          11.044271469116211,
          10.993241310119629,
          10.913773536682129,
          11.078075408935547,
          10.906497955322266,
          9.15919017791748,
          10.972084045410156
         ]
        },
        {
         "hoverinfo": "text",
         "hovertext": [
          "Life feels pointless and I get no enjoyment out of it. I can objectively see that certain things should be bringing me joy which gets me down even further as I either feel nothing in response or just a crippling sadness.",
          "Completely depressed on two days where I felt life was pointless I was worthless . I couldn’t see how things would get better how I would ever sort myself out",
          "when i am going to do any work if i am failed or restricted from this work i feel bored, i am nothing, i failed .",
          "When I'm alone I feel pretty useless and lose all interest in doing anything. This then makes me feel like I haven't used my time wisely and in turn, makes me feel useless and I start to hate myself. This then leads to self-loathing and having thoughts about dying.",
          "I feel like I have lost major interest in things I would usually be interested in regularly. It unnerves me by how these things that would bring me a lot of happiness seem so mundane and uneventful.",
          "I've found that the previous few weeks rush back to normality has led to an apathy within me. Almost a feeling of general disdain to the world in its current format. Knowing that the drive and purpose of almost anything in waking life is driven by pure greed by those at the top - it adds a layer of pointless-ness to my own existence, I am disposable.",
          "I've felt quite depressed lately. I've been struggling to do anything, or over working to compensate for that fact that I feel useless for not working when I should have been. I've had thoughts about wanting to give up, and that nothing matters.",
          "Everything feels pointless, I feel unmotivated to carry out even the most basic daily tasks. My existence feels pointless, like I don't serve a purpose",
          "The feeling that it was all for nothing, is there any reason to continue to work hard if it doesn't make me feel fulfilled or happy.",
          "I've been feeling a sense of complete worthlessness. I feel I am a drain on everyone around me. I think that everyone would be better off if I wasn't around. This makes me want to just vanish.",
          "I have been depressed and this means that I have neglected to do certain tasks, which has led to more depression."
         ],
         "marker": {
          "opacity": 0.5,
          "size": 5
         },
         "mode": "markers+text",
         "name": "18_pointless_feels pointless_useless",
         "text": [
          "",
          "",
          "",
          "",
          "",
          "",
          "",
          "",
          "",
          "",
          ""
         ],
         "textfont": {
          "size": 12
         },
         "type": "scattergl",
         "x": [
          11.120285034179688,
          11.086474418640137,
          10.777246475219727,
          10.645544052124023,
          11.4498872756958,
          10.882411003112793,
          11.11182689666748,
          10.873180389404297,
          10.975459098815918,
          10.94633674621582,
          10.91062068939209
         ],
         "y": [
          7.815973281860352,
          7.778593063354492,
          7.540727138519287,
          7.842261791229248,
          7.107023239135742,
          7.701019287109375,
          7.654033660888672,
          7.665219783782959,
          7.673523902893066,
          7.727926731109619,
          7.441517353057861
         ]
        },
        {
         "hoverinfo": "text",
         "hovertext": [
          "I have been mildly depressed on and off it hasn't been consistent. I have moments where I feel optimistic and positive and moments where i feel helpless and like life is an impossible challenge and out of my control and like I have no power to do anything. I think my depression is mild but it gets worse if I experience something which sets me back. I struggle to be positive and often feel negative about situations and like I shouldn't get my hopes up or keep trying because life just keeps knocking me down",
          "Occasionally, I have felt depressed and not in the mood for some activities. This is due to me realising my lack of social skills. I don't feel like getting out of the bed or cleaning my room and wardrobe. I also occasionally have thoughts of self harm but prevent myself from doing so.",
          "I have been very depressed intact almost at verge of giving up day and night I always think about taking my life.",
          "I have struggled with changes to the lives of my family and me. I constantly see mistakes I have made as negative and painful influences on my family. I am racked with guilt and self loathing, a feeling of worthlessness and shame.",
          "I have been low and depressed regarding aspects of my life beyond my control. I have felt that life won’t come together as I want it to. And that I have made a mess of life that I can never get away from",
          "In the first week I was feeling positive and happy with myself, I felt motivated and was productive. Getting things done made me feel happy as I felt a sense of achievement, this made me feel more energised and content with life. \nIn the second week, I was not doing so well. I had some bad news and so that started to trigger a series of negative emotions and attract more bad unfortunate events. I was unwell medically and so this got me down. I then started to feel sorry for myself and unmotivated to do anything. Then because I was less productive and did not really achieve much I felt guilty and frustrated about myself. I started to be full of emotions of self-doubt and suffered with low self-esteem. It felt like everyone and everything was out to get at me.",
          "I have been very depressed and struggling with hating myself and self harm thoughts and actions, struggled with missing friends and sports.",
          "This whole week I've been suicidally depressed I even cut my wrist just to see if I could feel pain I've been feeling less than piece of dirt on the ground I'm trying to do so good and I keep messing up my life I hate it so much",
          "I have been depressed because I feel like nothing is worth it. I currently feel a lack of drive to continue and achieve things I am working on. I view this as low moral character and beat myself up because it feels like I always give up. My depression is driven largely by low self-esteem",
          "I've been feeling extremely depressed. During a depressive state, I cycle through feeling either extremely distraught or just empty/numb. I haven't been considering suicide but rather that I shouldn't have been born in the first place. I can't however pin point the exact cause of this state.",
          "I’ve felt feelings of low self esteem, low self worth and despair at being me as I feel like I’m failing at life and not good enough."
         ],
         "marker": {
          "opacity": 0.5,
          "size": 5
         },
         "mode": "markers+text",
         "name": "19_self_low self_low self esteem",
         "text": [
          "",
          "",
          "",
          "",
          "",
          "",
          "",
          "",
          "",
          "",
          ""
         ],
         "textfont": {
          "size": 12
         },
         "type": "scattergl",
         "x": [
          12.115124702453613,
          12.167736053466797,
          11.889780044555664,
          12.002077102661133,
          11.978471755981445,
          12.016849517822266,
          12.163098335266113,
          12.047541618347168,
          11.954985618591309,
          11.90195369720459,
          11.977115631103516
         ],
         "y": [
          8.59384536743164,
          8.267189025878906,
          8.434831619262695,
          8.092440605163574,
          8.099422454833984,
          8.17558479309082,
          8.398941993713379,
          8.44328498840332,
          8.005505561828613,
          8.386003494262695,
          8.06895923614502
         ]
        },
        {
         "hoverinfo": "text",
         "hovertext": [
          "I suffer with severe depression so yes, I have been constantly depressed. I feel like I have a concrete block on my chest and it is impossible to complete many every days tasks such as laundry",
          "Yes i have been depressed and over the past 2 weeks it has gotten worse with these restrictions, i suffer from BPD and what is happening is not good for me.",
          "Yes i have been depressed more than half of the days in the past 2 weeks I felt sad unmotivated easyily irritable and full blown meloncholy",
          "Yes, I have been depressed most days over the last two weeks. My depression is mainly caused by my chronic pain condition and extreme fatigue. I spend most days of the week in bed resting, sleeping, or trying to fight off pain. It has severely curtailed my life choices and freedoms. I can no longer work a 9-5 job, I miss out on seeing my friends, and I feel like a useless mother to my teenage children. I feel very isolated and alone. If I could get rid of my pain and fatigue, I know my depression would lift as I could resume the life I had before.",
          "Yes, I have been depressed within the past two weeks. It has made me fatigued, and unable to get out of bed. Or complete basic chores. The depression is for no known reason, however.",
          "Yes I have been depressed on several occasions. I have felt really low and shut myself away from my friends and family. I have been diagnosed with depression and anxiety so know when I am having a bout of it.",
          "Yes, I have been depressed. It’s definitely not as prevalent as it used to be before I started taking medication for it but my mood is still really low.",
          "Yes, I have been depressed over the last two weeks. While depression isn't exactly a new thing for me it has become more frequent and somewhat more severe as of late. I was laid off due to the COVID situation and I think that is a large factor in this issue, for me the stress just worsens the depression. I've struggled to maintain a good schedule and I'm not sleeping well either. I do have hope that things will turn around though, I'm just not sure how soon that will be.",
          "Yes, I have been depressed over the last two weeks. I have been sleeping way later and staying up, and am currently still experimenting with my doctor on medication.",
          "Yes i have been depressed over the past two weeks. My job can be stressful at times which can make my mood worse, however it does also help me as it keeps my mind distracted from things that trigger me."
         ],
         "marker": {
          "opacity": 0.5,
          "size": 5
         },
         "mode": "markers+text",
         "name": "20_yes depressed_yes_yes depressed past",
         "text": [
          "",
          "",
          "",
          "",
          "",
          "",
          "",
          "",
          "",
          ""
         ],
         "textfont": {
          "size": 12
         },
         "type": "scattergl",
         "x": [
          13.21214771270752,
          13.525965690612793,
          13.678905487060547,
          13.375661849975586,
          13.47814655303955,
          13.515116691589355,
          13.535513877868652,
          13.810759544372559,
          13.71981430053711,
          13.614971160888672
         ],
         "y": [
          12.044093132019043,
          12.142387390136719,
          11.992793083190918,
          12.101781845092773,
          12.08981990814209,
          12.118431091308594,
          12.111351013183594,
          12.00174331665039,
          11.984418869018555,
          12.079829216003418
         ]
        },
        {
         "hoverinfo": "text",
         "hovertext": [
          "i have been fairly happy; keeping busy and not letting my mood get weighed down by negative things. my life has been a lot easier recently since i have no schoolwork to do",
          "I have been fairly happy and am looking forward to going to university this year. Not much is happening at home but I am enjoying spending time with freinds online.",
          "I have felt more positive and personally stable recently than I have for the first time in awhile, despite the rapidly changing and worrying state of the world we live in at the moment.",
          "Generally speaking I have been quite happy. Everything at work is going good and my family life is good. Things are going well.",
          "I have always been happy and cheerful irrespective of the situation with the hope of  a better tomorrow and live for the moment always",
          "I received a first class in my first degree! I was over the moon about that. I celebrated with my family, friends and boyfriend. We went on a road trip to the tops of the hills. It was so peaceful and fun! We got drunk and had lots of food!",
          "Just swirling into a void of nothingness, I just can’t seem to stay happy for more than 5 minutes. I can build my happiness up for hours then collapse it all with one bad flashback. I want to do so much but the lack of means makes my spirit crumble.",
          "Before corona I was very happy. I believed that work was progressing well, my family life was in order. However a lot has changed in the last few months and now i feel very out of sorts a lot of the time.",
          "Generally, I feel happy and content with myself and where I'm at and am enthusiastic about even happier times ahead. Occasionally, I will feel a bit down and a bit empty, doing the same things every day and feeling like I'm not going forward. However, overall I am hopeful and happy.",
          "My life has been very well balanced recently, with both work and spare time used well. My job is stable, very easy for me to manage and does not require too much critical thinking. I always take time on my days off to go for walks outside, it helps me feel more relaxed and at peace."
         ],
         "marker": {
          "opacity": 0.5,
          "size": 5
         },
         "mode": "markers+text",
         "name": "21_happy_family life_recently",
         "text": [
          "",
          "",
          "",
          "",
          "",
          "",
          "",
          "",
          "",
          ""
         ],
         "textfont": {
          "size": 12
         },
         "type": "scattergl",
         "x": [
          11.39055061340332,
          11.256901741027832,
          11.555327415466309,
          11.621713638305664,
          11.711204528808594,
          11.185220718383789,
          12.847739219665527,
          11.215089797973633,
          11.766451835632324,
          11.385416030883789
         ],
         "y": [
          10.165751457214355,
          10.08531665802002,
          10.10423755645752,
          10.221396446228027,
          10.276331901550293,
          10.106364250183105,
          7.626521110534668,
          10.29745864868164,
          10.030908584594727,
          10.090617179870605
         ]
        },
        {
         "hoverinfo": "text",
         "hovertext": [
          "I feel that I have been able to cope with day to day life. Things are no longer hard, they are just routine now. This is the new normal.",
          "Although there is lots happening at the moment, I do feel more contented than I have done in a long time. I am able to rest in a good quality house and just about manage to buy food and other bits I need. I am lucky that I have a fantastic team at work who are very supportive and always ready to help out if someone needs a hand.  I am looking after myself and am able to see family at a distance rather than being isolated from everyone which makes such a positive difference to me. \n",
          "I've been more spirited with people around me which was due to how much of internal peace I've been getting lately",
          "It’s becoming really stressful at the moment of what is going on in the world and we are not having answers of what is happening and what is going to be done and as a mother of two I think about this and at the moment you have to because of work and everything",
          "yes very much just seem everything is getting on top of me at the moment with no money to get out and see friends just work and sleep. i do have a lot of support from the family but i don't like to ask to much as i feel i need to handle these difficult times on my own.",
          "Again, this is a strange thing to ask, it does not make sense. I am unsure if something has been lost in translation.",
          "Recent weeks have not been same durung the during due to restrictions but right now I feel the more freedom to associate with people again.",
          "Yes it's been differcult to some days get up and do things and be able to go out and meet people .",
          "Not really. Pace of life has changed and I'm definitely seeing people less but I'm building stronger connections with close friends and family",
          "My life has been great. Nevertheless I have been going through some UP's and down's but that haven't brought me down to my kneels. I wake up every day more determined and more  certain of conquering  what ever challenge I face that day. If I am not able to I then get back home rest and get up ever ready to fight another day."
         ],
         "marker": {
          "opacity": 0.5,
          "size": 5
         },
         "mode": "markers+text",
         "name": "22_moment_ready_able",
         "text": [
          "",
          "",
          "",
          "",
          "",
          "",
          "",
          "",
          "",
          ""
         ],
         "textfont": {
          "size": 12
         },
         "type": "scattergl",
         "x": [
          10.486745834350586,
          10.240915298461914,
          10.351424217224121,
          10.287555694580078,
          10.318695068359375,
          12.297310829162598,
          10.26241683959961,
          10.343223571777344,
          10.322998046875,
          11.343875885009766
         ],
         "y": [
          9.194344520568848,
          9.315577507019043,
          9.352363586425781,
          9.27308464050293,
          9.34761905670166,
          10.097421646118164,
          9.159921646118164,
          9.357769012451172,
          9.347545623779297,
          7.087754249572754
         ]
        },
        {
         "hoverinfo": "text",
         "hovertext": [
          "Over the last couple of weeks I have also felt depressed. I have cried lots due to my dad passing away in April 2020. This along with the coronavirus pandemic has made me stressed and depressed in terms of the uncertainty of whether we will be able to see loved ones again, and do the things I have enjoyed such as to go travelling or to socialise with friends. This isolation has caused me to feel depressed.",
          "I have felt depressed recently. I had been finding things difficult as I have been shielding due to coronavirus and I live alone so this has been challenging at times. Also one of my closest friends passed away very recently so that seems to have triggered a depressive bout.",
          "I have experienced my usual symptons of Major Depressive Disorder over the last month such as having little or no energy, having no interest in doing anything, finding even mundane tasks a struggle and having a negative outlook. My father passed away 5 weeks ago after a long battle with ill-health so this has not helped my general mood but I would say I am coping with the loss well so far all things considered. At least there is no real change in my general depression, that is.",
          "I am an atheist and a nhilist. This means I am pretty much always depressed as I find it hard to find meaning in anything. On top  of which three months ago I had to have my German Shepherd put to sleep through illness. He came the closest to ever giving me constant companionship and affection. I am still trying to deal with that loss. How I have been feeling is something I have never experienced before. Not even at the time of my fathers death.",
          "Luckily I do not suffer depression of any kind as I have a very stable lifestyle with lots of friends and activities to keep me active and busy. I have friends that have suffered and from that I know how difficult can become.",
          "I would not consider myself depressed enough to need clinical intervention but recognise the signs of it beginning to return and get its claws into me. Every day I continue to make healthy choices that slowly keep the monster from returning, things like keeping active, staying on top of chores, having a productive effect on the world around me, not ignoring difficult decisions but every now and again I slip. It's very hard to see it happening and with the current climate of reduced social contact and dangers present in the outside world,  you can be coerced into the perfect environment to breed depression. Thankfully, due to the cognitive behaviour therapy and self-reflection, I keep an eye on it and try to move past it.",
          "I have been sad and depressed because my mother died 3 days ago on another continent. I was not there - only on the phone. This made me to reflect on life and happiness. I will carry on - I am strong - depression will not win over me",
          "I don't think I have been really depressed, but I have been sad on quite a few of the days. This isn't my usual state, but more a reflection of the fact that a close relative recently died unexpectedly. It was all the more saddening because, while their death was unrelated to the coronavirus, I was unable to attend their funeral due to the current situation. Other than this though, I think I am alright.",
          "I have not been depressed that much recently. The corona virus pandemic had its toll earlier on, but now, having been able to see more friends and family, i feel happy, emotionally uplifted and greatly thankful for life."
         ],
         "marker": {
          "opacity": 0.5,
          "size": 5
         },
         "mode": "markers+text",
         "name": "23_having_coronavirus_reflection",
         "text": [
          "",
          "",
          "",
          "",
          "",
          "",
          "",
          "",
          ""
         ],
         "textfont": {
          "size": 12
         },
         "type": "scattergl",
         "x": [
          10.758832931518555,
          10.790204048156738,
          10.899961471557617,
          10.86945629119873,
          11.21414852142334,
          11.1323823928833,
          10.916690826416016,
          10.756217956542969,
          11.065642356872559
         ],
         "y": [
          9.752480506896973,
          9.732437133789062,
          9.704086303710938,
          9.713178634643555,
          10.432527542114258,
          10.349688529968262,
          9.646016120910645,
          9.776013374328613,
          10.09546947479248
         ]
        },
        {
         "hoverinfo": "text",
         "hovertext": [
          "Yes, I have been depressed and each day I find myself thinking about life in general and what need there is to keep living in the first place. I question my existence and I think a lot about death and pain. It sucks",
          "No I haven't been depressed but was close. I am currently under medication for depression and have been for several years. The medication combined with exercise has worked for me at keeping it at bay. The last couple of weeks my work has been really busy and has limited the time available for my exercise. I have noticed the difference in my head due to this lack of exercise but identifying the symptoms has helped me rectify the exercise plan and keep the demons at bay.",
          "Yes, I have been depressed over the past two weeks.  I have been depressed for 40+ years.  I find no joy or happiness in day-to-day life - I merely exist, rather than live.  My mindset has recently moved from \"It would be better if I'd never been born.\" to \"It would be better if I were dead.\"  I realise this is a dangerous change in thinking and have been using telephone support services to see me over the worst moments.  My family is unaware of this change.",
          "Yes I have been depressed over the last 2 weeks due to grief over loosing my family members and money issues which is occuring in my life at the moment",
          "Yes over the last 2 weeks I have been depressed because I have been feeling like everything in my life has been going wrong. Rent has suddenly been raised and I haven't been able to get groceries or my medication because of stores being closed due to the riots plus some other things going on",
          "Yes. I'm sad all the time. I've always been depressed and now it just seems like this will be my life forever. I'm a failure and have nothing to look forward too. My life is just passing by while I'm stuck in my mind. I don't see myself getting out of this situation.",
          "No. I have been diagnosed with depression before, but my current issues are very different to this. While I have a lot of negative feelings and options, none of these are as hopeless and overwhelming as what I experienced during depression.",
          "Yes, I have been depressed. Mostly concerning my own self-worth and value to others. I feel like my connections aren't strong enough.",
          "Yes, I have been depressed lately, the past two weeks including. Again, it has a lot of ties to the current situation of the world. Asside from it, my family (parents, siblings, grandparents) has been crumbling for some time now and I'm doing my best to glue it all back together."
         ],
         "marker": {
          "opacity": 0.5,
          "size": 5
         },
         "mode": "markers+text",
         "name": "24_yes_yes depressed_exercise",
         "text": [
          "",
          "",
          "",
          "",
          "",
          "",
          "",
          "",
          ""
         ],
         "textfont": {
          "size": 12
         },
         "type": "scattergl",
         "x": [
          13.288508415222168,
          13.620828628540039,
          13.359095573425293,
          13.398760795593262,
          13.389680862426758,
          13.323837280273438,
          13.479880332946777,
          13.362381935119629,
          13.320330619812012
         ],
         "y": [
          12.262804985046387,
          11.803300857543945,
          12.361190795898438,
          12.366288185119629,
          12.331844329833984,
          12.279908180236816,
          12.236963272094727,
          12.197198867797852,
          12.244929313659668
         ]
        },
        {
         "hoverinfo": "text",
         "hovertext": [
          "Yes, I've been depressed. I'm getting married and moving and it's made my depression flare up. I don't want to get out of bed. I don't want to be awake right now. If I go back to sleep, the world goes away and I don't have to think. I don't know how to talk about it, since I'm supposed to be happy right now.",
          "yes I suffer from insomnia and fell tired all the time and worry about things which make me anxious and irritable. But still manage to function to look after my family and make sure there happy.",
          "Yes, i have been depressed.\nI have felt low and struggled to do some of my daily tasks some days not being able to shower, other days i wouldn't be able to do chores. Some days i would get irritated very quickly out of no where.",
          "Yes I have been very depressed the past two weeks. In the past a counselor said that my anxiety causes me to have depression. There are a lot of days where I don't even want to get out of bed and start the day. Sometimes I just stay in bed, then I get behind on everything and I tell myself to stop doing this so I won't get behind again! The house needs to be cleaned but I am waiting for cooler weather to do that, and I hope I won't just stay in bed and actually get this accomplished.",
          "Yes i have been feeling depressed. I have been lethargic, unimaginative, can't be bothered. The only reason I keep going is for my daughter. I have not been dealing well with working through the pandemic as a key worker on the front line and losing people. I have been trying to keep this out of my home life but my insomnia is really bad at the moment which aggravates the depression.",
          "Yes I have been depressed. With the level of work I have had to undertake as a result of the pandemic. I have de-prioritised things that bring me joy.\nI find that as a result of being low, I will spend a copious amount of time in bed and not always asleep but just feeling too heavy to get up. Or I will become extremely irritable as a result of anxiety regarding the future and my future within my job, in my familial and personal relationships,",
          "Yes, I have been very depressed this week. I have been feeling very low and not slept very well at all. The lack of sleep makes my depression worse, but there is too much worry on my mind to simply relax, or even sleep.",
          "Yes I have been depressed.\n\nI have been depressed and this has resulted in me feeling low and un-intersted in life events, also in feeling numb and that there is no point in doing anything or in trying to do anything.  I have found myself unable to do complex tasks because my concentration is poor, because I am tired and I cannot focus or feel motivated to complete anything more than simple tasks and activities.",
          "Yes I have been depressed. It has caused me to feel completely exhausted, and I am constantly overthinking. I am high functioning, so still work full time, but once I am home I just want to sleep and feel nothing. I feel empty."
         ],
         "marker": {
          "opacity": 0.5,
          "size": 5
         },
         "mode": "markers+text",
         "name": "25_yes_yes depressed_bed",
         "text": [
          "",
          "",
          "",
          "",
          "",
          "",
          "",
          "",
          ""
         ],
         "textfont": {
          "size": 12
         },
         "type": "scattergl",
         "x": [
          12.91872787475586,
          12.785466194152832,
          12.939136505126953,
          12.90877628326416,
          12.743868827819824,
          12.810907363891602,
          12.910361289978027,
          13.010316848754883,
          12.940755844116211
         ],
         "y": [
          12.11718463897705,
          12.139845848083496,
          12.115891456604004,
          12.154656410217285,
          12.081530570983887,
          12.10124397277832,
          12.173043251037598,
          12.075433731079102,
          12.117166519165039
         ]
        },
        {
         "hoverinfo": "text",
         "hovertext": [
          "Yes, I struggle mentally anyway however I have noticed I have been more down than usual and that's mostly work related",
          "Yes - I've found it difficult to find motivation, I haven't enjoyed things that I usually do, i've found it difficult to eat and sleep well, I've found it almost impossible to focus on my work.",
          "I've found it extremely difficult to motivate myself to start tasks and get things done. I have had no appetite or desire to see friends, even though it is permitted during lockdown. Mostly I just want to sleep and avoid everything. I find I am thinking about things from the past a lot more than I usually do.",
          "The last week has been hard, I have not wanted to do anything, getting up out of bed has been difficult, I don't see future and it just seems to be getting harder and harder to motivate myself to do anything",
          "There has been time when I have not wanted to get dressed or get out of bed. I feel I can sometimes be making up excuses not to go out and socialise. I have also found it very hard to motivate myself to work.",
          "Yes - I've been pretty down and not able to motivate to do very much at all. I've not wanted to get out of bed at the morning and find tasks extremely hard to get through throughout the day. I feel dissociated and not present at all.",
          "I think so. There are many things that I should be doing to prepare for the upcoming school year and there are many thing I wanted to accomplish this summer with the extra time I had at home. But I’ve felt like I could not force myself to do much of anything lately.",
          "Motivation has been difficult during lock-down but on the whole I have tried to remain positive and to look towards the future. I try to look at the benefits of life as it is and find projects to keep me busy and keep anxiety or depression at bay."
         ],
         "marker": {
          "opacity": 0.5,
          "size": 5
         },
         "mode": "markers+text",
         "name": "26_motivate_wanted_difficult",
         "text": [
          "",
          "",
          "",
          "",
          "",
          "",
          "",
          ""
         ],
         "textfont": {
          "size": 12
         },
         "type": "scattergl",
         "x": [
          11.040799140930176,
          11.154818534851074,
          11.196744918823242,
          11.27181339263916,
          11.267810821533203,
          11.151479721069336,
          11.146124839782715,
          11.184403419494629
         ],
         "y": [
          6.719913959503174,
          6.502974510192871,
          6.520609378814697,
          6.449970722198486,
          6.44525671005249,
          6.496191501617432,
          6.516102313995361,
          6.544318675994873
         ]
        },
        {
         "hoverinfo": "text",
         "hovertext": [
          "I haven’t been depressed over the past few weeks as my kids make me happy. Also we engage in indoor recreational activities that lift our spirits and make us cheerful.",
          "I don't think I'm depressed but sometimes I feel a bit hopeless about the current situation and especially what it will do to my kids. They seem fine now but they are doing A Levels and should look at universities so I think this will affect them and their future. I feel a bit lonely too since all my usual activities and human contact have stopped. Overall I'm just waiting for this to be over, sometimes this keeps me awake, at other times I almost forget.",
          "I have struggled with depression in the past and especially in recent months due to staying home and missing out on a lot of life's happy things. However, I am putting more effort into things I have control over in my life and finding more new hobbies. I am enjoying playing a video game with my kids. That gives me an escape and something to look forward to throughout the day. Exercise and time outside also help me with my depression. I will take more steps to talk to friends as well.",
          "I dont feel I have been depressed as such, but I have been sad that I have missed out on a lot of things. I have a newborn who was born in the middle of lock down and we have missed out on a lot of things to do with her, family meetings, visits from friends and now baby classes which is where mum friendships are made. So I am very sad to have missed that. I have felt very overwhelmed as a mum as I have been stuck home with a newborn and a 4 year old, who is missing school and friends and his behaviour is hard to cope with when you feel trapped in your home.",
          "I have been very busy and engaged with others. I have been going out of the house and meeting others for a walk. I have been looking at activities I can do with my children. I am very tired but still want to go out. I am happy.",
          "I have been feeling sad at time slipping away, about my children growing older and wondering who I am not I am not needed by them so much. I feel I have nothing to look forward to and all the major life milestones have passed.",
          "Very sad feeling like can’t cope with children and hopelessmum . That I really don’t want todo anything and basically falling asleep a lot",
          "I have been depressed quite a bit. I find looking after my children and being stuck in the house very challenging and overwhelming."
         ],
         "marker": {
          "opacity": 0.5,
          "size": 5
         },
         "mode": "markers+text",
         "name": "27_children_kids_lot things",
         "text": [
          "",
          "",
          "",
          "",
          "",
          "",
          "",
          ""
         ],
         "textfont": {
          "size": 12
         },
         "type": "scattergl",
         "x": [
          9.87048053741455,
          10.015555381774902,
          9.847900390625,
          9.939899444580078,
          9.92237377166748,
          9.964926719665527,
          9.961348533630371,
          9.938904762268066
         ],
         "y": [
          9.04691219329834,
          8.990775108337402,
          9.045174598693848,
          9.018538475036621,
          8.984140396118164,
          9.010034561157227,
          9.021522521972656,
          9.00461196899414
         ]
        },
        {
         "hoverinfo": "text",
         "hovertext": [
          "i would say i have been depressed for well over the last two weeks. probably started around May. but during the last two weeks, my GP prescribed me sertraline instead of mirtazapine. i also take venlafaxine and quetiapine. and a whole host of other medications. ive been feeling lower than normal primarily because ive been taking large amounts of prescription medication to get a buzz or to be sedated because i dont want to be awake.ive not done this behaviour for years, but ive fallen down the rabbit hole and i have nobody to catch me or pull me back up. i feel very alone, isolated and lonely. i feel disgusted with myself.",
          "I started taking anti depressants again roughly about a month ago so recently I have been feeling really low, I dont like taking them as I feel it's impossible to be happy or sane when taking them but it felt like a must at this point because of how low I felt.",
          "The last two weeks have been strange because we are coming out of the lockdown and things are starting to get a bit more back to normal.  On the majority of days I feel that I have been fairly stable but have had a couple of days when I have been depressed. When I am depressed I clear up less, as I stated earlier I keep terrible habits and don't want to interact with anyone.  On Tuesday I had some bad news so I completely went down in mood.  I took a diazepam and went to bed - I hid under my duvet as I call it.  Then today in contrast I have been up, gardening, talking to my neighbour, laughing and feeling positive about things.  Today the glass seems half full rather than half empty when I am depressed.  It is important to me to get my life back again, I have PTSD and had to stop seeing my councillor because of the recent Covid19 restrictions.  This has been hard.",
          "Since 2018 i've experienced severe depressive episodes although i can consider myself to be high functioning - ie I go to work and do my daily tasks normally - but I'm constantly feeling a sense of dread towards my life and my future, snapping at my loved ones and have crying spells nearly every day. \nI have felt constantly desperate about my anguish because there is no trigger to it and no life event that has been making it worse - it's just something I was always prone to that now seems to be taking over my life and thoughts. \n\nI have been followed by a psychologist and psychiatrist and have been diagnosed with generalized anxiety disorder and major depressive disorder.\n",
          "Hello, I was diagnosed with chronic depressive disorder on August 2019 and have been undergoing drug therapy since that time and to date.  Specific symptoms of my depression have been many and varied and some have been very concerning, confusion, deep low mood, poor sleep and diet, and feelings of things around me that are simply in my imagination, but very frightening.  I am 48 and I am a senior manager in a B2B environment so I have worked many years under intense pressure, finally due to poor support and confrontations in the work activity I feel this led to my poor state of mental health.\n\nMy anxiety manifested itself in attacks with out predictive symptoms and could have happened anywhere, I would sweat, stammer and sweat, sometime I had to take to my bed and felt frozen in time.",
          "I have been clinically diagnosed with depression and anxiety with mildly suicidal thoughts. According to my therapist it was due to recent trauma or problem that I started to experience this. Mostly the aspects of I am not good enough, I have no self-worth, I am a failure, I have been born with unluckiness. I also think it was because of the aspect of the fact that I was not taking care of myself enough.",
          "I don't know if it would be classed as actual depression but I occasionally have depressive episodes. These often occur late at night when I am on my own and focus on my thoughts too much. I focus on all the elements of myself that I dislike and compare myself to other people. I feel alone and worthless and that I am not good at anything. I feel a weight on my chest and cry a lot. I find little joy from the things I normally like and I don't want to move and just lie in bed. I don't want to communicate with anyone and want to stay alone. These episodes vary in regularity and severity. Over the last two weeks they have happened twice"
         ],
         "marker": {
          "opacity": 0.5,
          "size": 5
         },
         "mode": "markers+text",
         "name": "28_taking_ive_depressive",
         "text": [
          "",
          "",
          "",
          "",
          "",
          "",
          ""
         ],
         "textfont": {
          "size": 12
         },
         "type": "scattergl",
         "x": [
          13.340851783752441,
          14.0926513671875,
          13.34182357788086,
          13.471721649169922,
          13.46063232421875,
          13.461440086364746,
          13.390949249267578
         ],
         "y": [
          7.326793193817139,
          7.673079490661621,
          7.403616428375244,
          7.2215986251831055,
          7.258455753326416,
          7.227210521697998,
          7.196714878082275
         ]
        },
        {
         "hoverinfo": "text",
         "hovertext": [
          "No I don’t think I have been depressed in the past 2 weeks. As mentioned previously I have worried about things, and been anxious about the future, but I think these feelings are a long way off depression",
          "No I have not been depressed in the last 2 weeks because I have kepy myself active and in contact with friends and family.",
          "No I have not been depressed in the last two weeks. I suffer from anxiety which has become worse over the last few months.",
          "Yes I've been pretty depressed but not just the last two weeks its been going on for a very long time.",
          "No i have not be depressed over the last two weeks. I have a lot on my mind but i don't let it get that far.",
          "No, I have not been depressed in the last 2 weeks. I find if i manage my depression by limiting drama in my life, i am good. I am financially stable and have a wonderful environment I have set up for myself. There were many times in my life when i was not financially and emotionally stable. Therefore, I so appreciate the life i have created for myself. I know there will be challenges in my life, but, for now my life is good.",
          "No, I do not think that I have been depressed over the last two weeks. I have been feeling either happy or well balanced, trying to plan for the future and looking forward to life when things start to get back to normal."
         ],
         "marker": {
          "opacity": 0.5,
          "size": 5
         },
         "mode": "markers+text",
         "name": "29_depressed weeks_financially_life good",
         "text": [
          "",
          "",
          "",
          "",
          "",
          "",
          ""
         ],
         "textfont": {
          "size": 12
         },
         "type": "scattergl",
         "x": [
          14.221850395202637,
          14.125271797180176,
          14.18822956085205,
          14.315261840820312,
          14.299593925476074,
          14.136903762817383,
          14.243988037109375
         ],
         "y": [
          11.528840065002441,
          11.630829811096191,
          11.559410095214844,
          11.341404914855957,
          11.409400939941406,
          11.690295219421387,
          11.572473526000977
         ]
        },
        {
         "hoverinfo": "text",
         "hovertext": [
          "I haven’t been that depressed this past 2 weeks as I’ve had some happy news that has kept me upbeat but I do still have my low moments.",
          "Over the last two weeks I have been feeling fairly positive and full of energy. I have exercised a lot and cooked healthy meals. I have seen the positive in most things that have happened and felt like I was lucky to have the life I have. I did feel flat for two days where I could not see the positive in anything at all and felt very lethargic.",
          "I have not been feeling depressed that much in the last two weeks. Maybe just feeling low and thinking about the meaning life and connecting with my conscience to feel content about myself and to make change.",
          "Over the last two weeks my mood has been positive and I have not felt as depressed as I have done previously. Life feels like it is improving, I am able to make future plans with excitement and I have been able to reflect upon my life positively.",
          "I have not felt depressed or down at all over the last two weeks, my life is good and we are happy and healthy.",
          "I have felt fine and not depressed at all.  No sadness or unhappiness.  I feel calm and happy in the whole.",
          "I have not felt depressed over the last two weeks. I have felt calm and neutral and have not felt sad or down."
         ],
         "marker": {
          "opacity": 0.5,
          "size": 5
         },
         "mode": "markers+text",
         "name": "30_positive_felt_calm",
         "text": [
          "",
          "",
          "",
          "",
          "",
          "",
          ""
         ],
         "textfont": {
          "size": 12
         },
         "type": "scattergl",
         "x": [
          13.723814964294434,
          13.835273742675781,
          13.935917854309082,
          13.892023086547852,
          13.873929977416992,
          13.948134422302246,
          13.975462913513184
         ],
         "y": [
          9.131186485290527,
          8.841551780700684,
          9.094243049621582,
          8.653656959533691,
          9.323216438293457,
          8.982095718383789,
          8.939671516418457
         ]
        },
        {
         "hoverinfo": "text",
         "hovertext": [
          "Feelings boxed in, as if I have no choices, the only choice being to die, no way out. No where to turn to. Nothing changes, I will feel like this forever, sheer drudgery. No life, no excitement, nothing to look forward to.  No one understands and no one cares. Every minute is endless. Nothing nice ever happens.",
          "I have felt low and sad and bleak about the future. I have dwelled on sad memories and can't enjoy things I like",
          "The last two weeks have been particularly difficult.  I have felt that there is no future for me and have been very distressed a lot of the time and have considered taking my life at one point.  Everything has felt so hard and I feel so alone with my feelings and I believe that there is no future for me.  I don't believe that I will ever have a life that I can enjoy at all.",
          "I feel desperate sometimes. I would like to die but I feel I have too many responsibilities even to exit from this life. I don't see a future except this endless state of drudgery.",
          "I'm very depressed over my future. I feel stuck in a dead end job with nothing to look forward to. Life feels pointless currently",
          "I am not so sure about how I feel, but I feel I am at fault. Weak, tensed and uneasy about my current situation",
          "the situation of things at the moment has escalated my already quite bad mental health to being overall worse. i spend a lot of time feeling lost and lonely to the point where i cant think about the future without being extremely depressed and low. i feel very helpless and confused"
         ],
         "marker": {
          "opacity": 0.5,
          "size": 5
         },
         "mode": "markers+text",
         "name": "31_future_endless_die",
         "text": [
          "",
          "",
          "",
          "",
          "",
          "",
          ""
         ],
         "textfont": {
          "size": 12
         },
         "type": "scattergl",
         "x": [
          11.393048286437988,
          11.413187980651855,
          11.758042335510254,
          11.366432189941406,
          11.462486267089844,
          11.734933853149414,
          11.849764823913574
         ],
         "y": [
          8.840307235717773,
          9.116288185119629,
          8.702160835266113,
          8.798770904541016,
          9.137630462646484,
          8.605334281921387,
          8.804511070251465
         ]
        },
        {
         "hoverinfo": "text",
         "hovertext": [
          "I believe that I have been depressed previously. It usually happens when I go through a break up. I become very upset every day and teary. Although it may just be a normal reaction, I do think that I hang onto the problem for longer than I should and it makes it harder for me to let go. During this time I sometimes lose my appetite and have very low self esteem.",
          "The last period I experienced depression  was when I was a teenager.on this fateful day my first boyfriend broke up with me",
          "I have been quite down and upset as my relationship is going through a particular bad time. I would not consider myself depressed as such but definitely down and upset.",
          "I have felt depressed due to my partner's redundancy. Everything has changed which is scary and due to that, we have been arguing a lot more so I have been feeling depressed about our relationship too",
          "I've been depressed mostly due to the stress from my relationship problems explained above. I was feeling very angry, sad, hopeless, and worthless, and trying to keep myself in check and holding all my feelings inside eventually lead to self-destructive behavior.",
          "I have been depressed because of a love break with my partner of five years, we all think it will be forever, but not everything happens as we want.",
          "This week I have felt quite depressed. Usually my anxiety is the bigger of my issues but depression has also been present as well. I've not been feeling well physically and that's impacted on my mental health; my partner has been having to do everything round the house and I've just felt quite pathetic for not being able to do anything. I've felt burdensome at times and also wondered what exactly my partner gets out of our relationship. I've been questioning myself and my decisions alot and feel quite stuck in my life and not knowing what my next move is."
         ],
         "marker": {
          "opacity": 0.5,
          "size": 5
         },
         "mode": "markers+text",
         "name": "32_relationship_partner_upset",
         "text": [
          "",
          "",
          "",
          "",
          "",
          "",
          ""
         ],
         "textfont": {
          "size": 12
         },
         "type": "scattergl",
         "x": [
          12.634262084960938,
          12.56644058227539,
          12.694802284240723,
          12.842794418334961,
          12.638837814331055,
          12.859837532043457,
          12.840707778930664
         ],
         "y": [
          8.497031211853027,
          8.817631721496582,
          8.639190673828125,
          8.57703685760498,
          8.533470153808594,
          8.615754127502441,
          8.5103120803833
         ]
        },
        {
         "hoverinfo": "text",
         "hovertext": [
          "I have been a little depressed, although this has not been sustained or constant. It has been more like short bursts of depression when something happens, which are quickly rectified once the issue goes away. I think a higher level of base anxiety has contributed to this.",
          "I have been at times over the past two weeks.  I've found that there hasn't really been a trigger for it, but it has just suddenly come on, usually during the mid to late evening.  It hasn't been too strong and I've been able to function still with my job, but it has caused me to withdraw a little from people closest to me.",
          "I have felt minor levels of depression over the last 2 weeks, related to the situations described in question one.",
          "I think over the past two weeks I can easily say I have encountered  some level of depression and this depression was primarily caused by over thinking a particular issue I had going on.",
          "I have felt very depressed over the past week however I am less certain of the cause of this. I am hoping it is just the general fluidity of mental health and will go away soon.",
          "I have on some occasions felt depressed, this is something I deal with regularly but at the moment it does seem to have leaked slightly."
         ],
         "marker": {
          "opacity": 0.5,
          "size": 5
         },
         "mode": "markers+text",
         "name": "33_hasn_level_issue",
         "text": [
          "",
          "",
          "",
          "",
          "",
          ""
         ],
         "textfont": {
          "size": 12
         },
         "type": "scattergl",
         "x": [
          14.437663078308105,
          14.436150550842285,
          14.365840911865234,
          14.482929229736328,
          14.44776439666748,
          14.437416076660156
         ],
         "y": [
          10.639939308166504,
          10.704007148742676,
          10.456854820251465,
          10.552421569824219,
          10.544710159301758,
          10.608415603637695
         ]
        },
        {
         "hoverinfo": "text",
         "hovertext": [
          "My dog was sick and seeing her suffer made me depressed and in discomfort.This made mme consume more alcohol which I promised not to do so.",
          "I have felt depressed a couple of years ago. I didn't know what direction my life was going. Everyone I knew seemed to know what to do next after high school. Once I realized what I thought I should do the depression went away. I hope I never feel this way again.",
          "Due to the disappointments and constant thoughts on the disappointments I've shut my social interactions with people and that has led to the depression state that I'm currently iin",
          "Recently, I haven't felt depressed. I was hanging out with my friends and family. It was time well spent.",
          "Somewhat depressed but getting more depressed.  Hit the wall yesterday.  I was having an ok time with just me an my dog for the last few months  I wasn't accomplishing much but I was accepting the pause button on life somewhat.  Yesterday was rough when I just didn't feel like there was any reason to do anything at all.  It just became a void.",
          "I haven't felt depressed. Had the oportunity to reflect and mu journey so far and the numerous possibilities ahead of me. Choices, so many of them that I feel truly blessed."
         ],
         "marker": {
          "opacity": 0.5,
          "size": 5
         },
         "mode": "markers+text",
         "name": "34_yesterday_haven felt depressed_didn",
         "text": [
          "",
          "",
          "",
          "",
          "",
          ""
         ],
         "textfont": {
          "size": 12
         },
         "type": "scattergl",
         "x": [
          11.964652061462402,
          11.143089294433594,
          12.284248352050781,
          10.959579467773438,
          10.940484046936035,
          11.215672492980957
         ],
         "y": [
          9.040621757507324,
          8.838436126708984,
          9.678202629089355,
          8.945337295532227,
          9.04969310760498,
          8.85460376739502
         ]
        },
        {
         "hoverinfo": "text",
         "hovertext": [
          "I have been depressed over the past two weeks. I have experienced feelings of numbness, hopelessness and accompanying anxiety. I have had trouble sleeping which has exascerbated things. I have had problems being able to 'get up and go' everyday, and have spent much of my time in bed, crying.",
          "I have occasional days or even just moments of quite deep depression however over the last few weeks I've just felt kind of numb almost floating around unable to move forward and sometimes struggling to tread water.",
          "I have been depressed over the last two weeks. Although my depression can come and go (usually occurs for about 6 months at a time), I have been feeling very low lately. I have dealt with depression for 10 years now, so I am able to recognise my signs and symptoms. I have been very tearful and just generally in a low mood. I have experienced feelings of numbness and isolation.",
          "More often than not, over the past two weeks I have been feeling numb. I do not even know my own emotions or how I am meant to feel in social situations. I have cried more than usual but sometimes the tears don’t come out when I am that upset",
          "I have been very depressed the last two weeks. I have felt like there is no hope for me no matter what I may do. There is currently no way out of my situation no matter how hard I could possibly try to change that. My mind often feels numb and I do not enjoy things in general much.",
          "Lately I've been feeling very lethargic and and things that used to bring me joy no longer seem no.\nI don't necessarily feel sad, but I feel a constant numbness. There's nothing necessarily wrong with my life, quite on the contrary, but there's this persistent feeling of existential dread that washes over me."
         ],
         "marker": {
          "opacity": 0.5,
          "size": 5
         },
         "mode": "markers+text",
         "name": "35_numbness_numb_necessarily",
         "text": [
          "",
          "",
          "",
          "",
          "",
          ""
         ],
         "textfont": {
          "size": 12
         },
         "type": "scattergl",
         "x": [
          12.84510612487793,
          12.909017562866211,
          12.98808765411377,
          12.844260215759277,
          12.77668571472168,
          12.787419319152832
         ],
         "y": [
          7.673280715942383,
          7.887104511260986,
          7.78632116317749,
          7.956745624542236,
          8.002835273742676,
          8.000170707702637
         ]
        }
       ],
       "layout": {
        "annotations": [
         {
          "showarrow": false,
          "text": "D1",
          "x": 7.758754825592041,
          "y": 9.99683233499527,
          "yshift": 10
         },
         {
          "showarrow": false,
          "text": "D2",
          "x": 12.351113867759704,
          "xshift": 10,
          "y": 14.702730083465577
         }
        ],
        "height": 750,
        "shapes": [
         {
          "line": {
           "color": "#CFD8DC",
           "width": 2
          },
          "type": "line",
          "x0": 12.351113867759704,
          "x1": 12.351113867759704,
          "y0": 5.290934586524964,
          "y1": 14.702730083465577
         },
         {
          "line": {
           "color": "#9E9E9E",
           "width": 2
          },
          "type": "line",
          "x0": 7.758754825592041,
          "x1": 16.94347290992737,
          "y0": 9.99683233499527,
          "y1": 9.99683233499527
         }
        ],
        "template": {
         "data": {
          "bar": [
           {
            "error_x": {
             "color": "rgb(36,36,36)"
            },
            "error_y": {
             "color": "rgb(36,36,36)"
            },
            "marker": {
             "line": {
              "color": "white",
              "width": 0.5
             },
             "pattern": {
              "fillmode": "overlay",
              "size": 10,
              "solidity": 0.2
             }
            },
            "type": "bar"
           }
          ],
          "barpolar": [
           {
            "marker": {
             "line": {
              "color": "white",
              "width": 0.5
             },
             "pattern": {
              "fillmode": "overlay",
              "size": 10,
              "solidity": 0.2
             }
            },
            "type": "barpolar"
           }
          ],
          "carpet": [
           {
            "aaxis": {
             "endlinecolor": "rgb(36,36,36)",
             "gridcolor": "white",
             "linecolor": "white",
             "minorgridcolor": "white",
             "startlinecolor": "rgb(36,36,36)"
            },
            "baxis": {
             "endlinecolor": "rgb(36,36,36)",
             "gridcolor": "white",
             "linecolor": "white",
             "minorgridcolor": "white",
             "startlinecolor": "rgb(36,36,36)"
            },
            "type": "carpet"
           }
          ],
          "choropleth": [
           {
            "colorbar": {
             "outlinewidth": 1,
             "tickcolor": "rgb(36,36,36)",
             "ticks": "outside"
            },
            "type": "choropleth"
           }
          ],
          "contour": [
           {
            "colorbar": {
             "outlinewidth": 1,
             "tickcolor": "rgb(36,36,36)",
             "ticks": "outside"
            },
            "colorscale": [
             [
              0,
              "#440154"
             ],
             [
              0.1111111111111111,
              "#482878"
             ],
             [
              0.2222222222222222,
              "#3e4989"
             ],
             [
              0.3333333333333333,
              "#31688e"
             ],
             [
              0.4444444444444444,
              "#26828e"
             ],
             [
              0.5555555555555556,
              "#1f9e89"
             ],
             [
              0.6666666666666666,
              "#35b779"
             ],
             [
              0.7777777777777778,
              "#6ece58"
             ],
             [
              0.8888888888888888,
              "#b5de2b"
             ],
             [
              1,
              "#fde725"
             ]
            ],
            "type": "contour"
           }
          ],
          "contourcarpet": [
           {
            "colorbar": {
             "outlinewidth": 1,
             "tickcolor": "rgb(36,36,36)",
             "ticks": "outside"
            },
            "type": "contourcarpet"
           }
          ],
          "heatmap": [
           {
            "colorbar": {
             "outlinewidth": 1,
             "tickcolor": "rgb(36,36,36)",
             "ticks": "outside"
            },
            "colorscale": [
             [
              0,
              "#440154"
             ],
             [
              0.1111111111111111,
              "#482878"
             ],
             [
              0.2222222222222222,
              "#3e4989"
             ],
             [
              0.3333333333333333,
              "#31688e"
             ],
             [
              0.4444444444444444,
              "#26828e"
             ],
             [
              0.5555555555555556,
              "#1f9e89"
             ],
             [
              0.6666666666666666,
              "#35b779"
             ],
             [
              0.7777777777777778,
              "#6ece58"
             ],
             [
              0.8888888888888888,
              "#b5de2b"
             ],
             [
              1,
              "#fde725"
             ]
            ],
            "type": "heatmap"
           }
          ],
          "heatmapgl": [
           {
            "colorbar": {
             "outlinewidth": 1,
             "tickcolor": "rgb(36,36,36)",
             "ticks": "outside"
            },
            "colorscale": [
             [
              0,
              "#440154"
             ],
             [
              0.1111111111111111,
              "#482878"
             ],
             [
              0.2222222222222222,
              "#3e4989"
             ],
             [
              0.3333333333333333,
              "#31688e"
             ],
             [
              0.4444444444444444,
              "#26828e"
             ],
             [
              0.5555555555555556,
              "#1f9e89"
             ],
             [
              0.6666666666666666,
              "#35b779"
             ],
             [
              0.7777777777777778,
              "#6ece58"
             ],
             [
              0.8888888888888888,
              "#b5de2b"
             ],
             [
              1,
              "#fde725"
             ]
            ],
            "type": "heatmapgl"
           }
          ],
          "histogram": [
           {
            "marker": {
             "line": {
              "color": "white",
              "width": 0.6
             }
            },
            "type": "histogram"
           }
          ],
          "histogram2d": [
           {
            "colorbar": {
             "outlinewidth": 1,
             "tickcolor": "rgb(36,36,36)",
             "ticks": "outside"
            },
            "colorscale": [
             [
              0,
              "#440154"
             ],
             [
              0.1111111111111111,
              "#482878"
             ],
             [
              0.2222222222222222,
              "#3e4989"
             ],
             [
              0.3333333333333333,
              "#31688e"
             ],
             [
              0.4444444444444444,
              "#26828e"
             ],
             [
              0.5555555555555556,
              "#1f9e89"
             ],
             [
              0.6666666666666666,
              "#35b779"
             ],
             [
              0.7777777777777778,
              "#6ece58"
             ],
             [
              0.8888888888888888,
              "#b5de2b"
             ],
             [
              1,
              "#fde725"
             ]
            ],
            "type": "histogram2d"
           }
          ],
          "histogram2dcontour": [
           {
            "colorbar": {
             "outlinewidth": 1,
             "tickcolor": "rgb(36,36,36)",
             "ticks": "outside"
            },
            "colorscale": [
             [
              0,
              "#440154"
             ],
             [
              0.1111111111111111,
              "#482878"
             ],
             [
              0.2222222222222222,
              "#3e4989"
             ],
             [
              0.3333333333333333,
              "#31688e"
             ],
             [
              0.4444444444444444,
              "#26828e"
             ],
             [
              0.5555555555555556,
              "#1f9e89"
             ],
             [
              0.6666666666666666,
              "#35b779"
             ],
             [
              0.7777777777777778,
              "#6ece58"
             ],
             [
              0.8888888888888888,
              "#b5de2b"
             ],
             [
              1,
              "#fde725"
             ]
            ],
            "type": "histogram2dcontour"
           }
          ],
          "mesh3d": [
           {
            "colorbar": {
             "outlinewidth": 1,
             "tickcolor": "rgb(36,36,36)",
             "ticks": "outside"
            },
            "type": "mesh3d"
           }
          ],
          "parcoords": [
           {
            "line": {
             "colorbar": {
              "outlinewidth": 1,
              "tickcolor": "rgb(36,36,36)",
              "ticks": "outside"
             }
            },
            "type": "parcoords"
           }
          ],
          "pie": [
           {
            "automargin": true,
            "type": "pie"
           }
          ],
          "scatter": [
           {
            "fillpattern": {
             "fillmode": "overlay",
             "size": 10,
             "solidity": 0.2
            },
            "type": "scatter"
           }
          ],
          "scatter3d": [
           {
            "line": {
             "colorbar": {
              "outlinewidth": 1,
              "tickcolor": "rgb(36,36,36)",
              "ticks": "outside"
             }
            },
            "marker": {
             "colorbar": {
              "outlinewidth": 1,
              "tickcolor": "rgb(36,36,36)",
              "ticks": "outside"
             }
            },
            "type": "scatter3d"
           }
          ],
          "scattercarpet": [
           {
            "marker": {
             "colorbar": {
              "outlinewidth": 1,
              "tickcolor": "rgb(36,36,36)",
              "ticks": "outside"
             }
            },
            "type": "scattercarpet"
           }
          ],
          "scattergeo": [
           {
            "marker": {
             "colorbar": {
              "outlinewidth": 1,
              "tickcolor": "rgb(36,36,36)",
              "ticks": "outside"
             }
            },
            "type": "scattergeo"
           }
          ],
          "scattergl": [
           {
            "marker": {
             "colorbar": {
              "outlinewidth": 1,
              "tickcolor": "rgb(36,36,36)",
              "ticks": "outside"
             }
            },
            "type": "scattergl"
           }
          ],
          "scattermapbox": [
           {
            "marker": {
             "colorbar": {
              "outlinewidth": 1,
              "tickcolor": "rgb(36,36,36)",
              "ticks": "outside"
             }
            },
            "type": "scattermapbox"
           }
          ],
          "scatterpolar": [
           {
            "marker": {
             "colorbar": {
              "outlinewidth": 1,
              "tickcolor": "rgb(36,36,36)",
              "ticks": "outside"
             }
            },
            "type": "scatterpolar"
           }
          ],
          "scatterpolargl": [
           {
            "marker": {
             "colorbar": {
              "outlinewidth": 1,
              "tickcolor": "rgb(36,36,36)",
              "ticks": "outside"
             }
            },
            "type": "scatterpolargl"
           }
          ],
          "scatterternary": [
           {
            "marker": {
             "colorbar": {
              "outlinewidth": 1,
              "tickcolor": "rgb(36,36,36)",
              "ticks": "outside"
             }
            },
            "type": "scatterternary"
           }
          ],
          "surface": [
           {
            "colorbar": {
             "outlinewidth": 1,
             "tickcolor": "rgb(36,36,36)",
             "ticks": "outside"
            },
            "colorscale": [
             [
              0,
              "#440154"
             ],
             [
              0.1111111111111111,
              "#482878"
             ],
             [
              0.2222222222222222,
              "#3e4989"
             ],
             [
              0.3333333333333333,
              "#31688e"
             ],
             [
              0.4444444444444444,
              "#26828e"
             ],
             [
              0.5555555555555556,
              "#1f9e89"
             ],
             [
              0.6666666666666666,
              "#35b779"
             ],
             [
              0.7777777777777778,
              "#6ece58"
             ],
             [
              0.8888888888888888,
              "#b5de2b"
             ],
             [
              1,
              "#fde725"
             ]
            ],
            "type": "surface"
           }
          ],
          "table": [
           {
            "cells": {
             "fill": {
              "color": "rgb(237,237,237)"
             },
             "line": {
              "color": "white"
             }
            },
            "header": {
             "fill": {
              "color": "rgb(217,217,217)"
             },
             "line": {
              "color": "white"
             }
            },
            "type": "table"
           }
          ]
         },
         "layout": {
          "annotationdefaults": {
           "arrowhead": 0,
           "arrowwidth": 1
          },
          "autotypenumbers": "strict",
          "coloraxis": {
           "colorbar": {
            "outlinewidth": 1,
            "tickcolor": "rgb(36,36,36)",
            "ticks": "outside"
           }
          },
          "colorscale": {
           "diverging": [
            [
             0,
             "rgb(103,0,31)"
            ],
            [
             0.1,
             "rgb(178,24,43)"
            ],
            [
             0.2,
             "rgb(214,96,77)"
            ],
            [
             0.3,
             "rgb(244,165,130)"
            ],
            [
             0.4,
             "rgb(253,219,199)"
            ],
            [
             0.5,
             "rgb(247,247,247)"
            ],
            [
             0.6,
             "rgb(209,229,240)"
            ],
            [
             0.7,
             "rgb(146,197,222)"
            ],
            [
             0.8,
             "rgb(67,147,195)"
            ],
            [
             0.9,
             "rgb(33,102,172)"
            ],
            [
             1,
             "rgb(5,48,97)"
            ]
           ],
           "sequential": [
            [
             0,
             "#440154"
            ],
            [
             0.1111111111111111,
             "#482878"
            ],
            [
             0.2222222222222222,
             "#3e4989"
            ],
            [
             0.3333333333333333,
             "#31688e"
            ],
            [
             0.4444444444444444,
             "#26828e"
            ],
            [
             0.5555555555555556,
             "#1f9e89"
            ],
            [
             0.6666666666666666,
             "#35b779"
            ],
            [
             0.7777777777777778,
             "#6ece58"
            ],
            [
             0.8888888888888888,
             "#b5de2b"
            ],
            [
             1,
             "#fde725"
            ]
           ],
           "sequentialminus": [
            [
             0,
             "#440154"
            ],
            [
             0.1111111111111111,
             "#482878"
            ],
            [
             0.2222222222222222,
             "#3e4989"
            ],
            [
             0.3333333333333333,
             "#31688e"
            ],
            [
             0.4444444444444444,
             "#26828e"
            ],
            [
             0.5555555555555556,
             "#1f9e89"
            ],
            [
             0.6666666666666666,
             "#35b779"
            ],
            [
             0.7777777777777778,
             "#6ece58"
            ],
            [
             0.8888888888888888,
             "#b5de2b"
            ],
            [
             1,
             "#fde725"
            ]
           ]
          },
          "colorway": [
           "#1F77B4",
           "#FF7F0E",
           "#2CA02C",
           "#D62728",
           "#9467BD",
           "#8C564B",
           "#E377C2",
           "#7F7F7F",
           "#BCBD22",
           "#17BECF"
          ],
          "font": {
           "color": "rgb(36,36,36)"
          },
          "geo": {
           "bgcolor": "white",
           "lakecolor": "white",
           "landcolor": "white",
           "showlakes": true,
           "showland": true,
           "subunitcolor": "white"
          },
          "hoverlabel": {
           "align": "left"
          },
          "hovermode": "closest",
          "mapbox": {
           "style": "light"
          },
          "paper_bgcolor": "white",
          "plot_bgcolor": "white",
          "polar": {
           "angularaxis": {
            "gridcolor": "rgb(232,232,232)",
            "linecolor": "rgb(36,36,36)",
            "showgrid": false,
            "showline": true,
            "ticks": "outside"
           },
           "bgcolor": "white",
           "radialaxis": {
            "gridcolor": "rgb(232,232,232)",
            "linecolor": "rgb(36,36,36)",
            "showgrid": false,
            "showline": true,
            "ticks": "outside"
           }
          },
          "scene": {
           "xaxis": {
            "backgroundcolor": "white",
            "gridcolor": "rgb(232,232,232)",
            "gridwidth": 2,
            "linecolor": "rgb(36,36,36)",
            "showbackground": true,
            "showgrid": false,
            "showline": true,
            "ticks": "outside",
            "zeroline": false,
            "zerolinecolor": "rgb(36,36,36)"
           },
           "yaxis": {
            "backgroundcolor": "white",
            "gridcolor": "rgb(232,232,232)",
            "gridwidth": 2,
            "linecolor": "rgb(36,36,36)",
            "showbackground": true,
            "showgrid": false,
            "showline": true,
            "ticks": "outside",
            "zeroline": false,
            "zerolinecolor": "rgb(36,36,36)"
           },
           "zaxis": {
            "backgroundcolor": "white",
            "gridcolor": "rgb(232,232,232)",
            "gridwidth": 2,
            "linecolor": "rgb(36,36,36)",
            "showbackground": true,
            "showgrid": false,
            "showline": true,
            "ticks": "outside",
            "zeroline": false,
            "zerolinecolor": "rgb(36,36,36)"
           }
          },
          "shapedefaults": {
           "fillcolor": "black",
           "line": {
            "width": 0
           },
           "opacity": 0.3
          },
          "ternary": {
           "aaxis": {
            "gridcolor": "rgb(232,232,232)",
            "linecolor": "rgb(36,36,36)",
            "showgrid": false,
            "showline": true,
            "ticks": "outside"
           },
           "baxis": {
            "gridcolor": "rgb(232,232,232)",
            "linecolor": "rgb(36,36,36)",
            "showgrid": false,
            "showline": true,
            "ticks": "outside"
           },
           "bgcolor": "white",
           "caxis": {
            "gridcolor": "rgb(232,232,232)",
            "linecolor": "rgb(36,36,36)",
            "showgrid": false,
            "showline": true,
            "ticks": "outside"
           }
          },
          "title": {
           "x": 0.05
          },
          "xaxis": {
           "automargin": true,
           "gridcolor": "rgb(232,232,232)",
           "linecolor": "rgb(36,36,36)",
           "showgrid": false,
           "showline": true,
           "ticks": "outside",
           "title": {
            "standoff": 15
           },
           "zeroline": false,
           "zerolinecolor": "rgb(36,36,36)"
          },
          "yaxis": {
           "automargin": true,
           "gridcolor": "rgb(232,232,232)",
           "linecolor": "rgb(36,36,36)",
           "showgrid": false,
           "showline": true,
           "ticks": "outside",
           "title": {
            "standoff": 15
           },
           "zeroline": false,
           "zerolinecolor": "rgb(36,36,36)"
          }
         }
        },
        "title": {
         "font": {
          "color": "Black",
          "size": 22
         },
         "text": "<b>Documents and Topics</b>",
         "x": 0.5,
         "xanchor": "center",
         "yanchor": "top"
        },
        "width": 1200,
        "xaxis": {
         "visible": false
        },
        "yaxis": {
         "visible": false
        }
       }
      }
     },
     "metadata": {},
     "output_type": "display_data"
    }
   ],
   "source": [
    "topic_model.visualize_documents(docs=data[\"dep_text\"],hide_annotations=True)"
   ]
  },
  {
   "cell_type": "code",
   "execution_count": null,
   "metadata": {},
   "outputs": [
    {
     "name": "stderr",
     "output_type": "stream",
     "text": [
      "28it [00:00, 122.11it/s]\n"
     ]
    }
   ],
   "source": [
    "topics_per_class = topic_model.topics_per_class(data[\"dep_text\"], classes=data[\"PHQtot\"])\n"
   ]
  },
  {
   "cell_type": "code",
   "execution_count": null,
   "metadata": {},
   "outputs": [
    {
     "data": {
      "application/vnd.plotly.v1+json": {
       "config": {
        "plotlyServerURL": "https://plot.ly"
       },
       "data": [
        {
         "hoverinfo": "text",
         "hovertext": [
          "<b>Topic 0</b><br>Words: family, covid, pandemic, opportunities, meaning",
          "<b>Topic 0</b><br>Words: colleagues, meeting, covid, work, way things",
          "<b>Topic 0</b><br>Words: covid, pandemic, continue, possible, depressed",
          "<b>Topic 0</b><br>Words: pandemic, health, time, husband, covid",
          "<b>Topic 0</b><br>Words: covid, 19, covid 19, work, day",
          "<b>Topic 0</b><br>Words: pandemic, covid, 19, covid 19, regarding",
          "<b>Topic 0</b><br>Words: covid, engage, contact, 19, covid 19",
          "<b>Topic 0</b><br>Words: covid, 19, covid 19, pandemic, combination",
          "<b>Topic 0</b><br>Words: covid, felt anxious, weeks felt, anxious, depressed weeks felt",
          "<b>Topic 0</b><br>Words: corona, current state world, low things, normally feel, depressed lately ve",
          "<b>Topic 0</b><br>Words: covid, cos, bills, financial, recently particularly",
          "<b>Topic 0</b><br>Words: risk, covid, home, children, mood",
          "<b>Topic 0</b><br>Words: levels depression, social anxiety, example, increased, weeks things",
          "<b>Topic 0</b><br>Words: covid, 19, covid 19, issues, dad",
          "<b>Topic 0</b><br>Words: covid, isolated, things, feeling, 19",
          "<b>Topic 0</b><br>Words: covid, fighting, mother, 19, covid 19",
          "<b>Topic 0</b><br>Words: weight, doesn, covid, 19, covid 19",
          "<b>Topic 0</b><br>Words: covid, 19, covid 19, health, things enjoy",
          "<b>Topic 0</b><br>Words: covid, 19, covid 19, health, mental",
          "<b>Topic 0</b><br>Words: covid, 19, covid 19, life, lonely",
          "<b>Topic 0</b><br>Words: virus, morning, showing, sure ve, daily things",
          "<b>Topic 0</b><br>Words: new normal, covid, job, scared, losing",
          "<b>Topic 0</b><br>Words: nhs, rate, signed, stresses, contributed",
          "<b>Topic 0</b><br>Words: covid, mood, ve, situation family, breakdown",
          "<b>Topic 0</b><br>Words: covid, 19, covid 19, local, kill",
          "<b>Topic 0</b><br>Words: covid, feelings worse, sleep day, asleep night, room days",
          "<b>Topic 0</b><br>Words: leave house, pandemic, leave, house, able",
          "<b>Topic 0</b><br>Words: job, constantly, covid, series, feel lost"
         ],
         "marker": {
          "color": "#E69F00"
         },
         "name": "0_covid_19_covid 19_pandemic",
         "orientation": "h",
         "type": "bar",
         "visible": true,
         "x": [
          6,
          3,
          8,
          5,
          7,
          5,
          7,
          13,
          6,
          3,
          5,
          6,
          1,
          7,
          5,
          4,
          6,
          7,
          6,
          3,
          2,
          5,
          1,
          2,
          2,
          1,
          2,
          2
         ],
         "y": [
          0,
          1,
          2,
          3,
          4,
          5,
          6,
          7,
          8,
          9,
          10,
          11,
          12,
          13,
          14,
          15,
          16,
          17,
          18,
          19,
          20,
          21,
          22,
          23,
          24,
          25,
          26,
          27
         ]
        },
        {
         "hoverinfo": "text",
         "hovertext": [
          "<b>Topic 1</b><br>Words: felt irritable, weeks times, wanted bed, lacking, emotional",
          "<b>Topic 1</b><br>Words: breakdown, nights, hours, unable, sleep",
          "<b>Topic 1</b><br>Words: praise, proud, getting bed, spiral, steps",
          "<b>Topic 1</b><br>Words: wake, causes, fall asleep, fall, asleep",
          "<b>Topic 1</b><br>Words: sleep, day, bed, asleep, wake",
          "<b>Topic 1</b><br>Words: sleep, money, schedule, concerns, thoughts",
          "<b>Topic 1</b><br>Words: sleeping lot, depressive episode, episode, overthinking, nervous",
          "<b>Topic 1</b><br>Words: bed, 2019, leaves, sleep, tired",
          "<b>Topic 1</b><br>Words: sleep, struggle, nights, bed, medication",
          "<b>Topic 1</b><br>Words: sleep, survey, really know, rest day, lie bed",
          "<b>Topic 1</b><br>Words: hard bed, depressed feel hopeless, mildly depressed, feel hopeless, past weeks felt",
          "<b>Topic 1</b><br>Words: bed, struggle, hard, hard motivated, husband lost",
          "<b>Topic 1</b><br>Words: tired, personal hygiene, harming, feeling low mood, self harming",
          "<b>Topic 1</b><br>Words: bed, lot related, bed hard, getting bed hard, work sleep",
          "<b>Topic 1</b><br>Words: ve spent lot, ve spent, bed just, complete simple, everyday tasks"
         ],
         "marker": {
          "color": "#56B4E9"
         },
         "name": "1_sleep_bed_day_struggle",
         "orientation": "h",
         "type": "bar",
         "visible": "legendonly",
         "x": [
          1,
          1,
          1,
          1,
          7,
          3,
          1,
          3,
          4,
          1,
          1,
          3,
          1,
          2,
          1
         ],
         "y": [
          8,
          10,
          12,
          14,
          15,
          16,
          17,
          18,
          19,
          20,
          21,
          23,
          24,
          25,
          26
         ]
        },
        {
         "hoverinfo": "text",
         "hovertext": [
          "<b>Topic 2</b><br>Words: conditions, prevent, communicating, calm, relax",
          "<b>Topic 2</b><br>Words: love, perspective, visiting, realised, people family",
          "<b>Topic 2</b><br>Words: loneliness, child, end sight, ignore, factor",
          "<b>Topic 2</b><br>Words: friends, outside, lonely, house, able",
          "<b>Topic 2</b><br>Words: felt lonely, overcome, crisis, going walks, things enjoy",
          "<b>Topic 2</b><br>Words: times felt, friends, lonely, felt depressed felt, felt incredibly",
          "<b>Topic 2</b><br>Words: loneliness, sadness, sadness feel, sadness depression, bored tired",
          "<b>Topic 2</b><br>Words: good time, showing, having good, arguing, watched",
          "<b>Topic 2</b><br>Words: bringing, whilst lockdown, surrounded, dont like, darkness",
          "<b>Topic 2</b><br>Words: talk, like need, wish, turn, person",
          "<b>Topic 2</b><br>Words: talk, brief, feel bit lonely, weeks currently, friends online",
          "<b>Topic 2</b><br>Words: upset, lonely, streak, lonely time, quite upset",
          "<b>Topic 2</b><br>Words: unworthy, nice things, ive, nice, im",
          "<b>Topic 2</b><br>Words: parents, isolation, relapse, provided, distant",
          "<b>Topic 2</b><br>Words: right don want, rubbish, right don, inside, times",
          "<b>Topic 2</b><br>Words: single day, destructive behaviours, day struggle, bringing, behaviours",
          "<b>Topic 2</b><br>Words: feels like life, depressed feels like, just lack, just lack energy, life normal",
          "<b>Topic 2</b><br>Words: exercise, laughing, ugly, talk feel, wants",
          "<b>Topic 2</b><br>Words: break partner, partner feel, break, partner, feeling",
          "<b>Topic 2</b><br>Words: im, alot, scotland, want just, want sleep",
          "<b>Topic 2</b><br>Words: reason just, speak, just want, just feel, helps"
         ],
         "marker": {
          "color": "#009E73"
         },
         "name": "2_lonely_friends_talk_feel",
         "orientation": "h",
         "type": "bar",
         "visible": "legendonly",
         "x": [
          1,
          2,
          1,
          2,
          1,
          2,
          2,
          1,
          2,
          2,
          2,
          3,
          1,
          1,
          1,
          1,
          1,
          1,
          1,
          1,
          1
         ],
         "y": [
          1,
          4,
          6,
          7,
          9,
          10,
          12,
          13,
          14,
          15,
          16,
          17,
          18,
          19,
          20,
          22,
          23,
          24,
          25,
          26,
          27
         ]
        },
        {
         "hoverinfo": "text",
         "hovertext": [
          "<b>Topic 3</b><br>Words: weeks, depressed weeks, depressed, past weeks depressed, past weeks",
          "<b>Topic 3</b><br>Words: depressed weeks, weeks, quite, depressed, weeks depressed",
          "<b>Topic 3</b><br>Words: depressed weeks, haven depressed weeks, weeks generally, good things going, generally depressed",
          "<b>Topic 3</b><br>Words: depressed weeks, depressed, emotional, weeks, weeks felt happy",
          "<b>Topic 3</b><br>Words: encouraged, weeks felt happy, financially, felt happy, family friends",
          "<b>Topic 3</b><br>Words: days fine, depression really, crazy, minute, stuff",
          "<b>Topic 3</b><br>Words: trying stay positive, anxious good, trying stay, trying positive, depressed anxious good",
          "<b>Topic 3</b><br>Words: encouragement, depressed little, word, ones, love",
          "<b>Topic 3</b><br>Words: helps, medication helps, depression lot, depressed couple weeks, depressed couple",
          "<b>Topic 3</b><br>Words: week, second, depressed week, change, situational",
          "<b>Topic 3</b><br>Words: depression currently, depression usually, doesn really, occur, difference",
          "<b>Topic 3</b><br>Words: depressive, felt depressed week, depressive state, depressed years, major depressive disorder"
         ],
         "marker": {
          "color": "#F0E442"
         },
         "name": "3_depressed weeks_weeks_depressed_weeks ...",
         "orientation": "h",
         "type": "bar",
         "visible": "legendonly",
         "x": [
          8,
          6,
          2,
          3,
          1,
          1,
          1,
          1,
          1,
          1,
          1,
          1
         ],
         "y": [
          0,
          1,
          2,
          4,
          5,
          6,
          7,
          9,
          13,
          17,
          18,
          24
         ]
        },
        {
         "hoverinfo": "text",
         "hovertext": [
          "<b>Topic 4</b><br>Words: remember, won, low mood, mood, build",
          "<b>Topic 4</b><br>Words: functioning, high functioning, downs, bouts depression, break",
          "<b>Topic 4</b><br>Words: medication depression, lots things, lack motivation, things enjoy, lift",
          "<b>Topic 4</b><br>Words: enjoy, medication, normally enjoy, starting medication, months feel",
          "<b>Topic 4</b><br>Words: creative, force, human contact, things achieve, focus things",
          "<b>Topic 4</b><br>Words: asleep, constantly, utterly, unmotivated really, futile",
          "<b>Topic 4</b><br>Words: read, need, push, ve felt, books",
          "<b>Topic 4</b><br>Words: away time, gaining, disconnected, direction, feel unable",
          "<b>Topic 4</b><br>Words: feel, know, decent, feel really, better",
          "<b>Topic 4</b><br>Words: shut, night, good bad, awful, phase",
          "<b>Topic 4</b><br>Words: cos, start, able feel, person really, kind just",
          "<b>Topic 4</b><br>Words: constantly feeling, minute, isolating, plans, feeling low",
          "<b>Topic 4</b><br>Words: motivation energy, fog, recently particularly, particularly bad, teen",
          "<b>Topic 4</b><br>Words: anymore, watched, short time, alive, feel control"
         ],
         "marker": {
          "color": "#D55E00"
         },
         "name": "4_feel_shut_remember_know",
         "orientation": "h",
         "type": "bar",
         "visible": "legendonly",
         "x": [
          1,
          1,
          1,
          1,
          1,
          1,
          3,
          1,
          4,
          2,
          2,
          1,
          2,
          1
         ],
         "y": [
          5,
          9,
          10,
          11,
          13,
          14,
          15,
          16,
          17,
          18,
          19,
          20,
          22,
          23
         ]
        },
        {
         "hoverinfo": "text",
         "hovertext": [
          "<b>Topic 5</b><br>Words: weeks different, did, worries, different, worry",
          "<b>Topic 5</b><br>Words: don tend feel, don tend, say ve, feel depressed weeks, tend feel",
          "<b>Topic 5</b><br>Words: anxiety, lifts, don believe depressed, weeks felt low, constant state mind",
          "<b>Topic 5</b><br>Words: anxiety, ve feelings, lot able, feel stuck, emotion",
          "<b>Topic 5</b><br>Words: anxiety, suffer anxiety, count, time hobbies, time anxiety",
          "<b>Topic 5</b><br>Words: symptoms anxiety, weeks symptoms, tiredness, low mood, symptoms",
          "<b>Topic 5</b><br>Words: month ago, moments feeling, general depression, enthusiastic, getting better",
          "<b>Topic 5</b><br>Words: anxiety, worries anxiety, daytime, black, anxious depressed",
          "<b>Topic 5</b><br>Words: anxiety, depressive, diagnosed, usual, tendencies",
          "<b>Topic 5</b><br>Words: clinical, sense, suffer, anxiety, feeling",
          "<b>Topic 5</b><br>Words: life anxiety, lacking motivation, negatively, day life, day day life",
          "<b>Topic 5</b><br>Words: anxiety, medication, feel, things personal, enjoyment things",
          "<b>Topic 5</b><br>Words: anxiety, like good, bad mother, child, life feel like"
         ],
         "marker": {
          "color": "#0072B2"
         },
         "name": "5_anxiety_feel_anxious_weeks",
         "orientation": "h",
         "type": "bar",
         "visible": "legendonly",
         "x": [
          1,
          1,
          2,
          1,
          3,
          1,
          2,
          3,
          2,
          1,
          1,
          2,
          1
         ],
         "y": [
          0,
          1,
          3,
          4,
          6,
          7,
          8,
          9,
          10,
          12,
          13,
          15,
          16
         ]
        },
        {
         "hoverinfo": "text",
         "hovertext": [
          "<b>Topic 6</b><br>Words: reopened, creeping, bit positivity, gradually, weeks work",
          "<b>Topic 6</b><br>Words: lockdown, time outdoors, weeks lockdown, easing, outdoors",
          "<b>Topic 6</b><br>Words: country, started, lockdown, moment, feel bored",
          "<b>Topic 6</b><br>Words: lockdown, lock, related, mental health, easing",
          "<b>Topic 6</b><br>Words: lockdown, cbt, symptoms, mental health, ve",
          "<b>Topic 6</b><br>Words: lockdown, depressed normal, situation haven, things turn badly, turn badly",
          "<b>Topic 6</b><br>Words: feel bored, depressed time, caused feel, case, bored",
          "<b>Topic 6</b><br>Words: doesn make, things improve, surgery, know happen, greater",
          "<b>Topic 6</b><br>Words: tense, domestic, vulnerable, yeah, ways",
          "<b>Topic 6</b><br>Words: caused, times day, happening right, feel depressed think, able people",
          "<b>Topic 6</b><br>Words: lockdown, realised, moment, live, day think",
          "<b>Topic 6</b><br>Words: 20 years, lived, 20, cried, depressed couple weeks",
          "<b>Topic 6</b><br>Words: depressed making, cleaning room, power, better things, focused",
          "<b>Topic 6</b><br>Words: resume, normal life, work having, lockdown, caring"
         ],
         "marker": {
          "color": "#CC79A7"
         },
         "name": "6_lockdown_mental health_moment_able",
         "orientation": "h",
         "type": "bar",
         "visible": "legendonly",
         "x": [
          1,
          1,
          1,
          3,
          2,
          1,
          1,
          2,
          1,
          1,
          2,
          1,
          1,
          2
         ],
         "y": [
          0,
          1,
          2,
          5,
          9,
          10,
          11,
          12,
          13,
          15,
          17,
          18,
          19,
          21
         ]
        },
        {
         "hoverinfo": "text",
         "hovertext": [
          "<b>Topic 7</b><br>Words: failure, depression, dangerous, form depression, case times",
          "<b>Topic 7</b><br>Words: linked, medication, life actually, ordinary, knocking",
          "<b>Topic 7</b><br>Words: people depressed, know, illness, people, loving family",
          "<b>Topic 7</b><br>Words: relates, make decisions, going forward, decisions, inability",
          "<b>Topic 7</b><br>Words: ok, control, resigned, feeling resigned, effortful",
          "<b>Topic 7</b><br>Words: considerably, self destructive, destructive behaviours, work feel, life know",
          "<b>Topic 7</b><br>Words: provide, depression caused, negativity, depressed don feel, strain",
          "<b>Topic 7</b><br>Words: constant, feel constant, childhood, wonder, trigger",
          "<b>Topic 7</b><br>Words: edge, fog, way, large, problem",
          "<b>Topic 7</b><br>Words: don, list things, depressed normal, daily basis, depression depression",
          "<b>Topic 7</b><br>Words: couldn, correct, explain, behavior, escalated",
          "<b>Topic 7</b><br>Words: cope, hard cope, feel able cope, medication helps, unexpected",
          "<b>Topic 7</b><br>Words: anymore, severely depressed, everyday life, effects, life point"
         ],
         "marker": {
          "color": "#E69F00"
         },
         "name": "7_depression_family_control_don",
         "orientation": "h",
         "type": "bar",
         "visible": "legendonly",
         "x": [
          3,
          2,
          2,
          1,
          2,
          1,
          1,
          1,
          1,
          1,
          2,
          1,
          1
         ],
         "y": [
          0,
          3,
          5,
          10,
          13,
          14,
          15,
          16,
          17,
          18,
          19,
          21,
          27
         ]
        },
        {
         "hoverinfo": "text",
         "hovertext": [
          "<b>Topic 8</b><br>Words: haven depressed, haven, wouldn say, years, depressed",
          "<b>Topic 8</b><br>Words: depressed happy, person try, try, personality, nature",
          "<b>Topic 8</b><br>Words: ok, depressed depressed, just anxious, class depressed, feeling ok",
          "<b>Topic 8</b><br>Words: usually happens, called, allowed, sad depressed, learned",
          "<b>Topic 8</b><br>Words: dont, solutions, practical, depressed try, solve",
          "<b>Topic 8</b><br>Words: depressed badly, stress anxiety, anxiety feel, feel like depressed, like depressed",
          "<b>Topic 8</b><br>Words: lots, weekend, flat days, helped mood, week ve",
          "<b>Topic 8</b><br>Words: daytime, 20 years, 20, depressed suffer, awake"
         ],
         "marker": {
          "color": "#56B4E9"
         },
         "name": "8_haven depressed_depressed_haven_wouldn...",
         "orientation": "h",
         "type": "bar",
         "visible": "legendonly",
         "x": [
          6,
          3,
          3,
          1,
          2,
          1,
          1,
          1
         ],
         "y": [
          0,
          1,
          3,
          5,
          6,
          7,
          10,
          24
         ]
        },
        {
         "hoverinfo": "text",
         "hovertext": [
          "<b>Topic 9</b><br>Words: stress anxiety, spent hours, periods low, interpersonal, coupled",
          "<b>Topic 9</b><br>Words: rubbish, haven wanted, try tell, low things, aren going",
          "<b>Topic 9</b><br>Words: self, low, normally enjoy, necessarily feel, blame",
          "<b>Topic 9</b><br>Words: work things, send, reactive, feeling hopeless, gradually",
          "<b>Topic 9</b><br>Words: alot better, alot, gaining, reaching, gyms",
          "<b>Topic 9</b><br>Words: enjoyable, enjoyable overall, work hard, overall feel, like work",
          "<b>Topic 9</b><br>Words: live, stressful makes feel, stressful makes, like live, feeling really low",
          "<b>Topic 9</b><br>Words: lately, feeling bit, dissociated, close friends family, contacting",
          "<b>Topic 9</b><br>Words: muster energy, just don, muster, lots things, things doing",
          "<b>Topic 9</b><br>Words: certain things, things including, feeling bit, relationships, including",
          "<b>Topic 9</b><br>Words: struggled daily, able certain, going ve, showered, felt low depressed",
          "<b>Topic 9</b><br>Words: feeling hopeless, despondent, depressed sad, sad feeling, really low"
         ],
         "marker": {
          "color": "#009E73"
         },
         "name": "9_low_feeling_really low_flat",
         "orientation": "h",
         "type": "bar",
         "visible": "legendonly",
         "x": [
          2,
          2,
          2,
          1,
          1,
          1,
          1,
          2,
          1,
          1,
          2,
          1
         ],
         "y": [
          9,
          10,
          11,
          12,
          13,
          14,
          15,
          16,
          17,
          19,
          25,
          27
         ]
        },
        {
         "hoverinfo": "text",
         "hovertext": [
          "<b>Topic 10</b><br>Words: happy, best, furlough, time family, happy managed",
          "<b>Topic 10</b><br>Words: life try, appreciate, love family, happy cheerful, important life",
          "<b>Topic 10</b><br>Words: thing, happy, depressed thing, faith, felt calm",
          "<b>Topic 10</b><br>Words: lovely, holiday, spend time, spend, happy",
          "<b>Topic 10</b><br>Words: state mind, clear, depressed recently, pretty, mind",
          "<b>Topic 10</b><br>Words: having good time, having good, good time, rules, time family",
          "<b>Topic 10</b><br>Words: past weeks think, furlough, feeling depressed past, weeks think, nearly",
          "<b>Topic 10</b><br>Words: believe, aside, slightest, time motivation, motivation things"
         ],
         "marker": {
          "color": "#F0E442"
         },
         "name": "10_happy_life try_family_furlough",
         "orientation": "h",
         "type": "bar",
         "visible": "legendonly",
         "x": [
          5,
          3,
          3,
          1,
          1,
          1,
          1,
          1
         ],
         "y": [
          0,
          1,
          3,
          5,
          7,
          9,
          13,
          21
         ]
        },
        {
         "hoverinfo": "text",
         "hovertext": [
          "<b>Topic 11</b><br>Words: issue depression, familiar feelings, familiar, daily activities, pleasure",
          "<b>Topic 11</b><br>Words: feel like, days, days feel bit, low sad, just normal",
          "<b>Topic 11</b><br>Words: day, feelings haven, days recently, stopped, just feeling",
          "<b>Topic 11</b><br>Words: future people, nervous future, annoy, bit, months ago",
          "<b>Topic 11</b><br>Words: leaves, stem, life life, unable focus, feelings hopelessness",
          "<b>Topic 11</b><br>Words: lonely like, bad day, cared, day felt, felt lonely",
          "<b>Topic 11</b><br>Words: didnt, time, motivated things, life pointless, time hard",
          "<b>Topic 11</b><br>Words: wasting time, wasting, live family, days better, beating",
          "<b>Topic 11</b><br>Words: couldn, days past weeks, days past, days, thought",
          "<b>Topic 11</b><br>Words: felt like, sadness, began, like, sad",
          "<b>Topic 11</b><br>Words: unworthy, wondering, contemplative, feel useless, useless",
          "<b>Topic 11</b><br>Words: day, tiring, like constantly, day feel, feels like"
         ],
         "marker": {
          "color": "#D55E00"
         },
         "name": "11_sad_days_like_day",
         "orientation": "h",
         "type": "bar",
         "visible": "legendonly",
         "x": [
          1,
          1,
          1,
          2,
          1,
          1,
          2,
          1,
          2,
          2,
          1,
          1
         ],
         "y": [
          3,
          5,
          6,
          7,
          8,
          9,
          10,
          13,
          18,
          20,
          23,
          25
         ]
        },
        {
         "hoverinfo": "text",
         "hovertext": [
          "<b>Topic 12</b><br>Words: able look, little things, looking forward, pleasure, ahead",
          "<b>Topic 12</b><br>Words: future, options, depressed concerned, future wouldn, reason depressed",
          "<b>Topic 12</b><br>Words: future, optimistic, period, feel optimistic, stock",
          "<b>Topic 12</b><br>Words: hopeful, hopeful future, future, feel depressed, depressed",
          "<b>Topic 12</b><br>Words: future, succeed, aspect, state, provide",
          "<b>Topic 12</b><br>Words: optimistic, worse lately, days worse, hard stay, goal",
          "<b>Topic 12</b><br>Words: future, future know, helps feel, depressed future, feel optimistic",
          "<b>Topic 12</b><br>Words: anxious future, feel anxious, uncertainty, depressed feel, personal",
          "<b>Topic 12</b><br>Words: depressed thinking, fitness, lose job, return, won",
          "<b>Topic 12</b><br>Words: weeks worried, worried future, desire, strength, plans",
          "<b>Topic 12</b><br>Words: current state world, employed, current state, stock, lucky"
         ],
         "marker": {
          "color": "#0072B2"
         },
         "name": "12_future_optimistic_hopeful_succeed",
         "orientation": "h",
         "type": "bar",
         "visible": "legendonly",
         "x": [
          1,
          1,
          3,
          1,
          2,
          2,
          2,
          1,
          1,
          1,
          1
         ],
         "y": [
          3,
          5,
          6,
          9,
          12,
          13,
          15,
          17,
          18,
          19,
          20
         ]
        },
        {
         "hoverinfo": "text",
         "hovertext": [
          "<b>Topic 13</b><br>Words: best, worried depressed, times things, things aren, mindset",
          "<b>Topic 13</b><br>Words: worried, try, try hard, dwell, haven depressed felt",
          "<b>Topic 13</b><br>Words: good news, really, thought, news, worried depressed",
          "<b>Topic 13</b><br>Words: worried depressed, worried, depressed times felt, going right, weeks worried",
          "<b>Topic 13</b><br>Words: safe, worried, worrying, day comes, worrying days",
          "<b>Topic 13</b><br>Words: worried, caused, worry, worrying, days don want",
          "<b>Topic 13</b><br>Words: worried, write, aspects, share, actually",
          "<b>Topic 13</b><br>Words: don feel, energy things, worn, mood worse, overall mood"
         ],
         "marker": {
          "color": "#CC79A7"
         },
         "name": "13_worried_worried depressed_worrying_wr...",
         "orientation": "h",
         "type": "bar",
         "visible": "legendonly",
         "x": [
          1,
          3,
          1,
          2,
          2,
          2,
          2,
          1
         ],
         "y": [
          3,
          4,
          6,
          11,
          12,
          19,
          20,
          23
         ]
        },
        {
         "hoverinfo": "text",
         "hovertext": [
          "<b>Topic 14</b><br>Words: main reasons, stock, reasons, main, money",
          "<b>Topic 14</b><br>Words: having financial, car, learnt, financial, longer",
          "<b>Topic 14</b><br>Words: money, ways, coming, short, result",
          "<b>Topic 14</b><br>Words: think state, restless, kind depressed, peers, finances",
          "<b>Topic 14</b><br>Words: debt, felt hopeless, makes sad, comfortable, financially",
          "<b>Topic 14</b><br>Words: relatively, money, weeks mainly, fact able, able friends",
          "<b>Topic 14</b><br>Words: great, influence, putting, employment, strain",
          "<b>Topic 14</b><br>Words: debt, make ends, ends, make ends meet, ends meet",
          "<b>Topic 14</b><br>Words: right, times things, result pandemic, lost job, affecting",
          "<b>Topic 14</b><br>Words: fact able, settle, somewhat, result, fact",
          "<b>Topic 14</b><br>Words: money, make ends meet, make ends, ends meet, ends",
          "<b>Topic 14</b><br>Words: contacting, team, feel terrible, relationship going, debt"
         ],
         "marker": {
          "color": "#E69F00"
         },
         "name": "14_money_debt_financial_result",
         "orientation": "h",
         "type": "bar",
         "visible": "legendonly",
         "x": [
          1,
          1,
          1,
          2,
          1,
          1,
          1,
          1,
          1,
          1,
          2,
          1
         ],
         "y": [
          4,
          5,
          6,
          9,
          10,
          11,
          12,
          13,
          17,
          18,
          21,
          27
         ]
        },
        {
         "hoverinfo": "text",
         "hovertext": [
          "<b>Topic 15</b><br>Words: thankful, weeks, going, happy, depressed weeks",
          "<b>Topic 15</b><br>Words: books, lovely, weeks like, thanks, mental wellbeing",
          "<b>Topic 15</b><br>Words: lot thankful, depressed past week, thankful, past week, moment",
          "<b>Topic 15</b><br>Words: love family, workers, haven depressed weeks, particular, love",
          "<b>Topic 15</b><br>Words: keeps, year old, spending time family, keeps going, sister",
          "<b>Topic 15</b><br>Words: evening, particular, recent years, weeks certainly, ex",
          "<b>Topic 15</b><br>Words: depressed able, weeks feeling depressed, past weeks feeling, weeks feeling, feeling depressed",
          "<b>Topic 15</b><br>Words: pets, enjoying nice, enjoying nice weather, positive future, nice weather"
         ],
         "marker": {
          "color": "#56B4E9"
         },
         "name": "15_thankful_weeks_particular_depressed w...",
         "orientation": "h",
         "type": "bar",
         "visible": "legendonly",
         "x": [
          6,
          2,
          1,
          1,
          1,
          1,
          1,
          1
         ],
         "y": [
          0,
          1,
          2,
          7,
          8,
          12,
          13,
          16
         ]
        },
        {
         "hoverinfo": "text",
         "hovertext": [
          "<b>Topic 16</b><br>Words: dream, boyfriend, personal life, happy, happy moment",
          "<b>Topic 16</b><br>Words: depressed past month, really hope, slightly depressed past, past month, doctor",
          "<b>Topic 16</b><br>Words: depressed badly, noticed, weeks felt depressed, badly, weeks felt",
          "<b>Topic 16</b><br>Words: just felt, did, felt like, hard sleep, know feeling",
          "<b>Topic 16</b><br>Words: sleeping, trouble sleeping, loss activities, weeks depressed feeling, exercising",
          "<b>Topic 16</b><br>Words: usually bring, listless, unable focus, felt depressed days, days past weeks",
          "<b>Topic 16</b><br>Words: weeks main, barely, symptom, hard concentrate, felt quite depressed",
          "<b>Topic 16</b><br>Words: sleeping, past weeks, personal life, hard sleep, trouble sleeping",
          "<b>Topic 16</b><br>Words: bad thoughts, ve depressed weeks, feel like ve, like ve, weeks ago"
         ],
         "marker": {
          "color": "#009E73"
         },
         "name": "16_sleeping_boyfriend_past_hard",
         "orientation": "h",
         "type": "bar",
         "visible": "legendonly",
         "x": [
          1,
          1,
          1,
          1,
          2,
          1,
          1,
          3,
          1
         ],
         "y": [
          1,
          11,
          14,
          18,
          19,
          20,
          21,
          24,
          26
         ]
        },
        {
         "hoverinfo": "text",
         "hovertext": [
          "<b>Topic 17</b><br>Words: wrong life, majorly, reason sad, feeling happy, going wrong",
          "<b>Topic 17</b><br>Words: things house, stable mood, antidepressants help, hopeful depression, frequent",
          "<b>Topic 17</b><br>Words: having bad, shows, happy good, ve getting, fortnight",
          "<b>Topic 17</b><br>Words: ve felt, felt, felt times, ve felt low, near",
          "<b>Topic 17</b><br>Words: feelings felt, yesterday, mild, feelings, trapped",
          "<b>Topic 17</b><br>Words: felt times, energy, bed day, just lack energy, just lack",
          "<b>Topic 17</b><br>Words: lonely covid, little sad, say depression, wouldn say depression, sad lonely",
          "<b>Topic 17</b><br>Words: felt pretty good, quite days, felt pretty, clinically diagnosed, clinically diagnosed depression",
          "<b>Topic 17</b><br>Words: people love, feeling feel, unhelpful, way feeling, withdraw"
         ],
         "marker": {
          "color": "#F0E442"
         },
         "name": "17_felt_felt times_ve felt_times",
         "orientation": "h",
         "type": "bar",
         "visible": "legendonly",
         "x": [
          1,
          3,
          1,
          1,
          1,
          1,
          1,
          1,
          1
         ],
         "y": [
          0,
          3,
          6,
          7,
          8,
          11,
          13,
          14,
          16
         ]
        },
        {
         "hoverinfo": "text",
         "hovertext": [
          "<b>Topic 18</b><br>Words: work hard, doesn make, fulfilled, continue, make feel",
          "<b>Topic 18</b><br>Words: failed, work feel, restricted, feel bored, going work",
          "<b>Topic 18</b><br>Words: led depression, certain tasks, neglected, led, means",
          "<b>Topic 18</b><br>Words: existence, adds, pointless, previous weeks, driven",
          "<b>Topic 18</b><br>Words: useless, makes feel, self loathing, like haven, loathing",
          "<b>Topic 18</b><br>Words: feels pointless, pointless, feels, existence, feel unmotivated",
          "<b>Topic 18</b><br>Words: depressed lately ve, working ve, working, feel useless, felt quite depressed",
          "<b>Topic 18</b><br>Words: certain things, life feels pointless, feels pointless, bringing, pointless",
          "<b>Topic 18</b><br>Words: feeling sense, things bring, think better, mundane, want just",
          "<b>Topic 18</b><br>Words: felt life pointless, life pointless, depressed days felt, pointless, felt life"
         ],
         "marker": {
          "color": "#D55E00"
         },
         "name": "18_pointless_feels pointless_useless_exi...",
         "orientation": "h",
         "type": "bar",
         "visible": "legendonly",
         "x": [
          1,
          1,
          1,
          1,
          1,
          1,
          1,
          1,
          2,
          1
         ],
         "y": [
          6,
          11,
          13,
          15,
          16,
          18,
          19,
          20,
          21,
          25
         ]
        },
        {
         "hoverinfo": "text",
         "hovertext": [
          "<b>Topic 19</b><br>Words: happy felt, started, self, productive, low self",
          "<b>Topic 19</b><br>Words: moments feel, life, moments, control, feel negative",
          "<b>Topic 19</b><br>Words: low self, self, low self esteem, hating, despair feel",
          "<b>Topic 19</b><br>Words: occasionally, cleaning room, like getting, occasionally felt, harm",
          "<b>Topic 19</b><br>Words: extremely, just numb, exact cause, numb haven, depressive state",
          "<b>Topic 19</b><br>Words: low self, view, low self esteem, character, largely",
          "<b>Topic 19</b><br>Words: life hate, loathing, self loathing, taking life, painful"
         ],
         "marker": {
          "color": "#0072B2"
         },
         "name": "19_self_low self_low self esteem_esteem",
         "orientation": "h",
         "type": "bar",
         "visible": "legendonly",
         "x": [
          1,
          2,
          2,
          1,
          1,
          1,
          3
         ],
         "y": [
          12,
          13,
          18,
          20,
          22,
          24,
          27
         ]
        }
       ],
       "layout": {
        "height": 900,
        "hoverlabel": {
         "bgcolor": "white",
         "font": {
          "family": "Rockwell",
          "size": 16
         }
        },
        "legend": {
         "title": {
          "text": "<b>Global Topic Representation"
         }
        },
        "template": {
         "data": {
          "bar": [
           {
            "error_x": {
             "color": "rgb(36,36,36)"
            },
            "error_y": {
             "color": "rgb(36,36,36)"
            },
            "marker": {
             "line": {
              "color": "white",
              "width": 0.5
             },
             "pattern": {
              "fillmode": "overlay",
              "size": 10,
              "solidity": 0.2
             }
            },
            "type": "bar"
           }
          ],
          "barpolar": [
           {
            "marker": {
             "line": {
              "color": "white",
              "width": 0.5
             },
             "pattern": {
              "fillmode": "overlay",
              "size": 10,
              "solidity": 0.2
             }
            },
            "type": "barpolar"
           }
          ],
          "carpet": [
           {
            "aaxis": {
             "endlinecolor": "rgb(36,36,36)",
             "gridcolor": "white",
             "linecolor": "white",
             "minorgridcolor": "white",
             "startlinecolor": "rgb(36,36,36)"
            },
            "baxis": {
             "endlinecolor": "rgb(36,36,36)",
             "gridcolor": "white",
             "linecolor": "white",
             "minorgridcolor": "white",
             "startlinecolor": "rgb(36,36,36)"
            },
            "type": "carpet"
           }
          ],
          "choropleth": [
           {
            "colorbar": {
             "outlinewidth": 1,
             "tickcolor": "rgb(36,36,36)",
             "ticks": "outside"
            },
            "type": "choropleth"
           }
          ],
          "contour": [
           {
            "colorbar": {
             "outlinewidth": 1,
             "tickcolor": "rgb(36,36,36)",
             "ticks": "outside"
            },
            "colorscale": [
             [
              0,
              "#440154"
             ],
             [
              0.1111111111111111,
              "#482878"
             ],
             [
              0.2222222222222222,
              "#3e4989"
             ],
             [
              0.3333333333333333,
              "#31688e"
             ],
             [
              0.4444444444444444,
              "#26828e"
             ],
             [
              0.5555555555555556,
              "#1f9e89"
             ],
             [
              0.6666666666666666,
              "#35b779"
             ],
             [
              0.7777777777777778,
              "#6ece58"
             ],
             [
              0.8888888888888888,
              "#b5de2b"
             ],
             [
              1,
              "#fde725"
             ]
            ],
            "type": "contour"
           }
          ],
          "contourcarpet": [
           {
            "colorbar": {
             "outlinewidth": 1,
             "tickcolor": "rgb(36,36,36)",
             "ticks": "outside"
            },
            "type": "contourcarpet"
           }
          ],
          "heatmap": [
           {
            "colorbar": {
             "outlinewidth": 1,
             "tickcolor": "rgb(36,36,36)",
             "ticks": "outside"
            },
            "colorscale": [
             [
              0,
              "#440154"
             ],
             [
              0.1111111111111111,
              "#482878"
             ],
             [
              0.2222222222222222,
              "#3e4989"
             ],
             [
              0.3333333333333333,
              "#31688e"
             ],
             [
              0.4444444444444444,
              "#26828e"
             ],
             [
              0.5555555555555556,
              "#1f9e89"
             ],
             [
              0.6666666666666666,
              "#35b779"
             ],
             [
              0.7777777777777778,
              "#6ece58"
             ],
             [
              0.8888888888888888,
              "#b5de2b"
             ],
             [
              1,
              "#fde725"
             ]
            ],
            "type": "heatmap"
           }
          ],
          "heatmapgl": [
           {
            "colorbar": {
             "outlinewidth": 1,
             "tickcolor": "rgb(36,36,36)",
             "ticks": "outside"
            },
            "colorscale": [
             [
              0,
              "#440154"
             ],
             [
              0.1111111111111111,
              "#482878"
             ],
             [
              0.2222222222222222,
              "#3e4989"
             ],
             [
              0.3333333333333333,
              "#31688e"
             ],
             [
              0.4444444444444444,
              "#26828e"
             ],
             [
              0.5555555555555556,
              "#1f9e89"
             ],
             [
              0.6666666666666666,
              "#35b779"
             ],
             [
              0.7777777777777778,
              "#6ece58"
             ],
             [
              0.8888888888888888,
              "#b5de2b"
             ],
             [
              1,
              "#fde725"
             ]
            ],
            "type": "heatmapgl"
           }
          ],
          "histogram": [
           {
            "marker": {
             "line": {
              "color": "white",
              "width": 0.6
             }
            },
            "type": "histogram"
           }
          ],
          "histogram2d": [
           {
            "colorbar": {
             "outlinewidth": 1,
             "tickcolor": "rgb(36,36,36)",
             "ticks": "outside"
            },
            "colorscale": [
             [
              0,
              "#440154"
             ],
             [
              0.1111111111111111,
              "#482878"
             ],
             [
              0.2222222222222222,
              "#3e4989"
             ],
             [
              0.3333333333333333,
              "#31688e"
             ],
             [
              0.4444444444444444,
              "#26828e"
             ],
             [
              0.5555555555555556,
              "#1f9e89"
             ],
             [
              0.6666666666666666,
              "#35b779"
             ],
             [
              0.7777777777777778,
              "#6ece58"
             ],
             [
              0.8888888888888888,
              "#b5de2b"
             ],
             [
              1,
              "#fde725"
             ]
            ],
            "type": "histogram2d"
           }
          ],
          "histogram2dcontour": [
           {
            "colorbar": {
             "outlinewidth": 1,
             "tickcolor": "rgb(36,36,36)",
             "ticks": "outside"
            },
            "colorscale": [
             [
              0,
              "#440154"
             ],
             [
              0.1111111111111111,
              "#482878"
             ],
             [
              0.2222222222222222,
              "#3e4989"
             ],
             [
              0.3333333333333333,
              "#31688e"
             ],
             [
              0.4444444444444444,
              "#26828e"
             ],
             [
              0.5555555555555556,
              "#1f9e89"
             ],
             [
              0.6666666666666666,
              "#35b779"
             ],
             [
              0.7777777777777778,
              "#6ece58"
             ],
             [
              0.8888888888888888,
              "#b5de2b"
             ],
             [
              1,
              "#fde725"
             ]
            ],
            "type": "histogram2dcontour"
           }
          ],
          "mesh3d": [
           {
            "colorbar": {
             "outlinewidth": 1,
             "tickcolor": "rgb(36,36,36)",
             "ticks": "outside"
            },
            "type": "mesh3d"
           }
          ],
          "parcoords": [
           {
            "line": {
             "colorbar": {
              "outlinewidth": 1,
              "tickcolor": "rgb(36,36,36)",
              "ticks": "outside"
             }
            },
            "type": "parcoords"
           }
          ],
          "pie": [
           {
            "automargin": true,
            "type": "pie"
           }
          ],
          "scatter": [
           {
            "fillpattern": {
             "fillmode": "overlay",
             "size": 10,
             "solidity": 0.2
            },
            "type": "scatter"
           }
          ],
          "scatter3d": [
           {
            "line": {
             "colorbar": {
              "outlinewidth": 1,
              "tickcolor": "rgb(36,36,36)",
              "ticks": "outside"
             }
            },
            "marker": {
             "colorbar": {
              "outlinewidth": 1,
              "tickcolor": "rgb(36,36,36)",
              "ticks": "outside"
             }
            },
            "type": "scatter3d"
           }
          ],
          "scattercarpet": [
           {
            "marker": {
             "colorbar": {
              "outlinewidth": 1,
              "tickcolor": "rgb(36,36,36)",
              "ticks": "outside"
             }
            },
            "type": "scattercarpet"
           }
          ],
          "scattergeo": [
           {
            "marker": {
             "colorbar": {
              "outlinewidth": 1,
              "tickcolor": "rgb(36,36,36)",
              "ticks": "outside"
             }
            },
            "type": "scattergeo"
           }
          ],
          "scattergl": [
           {
            "marker": {
             "colorbar": {
              "outlinewidth": 1,
              "tickcolor": "rgb(36,36,36)",
              "ticks": "outside"
             }
            },
            "type": "scattergl"
           }
          ],
          "scattermapbox": [
           {
            "marker": {
             "colorbar": {
              "outlinewidth": 1,
              "tickcolor": "rgb(36,36,36)",
              "ticks": "outside"
             }
            },
            "type": "scattermapbox"
           }
          ],
          "scatterpolar": [
           {
            "marker": {
             "colorbar": {
              "outlinewidth": 1,
              "tickcolor": "rgb(36,36,36)",
              "ticks": "outside"
             }
            },
            "type": "scatterpolar"
           }
          ],
          "scatterpolargl": [
           {
            "marker": {
             "colorbar": {
              "outlinewidth": 1,
              "tickcolor": "rgb(36,36,36)",
              "ticks": "outside"
             }
            },
            "type": "scatterpolargl"
           }
          ],
          "scatterternary": [
           {
            "marker": {
             "colorbar": {
              "outlinewidth": 1,
              "tickcolor": "rgb(36,36,36)",
              "ticks": "outside"
             }
            },
            "type": "scatterternary"
           }
          ],
          "surface": [
           {
            "colorbar": {
             "outlinewidth": 1,
             "tickcolor": "rgb(36,36,36)",
             "ticks": "outside"
            },
            "colorscale": [
             [
              0,
              "#440154"
             ],
             [
              0.1111111111111111,
              "#482878"
             ],
             [
              0.2222222222222222,
              "#3e4989"
             ],
             [
              0.3333333333333333,
              "#31688e"
             ],
             [
              0.4444444444444444,
              "#26828e"
             ],
             [
              0.5555555555555556,
              "#1f9e89"
             ],
             [
              0.6666666666666666,
              "#35b779"
             ],
             [
              0.7777777777777778,
              "#6ece58"
             ],
             [
              0.8888888888888888,
              "#b5de2b"
             ],
             [
              1,
              "#fde725"
             ]
            ],
            "type": "surface"
           }
          ],
          "table": [
           {
            "cells": {
             "fill": {
              "color": "rgb(237,237,237)"
             },
             "line": {
              "color": "white"
             }
            },
            "header": {
             "fill": {
              "color": "rgb(217,217,217)"
             },
             "line": {
              "color": "white"
             }
            },
            "type": "table"
           }
          ]
         },
         "layout": {
          "annotationdefaults": {
           "arrowhead": 0,
           "arrowwidth": 1
          },
          "autotypenumbers": "strict",
          "coloraxis": {
           "colorbar": {
            "outlinewidth": 1,
            "tickcolor": "rgb(36,36,36)",
            "ticks": "outside"
           }
          },
          "colorscale": {
           "diverging": [
            [
             0,
             "rgb(103,0,31)"
            ],
            [
             0.1,
             "rgb(178,24,43)"
            ],
            [
             0.2,
             "rgb(214,96,77)"
            ],
            [
             0.3,
             "rgb(244,165,130)"
            ],
            [
             0.4,
             "rgb(253,219,199)"
            ],
            [
             0.5,
             "rgb(247,247,247)"
            ],
            [
             0.6,
             "rgb(209,229,240)"
            ],
            [
             0.7,
             "rgb(146,197,222)"
            ],
            [
             0.8,
             "rgb(67,147,195)"
            ],
            [
             0.9,
             "rgb(33,102,172)"
            ],
            [
             1,
             "rgb(5,48,97)"
            ]
           ],
           "sequential": [
            [
             0,
             "#440154"
            ],
            [
             0.1111111111111111,
             "#482878"
            ],
            [
             0.2222222222222222,
             "#3e4989"
            ],
            [
             0.3333333333333333,
             "#31688e"
            ],
            [
             0.4444444444444444,
             "#26828e"
            ],
            [
             0.5555555555555556,
             "#1f9e89"
            ],
            [
             0.6666666666666666,
             "#35b779"
            ],
            [
             0.7777777777777778,
             "#6ece58"
            ],
            [
             0.8888888888888888,
             "#b5de2b"
            ],
            [
             1,
             "#fde725"
            ]
           ],
           "sequentialminus": [
            [
             0,
             "#440154"
            ],
            [
             0.1111111111111111,
             "#482878"
            ],
            [
             0.2222222222222222,
             "#3e4989"
            ],
            [
             0.3333333333333333,
             "#31688e"
            ],
            [
             0.4444444444444444,
             "#26828e"
            ],
            [
             0.5555555555555556,
             "#1f9e89"
            ],
            [
             0.6666666666666666,
             "#35b779"
            ],
            [
             0.7777777777777778,
             "#6ece58"
            ],
            [
             0.8888888888888888,
             "#b5de2b"
            ],
            [
             1,
             "#fde725"
            ]
           ]
          },
          "colorway": [
           "#1F77B4",
           "#FF7F0E",
           "#2CA02C",
           "#D62728",
           "#9467BD",
           "#8C564B",
           "#E377C2",
           "#7F7F7F",
           "#BCBD22",
           "#17BECF"
          ],
          "font": {
           "color": "rgb(36,36,36)"
          },
          "geo": {
           "bgcolor": "white",
           "lakecolor": "white",
           "landcolor": "white",
           "showlakes": true,
           "showland": true,
           "subunitcolor": "white"
          },
          "hoverlabel": {
           "align": "left"
          },
          "hovermode": "closest",
          "mapbox": {
           "style": "light"
          },
          "paper_bgcolor": "white",
          "plot_bgcolor": "white",
          "polar": {
           "angularaxis": {
            "gridcolor": "rgb(232,232,232)",
            "linecolor": "rgb(36,36,36)",
            "showgrid": false,
            "showline": true,
            "ticks": "outside"
           },
           "bgcolor": "white",
           "radialaxis": {
            "gridcolor": "rgb(232,232,232)",
            "linecolor": "rgb(36,36,36)",
            "showgrid": false,
            "showline": true,
            "ticks": "outside"
           }
          },
          "scene": {
           "xaxis": {
            "backgroundcolor": "white",
            "gridcolor": "rgb(232,232,232)",
            "gridwidth": 2,
            "linecolor": "rgb(36,36,36)",
            "showbackground": true,
            "showgrid": false,
            "showline": true,
            "ticks": "outside",
            "zeroline": false,
            "zerolinecolor": "rgb(36,36,36)"
           },
           "yaxis": {
            "backgroundcolor": "white",
            "gridcolor": "rgb(232,232,232)",
            "gridwidth": 2,
            "linecolor": "rgb(36,36,36)",
            "showbackground": true,
            "showgrid": false,
            "showline": true,
            "ticks": "outside",
            "zeroline": false,
            "zerolinecolor": "rgb(36,36,36)"
           },
           "zaxis": {
            "backgroundcolor": "white",
            "gridcolor": "rgb(232,232,232)",
            "gridwidth": 2,
            "linecolor": "rgb(36,36,36)",
            "showbackground": true,
            "showgrid": false,
            "showline": true,
            "ticks": "outside",
            "zeroline": false,
            "zerolinecolor": "rgb(36,36,36)"
           }
          },
          "shapedefaults": {
           "fillcolor": "black",
           "line": {
            "width": 0
           },
           "opacity": 0.3
          },
          "ternary": {
           "aaxis": {
            "gridcolor": "rgb(232,232,232)",
            "linecolor": "rgb(36,36,36)",
            "showgrid": false,
            "showline": true,
            "ticks": "outside"
           },
           "baxis": {
            "gridcolor": "rgb(232,232,232)",
            "linecolor": "rgb(36,36,36)",
            "showgrid": false,
            "showline": true,
            "ticks": "outside"
           },
           "bgcolor": "white",
           "caxis": {
            "gridcolor": "rgb(232,232,232)",
            "linecolor": "rgb(36,36,36)",
            "showgrid": false,
            "showline": true,
            "ticks": "outside"
           }
          },
          "title": {
           "x": 0.05
          },
          "xaxis": {
           "automargin": true,
           "gridcolor": "rgb(232,232,232)",
           "linecolor": "rgb(36,36,36)",
           "showgrid": false,
           "showline": true,
           "ticks": "outside",
           "title": {
            "standoff": 15
           },
           "zeroline": false,
           "zerolinecolor": "rgb(36,36,36)"
          },
          "yaxis": {
           "automargin": true,
           "gridcolor": "rgb(232,232,232)",
           "linecolor": "rgb(36,36,36)",
           "showgrid": false,
           "showline": true,
           "ticks": "outside",
           "title": {
            "standoff": 15
           },
           "zeroline": false,
           "zerolinecolor": "rgb(36,36,36)"
          }
         }
        },
        "title": {
         "font": {
          "color": "Black",
          "size": 22
         },
         "text": "<b>Topics per Class</b>",
         "x": 0.4,
         "xanchor": "center",
         "y": 0.95,
         "yanchor": "top"
        },
        "width": 1250,
        "xaxis": {
         "showgrid": true,
         "title": {
          "text": "Frequency"
         }
        },
        "yaxis": {
         "showgrid": true,
         "title": {
          "text": "Class"
         }
        }
       }
      }
     },
     "metadata": {},
     "output_type": "display_data"
    }
   ],
   "source": [
    "topic_model.visualize_topics_per_class(topics_per_class, top_n_topics=20)\n"
   ]
  },
  {
   "cell_type": "code",
   "execution_count": null,
   "metadata": {},
   "outputs": [
    {
     "data": {
      "image/png": "[encoded data removed]",
      "text/plain": [
       "<Figure size 640x480 with 1 Axes>"
      ]
     },
     "metadata": {},
     "output_type": "display_data"
    }
   ],
   "source": [
    "from wordcloud import WordCloud\n",
    "import matplotlib.pyplot as plt\n",
    "\n",
    "def create_wordcloud(model, topic):\n",
    "    text = {word: value for word, value in model.get_topic(topic)}\n",
    "    wc = WordCloud(background_color=\"white\", max_words=1000)\n",
    "    wc.generate_from_frequencies(text)\n",
    "    plt.imshow(wc, interpolation=\"bilinear\")\n",
    "    plt.axis(\"off\")\n",
    "    plt.show()\n",
    "\n",
    "# Show wordcloud\n",
    "create_wordcloud(topic_model, topic=2)"
   ]
  },
  {
   "cell_type": "code",
   "execution_count": null,
   "metadata": {},
   "outputs": [
    {
     "name": "stderr",
     "output_type": "stream",
     "text": [
      "  0%|          | 0/35 [00:00<?, ?it/s]"
     ]
    },
    {
     "name": "stderr",
     "output_type": "stream",
     "text": [
      "100%|██████████| 35/35 [00:00<00:00, 532.24it/s]\n"
     ]
    }
   ],
   "source": [
    "hierarchical_topics = topic_model.hierarchical_topics(data[\"dep_all_phrases\"])"
   ]
  },
  {
   "cell_type": "code",
   "execution_count": null,
   "metadata": {},
   "outputs": [
    {
     "data": {
      "application/vnd.plotly.v1+json": {
       "config": {
        "plotlyServerURL": "https://plot.ly"
       },
       "data": [
        {
         "hoverinfo": "text",
         "marker": {
          "color": "rgb(61,153,112)"
         },
         "mode": "lines",
         "text": [
          "family_time_friends_happy life_happy",
          "",
          "",
          "enjoyment_love_joy_laughter_smiling"
         ],
         "type": "scatter",
         "x": [
          0,
          0.8022700995626446,
          0.8022700995626446,
          0
         ],
         "xaxis": "x",
         "y": [
          -5,
          -5,
          -15,
          -15
         ],
         "yaxis": "y"
        },
        {
         "hoverinfo": "text",
         "marker": {
          "color": "rgb(61,153,112)"
         },
         "mode": "lines",
         "text": [
          "calm_relaxed_cool_happy calm_happy",
          "",
          "",
          "content_looking forward_happy satisfied_life_free"
         ],
         "type": "scatter",
         "x": [
          0,
          0.794876748251662,
          0.794876748251662,
          0
         ],
         "xaxis": "x",
         "y": [
          -25,
          -25,
          -35,
          -35
         ],
         "yaxis": "y"
        },
        {
         "hoverinfo": "text",
         "marker": {
          "color": "rgb(61,153,112)"
         },
         "mode": "lines",
         "text": [
          "cheerful_joyful_happy_glad_elated",
          "",
          "",
          "optimistic_confident_positive_forward_hopeful"
         ],
         "type": "scatter",
         "x": [
          0,
          0.7045202424052046,
          0.7045202424052046,
          0
         ],
         "xaxis": "x",
         "y": [
          -45,
          -45,
          -55,
          -55
         ],
         "yaxis": "y"
        },
        {
         "hoverinfo": "text",
         "marker": {
          "color": "rgb(61,153,112)"
         },
         "mode": "lines",
         "text": [
          "calm_relaxed_content_happy_cool",
          "",
          "",
          "cheerful_optimistic_hopeful_positive_happy"
         ],
         "type": "scatter",
         "x": [
          0.794876748251662,
          0.847975188848687,
          0.847975188848687,
          0.7045202424052046
         ],
         "xaxis": "x",
         "y": [
          -30,
          -30,
          -50,
          -50
         ],
         "yaxis": "y"
        },
        {
         "hoverinfo": "text",
         "marker": {
          "color": "rgb(61,153,112)"
         },
         "mode": "lines",
         "text": [
          "family_happy_love_enjoyment_joy",
          "",
          "",
          "happy_cheerful_optimistic_positive_hopeful"
         ],
         "type": "scatter",
         "x": [
          0.8022700995626446,
          0.9410261155697246,
          0.9410261155697246,
          0.847975188848687
         ],
         "xaxis": "x",
         "y": [
          -10,
          -10,
          -40,
          -40
         ],
         "yaxis": "y"
        },
        {
         "hoverinfo": "text",
         "marker": {
          "color": "rgb(61,153,112)"
         },
         "mode": "lines",
         "text": [
          "depressed_hopeful_optimistic_future_good",
          "",
          "",
          "depressed_felt_depression_fine_happy"
         ],
         "type": "scatter",
         "x": [
          0,
          0.6392774874662268,
          0.6392774874662268,
          0
         ],
         "xaxis": "x",
         "y": [
          -65,
          -65,
          -75,
          -75
         ],
         "yaxis": "y"
        },
        {
         "hoverinfo": "text",
         "marker": {
          "color": "rgb(61,153,112)"
         },
         "mode": "lines",
         "text": [
          "happy_cheerful_joyful_positive_optimistic",
          "",
          "",
          "depressed_felt_generally_happy_calm"
         ],
         "type": "scatter",
         "x": [
          0.9410261155697246,
          0.9961240303283169,
          0.9961240303283169,
          0.6392774874662268
         ],
         "xaxis": "x",
         "y": [
          -25,
          -25,
          -70,
          -70
         ],
         "yaxis": "y"
        },
        {
         "hoverinfo": "text",
         "marker": {
          "color": "rgb(255,65,54)"
         },
         "mode": "lines",
         "text": [
          "feeling like_better_feeling_life distracted_behaviour",
          "",
          "",
          "yes_occasionally_frequently_constantly_hard"
         ],
         "type": "scatter",
         "x": [
          0,
          0.8423318147366977,
          0.8423318147366977,
          0
         ],
         "xaxis": "x",
         "y": [
          -95,
          -95,
          -105,
          -105
         ],
         "yaxis": "y"
        },
        {
         "hoverinfo": "text",
         "marker": {
          "color": "rgb(255,65,54)"
         },
         "mode": "lines",
         "text": [
          "boring_life_point_fed_hours",
          "",
          "",
          "yes_occasionally_constantly_frequently_hard"
         ],
         "type": "scatter",
         "x": [
          0,
          0.9324316788622568,
          0.9324316788622568,
          0.8423318147366977
         ],
         "xaxis": "x",
         "y": [
          -85,
          -85,
          -100,
          -100
         ],
         "yaxis": "y"
        },
        {
         "hoverinfo": "text",
         "marker": {
          "color": "rgb(35,205,205)"
         },
         "mode": "lines",
         "text": [
          "weary_lazy_fed_sad lonely_lonely",
          "",
          "",
          "loneliness_sad lonely_lonely_isolated_pain"
         ],
         "type": "scatter",
         "x": [
          0,
          0.7823342152171484,
          0.7823342152171484,
          0
         ],
         "xaxis": "x",
         "y": [
          -115,
          -115,
          -125,
          -125
         ],
         "yaxis": "y"
        },
        {
         "hoverinfo": "text",
         "marker": {
          "color": "rgb(35,205,205)"
         },
         "mode": "lines",
         "text": [
          "felt_cried_feel_activities_sad felt",
          "",
          "",
          "resigned_accepting_disappointed_partner_felt"
         ],
         "type": "scatter",
         "x": [
          0,
          0.8726839793120222,
          0.8726839793120222,
          0
         ],
         "xaxis": "x",
         "y": [
          -135,
          -135,
          -145,
          -145
         ],
         "yaxis": "y"
        },
        {
         "hoverinfo": "text",
         "marker": {
          "color": "rgb(35,205,205)"
         },
         "mode": "lines",
         "text": [
          "sad lonely_lonely_loneliness_isolated_pain",
          "",
          "",
          "felt_resigned_activities_accepting_disappointed"
         ],
         "type": "scatter",
         "x": [
          0.7823342152171484,
          0.9479125340707446,
          0.9479125340707446,
          0.8726839793120222
         ],
         "xaxis": "x",
         "y": [
          -120,
          -120,
          -140,
          -140
         ],
         "yaxis": "y"
        },
        {
         "hoverinfo": "text",
         "marker": {
          "color": "rgb(133,20,75)"
         },
         "mode": "lines",
         "text": [
          "sad hopeless_hopeless_bleak_void_despair",
          "",
          "",
          "worthless_darkness_despondent_despair_sad unhappy"
         ],
         "type": "scatter",
         "x": [
          0,
          0.7698668228620705,
          0.7698668228620705,
          0
         ],
         "xaxis": "x",
         "y": [
          -155,
          -155,
          -165,
          -165
         ],
         "yaxis": "y"
        },
        {
         "hoverinfo": "text",
         "marker": {
          "color": "rgb(133,20,75)"
         },
         "mode": "lines",
         "text": [
          "sleeping_sleep_appetite_insomnia_tearful",
          "",
          "",
          "crying_tearful_losing_teary_past"
         ],
         "type": "scatter",
         "x": [
          0,
          0.813835479532625,
          0.813835479532625,
          0
         ],
         "xaxis": "x",
         "y": [
          -185,
          -185,
          -195,
          -195
         ],
         "yaxis": "y"
        },
        {
         "hoverinfo": "text",
         "marker": {
          "color": "rgb(133,20,75)"
         },
         "mode": "lines",
         "text": [
          "suicidal_suicidal thoughts_self_thoughts_suicide",
          "",
          "",
          "sleeping_sleep_appetite_tearful_crying"
         ],
         "type": "scatter",
         "x": [
          0,
          0.8834646064069781,
          0.8834646064069781,
          0.813835479532625
         ],
         "xaxis": "x",
         "y": [
          -175,
          -175,
          -190,
          -190
         ],
         "yaxis": "y"
        },
        {
         "hoverinfo": "text",
         "marker": {
          "color": "rgb(133,20,75)"
         },
         "mode": "lines",
         "text": [
          "void_hopeless_worthless_despair_darkness",
          "",
          "",
          "sleep_sleeping_suicidal_appetite_tearful"
         ],
         "type": "scatter",
         "x": [
          0.7698668228620705,
          0.9935018680106583,
          0.9935018680106583,
          0.8834646064069781
         ],
         "xaxis": "x",
         "y": [
          -160,
          -160,
          -182.5,
          -182.5
         ],
         "yaxis": "y"
        },
        {
         "hoverinfo": "text",
         "marker": {
          "color": "rgb(255,220,0)"
         },
         "mode": "lines",
         "text": [
          "energy_motivation_low energy_motivation tired_eating",
          "",
          "",
          "energy_lack energy_lack_drained energy_energy sad"
         ],
         "type": "scatter",
         "x": [
          0,
          0.7262685371015941,
          0.7262685371015941,
          0
         ],
         "xaxis": "x",
         "y": [
          -205,
          -205,
          -215,
          -215
         ],
         "yaxis": "y"
        },
        {
         "hoverinfo": "text",
         "marker": {
          "color": "rgb(0,116,217)"
         },
         "mode": "lines",
         "text": [
          "sleep_sleeping_suicidal_worthless_appetite",
          "",
          "",
          "energy_lack energy_lack_motivation_low energy"
         ],
         "type": "scatter",
         "x": [
          0.9935018680106583,
          1.0387259454701303,
          1.0387259454701303,
          0.7262685371015941
         ],
         "xaxis": "x",
         "y": [
          -171.25,
          -171.25,
          -210,
          -210
         ],
         "yaxis": "y"
        },
        {
         "hoverinfo": "text",
         "marker": {
          "color": "rgb(0,116,217)"
         },
         "mode": "lines",
         "text": [
          "lonely_sad lonely_felt_isolated_loneliness",
          "",
          "",
          "energy_sleep_sleeping_suicidal_lack"
         ],
         "type": "scatter",
         "x": [
          0.9479125340707446,
          1.1004120676453761,
          1.1004120676453761,
          1.0387259454701303
         ],
         "xaxis": "x",
         "y": [
          -130,
          -130,
          -190.625,
          -190.625
         ],
         "yaxis": "y"
        },
        {
         "hoverinfo": "text",
         "marker": {
          "color": "rgb(0,116,217)"
         },
         "mode": "lines",
         "text": [
          "yes_occasionally_boring_point_life",
          "",
          "",
          "energy_sleep_sad_lack_lonely"
         ],
         "type": "scatter",
         "x": [
          0.9324316788622568,
          1.1152662069600698,
          1.1152662069600698,
          1.1004120676453761
         ],
         "xaxis": "x",
         "y": [
          -92.5,
          -92.5,
          -160.3125,
          -160.3125
         ],
         "yaxis": "y"
        },
        {
         "hoverinfo": "text",
         "marker": {
          "color": "rgb(40,35,35)"
         },
         "mode": "lines",
         "text": [
          "scared_sad lonely_worried scared_shaky_lost lonely",
          "",
          "",
          "afraid_panic_scared_anxiety_abandoned"
         ],
         "type": "scatter",
         "x": [
          0,
          0.7299828585018882,
          0.7299828585018882,
          0
         ],
         "xaxis": "x",
         "y": [
          -225,
          -225,
          -235,
          -235
         ],
         "yaxis": "y"
        },
        {
         "hoverinfo": "text",
         "marker": {
          "color": "rgb(61,153,112)"
         },
         "mode": "lines",
         "text": [
          "avoiding_exhausted_stressful_exhausted unmotivated_intense",
          "",
          "",
          "stressed_disturbed_anxious_bit_worried stressed"
         ],
         "type": "scatter",
         "x": [
          0,
          0.877382051167899,
          0.877382051167899,
          0
         ],
         "xaxis": "x",
         "y": [
          -265,
          -265,
          -275,
          -275
         ],
         "yaxis": "y"
        },
        {
         "hoverinfo": "text",
         "marker": {
          "color": "rgb(61,153,112)"
         },
         "mode": "lines",
         "text": [
          "stressed_anxious_disturbed_bit_angry",
          "",
          "",
          "blue_dumps_agitated_upset_day"
         ],
         "type": "scatter",
         "x": [
          0.877382051167899,
          0.9098545613482435,
          0.9098545613482435,
          0
         ],
         "xaxis": "x",
         "y": [
          -270,
          -270,
          -285,
          -285
         ],
         "yaxis": "y"
        },
        {
         "hoverinfo": "text",
         "marker": {
          "color": "rgb(61,153,112)"
         },
         "mode": "lines",
         "text": [
          "unmotivated_bored_listless_low tired_conscious",
          "",
          "",
          "blue_anxious_stressed_upset_disturbed"
         ],
         "type": "scatter",
         "x": [
          0,
          0.9265772896991347,
          0.9265772896991347,
          0.9098545613482435
         ],
         "xaxis": "x",
         "y": [
          -255,
          -255,
          -277.5,
          -277.5
         ],
         "yaxis": "y"
        },
        {
         "hoverinfo": "text",
         "marker": {
          "color": "rgb(61,153,112)"
         },
         "mode": "lines",
         "text": [
          "focused_minded_used_different_difficult",
          "",
          "",
          "blue_stressed_anxious_unmotivated_upset"
         ],
         "type": "scatter",
         "x": [
          0,
          0.9598232535135336,
          0.9598232535135336,
          0.9265772896991347
         ],
         "xaxis": "x",
         "y": [
          -245,
          -245,
          -266.25,
          -266.25
         ],
         "yaxis": "y"
        },
        {
         "hoverinfo": "text",
         "marker": {
          "color": "rgb(255,65,54)"
         },
         "mode": "lines",
         "text": [
          "frustrated_sad happy_annoyed_hot_ashamed",
          "",
          "",
          "gloomy_glum_sorrowful_sad gloomy_bleak"
         ],
         "type": "scatter",
         "x": [
          0,
          0.8713050851648804,
          0.8713050851648804,
          0
         ],
         "xaxis": "x",
         "y": [
          -305,
          -305,
          -315,
          -315
         ],
         "yaxis": "y"
        },
        {
         "hoverinfo": "text",
         "marker": {
          "color": "rgb(255,65,54)"
         },
         "mode": "lines",
         "text": [
          "numb_half_glass_just_tired tired",
          "",
          "",
          "gloomy_glum_sad gloomy_sorrowful_sad unhappy"
         ],
         "type": "scatter",
         "x": [
          0,
          0.9505632226714087,
          0.9505632226714087,
          0.8713050851648804
         ],
         "xaxis": "x",
         "y": [
          -295,
          -295,
          -310,
          -310
         ],
         "yaxis": "y"
        },
        {
         "hoverinfo": "text",
         "marker": {
          "color": "rgb(255,65,54)"
         },
         "mode": "lines",
         "text": [
          "tiredness_headaches_mood_moodiness_unhappiness",
          "",
          "",
          "deep_tired exhausted_happy_happy stressed_trouble sleeping"
         ],
         "type": "scatter",
         "x": [
          0,
          0.9155215008316216,
          0.9155215008316216,
          0
         ],
         "xaxis": "x",
         "y": [
          -325,
          -325,
          -335,
          -335
         ],
         "yaxis": "y"
        },
        {
         "hoverinfo": "text",
         "marker": {
          "color": "rgb(255,65,54)"
         },
         "mode": "lines",
         "text": [
          "gloomy_glum_numb_unhappy_sorrowful",
          "",
          "",
          "tiredness_headaches_mood_deep_tired exhausted"
         ],
         "type": "scatter",
         "x": [
          0.9505632226714087,
          0.9838635062535248,
          0.9838635062535248,
          0.9155215008316216
         ],
         "xaxis": "x",
         "y": [
          -302.5,
          -302.5,
          -330,
          -330
         ],
         "yaxis": "y"
        },
        {
         "hoverinfo": "text",
         "marker": {
          "color": "rgb(0,116,217)"
         },
         "mode": "lines",
         "text": [
          "blue_stressed_anxious_unmotivated_upset",
          "",
          "",
          "gloomy_glum_numb_unhappy_tiredness"
         ],
         "type": "scatter",
         "x": [
          0.9598232535135336,
          1.0562143611564996,
          1.0562143611564996,
          0.9838635062535248
         ],
         "xaxis": "x",
         "y": [
          -255.625,
          -255.625,
          -316.25,
          -316.25
         ],
         "yaxis": "y"
        },
        {
         "hoverinfo": "text",
         "marker": {
          "color": "rgb(0,116,217)"
         },
         "mode": "lines",
         "text": [
          "afraid_scared_panic_frightened_fear",
          "",
          "",
          "blue_gloomy_stressed_unhappy_anxious"
         ],
         "type": "scatter",
         "x": [
          0.7299828585018882,
          1.1344534812717282,
          1.1344534812717282,
          1.0562143611564996
         ],
         "xaxis": "x",
         "y": [
          -230,
          -230,
          -285.9375,
          -285.9375
         ],
         "yaxis": "y"
        },
        {
         "hoverinfo": "text",
         "marker": {
          "color": "rgb(35,205,205)"
         },
         "mode": "lines",
         "text": [
          "moody_grumpy_irritable low_tired tired_sad useless",
          "",
          "",
          "moody_tunnel_lost low_paranoid_low moody"
         ],
         "type": "scatter",
         "x": [
          0,
          0.6164934956440409,
          0.6164934956440409,
          0
         ],
         "xaxis": "x",
         "y": [
          -345,
          -345,
          -355,
          -355
         ],
         "yaxis": "y"
        },
        {
         "hoverinfo": "text",
         "marker": {
          "color": "rgb(0,116,217)"
         },
         "mode": "lines",
         "text": [
          "blue_gloomy_anxious_sad_stressed",
          "",
          "",
          "moody_grumpy_upset_moody tired_irritable low"
         ],
         "type": "scatter",
         "x": [
          1.1344534812717282,
          1.157886610632347,
          1.157886610632347,
          0.6164934956440409
         ],
         "xaxis": "x",
         "y": [
          -257.96875,
          -257.96875,
          -350,
          -350
         ],
         "yaxis": "y"
        },
        {
         "hoverinfo": "text",
         "marker": {
          "color": "rgb(0,116,217)"
         },
         "mode": "lines",
         "text": [
          "energy_sleep_feeling_sad_lack",
          "",
          "",
          "blue_gloomy_anxious_sad_moody"
         ],
         "type": "scatter",
         "x": [
          1.1152662069600698,
          1.249720276771229,
          1.249720276771229,
          1.157886610632347
         ],
         "xaxis": "x",
         "y": [
          -126.40625,
          -126.40625,
          -303.984375,
          -303.984375
         ],
         "yaxis": "y"
        },
        {
         "hoverinfo": "text",
         "marker": {
          "color": "rgb(0,116,217)"
         },
         "mode": "lines",
         "text": [
          "happy_optimistic_positive_hopeful_cheerful",
          "",
          "",
          "sad_energy_feeling_blue_sleep"
         ],
         "type": "scatter",
         "x": [
          0.9961240303283169,
          1.6103936468399864,
          1.6103936468399864,
          1.249720276771229
         ],
         "xaxis": "x",
         "y": [
          -47.5,
          -47.5,
          -215.1953125,
          -215.1953125
         ],
         "yaxis": "y"
        },
        {
         "hoverinfo": "text",
         "hovertext": [
          "calm_relaxed_content_happy_cool",
          "family_happy_love_enjoyment_joy",
          "happy_cheerful_joyful_positive_optimistic",
          "sad lonely_lonely_loneliness_isolated_pain",
          "void_hopeless_worthless_despair_darkness",
          "sleep_sleeping_suicidal_worthless_appetite",
          "lonely_sad lonely_felt_isolated_loneliness",
          "yes_occasionally_boring_point_life",
          "stressed_anxious_disturbed_bit_angry",
          "gloomy_glum_numb_unhappy_sorrowful",
          "blue_stressed_anxious_unmotivated_upset",
          "afraid_scared_panic_frightened_fear",
          "blue_gloomy_anxious_sad_stressed",
          "energy_sleep_feeling_sad_lack",
          "happy_optimistic_positive_hopeful_cheerful"
         ],
         "marker": {
          "color": "black"
         },
         "mode": "markers",
         "showlegend": false,
         "type": "scatter",
         "x": [
          0.794876748251662,
          0.8022700995626446,
          0.9410261155697246,
          0.7823342152171484,
          0.7698668228620705,
          0.9935018680106583,
          0.9479125340707446,
          0.9324316788622568,
          0.877382051167899,
          0.9505632226714087,
          0.9598232535135336,
          0.7299828585018882,
          1.1344534812717282,
          1.1152662069600698,
          0.9961240303283169
         ],
         "y": [
          -30,
          -10,
          -25,
          -120,
          -160,
          -171.25,
          -130,
          -92.5,
          -270,
          -302.5,
          -255.625,
          -230,
          -257.96875,
          -126.40625,
          -47.5
         ]
        },
        {
         "hoverinfo": "text",
         "hovertext": [
          "cheerful_optimistic_hopeful_positive_happy",
          "happy_cheerful_optimistic_positive_hopeful",
          "depressed_felt_generally_happy_calm",
          "yes_occasionally_constantly_frequently_hard",
          "felt_resigned_activities_accepting_disappointed",
          "sleeping_sleep_appetite_tearful_crying",
          "sleep_sleeping_suicidal_appetite_tearful",
          "energy_lack energy_lack_motivation_low energy",
          "energy_sleep_sleeping_suicidal_lack",
          "energy_sleep_sad_lack_lonely",
          "blue_anxious_stressed_upset_disturbed",
          "blue_stressed_anxious_unmotivated_upset",
          "gloomy_glum_sad gloomy_sorrowful_sad unhappy",
          "tiredness_headaches_mood_deep_tired exhausted",
          "gloomy_glum_numb_unhappy_tiredness",
          "blue_gloomy_stressed_unhappy_anxious",
          "moody_grumpy_upset_moody tired_irritable low",
          "blue_gloomy_anxious_sad_moody",
          "sad_energy_feeling_blue_sleep"
         ],
         "marker": {
          "color": "black"
         },
         "mode": "markers",
         "showlegend": false,
         "type": "scatter",
         "x": [
          0.7045202424052046,
          0.847975188848687,
          0.6392774874662268,
          0.8423318147366977,
          0.8726839793120222,
          0.813835479532625,
          0.8834646064069781,
          0.7262685371015941,
          1.0387259454701303,
          1.1004120676453761,
          0.9098545613482435,
          0.9265772896991347,
          0.8713050851648804,
          0.9155215008316216,
          0.9838635062535248,
          1.0562143611564996,
          0.6164934956440409,
          1.157886610632347,
          1.249720276771229
         ],
         "y": [
          -50,
          -40,
          -70,
          -100,
          -140,
          -190,
          -182.5,
          -210,
          -190.625,
          -160.3125,
          -277.5,
          -266.25,
          -310,
          -330,
          -316.25,
          -285.9375,
          -350,
          -303.984375,
          -215.1953125
         ]
        }
       ],
       "layout": {
        "autosize": false,
        "height": 740,
        "hoverlabel": {
         "bgcolor": "white",
         "font": {
          "family": "Rockwell",
          "size": 16
         }
        },
        "hovermode": "closest",
        "plot_bgcolor": "#ECEFF1",
        "showlegend": false,
        "template": {
         "data": {
          "bar": [
           {
            "error_x": {
             "color": "#2a3f5f"
            },
            "error_y": {
             "color": "#2a3f5f"
            },
            "marker": {
             "line": {
              "color": "white",
              "width": 0.5
             },
             "pattern": {
              "fillmode": "overlay",
              "size": 10,
              "solidity": 0.2
             }
            },
            "type": "bar"
           }
          ],
          "barpolar": [
           {
            "marker": {
             "line": {
              "color": "white",
              "width": 0.5
             },
             "pattern": {
              "fillmode": "overlay",
              "size": 10,
              "solidity": 0.2
             }
            },
            "type": "barpolar"
           }
          ],
          "carpet": [
           {
            "aaxis": {
             "endlinecolor": "#2a3f5f",
             "gridcolor": "#C8D4E3",
             "linecolor": "#C8D4E3",
             "minorgridcolor": "#C8D4E3",
             "startlinecolor": "#2a3f5f"
            },
            "baxis": {
             "endlinecolor": "#2a3f5f",
             "gridcolor": "#C8D4E3",
             "linecolor": "#C8D4E3",
             "minorgridcolor": "#C8D4E3",
             "startlinecolor": "#2a3f5f"
            },
            "type": "carpet"
           }
          ],
          "choropleth": [
           {
            "colorbar": {
             "outlinewidth": 0,
             "ticks": ""
            },
            "type": "choropleth"
           }
          ],
          "contour": [
           {
            "colorbar": {
             "outlinewidth": 0,
             "ticks": ""
            },
            "colorscale": [
             [
              0,
              "#0d0887"
             ],
             [
              0.1111111111111111,
              "#46039f"
             ],
             [
              0.2222222222222222,
              "#7201a8"
             ],
             [
              0.3333333333333333,
              "#9c179e"
             ],
             [
              0.4444444444444444,
              "#bd3786"
             ],
             [
              0.5555555555555556,
              "#d8576b"
             ],
             [
              0.6666666666666666,
              "#ed7953"
             ],
             [
              0.7777777777777778,
              "#fb9f3a"
             ],
             [
              0.8888888888888888,
              "#fdca26"
             ],
             [
              1,
              "#f0f921"
             ]
            ],
            "type": "contour"
           }
          ],
          "contourcarpet": [
           {
            "colorbar": {
             "outlinewidth": 0,
             "ticks": ""
            },
            "type": "contourcarpet"
           }
          ],
          "heatmap": [
           {
            "colorbar": {
             "outlinewidth": 0,
             "ticks": ""
            },
            "colorscale": [
             [
              0,
              "#0d0887"
             ],
             [
              0.1111111111111111,
              "#46039f"
             ],
             [
              0.2222222222222222,
              "#7201a8"
             ],
             [
              0.3333333333333333,
              "#9c179e"
             ],
             [
              0.4444444444444444,
              "#bd3786"
             ],
             [
              0.5555555555555556,
              "#d8576b"
             ],
             [
              0.6666666666666666,
              "#ed7953"
             ],
             [
              0.7777777777777778,
              "#fb9f3a"
             ],
             [
              0.8888888888888888,
              "#fdca26"
             ],
             [
              1,
              "#f0f921"
             ]
            ],
            "type": "heatmap"
           }
          ],
          "heatmapgl": [
           {
            "colorbar": {
             "outlinewidth": 0,
             "ticks": ""
            },
            "colorscale": [
             [
              0,
              "#0d0887"
             ],
             [
              0.1111111111111111,
              "#46039f"
             ],
             [
              0.2222222222222222,
              "#7201a8"
             ],
             [
              0.3333333333333333,
              "#9c179e"
             ],
             [
              0.4444444444444444,
              "#bd3786"
             ],
             [
              0.5555555555555556,
              "#d8576b"
             ],
             [
              0.6666666666666666,
              "#ed7953"
             ],
             [
              0.7777777777777778,
              "#fb9f3a"
             ],
             [
              0.8888888888888888,
              "#fdca26"
             ],
             [
              1,
              "#f0f921"
             ]
            ],
            "type": "heatmapgl"
           }
          ],
          "histogram": [
           {
            "marker": {
             "pattern": {
              "fillmode": "overlay",
              "size": 10,
              "solidity": 0.2
             }
            },
            "type": "histogram"
           }
          ],
          "histogram2d": [
           {
            "colorbar": {
             "outlinewidth": 0,
             "ticks": ""
            },
            "colorscale": [
             [
              0,
              "#0d0887"
             ],
             [
              0.1111111111111111,
              "#46039f"
             ],
             [
              0.2222222222222222,
              "#7201a8"
             ],
             [
              0.3333333333333333,
              "#9c179e"
             ],
             [
              0.4444444444444444,
              "#bd3786"
             ],
             [
              0.5555555555555556,
              "#d8576b"
             ],
             [
              0.6666666666666666,
              "#ed7953"
             ],
             [
              0.7777777777777778,
              "#fb9f3a"
             ],
             [
              0.8888888888888888,
              "#fdca26"
             ],
             [
              1,
              "#f0f921"
             ]
            ],
            "type": "histogram2d"
           }
          ],
          "histogram2dcontour": [
           {
            "colorbar": {
             "outlinewidth": 0,
             "ticks": ""
            },
            "colorscale": [
             [
              0,
              "#0d0887"
             ],
             [
              0.1111111111111111,
              "#46039f"
             ],
             [
              0.2222222222222222,
              "#7201a8"
             ],
             [
              0.3333333333333333,
              "#9c179e"
             ],
             [
              0.4444444444444444,
              "#bd3786"
             ],
             [
              0.5555555555555556,
              "#d8576b"
             ],
             [
              0.6666666666666666,
              "#ed7953"
             ],
             [
              0.7777777777777778,
              "#fb9f3a"
             ],
             [
              0.8888888888888888,
              "#fdca26"
             ],
             [
              1,
              "#f0f921"
             ]
            ],
            "type": "histogram2dcontour"
           }
          ],
          "mesh3d": [
           {
            "colorbar": {
             "outlinewidth": 0,
             "ticks": ""
            },
            "type": "mesh3d"
           }
          ],
          "parcoords": [
           {
            "line": {
             "colorbar": {
              "outlinewidth": 0,
              "ticks": ""
             }
            },
            "type": "parcoords"
           }
          ],
          "pie": [
           {
            "automargin": true,
            "type": "pie"
           }
          ],
          "scatter": [
           {
            "fillpattern": {
             "fillmode": "overlay",
             "size": 10,
             "solidity": 0.2
            },
            "type": "scatter"
           }
          ],
          "scatter3d": [
           {
            "line": {
             "colorbar": {
              "outlinewidth": 0,
              "ticks": ""
             }
            },
            "marker": {
             "colorbar": {
              "outlinewidth": 0,
              "ticks": ""
             }
            },
            "type": "scatter3d"
           }
          ],
          "scattercarpet": [
           {
            "marker": {
             "colorbar": {
              "outlinewidth": 0,
              "ticks": ""
             }
            },
            "type": "scattercarpet"
           }
          ],
          "scattergeo": [
           {
            "marker": {
             "colorbar": {
              "outlinewidth": 0,
              "ticks": ""
             }
            },
            "type": "scattergeo"
           }
          ],
          "scattergl": [
           {
            "marker": {
             "colorbar": {
              "outlinewidth": 0,
              "ticks": ""
             }
            },
            "type": "scattergl"
           }
          ],
          "scattermapbox": [
           {
            "marker": {
             "colorbar": {
              "outlinewidth": 0,
              "ticks": ""
             }
            },
            "type": "scattermapbox"
           }
          ],
          "scatterpolar": [
           {
            "marker": {
             "colorbar": {
              "outlinewidth": 0,
              "ticks": ""
             }
            },
            "type": "scatterpolar"
           }
          ],
          "scatterpolargl": [
           {
            "marker": {
             "colorbar": {
              "outlinewidth": 0,
              "ticks": ""
             }
            },
            "type": "scatterpolargl"
           }
          ],
          "scatterternary": [
           {
            "marker": {
             "colorbar": {
              "outlinewidth": 0,
              "ticks": ""
             }
            },
            "type": "scatterternary"
           }
          ],
          "surface": [
           {
            "colorbar": {
             "outlinewidth": 0,
             "ticks": ""
            },
            "colorscale": [
             [
              0,
              "#0d0887"
             ],
             [
              0.1111111111111111,
              "#46039f"
             ],
             [
              0.2222222222222222,
              "#7201a8"
             ],
             [
              0.3333333333333333,
              "#9c179e"
             ],
             [
              0.4444444444444444,
              "#bd3786"
             ],
             [
              0.5555555555555556,
              "#d8576b"
             ],
             [
              0.6666666666666666,
              "#ed7953"
             ],
             [
              0.7777777777777778,
              "#fb9f3a"
             ],
             [
              0.8888888888888888,
              "#fdca26"
             ],
             [
              1,
              "#f0f921"
             ]
            ],
            "type": "surface"
           }
          ],
          "table": [
           {
            "cells": {
             "fill": {
              "color": "#EBF0F8"
             },
             "line": {
              "color": "white"
             }
            },
            "header": {
             "fill": {
              "color": "#C8D4E3"
             },
             "line": {
              "color": "white"
             }
            },
            "type": "table"
           }
          ]
         },
         "layout": {
          "annotationdefaults": {
           "arrowcolor": "#2a3f5f",
           "arrowhead": 0,
           "arrowwidth": 1
          },
          "autotypenumbers": "strict",
          "coloraxis": {
           "colorbar": {
            "outlinewidth": 0,
            "ticks": ""
           }
          },
          "colorscale": {
           "diverging": [
            [
             0,
             "#8e0152"
            ],
            [
             0.1,
             "#c51b7d"
            ],
            [
             0.2,
             "#de77ae"
            ],
            [
             0.3,
             "#f1b6da"
            ],
            [
             0.4,
             "#fde0ef"
            ],
            [
             0.5,
             "#f7f7f7"
            ],
            [
             0.6,
             "#e6f5d0"
            ],
            [
             0.7,
             "#b8e186"
            ],
            [
             0.8,
             "#7fbc41"
            ],
            [
             0.9,
             "#4d9221"
            ],
            [
             1,
             "#276419"
            ]
           ],
           "sequential": [
            [
             0,
             "#0d0887"
            ],
            [
             0.1111111111111111,
             "#46039f"
            ],
            [
             0.2222222222222222,
             "#7201a8"
            ],
            [
             0.3333333333333333,
             "#9c179e"
            ],
            [
             0.4444444444444444,
             "#bd3786"
            ],
            [
             0.5555555555555556,
             "#d8576b"
            ],
            [
             0.6666666666666666,
             "#ed7953"
            ],
            [
             0.7777777777777778,
             "#fb9f3a"
            ],
            [
             0.8888888888888888,
             "#fdca26"
            ],
            [
             1,
             "#f0f921"
            ]
           ],
           "sequentialminus": [
            [
             0,
             "#0d0887"
            ],
            [
             0.1111111111111111,
             "#46039f"
            ],
            [
             0.2222222222222222,
             "#7201a8"
            ],
            [
             0.3333333333333333,
             "#9c179e"
            ],
            [
             0.4444444444444444,
             "#bd3786"
            ],
            [
             0.5555555555555556,
             "#d8576b"
            ],
            [
             0.6666666666666666,
             "#ed7953"
            ],
            [
             0.7777777777777778,
             "#fb9f3a"
            ],
            [
             0.8888888888888888,
             "#fdca26"
            ],
            [
             1,
             "#f0f921"
            ]
           ]
          },
          "colorway": [
           "#636efa",
           "#EF553B",
           "#00cc96",
           "#ab63fa",
           "#FFA15A",
           "#19d3f3",
           "#FF6692",
           "#B6E880",
           "#FF97FF",
           "#FECB52"
          ],
          "font": {
           "color": "#2a3f5f"
          },
          "geo": {
           "bgcolor": "white",
           "lakecolor": "white",
           "landcolor": "white",
           "showlakes": true,
           "showland": true,
           "subunitcolor": "#C8D4E3"
          },
          "hoverlabel": {
           "align": "left"
          },
          "hovermode": "closest",
          "mapbox": {
           "style": "light"
          },
          "paper_bgcolor": "white",
          "plot_bgcolor": "white",
          "polar": {
           "angularaxis": {
            "gridcolor": "#EBF0F8",
            "linecolor": "#EBF0F8",
            "ticks": ""
           },
           "bgcolor": "white",
           "radialaxis": {
            "gridcolor": "#EBF0F8",
            "linecolor": "#EBF0F8",
            "ticks": ""
           }
          },
          "scene": {
           "xaxis": {
            "backgroundcolor": "white",
            "gridcolor": "#DFE8F3",
            "gridwidth": 2,
            "linecolor": "#EBF0F8",
            "showbackground": true,
            "ticks": "",
            "zerolinecolor": "#EBF0F8"
           },
           "yaxis": {
            "backgroundcolor": "white",
            "gridcolor": "#DFE8F3",
            "gridwidth": 2,
            "linecolor": "#EBF0F8",
            "showbackground": true,
            "ticks": "",
            "zerolinecolor": "#EBF0F8"
           },
           "zaxis": {
            "backgroundcolor": "white",
            "gridcolor": "#DFE8F3",
            "gridwidth": 2,
            "linecolor": "#EBF0F8",
            "showbackground": true,
            "ticks": "",
            "zerolinecolor": "#EBF0F8"
           }
          },
          "shapedefaults": {
           "line": {
            "color": "#2a3f5f"
           }
          },
          "ternary": {
           "aaxis": {
            "gridcolor": "#DFE8F3",
            "linecolor": "#A2B1C6",
            "ticks": ""
           },
           "baxis": {
            "gridcolor": "#DFE8F3",
            "linecolor": "#A2B1C6",
            "ticks": ""
           },
           "bgcolor": "white",
           "caxis": {
            "gridcolor": "#DFE8F3",
            "linecolor": "#A2B1C6",
            "ticks": ""
           }
          },
          "title": {
           "x": 0.05
          },
          "xaxis": {
           "automargin": true,
           "gridcolor": "#EBF0F8",
           "linecolor": "#EBF0F8",
           "ticks": "",
           "title": {
            "standoff": 15
           },
           "zerolinecolor": "#EBF0F8",
           "zerolinewidth": 2
          },
          "yaxis": {
           "automargin": true,
           "gridcolor": "#EBF0F8",
           "linecolor": "#EBF0F8",
           "ticks": "",
           "title": {
            "standoff": 15
           },
           "zerolinecolor": "#EBF0F8",
           "zerolinewidth": 2
          }
         }
        },
        "title": {
         "font": {
          "color": "Black",
          "size": 22
         },
         "text": "<b>Hierarchical Clustering</b>",
         "x": 0.5,
         "xanchor": "center",
         "yanchor": "top"
        },
        "width": 1000,
        "xaxis": {
         "mirror": "allticks",
         "rangemode": "tozero",
         "showgrid": false,
         "showline": true,
         "showticklabels": true,
         "ticks": "outside",
         "type": "linear",
         "zeroline": false
        },
        "yaxis": {
         "mirror": "allticks",
         "range": [
          -360,
          0
         ],
         "rangemode": "tozero",
         "showgrid": false,
         "showline": true,
         "showticklabels": true,
         "tickmode": "array",
         "ticks": "outside",
         "ticktext": [
          "14_family_time_friends",
          "10_enjoyment_love_joy",
          "11_calm_relaxed_cool",
          "22_content_looking forward_...",
          "2_cheerful_joyful_happy",
          "1_optimistic_confident_posi...",
          "8_depressed_hopeful_optimis...",
          "5_depressed_felt_depression",
          "32_boring_life_point",
          "34_feeling like_better_feel...",
          "26_yes_occasionally_frequen...",
          "29_weary_lazy_fed",
          "9_loneliness_sad lonely_lon...",
          "18_felt_cried_feel",
          "23_resigned_accepting_disap...",
          "21_sad hopeless_hopeless_bl...",
          "16_worthless_darkness_despo...",
          "6_suicidal_suicidal thought...",
          "0_sleeping_sleep_appetite",
          "12_crying_tearful_losing",
          "19_energy_motivation_low en...",
          "17_energy_lack energy_lack",
          "35_scared_sad lonely_worrie...",
          "13_afraid_panic_scared",
          "28_focused_minded_used",
          "15_unmotivated_bored_listless",
          "33_avoiding_exhausted_stres...",
          "4_stressed_disturbed_anxious",
          "3_blue_dumps_agitated",
          "25_numb_half_glass",
          "27_frustrated_sad happy_ann...",
          "7_gloomy_glum_sorrowful",
          "20_tiredness_headaches_mood",
          "31_deep_tired exhausted_happy",
          "30_moody_grumpy_irritable low",
          "24_moody_tunnel_lost low"
         ],
         "tickvals": [
          -5,
          -15,
          -25,
          -35,
          -45,
          -55,
          -65,
          -75,
          -85,
          -95,
          -105,
          -115,
          -125,
          -135,
          -145,
          -155,
          -165,
          -175,
          -185,
          -195,
          -205,
          -215,
          -225,
          -235,
          -245,
          -255,
          -265,
          -275,
          -285,
          -295,
          -305,
          -315,
          -325,
          -335,
          -345,
          -355
         ],
         "type": "linear",
         "zeroline": false
        }
       }
      }
     },
     "metadata": {},
     "output_type": "display_data"
    }
   ],
   "source": [
    "topic_model.visualize_hierarchy(hierarchical_topics=hierarchical_topics)\n"
   ]
  },
  {
   "cell_type": "code",
   "execution_count": null,
   "metadata": {},
   "outputs": [
    {
     "name": "stderr",
     "output_type": "stream",
     "text": [
      "  0%|          | 0/1 [00:00<?, ?it/s]"
     ]
    },
    {
     "name": "stderr",
     "output_type": "stream",
     "text": [
      "100%|██████████| 1/1 [00:00<00:00, 21.92it/s]\n"
     ]
    }
   ],
   "source": [
    "topic_distr, _ = topic_model.approximate_distribution(data[\"dep_all_ph\"])"
   ]
  },
  {
   "cell_type": "code",
   "execution_count": null,
   "metadata": {},
   "outputs": [
    {
     "data": {
      "application/vnd.plotly.v1+json": {
       "config": {
        "plotlyServerURL": "https://plot.ly"
       },
       "data": [
        {
         "marker": {
          "color": "#C8D2D7",
          "line": {
           "color": "#6E8484",
           "width": 1
          }
         },
         "orientation": "h",
         "type": "bar",
         "x": [
          0.148937695552595,
          0.22425876457858346,
          0.1030780116212556,
          0.10256494669576922,
          0.2565077777627182,
          0.1646528037890784
         ],
         "y": [
          "<b>Topic 9</b>: walking_snappy_mild_depr...",
          "<b>Topic 10</b>: worried sad_hot_depress...",
          "<b>Topic 11</b>: strong_apathetic_need_a...",
          "<b>Topic 13</b>: happy satisfied_delight...",
          "<b>Topic 19</b>: tired low_worthless fee...",
          "<b>Topic 23</b>: felt isolated_feeling d..."
         ]
        }
       ],
       "layout": {
        "height": 600,
        "hoverlabel": {
         "bgcolor": "white",
         "font": {
          "family": "Rockwell",
          "size": 16
         }
        },
        "template": {
         "data": {
          "bar": [
           {
            "error_x": {
             "color": "rgb(36,36,36)"
            },
            "error_y": {
             "color": "rgb(36,36,36)"
            },
            "marker": {
             "line": {
              "color": "white",
              "width": 0.5
             },
             "pattern": {
              "fillmode": "overlay",
              "size": 10,
              "solidity": 0.2
             }
            },
            "type": "bar"
           }
          ],
          "barpolar": [
           {
            "marker": {
             "line": {
              "color": "white",
              "width": 0.5
             },
             "pattern": {
              "fillmode": "overlay",
              "size": 10,
              "solidity": 0.2
             }
            },
            "type": "barpolar"
           }
          ],
          "carpet": [
           {
            "aaxis": {
             "endlinecolor": "rgb(36,36,36)",
             "gridcolor": "white",
             "linecolor": "white",
             "minorgridcolor": "white",
             "startlinecolor": "rgb(36,36,36)"
            },
            "baxis": {
             "endlinecolor": "rgb(36,36,36)",
             "gridcolor": "white",
             "linecolor": "white",
             "minorgridcolor": "white",
             "startlinecolor": "rgb(36,36,36)"
            },
            "type": "carpet"
           }
          ],
          "choropleth": [
           {
            "colorbar": {
             "outlinewidth": 1,
             "tickcolor": "rgb(36,36,36)",
             "ticks": "outside"
            },
            "type": "choropleth"
           }
          ],
          "contour": [
           {
            "colorbar": {
             "outlinewidth": 1,
             "tickcolor": "rgb(36,36,36)",
             "ticks": "outside"
            },
            "colorscale": [
             [
              0,
              "#440154"
             ],
             [
              0.1111111111111111,
              "#482878"
             ],
             [
              0.2222222222222222,
              "#3e4989"
             ],
             [
              0.3333333333333333,
              "#31688e"
             ],
             [
              0.4444444444444444,
              "#26828e"
             ],
             [
              0.5555555555555556,
              "#1f9e89"
             ],
             [
              0.6666666666666666,
              "#35b779"
             ],
             [
              0.7777777777777778,
              "#6ece58"
             ],
             [
              0.8888888888888888,
              "#b5de2b"
             ],
             [
              1,
              "#fde725"
             ]
            ],
            "type": "contour"
           }
          ],
          "contourcarpet": [
           {
            "colorbar": {
             "outlinewidth": 1,
             "tickcolor": "rgb(36,36,36)",
             "ticks": "outside"
            },
            "type": "contourcarpet"
           }
          ],
          "heatmap": [
           {
            "colorbar": {
             "outlinewidth": 1,
             "tickcolor": "rgb(36,36,36)",
             "ticks": "outside"
            },
            "colorscale": [
             [
              0,
              "#440154"
             ],
             [
              0.1111111111111111,
              "#482878"
             ],
             [
              0.2222222222222222,
              "#3e4989"
             ],
             [
              0.3333333333333333,
              "#31688e"
             ],
             [
              0.4444444444444444,
              "#26828e"
             ],
             [
              0.5555555555555556,
              "#1f9e89"
             ],
             [
              0.6666666666666666,
              "#35b779"
             ],
             [
              0.7777777777777778,
              "#6ece58"
             ],
             [
              0.8888888888888888,
              "#b5de2b"
             ],
             [
              1,
              "#fde725"
             ]
            ],
            "type": "heatmap"
           }
          ],
          "heatmapgl": [
           {
            "colorbar": {
             "outlinewidth": 1,
             "tickcolor": "rgb(36,36,36)",
             "ticks": "outside"
            },
            "colorscale": [
             [
              0,
              "#440154"
             ],
             [
              0.1111111111111111,
              "#482878"
             ],
             [
              0.2222222222222222,
              "#3e4989"
             ],
             [
              0.3333333333333333,
              "#31688e"
             ],
             [
              0.4444444444444444,
              "#26828e"
             ],
             [
              0.5555555555555556,
              "#1f9e89"
             ],
             [
              0.6666666666666666,
              "#35b779"
             ],
             [
              0.7777777777777778,
              "#6ece58"
             ],
             [
              0.8888888888888888,
              "#b5de2b"
             ],
             [
              1,
              "#fde725"
             ]
            ],
            "type": "heatmapgl"
           }
          ],
          "histogram": [
           {
            "marker": {
             "line": {
              "color": "white",
              "width": 0.6
             }
            },
            "type": "histogram"
           }
          ],
          "histogram2d": [
           {
            "colorbar": {
             "outlinewidth": 1,
             "tickcolor": "rgb(36,36,36)",
             "ticks": "outside"
            },
            "colorscale": [
             [
              0,
              "#440154"
             ],
             [
              0.1111111111111111,
              "#482878"
             ],
             [
              0.2222222222222222,
              "#3e4989"
             ],
             [
              0.3333333333333333,
              "#31688e"
             ],
             [
              0.4444444444444444,
              "#26828e"
             ],
             [
              0.5555555555555556,
              "#1f9e89"
             ],
             [
              0.6666666666666666,
              "#35b779"
             ],
             [
              0.7777777777777778,
              "#6ece58"
             ],
             [
              0.8888888888888888,
              "#b5de2b"
             ],
             [
              1,
              "#fde725"
             ]
            ],
            "type": "histogram2d"
           }
          ],
          "histogram2dcontour": [
           {
            "colorbar": {
             "outlinewidth": 1,
             "tickcolor": "rgb(36,36,36)",
             "ticks": "outside"
            },
            "colorscale": [
             [
              0,
              "#440154"
             ],
             [
              0.1111111111111111,
              "#482878"
             ],
             [
              0.2222222222222222,
              "#3e4989"
             ],
             [
              0.3333333333333333,
              "#31688e"
             ],
             [
              0.4444444444444444,
              "#26828e"
             ],
             [
              0.5555555555555556,
              "#1f9e89"
             ],
             [
              0.6666666666666666,
              "#35b779"
             ],
             [
              0.7777777777777778,
              "#6ece58"
             ],
             [
              0.8888888888888888,
              "#b5de2b"
             ],
             [
              1,
              "#fde725"
             ]
            ],
            "type": "histogram2dcontour"
           }
          ],
          "mesh3d": [
           {
            "colorbar": {
             "outlinewidth": 1,
             "tickcolor": "rgb(36,36,36)",
             "ticks": "outside"
            },
            "type": "mesh3d"
           }
          ],
          "parcoords": [
           {
            "line": {
             "colorbar": {
              "outlinewidth": 1,
              "tickcolor": "rgb(36,36,36)",
              "ticks": "outside"
             }
            },
            "type": "parcoords"
           }
          ],
          "pie": [
           {
            "automargin": true,
            "type": "pie"
           }
          ],
          "scatter": [
           {
            "fillpattern": {
             "fillmode": "overlay",
             "size": 10,
             "solidity": 0.2
            },
            "type": "scatter"
           }
          ],
          "scatter3d": [
           {
            "line": {
             "colorbar": {
              "outlinewidth": 1,
              "tickcolor": "rgb(36,36,36)",
              "ticks": "outside"
             }
            },
            "marker": {
             "colorbar": {
              "outlinewidth": 1,
              "tickcolor": "rgb(36,36,36)",
              "ticks": "outside"
             }
            },
            "type": "scatter3d"
           }
          ],
          "scattercarpet": [
           {
            "marker": {
             "colorbar": {
              "outlinewidth": 1,
              "tickcolor": "rgb(36,36,36)",
              "ticks": "outside"
             }
            },
            "type": "scattercarpet"
           }
          ],
          "scattergeo": [
           {
            "marker": {
             "colorbar": {
              "outlinewidth": 1,
              "tickcolor": "rgb(36,36,36)",
              "ticks": "outside"
             }
            },
            "type": "scattergeo"
           }
          ],
          "scattergl": [
           {
            "marker": {
             "colorbar": {
              "outlinewidth": 1,
              "tickcolor": "rgb(36,36,36)",
              "ticks": "outside"
             }
            },
            "type": "scattergl"
           }
          ],
          "scattermapbox": [
           {
            "marker": {
             "colorbar": {
              "outlinewidth": 1,
              "tickcolor": "rgb(36,36,36)",
              "ticks": "outside"
             }
            },
            "type": "scattermapbox"
           }
          ],
          "scatterpolar": [
           {
            "marker": {
             "colorbar": {
              "outlinewidth": 1,
              "tickcolor": "rgb(36,36,36)",
              "ticks": "outside"
             }
            },
            "type": "scatterpolar"
           }
          ],
          "scatterpolargl": [
           {
            "marker": {
             "colorbar": {
              "outlinewidth": 1,
              "tickcolor": "rgb(36,36,36)",
              "ticks": "outside"
             }
            },
            "type": "scatterpolargl"
           }
          ],
          "scatterternary": [
           {
            "marker": {
             "colorbar": {
              "outlinewidth": 1,
              "tickcolor": "rgb(36,36,36)",
              "ticks": "outside"
             }
            },
            "type": "scatterternary"
           }
          ],
          "surface": [
           {
            "colorbar": {
             "outlinewidth": 1,
             "tickcolor": "rgb(36,36,36)",
             "ticks": "outside"
            },
            "colorscale": [
             [
              0,
              "#440154"
             ],
             [
              0.1111111111111111,
              "#482878"
             ],
             [
              0.2222222222222222,
              "#3e4989"
             ],
             [
              0.3333333333333333,
              "#31688e"
             ],
             [
              0.4444444444444444,
              "#26828e"
             ],
             [
              0.5555555555555556,
              "#1f9e89"
             ],
             [
              0.6666666666666666,
              "#35b779"
             ],
             [
              0.7777777777777778,
              "#6ece58"
             ],
             [
              0.8888888888888888,
              "#b5de2b"
             ],
             [
              1,
              "#fde725"
             ]
            ],
            "type": "surface"
           }
          ],
          "table": [
           {
            "cells": {
             "fill": {
              "color": "rgb(237,237,237)"
             },
             "line": {
              "color": "white"
             }
            },
            "header": {
             "fill": {
              "color": "rgb(217,217,217)"
             },
             "line": {
              "color": "white"
             }
            },
            "type": "table"
           }
          ]
         },
         "layout": {
          "annotationdefaults": {
           "arrowhead": 0,
           "arrowwidth": 1
          },
          "autotypenumbers": "strict",
          "coloraxis": {
           "colorbar": {
            "outlinewidth": 1,
            "tickcolor": "rgb(36,36,36)",
            "ticks": "outside"
           }
          },
          "colorscale": {
           "diverging": [
            [
             0,
             "rgb(103,0,31)"
            ],
            [
             0.1,
             "rgb(178,24,43)"
            ],
            [
             0.2,
             "rgb(214,96,77)"
            ],
            [
             0.3,
             "rgb(244,165,130)"
            ],
            [
             0.4,
             "rgb(253,219,199)"
            ],
            [
             0.5,
             "rgb(247,247,247)"
            ],
            [
             0.6,
             "rgb(209,229,240)"
            ],
            [
             0.7,
             "rgb(146,197,222)"
            ],
            [
             0.8,
             "rgb(67,147,195)"
            ],
            [
             0.9,
             "rgb(33,102,172)"
            ],
            [
             1,
             "rgb(5,48,97)"
            ]
           ],
           "sequential": [
            [
             0,
             "#440154"
            ],
            [
             0.1111111111111111,
             "#482878"
            ],
            [
             0.2222222222222222,
             "#3e4989"
            ],
            [
             0.3333333333333333,
             "#31688e"
            ],
            [
             0.4444444444444444,
             "#26828e"
            ],
            [
             0.5555555555555556,
             "#1f9e89"
            ],
            [
             0.6666666666666666,
             "#35b779"
            ],
            [
             0.7777777777777778,
             "#6ece58"
            ],
            [
             0.8888888888888888,
             "#b5de2b"
            ],
            [
             1,
             "#fde725"
            ]
           ],
           "sequentialminus": [
            [
             0,
             "#440154"
            ],
            [
             0.1111111111111111,
             "#482878"
            ],
            [
             0.2222222222222222,
             "#3e4989"
            ],
            [
             0.3333333333333333,
             "#31688e"
            ],
            [
             0.4444444444444444,
             "#26828e"
            ],
            [
             0.5555555555555556,
             "#1f9e89"
            ],
            [
             0.6666666666666666,
             "#35b779"
            ],
            [
             0.7777777777777778,
             "#6ece58"
            ],
            [
             0.8888888888888888,
             "#b5de2b"
            ],
            [
             1,
             "#fde725"
            ]
           ]
          },
          "colorway": [
           "#1F77B4",
           "#FF7F0E",
           "#2CA02C",
           "#D62728",
           "#9467BD",
           "#8C564B",
           "#E377C2",
           "#7F7F7F",
           "#BCBD22",
           "#17BECF"
          ],
          "font": {
           "color": "rgb(36,36,36)"
          },
          "geo": {
           "bgcolor": "white",
           "lakecolor": "white",
           "landcolor": "white",
           "showlakes": true,
           "showland": true,
           "subunitcolor": "white"
          },
          "hoverlabel": {
           "align": "left"
          },
          "hovermode": "closest",
          "mapbox": {
           "style": "light"
          },
          "paper_bgcolor": "white",
          "plot_bgcolor": "white",
          "polar": {
           "angularaxis": {
            "gridcolor": "rgb(232,232,232)",
            "linecolor": "rgb(36,36,36)",
            "showgrid": false,
            "showline": true,
            "ticks": "outside"
           },
           "bgcolor": "white",
           "radialaxis": {
            "gridcolor": "rgb(232,232,232)",
            "linecolor": "rgb(36,36,36)",
            "showgrid": false,
            "showline": true,
            "ticks": "outside"
           }
          },
          "scene": {
           "xaxis": {
            "backgroundcolor": "white",
            "gridcolor": "rgb(232,232,232)",
            "gridwidth": 2,
            "linecolor": "rgb(36,36,36)",
            "showbackground": true,
            "showgrid": false,
            "showline": true,
            "ticks": "outside",
            "zeroline": false,
            "zerolinecolor": "rgb(36,36,36)"
           },
           "yaxis": {
            "backgroundcolor": "white",
            "gridcolor": "rgb(232,232,232)",
            "gridwidth": 2,
            "linecolor": "rgb(36,36,36)",
            "showbackground": true,
            "showgrid": false,
            "showline": true,
            "ticks": "outside",
            "zeroline": false,
            "zerolinecolor": "rgb(36,36,36)"
           },
           "zaxis": {
            "backgroundcolor": "white",
            "gridcolor": "rgb(232,232,232)",
            "gridwidth": 2,
            "linecolor": "rgb(36,36,36)",
            "showbackground": true,
            "showgrid": false,
            "showline": true,
            "ticks": "outside",
            "zeroline": false,
            "zerolinecolor": "rgb(36,36,36)"
           }
          },
          "shapedefaults": {
           "fillcolor": "black",
           "line": {
            "width": 0
           },
           "opacity": 0.3
          },
          "ternary": {
           "aaxis": {
            "gridcolor": "rgb(232,232,232)",
            "linecolor": "rgb(36,36,36)",
            "showgrid": false,
            "showline": true,
            "ticks": "outside"
           },
           "baxis": {
            "gridcolor": "rgb(232,232,232)",
            "linecolor": "rgb(36,36,36)",
            "showgrid": false,
            "showline": true,
            "ticks": "outside"
           },
           "bgcolor": "white",
           "caxis": {
            "gridcolor": "rgb(232,232,232)",
            "linecolor": "rgb(36,36,36)",
            "showgrid": false,
            "showline": true,
            "ticks": "outside"
           }
          },
          "title": {
           "x": 0.05
          },
          "xaxis": {
           "automargin": true,
           "gridcolor": "rgb(232,232,232)",
           "linecolor": "rgb(36,36,36)",
           "showgrid": false,
           "showline": true,
           "ticks": "outside",
           "title": {
            "standoff": 15
           },
           "zeroline": false,
           "zerolinecolor": "rgb(36,36,36)"
          },
          "yaxis": {
           "automargin": true,
           "gridcolor": "rgb(232,232,232)",
           "linecolor": "rgb(36,36,36)",
           "showgrid": false,
           "showline": true,
           "ticks": "outside",
           "title": {
            "standoff": 15
           },
           "zeroline": false,
           "zerolinecolor": "rgb(36,36,36)"
          }
         }
        },
        "title": {
         "font": {
          "color": "Black",
          "size": 22
         },
         "text": "<b>Topic Probability Distribution</b>",
         "x": 0.5,
         "xanchor": "center",
         "y": 0.95,
         "yanchor": "top"
        },
        "width": 800,
        "xaxis": {
         "title": {
          "text": "Probability"
         }
        }
       }
      }
     },
     "metadata": {},
     "output_type": "display_data"
    }
   ],
   "source": [
    "topic_model.visualize_distribution(topic_distr[2])"
   ]
  },
  {
   "cell_type": "code",
   "execution_count": null,
   "metadata": {},
   "outputs": [
    {
     "name": "stderr",
     "output_type": "stream",
     "text": [
      "100%|██████████| 1/1 [00:00<00:00,  3.61it/s]\n"
     ]
    }
   ],
   "source": [
    "# Calculate the topic distributions on a token-level\n",
    "topic_distr, topic_token_distr = topic_model.approximate_distribution(data[\"dep_text\"], calculate_tokens=True)\n",
    "\n",
    "# Visualize the token-level distributions\n",
    "#df = topic_model.visualize_approximate_distribution(data[\"dep_all_phrases\"][1], topic_token_distr[1])\n",
    "#df\n"
   ]
  },
  {
   "cell_type": "code",
   "execution_count": null,
   "metadata": {},
   "outputs": [
    {
     "data": {
      "text/plain": [
       "(950, 36)"
      ]
     },
     "execution_count": 128,
     "metadata": {},
     "output_type": "execute_result"
    }
   ],
   "source": [
    "import numpy as np\n",
    "topic_distr.shape"
   ]
  },
  {
   "cell_type": "code",
   "execution_count": null,
   "metadata": {},
   "outputs": [],
   "source": [
    "columns = [\"t_\" + str(i) for i in range(topic_distr.shape[1])]\n",
    "with open(\"topic_distr_dep_text.csv\", 'w', newline='') as csv_file:\n",
    "    # Create a CSV writer object\n",
    "    csv_writer = csv.writer(csv_file)\n",
    "    csv_writer.writerow(columns)\n",
    "    # Write the array to the CSV file\n",
    "    csv_writer.writerows(topic_distr)"
   ]
  },
  {
   "cell_type": "code",
   "execution_count": null,
   "metadata": {},
   "outputs": [
    {
     "data": {
      "text/plain": [
       "{'KeyBERT': {-1: [('feel depressed', 0.9935657),\n",
       "   ('felt depressed', 0.9935493),\n",
       "   ('say depressed', 0.9934275),\n",
       "   ('mental health', 0.9932722),\n",
       "   ('depressed', 0.99314004),\n",
       "   ('worse', 0.9931363),\n",
       "   ('low', 0.9931361),\n",
       "   ('medication', 0.99313253),\n",
       "   ('health', 0.9931291),\n",
       "   ('depression', 0.993127)],\n",
       "  0: [('feeling tired', 0.9948879),\n",
       "   ('low', 0.99484396),\n",
       "   ('health', 0.9948227),\n",
       "   ('difficult', 0.9948182),\n",
       "   ('depressed', 0.9948134),\n",
       "   ('negatively', 0.9948128),\n",
       "   ('lot', 0.99481267),\n",
       "   ('right', 0.99481106),\n",
       "   ('various', 0.9948109),\n",
       "   ('situation', 0.9948106)],\n",
       "  1: [('feeling depressed', 0.99609405),\n",
       "   ('feel depressed', 0.99607575),\n",
       "   ('felt depressed', 0.9960616),\n",
       "   ('felt motivated', 0.9960461),\n",
       "   ('period', 0.9959576),\n",
       "   ('depressed', 0.99593645),\n",
       "   ('ve', 0.9959341),\n",
       "   ('think depressed', 0.99593085),\n",
       "   ('lots', 0.9959297),\n",
       "   ('positive', 0.995929)],\n",
       "  2: [('haven depressed couple', 0.9962683),\n",
       "   ('ve', 0.99623334),\n",
       "   ('lead', 0.9962321),\n",
       "   ('managed', 0.9962286),\n",
       "   ('weeks felt happy', 0.9962279),\n",
       "   ('depressed', 0.99622184),\n",
       "   ('depression', 0.9962195),\n",
       "   ('important', 0.9962187),\n",
       "   ('line', 0.99621046),\n",
       "   ('past', 0.9962095)],\n",
       "  3: [('ve pretty depressed', 0.9958623),\n",
       "   ('yes depressed occasions', 0.99576825),\n",
       "   ('slightly depressed', 0.9954918),\n",
       "   ('yes depressed', 0.99546915),\n",
       "   ('extremely depressed weeks', 0.9954585),\n",
       "   ('hard motivated', 0.995268),\n",
       "   ('long', 0.9952584),\n",
       "   ('low', 0.9952494),\n",
       "   ('high', 0.995241),\n",
       "   ('depressed', 0.9952399)],\n",
       "  4: [('anxious depressed', 0.9967707),\n",
       "   ('feel depressed past', 0.9967634),\n",
       "   ('feel like doing', 0.9967588),\n",
       "   ('kind depressed', 0.99675757),\n",
       "   ('low', 0.9967499),\n",
       "   ('depressed', 0.9967218),\n",
       "   ('ve', 0.9967192),\n",
       "   ('depression', 0.99671733),\n",
       "   ('medication', 0.9967169),\n",
       "   ('minute', 0.9967112)],\n",
       "  5: [('weeks felt anxious', 0.99612486),\n",
       "   ('felt anxious', 0.99611163),\n",
       "   ('improve mental health', 0.9960208),\n",
       "   ('depressed depressed', 0.995992),\n",
       "   ('haven depressed', 0.99595803),\n",
       "   ('think depressed', 0.9959565),\n",
       "   ('long', 0.99595404),\n",
       "   ('class depressed', 0.9959435),\n",
       "   ('felt depressed weeks', 0.9959382),\n",
       "   ('rent', 0.9959241)],\n",
       "  6: [('yes depressed', 0.99494076),\n",
       "   ('long', 0.99485207),\n",
       "   ('low', 0.9948355),\n",
       "   ('ve', 0.9948325),\n",
       "   ('second', 0.9948294),\n",
       "   ('medication', 0.99482864),\n",
       "   ('ve spent lot', 0.99482614),\n",
       "   ('disorder', 0.9948248),\n",
       "   ('depression', 0.99482334),\n",
       "   ('diagnosed', 0.99482137)],\n",
       "  7: [('low sad', 0.99520767),\n",
       "   ('ve', 0.9951521),\n",
       "   ('hopeful depressed', 0.9951421),\n",
       "   ('night depressed', 0.9951416),\n",
       "   ('social', 0.99512726),\n",
       "   ('depressed', 0.99511975),\n",
       "   ('late', 0.9951181),\n",
       "   ('way', 0.9951169),\n",
       "   ('sphere', 0.9951145),\n",
       "   ('bleak', 0.9951126)],\n",
       "  8: [('feeling depressed', 0.995978),\n",
       "   ('feel depressed', 0.9959676),\n",
       "   ('haven depressed couple', 0.99594414),\n",
       "   ('bit depressed', 0.99586934),\n",
       "   ('felt calm', 0.99585307),\n",
       "   ('really depressed', 0.99584657),\n",
       "   ('generally mood', 0.9958092),\n",
       "   ('hopeful depressed', 0.9958032),\n",
       "   ('definitely depressed', 0.99580187),\n",
       "   ('haven depressed', 0.99579716)],\n",
       "  9: [('feeling depressed', 0.99609053),\n",
       "   ('family ve felt', 0.9959686),\n",
       "   ('ve', 0.9959537),\n",
       "   ('feel sad', 0.99595165),\n",
       "   ('negativity', 0.9959471),\n",
       "   ('job', 0.9959448),\n",
       "   ('rent', 0.9959435),\n",
       "   ('don', 0.9959433),\n",
       "   ('medication', 0.9959411),\n",
       "   ('stressful', 0.9959389)],\n",
       "  10: [('felt depressed', 0.99561334),\n",
       "   ('life depressed', 0.9955311),\n",
       "   ('think depressed', 0.9954744),\n",
       "   ('happier depressed weeks', 0.995461),\n",
       "   ('weeks depressed', 0.9954517),\n",
       "   ('trying stay positive', 0.9953977),\n",
       "   ('person', 0.9953475),\n",
       "   ('life anxiety', 0.99534047),\n",
       "   ('mental health', 0.9953331),\n",
       "   ('positive', 0.99533015)],\n",
       "  11: [('feel depressed', 0.99715525),\n",
       "   ('gets depressed', 0.9971226),\n",
       "   ('setback', 0.997093),\n",
       "   ('ve', 0.99708354),\n",
       "   ('depressed', 0.99708307),\n",
       "   ('cause', 0.9970815),\n",
       "   ('reason depressed', 0.99708104),\n",
       "   ('lows', 0.99708045),\n",
       "   ('possible', 0.9970803),\n",
       "   ('don', 0.99707913)],\n",
       "  12: [('think felt depressed', 0.996428),\n",
       "   ('felt depressed couple', 0.99639654),\n",
       "   ('felt depressed', 0.99635035),\n",
       "   ('feel better depressed', 0.99632967),\n",
       "   ('want depressed', 0.99630094),\n",
       "   ('negative', 0.996249),\n",
       "   ('depressed', 0.99622726),\n",
       "   ('ms', 0.9962269),\n",
       "   ('depression', 0.99622023),\n",
       "   ('person', 0.9962156)],\n",
       "  13: [('think ve depressed', 0.9969415),\n",
       "   ('feeling anxious', 0.9968657),\n",
       "   ('seriously depressed', 0.9968432),\n",
       "   ('think depressed past', 0.99683684),\n",
       "   ('family depressed', 0.99682754),\n",
       "   ('think depressed', 0.9968015),\n",
       "   ('people depressed', 0.99677604),\n",
       "   ('long', 0.99674046),\n",
       "   ('ll', 0.99673814),\n",
       "   ('ve', 0.9967211)],\n",
       "  14: [('feel depressed depressed', 0.9957443),\n",
       "   ('affected mood', 0.9956351),\n",
       "   ('stable mood', 0.9955964),\n",
       "   ('happy depressed', 0.9955961),\n",
       "   ('friends depressed', 0.9955422),\n",
       "   ('happier depressed weeks', 0.99553),\n",
       "   ('depressed depressed weeks', 0.9954832),\n",
       "   ('depressed', 0.995448),\n",
       "   ('thanks', 0.9954464),\n",
       "   ('positive', 0.9954463)],\n",
       "  15: [('life felt depressed', 0.9959327),\n",
       "   ('feeling low mood', 0.9957117),\n",
       "   ('mildly depressed', 0.9956745),\n",
       "   ('things depressed', 0.99566966),\n",
       "   ('affect mood', 0.9956138),\n",
       "   ('normal depressed', 0.99560106),\n",
       "   ('low', 0.9955805),\n",
       "   ('led', 0.9955526),\n",
       "   ('keen', 0.99554807),\n",
       "   ('time', 0.9955439)],\n",
       "  16: [('feeling depressed', 0.9960765),\n",
       "   ('bit lonely', 0.99599594),\n",
       "   ('feel bit lonely', 0.99594986),\n",
       "   ('feeling depressed weeks', 0.9957437),\n",
       "   ('way', 0.9957169),\n",
       "   ('described', 0.995709),\n",
       "   ('wondering', 0.99570805),\n",
       "   ('depressed', 0.9957062),\n",
       "   ('position', 0.9957056),\n",
       "   ('cloud', 0.9957017)],\n",
       "  17: [('doing depressed', 0.9959725),\n",
       "   ('feeling overwhelmed', 0.9959501),\n",
       "   ('normal depressed', 0.9959213),\n",
       "   ('feeling hopelessness', 0.9959043),\n",
       "   ('felt depressed week', 0.9958964),\n",
       "   ('wasting', 0.99587965),\n",
       "   ('depressed', 0.9958633),\n",
       "   ('thing', 0.99585634),\n",
       "   ('care', 0.9958508),\n",
       "   ('time', 0.9958482)],\n",
       "  18: [('weeks feeling depressed', 0.9964681),\n",
       "   ('feel isolated', 0.9962942),\n",
       "   ('feel depressed', 0.99627435),\n",
       "   ('recently feeling really', 0.9961332),\n",
       "   ('stressed depressed', 0.99609464),\n",
       "   ('able people', 0.9960655),\n",
       "   ('yes depressed days', 0.9960526),\n",
       "   ('rid', 0.9959763),\n",
       "   ('driven', 0.9959595),\n",
       "   ('settle', 0.9959537)],\n",
       "  19: [('ve spent lot', 0.9954554),\n",
       "   ('life feel like', 0.9952531),\n",
       "   ('depressed lethargic', 0.9952013),\n",
       "   ('internet', 0.9950905),\n",
       "   ('manage', 0.9950849),\n",
       "   ('worse', 0.9950824),\n",
       "   ('used', 0.99508137),\n",
       "   ('key', 0.9950782),\n",
       "   ('don', 0.9950754),\n",
       "   ('muster', 0.995074)],\n",
       "  20: [('haven felt depressed', 0.99682665),\n",
       "   ('experienced mood', 0.9967687),\n",
       "   ('felt depressed', 0.9967338),\n",
       "   ('bad mood', 0.9966638),\n",
       "   ('life depressed', 0.99664444),\n",
       "   ('base', 0.996626),\n",
       "   ('nan', 0.99662566),\n",
       "   ('depression', 0.9966252),\n",
       "   ('negativity', 0.9966242),\n",
       "   ('big', 0.9966197)],\n",
       "  21: [('felt quite depressed', 0.9957151),\n",
       "   ('low mood days', 0.9953413),\n",
       "   ('impacted mental health', 0.9952197),\n",
       "   ('sad feeling like', 0.9951206),\n",
       "   ('hygiene', 0.99509895),\n",
       "   ('medication', 0.9950932),\n",
       "   ('positive', 0.99508905),\n",
       "   ('depression', 0.9950889),\n",
       "   ('grief', 0.9950867),\n",
       "   ('don', 0.9950842)],\n",
       "  22: [('positive person', 0.9969822),\n",
       "   ('gets depressed', 0.9969698),\n",
       "   ('depressed', 0.9969283),\n",
       "   ('relation', 0.9969247),\n",
       "   ('health', 0.99691784),\n",
       "   ('past', 0.99690765),\n",
       "   ('moved', 0.9969044),\n",
       "   ('antidepressants', 0.99689615),\n",
       "   ('good', 0.9968959),\n",
       "   ('going', 0.99689496)],\n",
       "  23: [('ve felt low', 0.9964124),\n",
       "   ('experienced mood', 0.9963313),\n",
       "   ('depression', 0.9962154),\n",
       "   ('frustrated', 0.99620736),\n",
       "   ('near', 0.99620694),\n",
       "   ('people', 0.9962015),\n",
       "   ('cancer', 0.99619853),\n",
       "   ('path', 0.99619776),\n",
       "   ('desire', 0.99619454),\n",
       "   ('circumstances', 0.9961945)],\n",
       "  24: [('yes depressed occasions', 0.9960518),\n",
       "   ('feel lonely', 0.99580157),\n",
       "   ('manager', 0.99578923),\n",
       "   ('asked', 0.99577415),\n",
       "   ('depressed', 0.9957678),\n",
       "   ('social', 0.9957631),\n",
       "   ('led', 0.99575555),\n",
       "   ('job', 0.99575347),\n",
       "   ('yes depressed', 0.9957512),\n",
       "   ('feel bored', 0.99575096)],\n",
       "  25: [('felt quite depressed', 0.9963938),\n",
       "   ('say ve depressed', 0.99635345),\n",
       "   ('medication', 0.99613136),\n",
       "   ('way', 0.9961221),\n",
       "   ('exacerbated', 0.99611884),\n",
       "   ('yeah', 0.9961185),\n",
       "   ('near', 0.9961172),\n",
       "   ('survey', 0.99611366),\n",
       "   ('depressive', 0.99610746),\n",
       "   ('cried', 0.99610496)],\n",
       "  26: [('speak depressed', 0.99660087),\n",
       "   ('depressed', 0.9965571),\n",
       "   ('depression', 0.99655694),\n",
       "   ('life depressed', 0.9965559),\n",
       "   ('leads', 0.9965534),\n",
       "   ('wrong', 0.99654984),\n",
       "   ('sphere', 0.9965488),\n",
       "   ('guess', 0.99654734),\n",
       "   ('meaning', 0.99654716),\n",
       "   ('antidepressants', 0.9965453)],\n",
       "  27: [('long', 0.99732524),\n",
       "   ('lot', 0.9972924),\n",
       "   ('news', 0.9972801),\n",
       "   ('edge', 0.99728),\n",
       "   ('past', 0.99727803),\n",
       "   ('focus', 0.9972776),\n",
       "   ('upsetting', 0.9972755),\n",
       "   ('time', 0.9972729),\n",
       "   ('situation', 0.9972724),\n",
       "   ('arguing', 0.99727094)],\n",
       "  28: [('think ve depressed', 0.99628705),\n",
       "   ('negative', 0.996139),\n",
       "   ('period', 0.9961256),\n",
       "   ('depression', 0.9961149),\n",
       "   ('factor', 0.9961057),\n",
       "   ('area', 0.9961049),\n",
       "   ('difficult', 0.9960991),\n",
       "   ('social', 0.9960982),\n",
       "   ('frustrated', 0.9960943),\n",
       "   ('manage', 0.9960943)],\n",
       "  29: [('depressed feel hopeless', 0.99701375),\n",
       "   ('quite depressed', 0.9967677),\n",
       "   ('ve depressed', 0.9967111),\n",
       "   ('able people', 0.99671084),\n",
       "   ('home depressed', 0.9966989),\n",
       "   ('weeks mood', 0.99667466),\n",
       "   ('just feel like', 0.99661964),\n",
       "   ('feel hopeless', 0.9966147),\n",
       "   ('long', 0.9965923),\n",
       "   ('low', 0.9965862)],\n",
       "  30: [('feeling depressed', 0.9968299),\n",
       "   ('felt depressed times', 0.9967767),\n",
       "   ('kind depressed', 0.99672043),\n",
       "   ('low mood', 0.9967068),\n",
       "   ('little depressed', 0.99669856),\n",
       "   ('feeling depressed weeks', 0.99668556),\n",
       "   ('long', 0.996647),\n",
       "   ('phase', 0.9966406),\n",
       "   ('second', 0.99663067),\n",
       "   ('depressed feeling', 0.9966293)],\n",
       "  31: [('managed', 0.99718165),\n",
       "   ('factors', 0.9971754),\n",
       "   ('depression', 0.99717414),\n",
       "   ('depressed', 0.99717087),\n",
       "   ('source', 0.9971663),\n",
       "   ('enjoying', 0.9971628),\n",
       "   ('lot', 0.9971611),\n",
       "   ('interested', 0.9971605),\n",
       "   ('able', 0.9971594),\n",
       "   ('joy', 0.99715906)],\n",
       "  32: [('like people', 0.9952815),\n",
       "   ('felt slightly depressed', 0.9952808),\n",
       "   ('slightly depressed', 0.995263),\n",
       "   ('makes feel like', 0.9952364),\n",
       "   ('don feel like', 0.9952356),\n",
       "   ('felt irritable', 0.9952232),\n",
       "   ('available', 0.99520195),\n",
       "   ('goal', 0.9951698),\n",
       "   ('goals', 0.99516916),\n",
       "   ('people', 0.99516785)],\n",
       "  33: [('feel anxious', 0.9960282),\n",
       "   ('pretty depressed', 0.9960109),\n",
       "   ('felt lethargic', 0.9959828),\n",
       "   ('improve mood', 0.99595714),\n",
       "   ('situation feel like', 0.99591),\n",
       "   ('mental health', 0.99583),\n",
       "   ('high', 0.9958097),\n",
       "   ('low', 0.99580425),\n",
       "   ('feel trapped', 0.99578947),\n",
       "   ('managed', 0.99578935)],\n",
       "  34: [('getting depressed', 0.99694484),\n",
       "   ('occasionally depressed', 0.99687856),\n",
       "   ('consider depressed', 0.9968539),\n",
       "   ('say depressed', 0.99683994),\n",
       "   ('quite depressing', 0.9967646),\n",
       "   ('felt irritable', 0.99672234),\n",
       "   ('led', 0.99669576),\n",
       "   ('difficult', 0.99668956),\n",
       "   ('news', 0.9966861),\n",
       "   ('social', 0.9966846)],\n",
       "  35: [('ve', 0.99702364),\n",
       "   ('wasting', 0.9970177),\n",
       "   ('lot', 0.9970151),\n",
       "   ('medication', 0.9970121),\n",
       "   ('way', 0.99701077),\n",
       "   ('fear', 0.99701023),\n",
       "   ('health', 0.9970057),\n",
       "   ('depressed', 0.9970049),\n",
       "   ('cried', 0.99700063),\n",
       "   ('spend', 0.997)]},\n",
       " 'MMR': {-1: [('feel', 0.02039371765855553),\n",
       "   ('depressed', 0.019739368329264484),\n",
       "   ('depression', 0.01534959939389326),\n",
       "   ('weeks', 0.015145917948866449),\n",
       "   ('felt', 0.014572437352371686),\n",
       "   ('life', 0.013454822154668544),\n",
       "   ('things', 0.01319343284614596),\n",
       "   ('past', 0.012560494127387339),\n",
       "   ('just', 0.012399462151395193),\n",
       "   ('like', 0.01223457628134173)],\n",
       "  0: [('just', 0.020839246604149243),\n",
       "   ('lot', 0.020322602589315605),\n",
       "   ('work', 0.020032503462610075),\n",
       "   ('appetite', 0.01906966004514246),\n",
       "   ('want', 0.018430691115216176),\n",
       "   ('wake', 0.017366630110616354),\n",
       "   ('time', 0.01716857340356423),\n",
       "   ('sleep', 0.016959419676070127),\n",
       "   ('family', 0.016693164304024444),\n",
       "   ('don want', 0.0165614882015147)],\n",
       "  1: [('optimistic', 0.031254776173991895),\n",
       "   ('future', 0.029425777580277007),\n",
       "   ('weeks', 0.02902906568089153),\n",
       "   ('optimistic future', 0.0258947208558314),\n",
       "   ('forward', 0.02403770503181932),\n",
       "   ('depressed weeks', 0.023471581384675158),\n",
       "   ('positive', 0.02085701100777698),\n",
       "   ('upbeat', 0.02071577668466512),\n",
       "   ('depressed', 0.019246435795211906),\n",
       "   ('felt', 0.018379501593502826)],\n",
       "  2: [('happy', 0.06559850197351123),\n",
       "   ('colleagues', 0.03160968566634953),\n",
       "   ('quite', 0.030005445797587363),\n",
       "   ('year', 0.02985862366936104),\n",
       "   ('meeting', 0.029431236896023165),\n",
       "   ('weeks', 0.02891311806923946),\n",
       "   ('life', 0.02878200076533426),\n",
       "   ('felt happy', 0.02856881621218523),\n",
       "   ('cheerful', 0.027809309654254946),\n",
       "   ('felt', 0.025996814722501066)],\n",
       "  3: [('dog', 0.02970207386926612),\n",
       "   ('depression', 0.020875342806738802),\n",
       "   ('feeling', 0.020528552873954303),\n",
       "   ('planned', 0.020448959267846963),\n",
       "   ('blue', 0.019199248376856548),\n",
       "   ('ve', 0.01857369396574287),\n",
       "   ('level', 0.016782637444050993),\n",
       "   ('yes', 0.016528255209472778),\n",
       "   ('slightly', 0.016209842172829673),\n",
       "   ('low', 0.01610176464177068)],\n",
       "  4: [('anxiety', 0.026770274666797978),\n",
       "   ('minute', 0.02520720697075514),\n",
       "   ('usually feel', 0.02520720697075514),\n",
       "   ('depressed', 0.02451923292250392),\n",
       "   ('moods', 0.023857721205568633),\n",
       "   ('feel', 0.02269327881412491),\n",
       "   ('depressive', 0.022045836236821166),\n",
       "   ('light', 0.02196012449676018),\n",
       "   ('suffer', 0.021816777268677572),\n",
       "   ('weeks', 0.02166910209434474)],\n",
       "  5: [('happy', 0.04189839803469427),\n",
       "   ('depressed', 0.028357632763313358),\n",
       "   ('lucky', 0.02422101163435108),\n",
       "   ('especially', 0.021750552892384874),\n",
       "   ('life', 0.020510340721337905),\n",
       "   ('depressed really', 0.020280561206072446),\n",
       "   ('survive', 0.020280561206072446),\n",
       "   ('family', 0.019401448076309245),\n",
       "   ('friends', 0.01921607514620076),\n",
       "   ('video', 0.019194826928199432)],\n",
       "  6: [('just', 0.024788916665864323),\n",
       "   ('life', 0.022052156980835843),\n",
       "   ('like', 0.021899586121253325),\n",
       "   ('ve', 0.021899586121253325),\n",
       "   ('week', 0.02117127640181664),\n",
       "   ('depression', 0.020138219120060172),\n",
       "   ('feel', 0.018532261589347),\n",
       "   ('diagnosed', 0.018407325073567696),\n",
       "   ('depressed week', 0.0171919630955159),\n",
       "   ('crying', 0.01649741070289514)],\n",
       "  7: [('hurting', 0.029577993541406725),\n",
       "   ('laugh', 0.029577993541406725),\n",
       "   ('apart', 0.029577993541406725),\n",
       "   ('smiles', 0.029577993541406725),\n",
       "   ('talk', 0.029266416961025398),\n",
       "   ('smile', 0.02828235033304958),\n",
       "   ('everyday', 0.02788127069272089),\n",
       "   ('night', 0.02571055661876136),\n",
       "   ('falling', 0.025561572400376258),\n",
       "   ('heart', 0.025561572400376258)],\n",
       "  8: [('depressed', 0.03490444521406034),\n",
       "   ('hopeful', 0.031019983266541384),\n",
       "   ('know', 0.03084973366492086),\n",
       "   ('easy', 0.028856692520536107),\n",
       "   ('future', 0.027988756135710516),\n",
       "   ('gradually', 0.022082346602479708),\n",
       "   ('try', 0.021358408622468086),\n",
       "   ('stable', 0.021237254541689125),\n",
       "   ('definitely depressed', 0.020900152461076654),\n",
       "   ('things going life', 0.020900152461076654)],\n",
       "  9: [('life', 0.025284092538351052),\n",
       "   ('yes', 0.023765891174884014),\n",
       "   ('dad', 0.021847578452098136),\n",
       "   ('feel sad', 0.02090454213570612),\n",
       "   ('weeks', 0.019700719720862354),\n",
       "   ('feeling', 0.01967859875496251),\n",
       "   ('sad', 0.019187109681500183),\n",
       "   ('stuck', 0.019112499787546026),\n",
       "   ('worse', 0.019098908254105033),\n",
       "   ('share', 0.018750624132631892)],\n",
       "  10: [('outlook life', 0.03174374620657249),\n",
       "   ('positive outlook life', 0.03174374620657249),\n",
       "   ('positive outlook', 0.03174374620657249),\n",
       "   ('positive', 0.03156602024607968),\n",
       "   ('depressed', 0.029905256890836375),\n",
       "   ('weeks', 0.02989953278289874),\n",
       "   ('outlook', 0.02921891041828342),\n",
       "   ('combination', 0.02921891041828342),\n",
       "   ('ve tried', 0.02921891041828342),\n",
       "   ('boyfriend', 0.028261376015218897)],\n",
       "  11: [('ve', 0.04337036915761498),\n",
       "   ('depressed', 0.03998521061208332),\n",
       "   ('fine', 0.03745203037423156),\n",
       "   ('extreme', 0.03288571001723132),\n",
       "   ('try possible', 0.03288571001723132),\n",
       "   ('reason depressed', 0.03288571001723132),\n",
       "   ('value', 0.03112515012664954),\n",
       "   ('depressed weeks', 0.030476945674870515),\n",
       "   ('don', 0.030417702787278796),\n",
       "   ('generally', 0.02939268642389838)],\n",
       "  12: [('feelings', 0.028476349295893426),\n",
       "   ('think', 0.027548861413974137),\n",
       "   ('certain', 0.025159641752658744),\n",
       "   ('disease', 0.024683269643418427),\n",
       "   ('years', 0.024573771259243336),\n",
       "   ('children', 0.024410575613888544),\n",
       "   ('effects', 0.023361833235937875),\n",
       "   ('home', 0.02208456454080195),\n",
       "   ('sleeping', 0.022061485191147742),\n",
       "   ('felt', 0.022046259506010142)],\n",
       "  13: [('think', 0.04200231335299578),\n",
       "   ('depression', 0.04183644112970247),\n",
       "   ('worse', 0.03833231586211222),\n",
       "   ('think depressed past', 0.03763329491408514),\n",
       "   ('way', 0.036921264969037755),\n",
       "   ('unable', 0.03326802062430874),\n",
       "   ('son', 0.030781893524396763),\n",
       "   ('mum', 0.030781893524396763),\n",
       "   ('things like', 0.02996355195141554),\n",
       "   ('dad', 0.029232675393652437)],\n",
       "  14: [('happy', 0.033695921157616555),\n",
       "   ('beautiful', 0.025630349533813376),\n",
       "   ('daily activities', 0.02425821053036235),\n",
       "   ('sit', 0.023195596676026272),\n",
       "   ('books', 0.023195596676026272),\n",
       "   ('pleasure', 0.023195596676026272),\n",
       "   ('generally', 0.022907969035412402),\n",
       "   ('able', 0.02268225320643336),\n",
       "   ('course', 0.02232875968015903),\n",
       "   ('able friends', 0.02232875968015903)],\n",
       "  15: [('things', 0.02543310981357879),\n",
       "   ('kid', 0.023335929597380303),\n",
       "   ('mood', 0.022111073366916593),\n",
       "   ('week', 0.021818433322396184),\n",
       "   ('like', 0.02154314188505984),\n",
       "   ('ve', 0.02154314188505984),\n",
       "   ('time', 0.021429478447680242),\n",
       "   ('mildly depressed', 0.021119134964853615),\n",
       "   ('mildly', 0.019663664825727265),\n",
       "   ('risk', 0.019663664825727265)],\n",
       "  16: [('felt like', 0.05021007802286923),\n",
       "   ('like', 0.047943435293281864),\n",
       "   ('sad', 0.0371994983620922),\n",
       "   ('sadness', 0.03450310041982229),\n",
       "   ('began', 0.034407053711432316),\n",
       "   ('feeling depressed', 0.033245883041035526),\n",
       "   ('felt', 0.032469491041164596),\n",
       "   ('low self', 0.031670383627980664),\n",
       "   ('feeling', 0.02861428900594038),\n",
       "   ('couldn', 0.028238366706793507)],\n",
       "  17: [('hard', 0.03538968019169777),\n",
       "   ('believe', 0.031494306419086085),\n",
       "   ('having', 0.026770274666797978),\n",
       "   ('hard time', 0.02520720697075514),\n",
       "   ('normal', 0.024380824936968287),\n",
       "   ('increased', 0.023857721205568633),\n",
       "   ('like', 0.023270657979616527),\n",
       "   ('bed', 0.023264640085135572),\n",
       "   ('day', 0.022129198182643067),\n",
       "   ('caused', 0.022045836236821166)],\n",
       "  18: [('caused', 0.03765331143771269),\n",
       "   ('able', 0.03429063294410651),\n",
       "   ('pain', 0.030646258378935816),\n",
       "   ('days past weeks', 0.030560948009550153),\n",
       "   ('days past', 0.029222247171912255),\n",
       "   ('taking', 0.02854416271088726),\n",
       "   ('fatigue', 0.0281301896876928),\n",
       "   ('enjoyed', 0.025708908622966806),\n",
       "   ('like', 0.02555051959436532),\n",
       "   ('pandemic', 0.022495272416999206)],\n",
       "  19: [('engage', 0.0324734080174871),\n",
       "   ('motivation', 0.028503490479676406),\n",
       "   ('don', 0.027724468686321814),\n",
       "   ('time', 0.026963464640213056),\n",
       "   ('feeling', 0.026963464640213056),\n",
       "   ('alot better', 0.02569196095096197),\n",
       "   ('daily', 0.02322413296288765),\n",
       "   ('activities', 0.022236330677690604),\n",
       "   ('alot', 0.02101456192530933),\n",
       "   ('just want', 0.02101456192530933)],\n",
       "  20: [('level', 0.0636807854127046),\n",
       "   ('relates', 0.059376976420001),\n",
       "   ('cos', 0.05619818772867278),\n",
       "   ('haven felt depressed', 0.05003310272323938),\n",
       "   ('circumstances', 0.04727582641223341),\n",
       "   ('huge', 0.04727582641223341),\n",
       "   ('mood', 0.045008318231323556),\n",
       "   ('haven felt', 0.04325987695425837),\n",
       "   ('going', 0.04153554383452681),\n",
       "   ('life', 0.03336095543254653)],\n",
       "  21: [('quite', 0.0381298439122165),\n",
       "   ('depressed depression', 0.03550782643056538),\n",
       "   ('linked', 0.03550782643056538),\n",
       "   ('moments feel', 0.03550782643056538),\n",
       "   ('life', 0.031920116825825254),\n",
       "   ('depression', 0.03157886852049303),\n",
       "   ('feels pointless', 0.030933863078492746),\n",
       "   ('struggle', 0.03042033472882667),\n",
       "   ('medication', 0.02927134658004376),\n",
       "   ('felt quite', 0.028271258319608018)],\n",
       "  22: [('life', 0.048688961982635476),\n",
       "   ('happy', 0.045209778387149624),\n",
       "   ('content life', 0.04357010726983313),\n",
       "   ('family life', 0.04357010726983313),\n",
       "   ('quite happy', 0.04056738058641031),\n",
       "   ('mental health', 0.036494800305603946),\n",
       "   ('love', 0.03507557590885813),\n",
       "   ('going', 0.03367746797394066),\n",
       "   ('mental', 0.03354024851363395),\n",
       "   ('content', 0.033247213825953956)],\n",
       "  23: [('exercise', 0.04962168633202545),\n",
       "   ('regularly', 0.044338537079172936),\n",
       "   ('frustrated', 0.044338537079172936),\n",
       "   ('felt low', 0.03864098371944526),\n",
       "   ('happen', 0.03458452342508329),\n",
       "   ('felt', 0.03409296559322282),\n",
       "   ('depression', 0.03394728365953),\n",
       "   ('pretty', 0.031794252194505955),\n",
       "   ('ve felt', 0.031029490838299832),\n",
       "   ('people', 0.03017607333642476)],\n",
       "  24: [('irritable', 0.06271362640711838),\n",
       "   ('result', 0.05645957315275981),\n",
       "   ('week', 0.05259390769293396),\n",
       "   ('harder', 0.04369515690419627),\n",
       "   ('depressed week', 0.042708455689913175),\n",
       "   ('shut', 0.042708455689913175),\n",
       "   ('thoughts', 0.04231780642867243),\n",
       "   ('normally', 0.03763971543517321),\n",
       "   ('future', 0.035648836762326025),\n",
       "   ('hard', 0.03384637082995456)],\n",
       "  25: [('depressive', 0.049654366876027485),\n",
       "   ('medication', 0.046803056151889365),\n",
       "   ('truly', 0.03482891538218598),\n",
       "   ('say', 0.030674432920289017),\n",
       "   ('numb', 0.029907712950211215),\n",
       "   ('sleep', 0.02759002536943679),\n",
       "   ('extremely', 0.025660662184757665),\n",
       "   ('mind', 0.02384619418214213),\n",
       "   ('depressed weeks', 0.023677308392827688),\n",
       "   ('depressed depressive', 0.02289959904411544)],\n",
       "  26: [('help', 0.066108412264959),\n",
       "   ('guess', 0.058472102839081504),\n",
       "   ('does help', 0.058472102839081504),\n",
       "   ('antidepressants', 0.05591077349076853),\n",
       "   ('severity', 0.05591077349076853),\n",
       "   ('coronavirus pandemic', 0.05382134558743535),\n",
       "   ('pandemic', 0.04304008768801581),\n",
       "   ('coronavirus', 0.04133841579585496),\n",
       "   ('does', 0.04015627795655238),\n",
       "   ('outside', 0.03909021781667728)],\n",
       "  27: [('covid', 0.07366706358929893),\n",
       "   ('long', 0.06093692204139684),\n",
       "   ('struggle', 0.04298836034449215),\n",
       "   ('depression caused', 0.04047746028220405),\n",
       "   ('situation don know', 0.04047746028220405),\n",
       "   ('arguing', 0.04047746028220405),\n",
       "   ('situation don', 0.04047746028220405),\n",
       "   ('bed feeling', 0.04047746028220405),\n",
       "   ('breaking', 0.04047746028220405),\n",
       "   ('know long', 0.04047746028220405)],\n",
       "  28: [('negative feelings', 0.0568296280402309),\n",
       "   ('worker', 0.05434024614552222),\n",
       "   ('loneliness', 0.04911268405016113),\n",
       "   ('state', 0.04295823664699338),\n",
       "   ('period', 0.04017722434091522),\n",
       "   ('personal', 0.03958718816784172),\n",
       "   ('stressed', 0.039028292620694176),\n",
       "   ('focus', 0.037992177990366124),\n",
       "   ('negative', 0.036184416900978504),\n",
       "   ('taking', 0.035386209203384575)],\n",
       "  29: [('daily', 0.05584531394544081),\n",
       "   ('struggle', 0.05292786562645565),\n",
       "   ('sort', 0.050532125785714914),\n",
       "   ('im', 0.045010276599806394),\n",
       "   ('things', 0.03740643639890522),\n",
       "   ('long', 0.03334505946003218),\n",
       "   ('spending money', 0.033224273757647256),\n",
       "   ('showing', 0.033224273757647256),\n",
       "   ('stay home', 0.033224273757647256),\n",
       "   ('showered', 0.033224273757647256)],\n",
       "  30: [('main reasons', 0.06679909847250112),\n",
       "   ('stock', 0.06322296119475689),\n",
       "   ('reasons', 0.06045352383689348),\n",
       "   ('main', 0.053185304713762586),\n",
       "   ('able', 0.047292497935413555),\n",
       "   ('getting', 0.04594538388219058),\n",
       "   ('outside', 0.04226629801428231),\n",
       "   ('past weeks', 0.037975768507679246),\n",
       "   ('house', 0.037408717123235465),\n",
       "   ('long', 0.0360543455411598)],\n",
       "  31: [('work', 0.06614505860295779),\n",
       "   ('haven', 0.06496462085421037),\n",
       "   ('good', 0.062225888635502075),\n",
       "   ('like normal', 0.05422452226483939),\n",
       "   ('having covid', 0.05422452226483939),\n",
       "   ('feeling overwhelmed', 0.05422452226483939),\n",
       "   ('freedom', 0.05422452226483939),\n",
       "   ('external', 0.05422452226483939),\n",
       "   ('good haven', 0.05422452226483939),\n",
       "   ('ok just', 0.05422452226483939)],\n",
       "  32: [('feel like', 0.046979659511134045),\n",
       "   ('days feel like', 0.045674597246154615),\n",
       "   ('uninterested', 0.04322937517590214),\n",
       "   ('depressed life', 0.03848700209479953),\n",
       "   ('office', 0.03735922120054992),\n",
       "   ('help', 0.03665626705717278),\n",
       "   ('aspect', 0.03636602031710262),\n",
       "   ('working', 0.03603727675053741),\n",
       "   ('days feel', 0.035478973554689285),\n",
       "   ('parents', 0.035478973554689285)],\n",
       "  33: [('im', 0.06083420196692583),\n",
       "   ('leads', 0.046906033803036914),\n",
       "   ('house', 0.04676089640404433),\n",
       "   ('alot', 0.04553155083817021),\n",
       "   ('gym', 0.04553155083817021),\n",
       "   ('sleep', 0.03606821024858664),\n",
       "   ('scotland', 0.02993645500038008),\n",
       "   ('signed', 0.02993645500038008),\n",
       "   ('smoking', 0.02993645500038008),\n",
       "   ('really hard', 0.02993645500038008)],\n",
       "  34: [('keeping', 0.05899074130126141),\n",
       "   ('active', 0.05591576870728619),\n",
       "   ('news', 0.05502083272172341),\n",
       "   ('certain tasks', 0.04354393454600739),\n",
       "   ('continue make', 0.04354393454600739),\n",
       "   ('dangers', 0.04354393454600739),\n",
       "   ('depressed weeks lot', 0.04354393454600739),\n",
       "   ('consider depressed', 0.04354393454600739),\n",
       "   ('depression say', 0.04354393454600739),\n",
       "   ('felt irritable', 0.04354393454600739)],\n",
       "  35: [('sad lonely', 0.09716232505091071),\n",
       "   ('wasting time', 0.09716232505091071),\n",
       "   ('wasting', 0.08464629806023924),\n",
       "   ('lonely', 0.054944511194270615),\n",
       "   ('lonely live', 0.052252721455208866),\n",
       "   ('time getting', 0.052252721455208866),\n",
       "   ('constantly feel', 0.052252721455208866),\n",
       "   ('beating', 0.052252721455208866),\n",
       "   ('aspects including', 0.052252721455208866),\n",
       "   ('days better', 0.052252721455208866)]}}"
      ]
     },
     "execution_count": 143,
     "metadata": {},
     "output_type": "execute_result"
    }
   ],
   "source": [
    "topic_model.topic_aspects_"
   ]
  },
  {
   "cell_type": "code",
   "execution_count": null,
   "metadata": {},
   "outputs": [
    {
     "data": {
      "text/html": [
       "<div>\n",
       "<style scoped>\n",
       "    .dataframe tbody tr th:only-of-type {\n",
       "        vertical-align: middle;\n",
       "    }\n",
       "\n",
       "    .dataframe tbody tr th {\n",
       "        vertical-align: top;\n",
       "    }\n",
       "\n",
       "    .dataframe thead th {\n",
       "        text-align: right;\n",
       "    }\n",
       "</style>\n",
       "<table border=\"1\" class=\"dataframe\">\n",
       "  <thead>\n",
       "    <tr style=\"text-align: right;\">\n",
       "      <th></th>\n",
       "      <th>Document</th>\n",
       "      <th>Topic</th>\n",
       "      <th>Name</th>\n",
       "      <th>Representation</th>\n",
       "      <th>KeyBERT</th>\n",
       "      <th>MMR</th>\n",
       "      <th>Generator</th>\n",
       "      <th>Representative_Docs</th>\n",
       "      <th>Top_n_words</th>\n",
       "      <th>Probability</th>\n",
       "      <th>Representative_document</th>\n",
       "    </tr>\n",
       "  </thead>\n",
       "  <tbody>\n",
       "    <tr>\n",
       "      <th>0</th>\n",
       "      <td>happy eager to learn restful sleep motivated j...</td>\n",
       "      <td>31</td>\n",
       "      <td>31_deep_tired exhausted_happy_happy stressed</td>\n",
       "      <td>[deep, tired exhausted, happy, happy stressed,...</td>\n",
       "      <td>[happy tired, tired exhausted, walking, motiva...</td>\n",
       "      <td>[deep, tired exhausted, happy, happy stressed,...</td>\n",
       "      <td>[Tired happy deep sleep walking football, , , ...</td>\n",
       "      <td>[Happy Tired Exhausted Feel well Normal, Enthu...</td>\n",
       "      <td>deep - tired exhausted - happy - happy stresse...</td>\n",
       "      <td>1.000000</td>\n",
       "      <td>False</td>\n",
       "    </tr>\n",
       "    <tr>\n",
       "      <th>1</th>\n",
       "      <td>Feel connected to the world Care about people ...</td>\n",
       "      <td>-1</td>\n",
       "      <td>-1_tired_feeling_lonely_sad</td>\n",
       "      <td>[tired, feeling, lonely, sad, low, worried, an...</td>\n",
       "      <td>[lack motivation, calm, numb, stress, negative...</td>\n",
       "      <td>[tired, feeling, lonely, sad, low, worried, an...</td>\n",
       "      <td>[i feel low and lonely, , , , , , , , , ]</td>\n",
       "      <td>[Uninterested in hobbies Unmotivated at work S...</td>\n",
       "      <td>tired - feeling - lonely - sad - low - worried...</td>\n",
       "      <td>0.000000</td>\n",
       "      <td>False</td>\n",
       "    </tr>\n",
       "    <tr>\n",
       "      <th>2</th>\n",
       "      <td>Mostly Often Constantly Habitually More often ...</td>\n",
       "      <td>26</td>\n",
       "      <td>26_yes_occasionally_frequently_constantly</td>\n",
       "      <td>[yes, occasionally, frequently, constantly, ha...</td>\n",
       "      <td>[didn, worrying, absolutely, hide, constantly,...</td>\n",
       "      <td>[yes, occasionally, frequently, constantly, ha...</td>\n",
       "      <td>[Sometimes it’s hard sometimes, sometimes, fre...</td>\n",
       "      <td>[occasionally During certain periods At times ...</td>\n",
       "      <td>yes - occasionally - frequently - constantly -...</td>\n",
       "      <td>1.000000</td>\n",
       "      <td>False</td>\n",
       "    </tr>\n",
       "    <tr>\n",
       "      <th>3</th>\n",
       "      <td>lonelyness builds from deep within mild depres...</td>\n",
       "      <td>18</td>\n",
       "      <td>18_felt_cried_feel_activities</td>\n",
       "      <td>[felt, cried, feel, activities, sad felt, isol...</td>\n",
       "      <td>[feeling lonely, felt sad felt, feel sad, felt...</td>\n",
       "      <td>[felt, cried, feel, activities, sad felt, isol...</td>\n",
       "      <td>[I have cried a lot I have felt isolated I fel...</td>\n",
       "      <td>[Yes felt down Felt isolated Felt unwell Tired...</td>\n",
       "      <td>felt - cried - feel - activities - sad felt - ...</td>\n",
       "      <td>0.908044</td>\n",
       "      <td>False</td>\n",
       "    </tr>\n",
       "    <tr>\n",
       "      <th>4</th>\n",
       "      <td>alone sad not myself short fused shouting</td>\n",
       "      <td>-1</td>\n",
       "      <td>-1_tired_feeling_lonely_sad</td>\n",
       "      <td>[tired, feeling, lonely, sad, low, worried, an...</td>\n",
       "      <td>[lack motivation, calm, numb, stress, negative...</td>\n",
       "      <td>[tired, feeling, lonely, sad, low, worried, an...</td>\n",
       "      <td>[i feel low and lonely, , , , , , , , , ]</td>\n",
       "      <td>[Uninterested in hobbies Unmotivated at work S...</td>\n",
       "      <td>tired - feeling - lonely - sad - low - worried...</td>\n",
       "      <td>0.000000</td>\n",
       "      <td>False</td>\n",
       "    </tr>\n",
       "    <tr>\n",
       "      <th>...</th>\n",
       "      <td>...</td>\n",
       "      <td>...</td>\n",
       "      <td>...</td>\n",
       "      <td>...</td>\n",
       "      <td>...</td>\n",
       "      <td>...</td>\n",
       "      <td>...</td>\n",
       "      <td>...</td>\n",
       "      <td>...</td>\n",
       "      <td>...</td>\n",
       "      <td>...</td>\n",
       "    </tr>\n",
       "    <tr>\n",
       "      <th>945</th>\n",
       "      <td>Worried Not wanting to go out Finding hard to ...</td>\n",
       "      <td>-1</td>\n",
       "      <td>-1_tired_feeling_lonely_sad</td>\n",
       "      <td>[tired, feeling, lonely, sad, low, worried, an...</td>\n",
       "      <td>[lack motivation, calm, numb, stress, negative...</td>\n",
       "      <td>[tired, feeling, lonely, sad, low, worried, an...</td>\n",
       "      <td>[i feel low and lonely, , , , , , , , , ]</td>\n",
       "      <td>[Uninterested in hobbies Unmotivated at work S...</td>\n",
       "      <td>tired - feeling - lonely - sad - low - worried...</td>\n",
       "      <td>0.000000</td>\n",
       "      <td>False</td>\n",
       "    </tr>\n",
       "    <tr>\n",
       "      <th>946</th>\n",
       "      <td>Fed up Bored Lazy Sadness Worry</td>\n",
       "      <td>29</td>\n",
       "      <td>29_weary_lazy_fed_sad lonely</td>\n",
       "      <td>[weary, lazy, fed, sad lonely, lonely, tired s...</td>\n",
       "      <td>[lonely tired, sad lonely, lonely sad, drained...</td>\n",
       "      <td>[weary, lazy, fed, sad lonely, lonely, tired s...</td>\n",
       "      <td>[Weary lonely lonely tired sluggish tired lone...</td>\n",
       "      <td>[Fed up Bored Lazy Sadness Worry, Yawn Weary F...</td>\n",
       "      <td>weary - lazy - fed - sad lonely - lonely - tir...</td>\n",
       "      <td>0.942197</td>\n",
       "      <td>True</td>\n",
       "    </tr>\n",
       "    <tr>\n",
       "      <th>947</th>\n",
       "      <td>Unhappy Drowsy Lazy Mood swings Negative</td>\n",
       "      <td>20</td>\n",
       "      <td>20_tiredness_headaches_mood_moodiness</td>\n",
       "      <td>[tiredness, headaches, mood, moodiness, unhapp...</td>\n",
       "      <td>[depression anxiety, low mood, tiredness, slee...</td>\n",
       "      <td>[tiredness, headaches, mood, moodiness, unhapp...</td>\n",
       "      <td>[i have a headache, , , , , , , , , ]</td>\n",
       "      <td>[tiredness fatigue sometimes irritated unhappi...</td>\n",
       "      <td>tiredness - headaches - mood - moodiness - unh...</td>\n",
       "      <td>1.000000</td>\n",
       "      <td>False</td>\n",
       "    </tr>\n",
       "    <tr>\n",
       "      <th>948</th>\n",
       "      <td>Deep despair Suicidal thoughts Guilt for being...</td>\n",
       "      <td>6</td>\n",
       "      <td>6_suicidal_suicidal thoughts_self_thoughts</td>\n",
       "      <td>[suicidal, suicidal thoughts, self, thoughts, ...</td>\n",
       "      <td>[depressed melancholic, feeling uselessness, l...</td>\n",
       "      <td>[suicidal, suicidal thoughts, self, thoughts, ...</td>\n",
       "      <td>[Suicide is the act of committing suicide. Sui...</td>\n",
       "      <td>[No energy Constant crying No motivation to co...</td>\n",
       "      <td>suicidal - suicidal thoughts - self - thoughts...</td>\n",
       "      <td>0.783344</td>\n",
       "      <td>True</td>\n",
       "    </tr>\n",
       "    <tr>\n",
       "      <th>949</th>\n",
       "      <td>Unsettled Lack of energy Unenthused Losing int...</td>\n",
       "      <td>17</td>\n",
       "      <td>17_energy_lack energy_lack_drained energy</td>\n",
       "      <td>[energy, lack energy, lack, drained energy, en...</td>\n",
       "      <td>[lacking energy, lack energy, drained energy, ...</td>\n",
       "      <td>[energy, lack energy, lack, drained energy, en...</td>\n",
       "      <td>[Lack of energy is a feeling of lack of energy...</td>\n",
       "      <td>[sad concerned hopeless lack of energy withdra...</td>\n",
       "      <td>energy - lack energy - lack - drained energy -...</td>\n",
       "      <td>0.578347</td>\n",
       "      <td>False</td>\n",
       "    </tr>\n",
       "  </tbody>\n",
       "</table>\n",
       "<p>950 rows × 11 columns</p>\n",
       "</div>"
      ],
      "text/plain": [
       "                                              Document  Topic  \\\n",
       "0    happy eager to learn restful sleep motivated j...     31   \n",
       "1    Feel connected to the world Care about people ...     -1   \n",
       "2    Mostly Often Constantly Habitually More often ...     26   \n",
       "3    lonelyness builds from deep within mild depres...     18   \n",
       "4            alone sad not myself short fused shouting     -1   \n",
       "..                                                 ...    ...   \n",
       "945  Worried Not wanting to go out Finding hard to ...     -1   \n",
       "946                    Fed up Bored Lazy Sadness Worry     29   \n",
       "947           Unhappy Drowsy Lazy Mood swings Negative     20   \n",
       "948  Deep despair Suicidal thoughts Guilt for being...      6   \n",
       "949  Unsettled Lack of energy Unenthused Losing int...     17   \n",
       "\n",
       "                                             Name  \\\n",
       "0    31_deep_tired exhausted_happy_happy stressed   \n",
       "1                     -1_tired_feeling_lonely_sad   \n",
       "2       26_yes_occasionally_frequently_constantly   \n",
       "3                   18_felt_cried_feel_activities   \n",
       "4                     -1_tired_feeling_lonely_sad   \n",
       "..                                            ...   \n",
       "945                   -1_tired_feeling_lonely_sad   \n",
       "946                  29_weary_lazy_fed_sad lonely   \n",
       "947         20_tiredness_headaches_mood_moodiness   \n",
       "948    6_suicidal_suicidal thoughts_self_thoughts   \n",
       "949     17_energy_lack energy_lack_drained energy   \n",
       "\n",
       "                                        Representation  \\\n",
       "0    [deep, tired exhausted, happy, happy stressed,...   \n",
       "1    [tired, feeling, lonely, sad, low, worried, an...   \n",
       "2    [yes, occasionally, frequently, constantly, ha...   \n",
       "3    [felt, cried, feel, activities, sad felt, isol...   \n",
       "4    [tired, feeling, lonely, sad, low, worried, an...   \n",
       "..                                                 ...   \n",
       "945  [tired, feeling, lonely, sad, low, worried, an...   \n",
       "946  [weary, lazy, fed, sad lonely, lonely, tired s...   \n",
       "947  [tiredness, headaches, mood, moodiness, unhapp...   \n",
       "948  [suicidal, suicidal thoughts, self, thoughts, ...   \n",
       "949  [energy, lack energy, lack, drained energy, en...   \n",
       "\n",
       "                                               KeyBERT  \\\n",
       "0    [happy tired, tired exhausted, walking, motiva...   \n",
       "1    [lack motivation, calm, numb, stress, negative...   \n",
       "2    [didn, worrying, absolutely, hide, constantly,...   \n",
       "3    [feeling lonely, felt sad felt, feel sad, felt...   \n",
       "4    [lack motivation, calm, numb, stress, negative...   \n",
       "..                                                 ...   \n",
       "945  [lack motivation, calm, numb, stress, negative...   \n",
       "946  [lonely tired, sad lonely, lonely sad, drained...   \n",
       "947  [depression anxiety, low mood, tiredness, slee...   \n",
       "948  [depressed melancholic, feeling uselessness, l...   \n",
       "949  [lacking energy, lack energy, drained energy, ...   \n",
       "\n",
       "                                                   MMR  \\\n",
       "0    [deep, tired exhausted, happy, happy stressed,...   \n",
       "1    [tired, feeling, lonely, sad, low, worried, an...   \n",
       "2    [yes, occasionally, frequently, constantly, ha...   \n",
       "3    [felt, cried, feel, activities, sad felt, isol...   \n",
       "4    [tired, feeling, lonely, sad, low, worried, an...   \n",
       "..                                                 ...   \n",
       "945  [tired, feeling, lonely, sad, low, worried, an...   \n",
       "946  [weary, lazy, fed, sad lonely, lonely, tired s...   \n",
       "947  [tiredness, headaches, mood, moodiness, unhapp...   \n",
       "948  [suicidal, suicidal thoughts, self, thoughts, ...   \n",
       "949  [energy, lack energy, lack, drained energy, en...   \n",
       "\n",
       "                                             Generator  \\\n",
       "0    [Tired happy deep sleep walking football, , , ...   \n",
       "1            [i feel low and lonely, , , , , , , , , ]   \n",
       "2    [Sometimes it’s hard sometimes, sometimes, fre...   \n",
       "3    [I have cried a lot I have felt isolated I fel...   \n",
       "4            [i feel low and lonely, , , , , , , , , ]   \n",
       "..                                                 ...   \n",
       "945          [i feel low and lonely, , , , , , , , , ]   \n",
       "946  [Weary lonely lonely tired sluggish tired lone...   \n",
       "947              [i have a headache, , , , , , , , , ]   \n",
       "948  [Suicide is the act of committing suicide. Sui...   \n",
       "949  [Lack of energy is a feeling of lack of energy...   \n",
       "\n",
       "                                   Representative_Docs  \\\n",
       "0    [Happy Tired Exhausted Feel well Normal, Enthu...   \n",
       "1    [Uninterested in hobbies Unmotivated at work S...   \n",
       "2    [occasionally During certain periods At times ...   \n",
       "3    [Yes felt down Felt isolated Felt unwell Tired...   \n",
       "4    [Uninterested in hobbies Unmotivated at work S...   \n",
       "..                                                 ...   \n",
       "945  [Uninterested in hobbies Unmotivated at work S...   \n",
       "946  [Fed up Bored Lazy Sadness Worry, Yawn Weary F...   \n",
       "947  [tiredness fatigue sometimes irritated unhappi...   \n",
       "948  [No energy Constant crying No motivation to co...   \n",
       "949  [sad concerned hopeless lack of energy withdra...   \n",
       "\n",
       "                                           Top_n_words  Probability  \\\n",
       "0    deep - tired exhausted - happy - happy stresse...     1.000000   \n",
       "1    tired - feeling - lonely - sad - low - worried...     0.000000   \n",
       "2    yes - occasionally - frequently - constantly -...     1.000000   \n",
       "3    felt - cried - feel - activities - sad felt - ...     0.908044   \n",
       "4    tired - feeling - lonely - sad - low - worried...     0.000000   \n",
       "..                                                 ...          ...   \n",
       "945  tired - feeling - lonely - sad - low - worried...     0.000000   \n",
       "946  weary - lazy - fed - sad lonely - lonely - tir...     0.942197   \n",
       "947  tiredness - headaches - mood - moodiness - unh...     1.000000   \n",
       "948  suicidal - suicidal thoughts - self - thoughts...     0.783344   \n",
       "949  energy - lack energy - lack - drained energy -...     0.578347   \n",
       "\n",
       "     Representative_document  \n",
       "0                      False  \n",
       "1                      False  \n",
       "2                      False  \n",
       "3                      False  \n",
       "4                      False  \n",
       "..                       ...  \n",
       "945                    False  \n",
       "946                     True  \n",
       "947                    False  \n",
       "948                     True  \n",
       "949                    False  \n",
       "\n",
       "[950 rows x 11 columns]"
      ]
     },
     "execution_count": 99,
     "metadata": {},
     "output_type": "execute_result"
    }
   ],
   "source": [
    "topic_model.get_document_info(data[\"dep_all_phrases\"])"
   ]
  },
  {
   "cell_type": "code",
   "execution_count": 6,
   "metadata": {},
   "outputs": [
    {
     "name": "stdout",
     "output_type": "stream",
     "text": [
      "               participant_id  \\\n",
      "0    57dd186e6598aa0001992616   \n",
      "1    586c4a8be9cb31000195ea04   \n",
      "2    58bf2cf0d294c100010181fa   \n",
      "3    58d3d69a47aa1e00010476f4   \n",
      "4    5932f5d4991e160001effbd2   \n",
      "..                        ...   \n",
      "971  5f2a9a35a696ad2e039af96a   \n",
      "972  5f2aad9ef401403198b127b5   \n",
      "973  5f2abac3ee0e8335d5ff36b7   \n",
      "974  5f2b621130ca045b940f4b37   \n",
      "975  5f2efc6127d9ef108a1b41bd   \n",
      "\n",
      "                                        dep_all_words  \\\n",
      "0    motivated learning passionate enthusiastic happy   \n",
      "1                connected engaged alive alert strong   \n",
      "2               Yes Somewhat Very Extremely Partially   \n",
      "3     minor unwilling unwanting depressive unbothered   \n",
      "4                    family work money bills stressed   \n",
      "..                                                ...   \n",
      "971              Worried Fear Motivation Change Tired   \n",
      "972                    Tired Down Sad Unhappy Tearful   \n",
      "973         Unsettled Lazy Drowsy Overwhelmed Nervous   \n",
      "974              Despair Numbness Guilty Hollow Grief   \n",
      "975     Worried Frustrated Helpless Inconsolable Rest   \n",
      "\n",
      "                                         wor_all_words  \\\n",
      "0    motivated enthusiastic learning exercise nutri...   \n",
      "1     painful repetitive all-consuming random invasive   \n",
      "2               Yes Mostly Often Constantly Frequently   \n",
      "3          magorly confused scared unknowing unnessery   \n",
      "4                      tense sad unhappy alone worried   \n",
      "..                                                 ...   \n",
      "971                  Fear Alone Sad Overthinking Tired   \n",
      "972         Scared Anxious Fearful Frightened Cautious   \n",
      "973             Panic Unhappy Stressed Nervous Anxious   \n",
      "974  Overwhelmed Panic Helplessness Uncertainty Sen...   \n",
      "975              Anxious Panicky Dead Annoyed Hopeless   \n",
      "\n",
      "                                       dep_all_phrases  \\\n",
      "0    happy eager to learn restful sleep motivated j...   \n",
      "1    Feel connected to the world Care about people ...   \n",
      "2    Mostly Often Constantly Habitually More often ...   \n",
      "3    lonelyness builds from deep within mild depres...   \n",
      "4            alone sad not myself short fused shouting   \n",
      "..                                                 ...   \n",
      "971  Worried Not wanting to go out Finding hard to ...   \n",
      "972                    Fed up Bored Lazy Sadness Worry   \n",
      "973           Unhappy Drowsy Lazy Mood swings Negative   \n",
      "974  Deep despair Suicidal thoughts Guilt for being...   \n",
      "975  Unsettled Lack of energy Unenthused Losing int...   \n",
      "\n",
      "                                       wor_all_phrases  \\\n",
      "0    content improving learning motivated better th...   \n",
      "1    bogged down by thoughts triggered by thoughts ...   \n",
      "2           Frequently Often Usually Mostly Constantly   \n",
      "3               minor manageable unsure scared worried   \n",
      "4      stressed alone pressure tired not sleeping well   \n",
      "..                                                 ...   \n",
      "971                  Anxiety Fear Change Panic On edge   \n",
      "972  Scared Anxious Constant worrying Sleepy Over t...   \n",
      "973     Panic Worry Overthinking Overwhelmed Unsettled   \n",
      "974  Overwhelmed very easily Panic Uncertainty abou...   \n",
      "975  Tensed up Anxious Losing concentration Unavail...   \n",
      "\n",
      "                                              dep_text  \\\n",
      "0    Over the past two weeks, I have not been depre...   \n",
      "1    I don't think I have felt depressed. I'm not f...   \n",
      "2    I have been depressed because I am worried abo...   \n",
      "3    Over the past 2 weeks i have been feeling depr...   \n",
      "4    yes very much just seem everything is getting ...   \n",
      "..                                                 ...   \n",
      "971  There has been time when I have not wanted to ...   \n",
      "972  I’m not sure if I’ve been depressed exactly, I...   \n",
      "973  I haven’t felt depressed. However, I have expe...   \n",
      "974  I have suffered from depression since my early...   \n",
      "975  I have not been depressed in the past 2 weeks ...   \n",
      "\n",
      "                                              wor_text  Gender   age  PHQtot  \\\n",
      "0    Over the last two weeks, I have not been worri...     1.0  33.0     0.0   \n",
      "1    Yes I have been worried. I have worried about ...     0.0  70.0    17.0   \n",
      "2    I have been very worried for the reasons above...     0.0  63.0    21.0   \n",
      "3    I have been worried many times in the past 2 w...     0.0  34.0    13.0   \n",
      "4    I have found work very stressful and i am only...     1.0  50.0     9.0   \n",
      "..                                                 ...     ...   ...     ...   \n",
      "971  I have felt allot of worry and anxiety as I ha...     0.0  31.0    11.0   \n",
      "972  Yes I have been extremely worried. One because...     0.0  28.0    20.0   \n",
      "973  I have been worried about the state of the eco...     0.0  49.0    20.0   \n",
      "974  I have suffered with anxiety, panic and worry ...     0.0  28.0    22.0   \n",
      "975  Being worried to me means that there is a stat...     1.0  29.0    15.0   \n",
      "\n",
      "     GADtot  miniGAD_diagnose  minidep_diagnose  unique_id  \n",
      "0       1.0                 0                 0          1  \n",
      "1      15.0                 0                 0          2  \n",
      "2      16.0                 0                 0          3  \n",
      "3      13.0                 0                 0          4  \n",
      "4      12.0                 1                 0          5  \n",
      "..      ...               ...               ...        ...  \n",
      "971    14.0                 0                 1        972  \n",
      "972    20.0                 1                 1        973  \n",
      "973    13.0                 1                 1        974  \n",
      "974    17.0                 1                 1        975  \n",
      "975    14.0                 1                 0        976  \n",
      "\n",
      "[976 rows x 14 columns]\n",
      "<class 'int'>\n",
      "distilroberta\n"
     ]
    },
    {
     "name": "stderr",
     "output_type": "stream",
     "text": [
      "2023-11-13 11:54:08,660 - BERTopic - Reduced dimensionality\n",
      "2023-11-13 11:54:08,677 - BERTopic - Clustered reduced embeddings\n",
      "100%|██████████| 1/1 [00:00<00:00,  3.31it/s]\n"
     ]
    }
   ],
   "source": [
    "import bert_topic\n",
    "import pandas as pd\n",
    "data = pd.read_csv('../../data/depression_anxiety_cleaned.csv')\n",
    "embedding_models = [\"distilroberta\"] # \"miniLM\", \"mpnet\", \"multi-mpnet\", \n",
    "for data_var in [\"dep_text\"]: #, \"dep_all_words\", \"wor_all_words\", \"wor_all_phrases\", \"wor_text\", \"dep_text\", ]:\n",
    "    for embedding_model in embedding_models:\n",
    "        topic_model = bert_topic.create_bertopic_model(\n",
    "            data=data,\n",
    "            data_var=data_var,\n",
    "            embedding_model=embedding_model,  # provide a value for embedding_model\n",
    "            umap_model=\"default\",       # provide a value for umap_model\n",
    "            hdbscan_model=\"default\",    # provide a value for hdbscan_model\n",
    "            vectorizer_model=\"default\",  # provide a value for vectorizer_model\n",
    "            representation_model=\"default\",  # provide a value for representation_model\n",
    "            top_n_words=10,  # provide a value for top_n_words\n",
    "            n_gram_range=(1, 3),\n",
    "            stop_words = \"english\",  # provide a value for n_gram_range\n",
    "            save_dir=\"./results\"  # provide a value for save_dir\n",
    "        )"
   ]
  },
  {
   "cell_type": "code",
   "execution_count": 9,
   "metadata": {},
   "outputs": [],
   "source": [
    "data = topic_model.topic_representations_"
   ]
  },
  {
   "cell_type": "code",
   "execution_count": 14,
   "metadata": {},
   "outputs": [],
   "source": [
    "# Filter out the topic with label -1 and start labeling from 1\n",
    "filtered_data = {label: terms for label, terms in data.items() if label != -1}\n",
    "\n",
    "# Convert the filtered dictionary to a DataFrame with labeled topics starting from 1\n",
    "df = pd.DataFrame([(f't_{i}', ', '.join([term for term, _ in terms])) for i, (_, terms) in enumerate(filtered_data.items(), start=1)], columns=['topic', 'top_terms'])"
   ]
  },
  {
   "cell_type": "code",
   "execution_count": 15,
   "metadata": {},
   "outputs": [
    {
     "data": {
      "text/html": [
       "<div>\n",
       "<style scoped>\n",
       "    .dataframe tbody tr th:only-of-type {\n",
       "        vertical-align: middle;\n",
       "    }\n",
       "\n",
       "    .dataframe tbody tr th {\n",
       "        vertical-align: top;\n",
       "    }\n",
       "\n",
       "    .dataframe thead th {\n",
       "        text-align: right;\n",
       "    }\n",
       "</style>\n",
       "<table border=\"1\" class=\"dataframe\">\n",
       "  <thead>\n",
       "    <tr style=\"text-align: right;\">\n",
       "      <th></th>\n",
       "      <th>Topic</th>\n",
       "      <th>Top Terms</th>\n",
       "    </tr>\n",
       "  </thead>\n",
       "  <tbody>\n",
       "    <tr>\n",
       "      <th>0</th>\n",
       "      <td>t_1</td>\n",
       "      <td>depressed past weeks, weeks depressed, depress...</td>\n",
       "    </tr>\n",
       "    <tr>\n",
       "      <th>1</th>\n",
       "      <td>t_2</td>\n",
       "      <td>yes depressed, yes depressed weeks, yes depres...</td>\n",
       "    </tr>\n",
       "    <tr>\n",
       "      <th>2</th>\n",
       "      <td>t_3</td>\n",
       "      <td>haven felt depressed, haven depressed, depress...</td>\n",
       "    </tr>\n",
       "    <tr>\n",
       "      <th>3</th>\n",
       "      <td>t_4</td>\n",
       "      <td>depressed past weeks, depressed weeks, depress...</td>\n",
       "    </tr>\n",
       "    <tr>\n",
       "      <th>4</th>\n",
       "      <td>t_5</td>\n",
       "      <td>feeling depressed, feel sad depressed, sadness...</td>\n",
       "    </tr>\n",
       "    <tr>\n",
       "      <th>5</th>\n",
       "      <td>t_6</td>\n",
       "      <td>feeling depressed, extremely depressed, depres...</td>\n",
       "    </tr>\n",
       "    <tr>\n",
       "      <th>6</th>\n",
       "      <td>t_7</td>\n",
       "      <td>depressed weeks, weeks depressed, depression, ...</td>\n",
       "    </tr>\n",
       "    <tr>\n",
       "      <th>7</th>\n",
       "      <td>t_8</td>\n",
       "      <td>depressed lockdown, feel depressed, depression...</td>\n",
       "    </tr>\n",
       "    <tr>\n",
       "      <th>8</th>\n",
       "      <td>t_9</td>\n",
       "      <td>low anxious, mood fluctuating, low mood days, ...</td>\n",
       "    </tr>\n",
       "    <tr>\n",
       "      <th>9</th>\n",
       "      <td>t_10</td>\n",
       "      <td>depression anxiety, depression feeling, depres...</td>\n",
       "    </tr>\n",
       "    <tr>\n",
       "      <th>10</th>\n",
       "      <td>t_11</td>\n",
       "      <td>lacking motivation, depression, lack motivatio...</td>\n",
       "    </tr>\n",
       "    <tr>\n",
       "      <th>11</th>\n",
       "      <td>t_12</td>\n",
       "      <td>yes depressed weeks, strongly depressed, think...</td>\n",
       "    </tr>\n",
       "    <tr>\n",
       "      <th>12</th>\n",
       "      <td>t_13</td>\n",
       "      <td>wouldnt say depressed, wouldn say depressed, d...</td>\n",
       "    </tr>\n",
       "    <tr>\n",
       "      <th>13</th>\n",
       "      <td>t_14</td>\n",
       "      <td>life feels pointless, feel unmotivated, felt d...</td>\n",
       "    </tr>\n",
       "    <tr>\n",
       "      <th>14</th>\n",
       "      <td>t_15</td>\n",
       "      <td>wouldn say depressed, haven depressed, think f...</td>\n",
       "    </tr>\n",
       "    <tr>\n",
       "      <th>15</th>\n",
       "      <td>t_16</td>\n",
       "      <td>yes depressed, haven depressed, yes depressed ...</td>\n",
       "    </tr>\n",
       "    <tr>\n",
       "      <th>16</th>\n",
       "      <td>t_17</td>\n",
       "      <td>depressed financial, financial situation, fina...</td>\n",
       "    </tr>\n",
       "    <tr>\n",
       "      <th>17</th>\n",
       "      <td>t_18</td>\n",
       "      <td>worried losing job, depressed constantly, mode...</td>\n",
       "    </tr>\n",
       "    <tr>\n",
       "      <th>18</th>\n",
       "      <td>t_19</td>\n",
       "      <td>having covid, health covid, depression, severe...</td>\n",
       "    </tr>\n",
       "    <tr>\n",
       "      <th>19</th>\n",
       "      <td>t_20</td>\n",
       "      <td>depression, low mood lack, strongly depressed,...</td>\n",
       "    </tr>\n",
       "    <tr>\n",
       "      <th>20</th>\n",
       "      <td>t_21</td>\n",
       "      <td>yes depressed, yes depressed past, ve depresse...</td>\n",
       "    </tr>\n",
       "    <tr>\n",
       "      <th>21</th>\n",
       "      <td>t_22</td>\n",
       "      <td>depressed couple weeks, don think depressed, f...</td>\n",
       "    </tr>\n",
       "    <tr>\n",
       "      <th>22</th>\n",
       "      <td>t_23</td>\n",
       "      <td>depressive disorder, symptoms depression, ve c...</td>\n",
       "    </tr>\n",
       "    <tr>\n",
       "      <th>23</th>\n",
       "      <td>t_24</td>\n",
       "      <td>don think depressed, weeks felt anxious, worri...</td>\n",
       "    </tr>\n",
       "    <tr>\n",
       "      <th>24</th>\n",
       "      <td>t_25</td>\n",
       "      <td>weeks depression, suffering depression, depres...</td>\n",
       "    </tr>\n",
       "    <tr>\n",
       "      <th>25</th>\n",
       "      <td>t_26</td>\n",
       "      <td>weeks feeling depressed, feeling depressed, we...</td>\n",
       "    </tr>\n",
       "    <tr>\n",
       "      <th>26</th>\n",
       "      <td>t_27</td>\n",
       "      <td>issues covid, covid, virus, result covid, covi...</td>\n",
       "    </tr>\n",
       "    <tr>\n",
       "      <th>27</th>\n",
       "      <td>t_28</td>\n",
       "      <td>depressed couple weeks, believe depressed, bel...</td>\n",
       "    </tr>\n",
       "    <tr>\n",
       "      <th>28</th>\n",
       "      <td>t_29</td>\n",
       "      <td>depressed lately, mental health depressed, fam...</td>\n",
       "    </tr>\n",
       "    <tr>\n",
       "      <th>29</th>\n",
       "      <td>t_30</td>\n",
       "      <td>depression, depression feeling, clinical depre...</td>\n",
       "    </tr>\n",
       "  </tbody>\n",
       "</table>\n",
       "</div>"
      ],
      "text/plain": [
       "   Topic                                          Top Terms\n",
       "0    t_1  depressed past weeks, weeks depressed, depress...\n",
       "1    t_2  yes depressed, yes depressed weeks, yes depres...\n",
       "2    t_3  haven felt depressed, haven depressed, depress...\n",
       "3    t_4  depressed past weeks, depressed weeks, depress...\n",
       "4    t_5  feeling depressed, feel sad depressed, sadness...\n",
       "5    t_6  feeling depressed, extremely depressed, depres...\n",
       "6    t_7  depressed weeks, weeks depressed, depression, ...\n",
       "7    t_8  depressed lockdown, feel depressed, depression...\n",
       "8    t_9  low anxious, mood fluctuating, low mood days, ...\n",
       "9   t_10  depression anxiety, depression feeling, depres...\n",
       "10  t_11  lacking motivation, depression, lack motivatio...\n",
       "11  t_12  yes depressed weeks, strongly depressed, think...\n",
       "12  t_13  wouldnt say depressed, wouldn say depressed, d...\n",
       "13  t_14  life feels pointless, feel unmotivated, felt d...\n",
       "14  t_15  wouldn say depressed, haven depressed, think f...\n",
       "15  t_16  yes depressed, haven depressed, yes depressed ...\n",
       "16  t_17  depressed financial, financial situation, fina...\n",
       "17  t_18  worried losing job, depressed constantly, mode...\n",
       "18  t_19  having covid, health covid, depression, severe...\n",
       "19  t_20  depression, low mood lack, strongly depressed,...\n",
       "20  t_21  yes depressed, yes depressed past, ve depresse...\n",
       "21  t_22  depressed couple weeks, don think depressed, f...\n",
       "22  t_23  depressive disorder, symptoms depression, ve c...\n",
       "23  t_24  don think depressed, weeks felt anxious, worri...\n",
       "24  t_25  weeks depression, suffering depression, depres...\n",
       "25  t_26  weeks feeling depressed, feeling depressed, we...\n",
       "26  t_27  issues covid, covid, virus, result covid, covi...\n",
       "27  t_28  depressed couple weeks, believe depressed, bel...\n",
       "28  t_29  depressed lately, mental health depressed, fam...\n",
       "29  t_30  depression, depression feeling, clinical depre..."
      ]
     },
     "execution_count": 15,
     "metadata": {},
     "output_type": "execute_result"
    }
   ],
   "source": [
    "df"
   ]
  },
  {
   "cell_type": "code",
   "execution_count": 4,
   "metadata": {},
   "outputs": [
    {
     "data": {
      "application/vnd.plotly.v1+json": {
       "config": {
        "plotlyServerURL": "https://plot.ly"
       },
       "data": [
        {
         "customdata": [
          [
           0,
           "depressed past weeks | weeks depressed | depressed weeks | haven depressed | depressed weeks felt",
           104
          ],
          [
           1,
           "yes depressed | yes depressed weeks | yes depressed past | depressed past weeks | ve depressed",
           35
          ],
          [
           2,
           "haven felt depressed | haven depressed | depressed depressed | felt depressed | depression",
           31
          ],
          [
           3,
           "depressed past weeks | depressed weeks | depressed | symptoms | depressed past",
           25
          ],
          [
           4,
           "feeling depressed | feel sad depressed | sadness depression | feel depressed think | depressed weeks",
           24
          ],
          [
           5,
           "feeling depressed | extremely depressed | depression | depressed weeks | depressed",
           22
          ],
          [
           6,
           "depressed weeks | weeks depressed | depression | depressed | motivation lack",
           21
          ],
          [
           7,
           "depressed lockdown | feel depressed | depression | depressed | feel depressed think",
           19
          ],
          [
           8,
           "low anxious | mood fluctuating | low mood days | anxious depressed | low mood",
           19
          ],
          [
           9,
           "depression anxiety | depression feeling | depression | ve depressed | suffered depression",
           17
          ],
          [
           10,
           "lacking motivation | depression | lack motivation | unmotivated | feel energised",
           16
          ],
          [
           11,
           "yes depressed weeks | strongly depressed | think felt depressed | depressed year | depress",
           16
          ],
          [
           12,
           "wouldnt say depressed | wouldn say depressed | depressed depressed | depressed easily | depressed easily cause",
           15
          ],
          [
           13,
           "life feels pointless | feel unmotivated | felt depressed | feel bored | life feeling",
           14
          ],
          [
           14,
           "wouldn say depressed | haven depressed | think felt depressed | yes say depressed | feel like depressed",
           14
          ],
          [
           15,
           "yes depressed | haven depressed | yes depressed past | depressed recently | depressed definitely",
           13
          ],
          [
           16,
           "depressed financial | financial situation | financial status | ve really depressed | having financial",
           13
          ],
          [
           17,
           "worried losing job | depressed constantly | moderately depressed | depressed weeks fact | depressed worried",
           12
          ],
          [
           18,
           "having covid | health covid | depression | severely depressed | mental health overall",
           11
          ],
          [
           19,
           "depression | low mood lack | strongly depressed | mood lack sleep | strength depression",
           10
          ],
          [
           20,
           "yes depressed | yes depressed past | ve depressed just | depressed lately | depressed quite",
           10
          ],
          [
           21,
           "depressed couple weeks | don think depressed | feel depressed weeks | weeks felt depressed | depressed weeks days",
           8
          ],
          [
           22,
           "depressive disorder | symptoms depression | ve clinically depressed | clinically depressed | symptoms anxiety",
           7
          ],
          [
           23,
           "don think depressed | weeks felt anxious | worried depressed | depression caused | severely depressed",
           7
          ],
          [
           24,
           "weeks depression | suffering depression | depression weeks | depressed past week | felt slightly depressed",
           7
          ],
          [
           25,
           "weeks feeling depressed | feeling depressed | weeks felt depressed | depressed badly | depressed week",
           7
          ],
          [
           26,
           "issues covid | covid | virus | result covid | covid people",
           6
          ],
          [
           27,
           "depressed couple weeks | believe depressed | believe depressed weeks | depressed weather | depressed",
           5
          ],
          [
           28,
           "depressed lately | mental health depressed | family anxiety | depression | ve depressed",
           5
          ],
          [
           29,
           "depression | depression feeling | clinical depression | depression depression | depressed past",
           5
          ]
         ],
         "hovertemplate": "<b>Topic %{customdata[0]}</b><br>%{customdata[1]}<br>Size: %{customdata[2]}",
         "legendgroup": "",
         "marker": {
          "color": "#B0BEC5",
          "line": {
           "color": "DarkSlateGrey",
           "width": 2
          },
          "size": [
           104,
           35,
           31,
           25,
           24,
           22,
           21,
           19,
           19,
           17,
           16,
           16,
           15,
           14,
           14,
           13,
           13,
           12,
           11,
           10,
           10,
           8,
           7,
           7,
           7,
           7,
           6,
           5,
           5,
           5
          ],
          "sizemode": "area",
          "sizeref": 0.065,
          "symbol": "circle"
         },
         "mode": "markers",
         "name": "",
         "orientation": "v",
         "showlegend": false,
         "type": "scatter",
         "x": [
          9.052781105041504,
          4.152209281921387,
          -8.79132080078125,
          10.154173851013184,
          18.739946365356445,
          17.008743286132812,
          18.803808212280273,
          17.84566307067871,
          9.826422691345215,
          9.86942195892334,
          18.534088134765625,
          17.72283935546875,
          -9.005528450012207,
          16.917591094970703,
          -8.671679496765137,
          4.531655788421631,
          18.26902961730957,
          -1.5193778276443481,
          18.955917358398438,
          9.632848739624023,
          4.814682960510254,
          9.14306640625,
          9.510065078735352,
          -1.5021007061004639,
          9.623453140258789,
          10.313103675842285,
          18.943796157836914,
          4.498668670654297,
          16.248416900634766,
          16.4420166015625
         ],
         "xaxis": "x",
         "y": [
          7.482586860656738,
          10.794845581054688,
          -5.683730125427246,
          6.874035835266113,
          5.917180061340332,
          6.585353851318359,
          6.132827281951904,
          4.682248592376709,
          7.172438621520996,
          6.177865982055664,
          5.836215496063232,
          4.544188022613525,
          -5.4694623947143555,
          6.31669807434082,
          -5.803335189819336,
          11.179214477539062,
          5.907592296600342,
          16.042129516601562,
          4.642754077911377,
          6.320425987243652,
          11.460939407348633,
          7.438800811767578,
          6.092914581298828,
          16.027482986450195,
          7.327871799468994,
          6.7794084548950195,
          4.443422794342041,
          11.145877838134766,
          6.425124168395996,
          6.5739641189575195
         ],
         "yaxis": "y"
        }
       ],
       "layout": {
        "annotations": [
         {
          "showarrow": false,
          "text": "D1",
          "x": -10.356357717514038,
          "y": 5.887306737899781,
          "yshift": 10
         },
         {
          "showarrow": false,
          "text": "D2",
          "x": 5.721473622322082,
          "xshift": 10,
          "y": 18.448448944091798
         }
        ],
        "height": 650,
        "hoverlabel": {
         "bgcolor": "white",
         "font": {
          "family": "Rockwell",
          "size": 16
         }
        },
        "legend": {
         "itemsizing": "constant",
         "tracegroupgap": 0
        },
        "margin": {
         "t": 60
        },
        "shapes": [
         {
          "line": {
           "color": "#CFD8DC",
           "width": 2
          },
          "type": "line",
          "x0": 5.721473622322082,
          "x1": 5.721473622322082,
          "y0": -6.6738354682922365,
          "y1": 18.448448944091798
         },
         {
          "line": {
           "color": "#9E9E9E",
           "width": 2
          },
          "type": "line",
          "x0": -10.356357717514038,
          "x1": 21.799304962158203,
          "y0": 5.887306737899781,
          "y1": 5.887306737899781
         }
        ],
        "sliders": [
         {
          "active": 0,
          "pad": {
           "t": 50
          },
          "steps": [
           {
            "args": [
             {
              "marker.color": [
               [
                "red",
                "#B0BEC5",
                "#B0BEC5",
                "#B0BEC5",
                "#B0BEC5",
                "#B0BEC5",
                "#B0BEC5",
                "#B0BEC5",
                "#B0BEC5",
                "#B0BEC5",
                "#B0BEC5",
                "#B0BEC5",
                "#B0BEC5",
                "#B0BEC5",
                "#B0BEC5",
                "#B0BEC5",
                "#B0BEC5",
                "#B0BEC5",
                "#B0BEC5",
                "#B0BEC5",
                "#B0BEC5",
                "#B0BEC5",
                "#B0BEC5",
                "#B0BEC5",
                "#B0BEC5",
                "#B0BEC5",
                "#B0BEC5",
                "#B0BEC5",
                "#B0BEC5",
                "#B0BEC5"
               ]
              ]
             }
            ],
            "label": "Topic 0",
            "method": "update"
           },
           {
            "args": [
             {
              "marker.color": [
               [
                "#B0BEC5",
                "red",
                "#B0BEC5",
                "#B0BEC5",
                "#B0BEC5",
                "#B0BEC5",
                "#B0BEC5",
                "#B0BEC5",
                "#B0BEC5",
                "#B0BEC5",
                "#B0BEC5",
                "#B0BEC5",
                "#B0BEC5",
                "#B0BEC5",
                "#B0BEC5",
                "#B0BEC5",
                "#B0BEC5",
                "#B0BEC5",
                "#B0BEC5",
                "#B0BEC5",
                "#B0BEC5",
                "#B0BEC5",
                "#B0BEC5",
                "#B0BEC5",
                "#B0BEC5",
                "#B0BEC5",
                "#B0BEC5",
                "#B0BEC5",
                "#B0BEC5",
                "#B0BEC5"
               ]
              ]
             }
            ],
            "label": "Topic 1",
            "method": "update"
           },
           {
            "args": [
             {
              "marker.color": [
               [
                "#B0BEC5",
                "#B0BEC5",
                "red",
                "#B0BEC5",
                "#B0BEC5",
                "#B0BEC5",
                "#B0BEC5",
                "#B0BEC5",
                "#B0BEC5",
                "#B0BEC5",
                "#B0BEC5",
                "#B0BEC5",
                "#B0BEC5",
                "#B0BEC5",
                "#B0BEC5",
                "#B0BEC5",
                "#B0BEC5",
                "#B0BEC5",
                "#B0BEC5",
                "#B0BEC5",
                "#B0BEC5",
                "#B0BEC5",
                "#B0BEC5",
                "#B0BEC5",
                "#B0BEC5",
                "#B0BEC5",
                "#B0BEC5",
                "#B0BEC5",
                "#B0BEC5",
                "#B0BEC5"
               ]
              ]
             }
            ],
            "label": "Topic 2",
            "method": "update"
           },
           {
            "args": [
             {
              "marker.color": [
               [
                "#B0BEC5",
                "#B0BEC5",
                "#B0BEC5",
                "red",
                "#B0BEC5",
                "#B0BEC5",
                "#B0BEC5",
                "#B0BEC5",
                "#B0BEC5",
                "#B0BEC5",
                "#B0BEC5",
                "#B0BEC5",
                "#B0BEC5",
                "#B0BEC5",
                "#B0BEC5",
                "#B0BEC5",
                "#B0BEC5",
                "#B0BEC5",
                "#B0BEC5",
                "#B0BEC5",
                "#B0BEC5",
                "#B0BEC5",
                "#B0BEC5",
                "#B0BEC5",
                "#B0BEC5",
                "#B0BEC5",
                "#B0BEC5",
                "#B0BEC5",
                "#B0BEC5",
                "#B0BEC5"
               ]
              ]
             }
            ],
            "label": "Topic 3",
            "method": "update"
           },
           {
            "args": [
             {
              "marker.color": [
               [
                "#B0BEC5",
                "#B0BEC5",
                "#B0BEC5",
                "#B0BEC5",
                "red",
                "#B0BEC5",
                "#B0BEC5",
                "#B0BEC5",
                "#B0BEC5",
                "#B0BEC5",
                "#B0BEC5",
                "#B0BEC5",
                "#B0BEC5",
                "#B0BEC5",
                "#B0BEC5",
                "#B0BEC5",
                "#B0BEC5",
                "#B0BEC5",
                "#B0BEC5",
                "#B0BEC5",
                "#B0BEC5",
                "#B0BEC5",
                "#B0BEC5",
                "#B0BEC5",
                "#B0BEC5",
                "#B0BEC5",
                "#B0BEC5",
                "#B0BEC5",
                "#B0BEC5",
                "#B0BEC5"
               ]
              ]
             }
            ],
            "label": "Topic 4",
            "method": "update"
           },
           {
            "args": [
             {
              "marker.color": [
               [
                "#B0BEC5",
                "#B0BEC5",
                "#B0BEC5",
                "#B0BEC5",
                "#B0BEC5",
                "red",
                "#B0BEC5",
                "#B0BEC5",
                "#B0BEC5",
                "#B0BEC5",
                "#B0BEC5",
                "#B0BEC5",
                "#B0BEC5",
                "#B0BEC5",
                "#B0BEC5",
                "#B0BEC5",
                "#B0BEC5",
                "#B0BEC5",
                "#B0BEC5",
                "#B0BEC5",
                "#B0BEC5",
                "#B0BEC5",
                "#B0BEC5",
                "#B0BEC5",
                "#B0BEC5",
                "#B0BEC5",
                "#B0BEC5",
                "#B0BEC5",
                "#B0BEC5",
                "#B0BEC5"
               ]
              ]
             }
            ],
            "label": "Topic 5",
            "method": "update"
           },
           {
            "args": [
             {
              "marker.color": [
               [
                "#B0BEC5",
                "#B0BEC5",
                "#B0BEC5",
                "#B0BEC5",
                "#B0BEC5",
                "#B0BEC5",
                "red",
                "#B0BEC5",
                "#B0BEC5",
                "#B0BEC5",
                "#B0BEC5",
                "#B0BEC5",
                "#B0BEC5",
                "#B0BEC5",
                "#B0BEC5",
                "#B0BEC5",
                "#B0BEC5",
                "#B0BEC5",
                "#B0BEC5",
                "#B0BEC5",
                "#B0BEC5",
                "#B0BEC5",
                "#B0BEC5",
                "#B0BEC5",
                "#B0BEC5",
                "#B0BEC5",
                "#B0BEC5",
                "#B0BEC5",
                "#B0BEC5",
                "#B0BEC5"
               ]
              ]
             }
            ],
            "label": "Topic 6",
            "method": "update"
           },
           {
            "args": [
             {
              "marker.color": [
               [
                "#B0BEC5",
                "#B0BEC5",
                "#B0BEC5",
                "#B0BEC5",
                "#B0BEC5",
                "#B0BEC5",
                "#B0BEC5",
                "red",
                "#B0BEC5",
                "#B0BEC5",
                "#B0BEC5",
                "#B0BEC5",
                "#B0BEC5",
                "#B0BEC5",
                "#B0BEC5",
                "#B0BEC5",
                "#B0BEC5",
                "#B0BEC5",
                "#B0BEC5",
                "#B0BEC5",
                "#B0BEC5",
                "#B0BEC5",
                "#B0BEC5",
                "#B0BEC5",
                "#B0BEC5",
                "#B0BEC5",
                "#B0BEC5",
                "#B0BEC5",
                "#B0BEC5",
                "#B0BEC5"
               ]
              ]
             }
            ],
            "label": "Topic 7",
            "method": "update"
           },
           {
            "args": [
             {
              "marker.color": [
               [
                "#B0BEC5",
                "#B0BEC5",
                "#B0BEC5",
                "#B0BEC5",
                "#B0BEC5",
                "#B0BEC5",
                "#B0BEC5",
                "#B0BEC5",
                "red",
                "#B0BEC5",
                "#B0BEC5",
                "#B0BEC5",
                "#B0BEC5",
                "#B0BEC5",
                "#B0BEC5",
                "#B0BEC5",
                "#B0BEC5",
                "#B0BEC5",
                "#B0BEC5",
                "#B0BEC5",
                "#B0BEC5",
                "#B0BEC5",
                "#B0BEC5",
                "#B0BEC5",
                "#B0BEC5",
                "#B0BEC5",
                "#B0BEC5",
                "#B0BEC5",
                "#B0BEC5",
                "#B0BEC5"
               ]
              ]
             }
            ],
            "label": "Topic 8",
            "method": "update"
           },
           {
            "args": [
             {
              "marker.color": [
               [
                "#B0BEC5",
                "#B0BEC5",
                "#B0BEC5",
                "#B0BEC5",
                "#B0BEC5",
                "#B0BEC5",
                "#B0BEC5",
                "#B0BEC5",
                "#B0BEC5",
                "red",
                "#B0BEC5",
                "#B0BEC5",
                "#B0BEC5",
                "#B0BEC5",
                "#B0BEC5",
                "#B0BEC5",
                "#B0BEC5",
                "#B0BEC5",
                "#B0BEC5",
                "#B0BEC5",
                "#B0BEC5",
                "#B0BEC5",
                "#B0BEC5",
                "#B0BEC5",
                "#B0BEC5",
                "#B0BEC5",
                "#B0BEC5",
                "#B0BEC5",
                "#B0BEC5",
                "#B0BEC5"
               ]
              ]
             }
            ],
            "label": "Topic 9",
            "method": "update"
           },
           {
            "args": [
             {
              "marker.color": [
               [
                "#B0BEC5",
                "#B0BEC5",
                "#B0BEC5",
                "#B0BEC5",
                "#B0BEC5",
                "#B0BEC5",
                "#B0BEC5",
                "#B0BEC5",
                "#B0BEC5",
                "#B0BEC5",
                "red",
                "#B0BEC5",
                "#B0BEC5",
                "#B0BEC5",
                "#B0BEC5",
                "#B0BEC5",
                "#B0BEC5",
                "#B0BEC5",
                "#B0BEC5",
                "#B0BEC5",
                "#B0BEC5",
                "#B0BEC5",
                "#B0BEC5",
                "#B0BEC5",
                "#B0BEC5",
                "#B0BEC5",
                "#B0BEC5",
                "#B0BEC5",
                "#B0BEC5",
                "#B0BEC5"
               ]
              ]
             }
            ],
            "label": "Topic 10",
            "method": "update"
           },
           {
            "args": [
             {
              "marker.color": [
               [
                "#B0BEC5",
                "#B0BEC5",
                "#B0BEC5",
                "#B0BEC5",
                "#B0BEC5",
                "#B0BEC5",
                "#B0BEC5",
                "#B0BEC5",
                "#B0BEC5",
                "#B0BEC5",
                "#B0BEC5",
                "red",
                "#B0BEC5",
                "#B0BEC5",
                "#B0BEC5",
                "#B0BEC5",
                "#B0BEC5",
                "#B0BEC5",
                "#B0BEC5",
                "#B0BEC5",
                "#B0BEC5",
                "#B0BEC5",
                "#B0BEC5",
                "#B0BEC5",
                "#B0BEC5",
                "#B0BEC5",
                "#B0BEC5",
                "#B0BEC5",
                "#B0BEC5",
                "#B0BEC5"
               ]
              ]
             }
            ],
            "label": "Topic 11",
            "method": "update"
           },
           {
            "args": [
             {
              "marker.color": [
               [
                "#B0BEC5",
                "#B0BEC5",
                "#B0BEC5",
                "#B0BEC5",
                "#B0BEC5",
                "#B0BEC5",
                "#B0BEC5",
                "#B0BEC5",
                "#B0BEC5",
                "#B0BEC5",
                "#B0BEC5",
                "#B0BEC5",
                "red",
                "#B0BEC5",
                "#B0BEC5",
                "#B0BEC5",
                "#B0BEC5",
                "#B0BEC5",
                "#B0BEC5",
                "#B0BEC5",
                "#B0BEC5",
                "#B0BEC5",
                "#B0BEC5",
                "#B0BEC5",
                "#B0BEC5",
                "#B0BEC5",
                "#B0BEC5",
                "#B0BEC5",
                "#B0BEC5",
                "#B0BEC5"
               ]
              ]
             }
            ],
            "label": "Topic 12",
            "method": "update"
           },
           {
            "args": [
             {
              "marker.color": [
               [
                "#B0BEC5",
                "#B0BEC5",
                "#B0BEC5",
                "#B0BEC5",
                "#B0BEC5",
                "#B0BEC5",
                "#B0BEC5",
                "#B0BEC5",
                "#B0BEC5",
                "#B0BEC5",
                "#B0BEC5",
                "#B0BEC5",
                "#B0BEC5",
                "red",
                "#B0BEC5",
                "#B0BEC5",
                "#B0BEC5",
                "#B0BEC5",
                "#B0BEC5",
                "#B0BEC5",
                "#B0BEC5",
                "#B0BEC5",
                "#B0BEC5",
                "#B0BEC5",
                "#B0BEC5",
                "#B0BEC5",
                "#B0BEC5",
                "#B0BEC5",
                "#B0BEC5",
                "#B0BEC5"
               ]
              ]
             }
            ],
            "label": "Topic 13",
            "method": "update"
           },
           {
            "args": [
             {
              "marker.color": [
               [
                "#B0BEC5",
                "#B0BEC5",
                "#B0BEC5",
                "#B0BEC5",
                "#B0BEC5",
                "#B0BEC5",
                "#B0BEC5",
                "#B0BEC5",
                "#B0BEC5",
                "#B0BEC5",
                "#B0BEC5",
                "#B0BEC5",
                "#B0BEC5",
                "#B0BEC5",
                "red",
                "#B0BEC5",
                "#B0BEC5",
                "#B0BEC5",
                "#B0BEC5",
                "#B0BEC5",
                "#B0BEC5",
                "#B0BEC5",
                "#B0BEC5",
                "#B0BEC5",
                "#B0BEC5",
                "#B0BEC5",
                "#B0BEC5",
                "#B0BEC5",
                "#B0BEC5",
                "#B0BEC5"
               ]
              ]
             }
            ],
            "label": "Topic 14",
            "method": "update"
           },
           {
            "args": [
             {
              "marker.color": [
               [
                "#B0BEC5",
                "#B0BEC5",
                "#B0BEC5",
                "#B0BEC5",
                "#B0BEC5",
                "#B0BEC5",
                "#B0BEC5",
                "#B0BEC5",
                "#B0BEC5",
                "#B0BEC5",
                "#B0BEC5",
                "#B0BEC5",
                "#B0BEC5",
                "#B0BEC5",
                "#B0BEC5",
                "red",
                "#B0BEC5",
                "#B0BEC5",
                "#B0BEC5",
                "#B0BEC5",
                "#B0BEC5",
                "#B0BEC5",
                "#B0BEC5",
                "#B0BEC5",
                "#B0BEC5",
                "#B0BEC5",
                "#B0BEC5",
                "#B0BEC5",
                "#B0BEC5",
                "#B0BEC5"
               ]
              ]
             }
            ],
            "label": "Topic 15",
            "method": "update"
           },
           {
            "args": [
             {
              "marker.color": [
               [
                "#B0BEC5",
                "#B0BEC5",
                "#B0BEC5",
                "#B0BEC5",
                "#B0BEC5",
                "#B0BEC5",
                "#B0BEC5",
                "#B0BEC5",
                "#B0BEC5",
                "#B0BEC5",
                "#B0BEC5",
                "#B0BEC5",
                "#B0BEC5",
                "#B0BEC5",
                "#B0BEC5",
                "#B0BEC5",
                "red",
                "#B0BEC5",
                "#B0BEC5",
                "#B0BEC5",
                "#B0BEC5",
                "#B0BEC5",
                "#B0BEC5",
                "#B0BEC5",
                "#B0BEC5",
                "#B0BEC5",
                "#B0BEC5",
                "#B0BEC5",
                "#B0BEC5",
                "#B0BEC5"
               ]
              ]
             }
            ],
            "label": "Topic 16",
            "method": "update"
           },
           {
            "args": [
             {
              "marker.color": [
               [
                "#B0BEC5",
                "#B0BEC5",
                "#B0BEC5",
                "#B0BEC5",
                "#B0BEC5",
                "#B0BEC5",
                "#B0BEC5",
                "#B0BEC5",
                "#B0BEC5",
                "#B0BEC5",
                "#B0BEC5",
                "#B0BEC5",
                "#B0BEC5",
                "#B0BEC5",
                "#B0BEC5",
                "#B0BEC5",
                "#B0BEC5",
                "red",
                "#B0BEC5",
                "#B0BEC5",
                "#B0BEC5",
                "#B0BEC5",
                "#B0BEC5",
                "#B0BEC5",
                "#B0BEC5",
                "#B0BEC5",
                "#B0BEC5",
                "#B0BEC5",
                "#B0BEC5",
                "#B0BEC5"
               ]
              ]
             }
            ],
            "label": "Topic 17",
            "method": "update"
           },
           {
            "args": [
             {
              "marker.color": [
               [
                "#B0BEC5",
                "#B0BEC5",
                "#B0BEC5",
                "#B0BEC5",
                "#B0BEC5",
                "#B0BEC5",
                "#B0BEC5",
                "#B0BEC5",
                "#B0BEC5",
                "#B0BEC5",
                "#B0BEC5",
                "#B0BEC5",
                "#B0BEC5",
                "#B0BEC5",
                "#B0BEC5",
                "#B0BEC5",
                "#B0BEC5",
                "#B0BEC5",
                "red",
                "#B0BEC5",
                "#B0BEC5",
                "#B0BEC5",
                "#B0BEC5",
                "#B0BEC5",
                "#B0BEC5",
                "#B0BEC5",
                "#B0BEC5",
                "#B0BEC5",
                "#B0BEC5",
                "#B0BEC5"
               ]
              ]
             }
            ],
            "label": "Topic 18",
            "method": "update"
           },
           {
            "args": [
             {
              "marker.color": [
               [
                "#B0BEC5",
                "#B0BEC5",
                "#B0BEC5",
                "#B0BEC5",
                "#B0BEC5",
                "#B0BEC5",
                "#B0BEC5",
                "#B0BEC5",
                "#B0BEC5",
                "#B0BEC5",
                "#B0BEC5",
                "#B0BEC5",
                "#B0BEC5",
                "#B0BEC5",
                "#B0BEC5",
                "#B0BEC5",
                "#B0BEC5",
                "#B0BEC5",
                "#B0BEC5",
                "red",
                "#B0BEC5",
                "#B0BEC5",
                "#B0BEC5",
                "#B0BEC5",
                "#B0BEC5",
                "#B0BEC5",
                "#B0BEC5",
                "#B0BEC5",
                "#B0BEC5",
                "#B0BEC5"
               ]
              ]
             }
            ],
            "label": "Topic 19",
            "method": "update"
           },
           {
            "args": [
             {
              "marker.color": [
               [
                "#B0BEC5",
                "#B0BEC5",
                "#B0BEC5",
                "#B0BEC5",
                "#B0BEC5",
                "#B0BEC5",
                "#B0BEC5",
                "#B0BEC5",
                "#B0BEC5",
                "#B0BEC5",
                "#B0BEC5",
                "#B0BEC5",
                "#B0BEC5",
                "#B0BEC5",
                "#B0BEC5",
                "#B0BEC5",
                "#B0BEC5",
                "#B0BEC5",
                "#B0BEC5",
                "#B0BEC5",
                "red",
                "#B0BEC5",
                "#B0BEC5",
                "#B0BEC5",
                "#B0BEC5",
                "#B0BEC5",
                "#B0BEC5",
                "#B0BEC5",
                "#B0BEC5",
                "#B0BEC5"
               ]
              ]
             }
            ],
            "label": "Topic 20",
            "method": "update"
           },
           {
            "args": [
             {
              "marker.color": [
               [
                "#B0BEC5",
                "#B0BEC5",
                "#B0BEC5",
                "#B0BEC5",
                "#B0BEC5",
                "#B0BEC5",
                "#B0BEC5",
                "#B0BEC5",
                "#B0BEC5",
                "#B0BEC5",
                "#B0BEC5",
                "#B0BEC5",
                "#B0BEC5",
                "#B0BEC5",
                "#B0BEC5",
                "#B0BEC5",
                "#B0BEC5",
                "#B0BEC5",
                "#B0BEC5",
                "#B0BEC5",
                "#B0BEC5",
                "red",
                "#B0BEC5",
                "#B0BEC5",
                "#B0BEC5",
                "#B0BEC5",
                "#B0BEC5",
                "#B0BEC5",
                "#B0BEC5",
                "#B0BEC5"
               ]
              ]
             }
            ],
            "label": "Topic 21",
            "method": "update"
           },
           {
            "args": [
             {
              "marker.color": [
               [
                "#B0BEC5",
                "#B0BEC5",
                "#B0BEC5",
                "#B0BEC5",
                "#B0BEC5",
                "#B0BEC5",
                "#B0BEC5",
                "#B0BEC5",
                "#B0BEC5",
                "#B0BEC5",
                "#B0BEC5",
                "#B0BEC5",
                "#B0BEC5",
                "#B0BEC5",
                "#B0BEC5",
                "#B0BEC5",
                "#B0BEC5",
                "#B0BEC5",
                "#B0BEC5",
                "#B0BEC5",
                "#B0BEC5",
                "#B0BEC5",
                "red",
                "#B0BEC5",
                "#B0BEC5",
                "#B0BEC5",
                "#B0BEC5",
                "#B0BEC5",
                "#B0BEC5",
                "#B0BEC5"
               ]
              ]
             }
            ],
            "label": "Topic 22",
            "method": "update"
           },
           {
            "args": [
             {
              "marker.color": [
               [
                "#B0BEC5",
                "#B0BEC5",
                "#B0BEC5",
                "#B0BEC5",
                "#B0BEC5",
                "#B0BEC5",
                "#B0BEC5",
                "#B0BEC5",
                "#B0BEC5",
                "#B0BEC5",
                "#B0BEC5",
                "#B0BEC5",
                "#B0BEC5",
                "#B0BEC5",
                "#B0BEC5",
                "#B0BEC5",
                "#B0BEC5",
                "#B0BEC5",
                "#B0BEC5",
                "#B0BEC5",
                "#B0BEC5",
                "#B0BEC5",
                "#B0BEC5",
                "red",
                "#B0BEC5",
                "#B0BEC5",
                "#B0BEC5",
                "#B0BEC5",
                "#B0BEC5",
                "#B0BEC5"
               ]
              ]
             }
            ],
            "label": "Topic 23",
            "method": "update"
           },
           {
            "args": [
             {
              "marker.color": [
               [
                "#B0BEC5",
                "#B0BEC5",
                "#B0BEC5",
                "#B0BEC5",
                "#B0BEC5",
                "#B0BEC5",
                "#B0BEC5",
                "#B0BEC5",
                "#B0BEC5",
                "#B0BEC5",
                "#B0BEC5",
                "#B0BEC5",
                "#B0BEC5",
                "#B0BEC5",
                "#B0BEC5",
                "#B0BEC5",
                "#B0BEC5",
                "#B0BEC5",
                "#B0BEC5",
                "#B0BEC5",
                "#B0BEC5",
                "#B0BEC5",
                "#B0BEC5",
                "#B0BEC5",
                "red",
                "#B0BEC5",
                "#B0BEC5",
                "#B0BEC5",
                "#B0BEC5",
                "#B0BEC5"
               ]
              ]
             }
            ],
            "label": "Topic 24",
            "method": "update"
           },
           {
            "args": [
             {
              "marker.color": [
               [
                "#B0BEC5",
                "#B0BEC5",
                "#B0BEC5",
                "#B0BEC5",
                "#B0BEC5",
                "#B0BEC5",
                "#B0BEC5",
                "#B0BEC5",
                "#B0BEC5",
                "#B0BEC5",
                "#B0BEC5",
                "#B0BEC5",
                "#B0BEC5",
                "#B0BEC5",
                "#B0BEC5",
                "#B0BEC5",
                "#B0BEC5",
                "#B0BEC5",
                "#B0BEC5",
                "#B0BEC5",
                "#B0BEC5",
                "#B0BEC5",
                "#B0BEC5",
                "#B0BEC5",
                "#B0BEC5",
                "red",
                "#B0BEC5",
                "#B0BEC5",
                "#B0BEC5",
                "#B0BEC5"
               ]
              ]
             }
            ],
            "label": "Topic 25",
            "method": "update"
           },
           {
            "args": [
             {
              "marker.color": [
               [
                "#B0BEC5",
                "#B0BEC5",
                "#B0BEC5",
                "#B0BEC5",
                "#B0BEC5",
                "#B0BEC5",
                "#B0BEC5",
                "#B0BEC5",
                "#B0BEC5",
                "#B0BEC5",
                "#B0BEC5",
                "#B0BEC5",
                "#B0BEC5",
                "#B0BEC5",
                "#B0BEC5",
                "#B0BEC5",
                "#B0BEC5",
                "#B0BEC5",
                "#B0BEC5",
                "#B0BEC5",
                "#B0BEC5",
                "#B0BEC5",
                "#B0BEC5",
                "#B0BEC5",
                "#B0BEC5",
                "#B0BEC5",
                "red",
                "#B0BEC5",
                "#B0BEC5",
                "#B0BEC5"
               ]
              ]
             }
            ],
            "label": "Topic 26",
            "method": "update"
           },
           {
            "args": [
             {
              "marker.color": [
               [
                "#B0BEC5",
                "#B0BEC5",
                "#B0BEC5",
                "#B0BEC5",
                "#B0BEC5",
                "#B0BEC5",
                "#B0BEC5",
                "#B0BEC5",
                "#B0BEC5",
                "#B0BEC5",
                "#B0BEC5",
                "#B0BEC5",
                "#B0BEC5",
                "#B0BEC5",
                "#B0BEC5",
                "#B0BEC5",
                "#B0BEC5",
                "#B0BEC5",
                "#B0BEC5",
                "#B0BEC5",
                "#B0BEC5",
                "#B0BEC5",
                "#B0BEC5",
                "#B0BEC5",
                "#B0BEC5",
                "#B0BEC5",
                "#B0BEC5",
                "red",
                "#B0BEC5",
                "#B0BEC5"
               ]
              ]
             }
            ],
            "label": "Topic 27",
            "method": "update"
           },
           {
            "args": [
             {
              "marker.color": [
               [
                "#B0BEC5",
                "#B0BEC5",
                "#B0BEC5",
                "#B0BEC5",
                "#B0BEC5",
                "#B0BEC5",
                "#B0BEC5",
                "#B0BEC5",
                "#B0BEC5",
                "#B0BEC5",
                "#B0BEC5",
                "#B0BEC5",
                "#B0BEC5",
                "#B0BEC5",
                "#B0BEC5",
                "#B0BEC5",
                "#B0BEC5",
                "#B0BEC5",
                "#B0BEC5",
                "#B0BEC5",
                "#B0BEC5",
                "#B0BEC5",
                "#B0BEC5",
                "#B0BEC5",
                "#B0BEC5",
                "#B0BEC5",
                "#B0BEC5",
                "#B0BEC5",
                "red",
                "#B0BEC5"
               ]
              ]
             }
            ],
            "label": "Topic 28",
            "method": "update"
           },
           {
            "args": [
             {
              "marker.color": [
               [
                "#B0BEC5",
                "#B0BEC5",
                "#B0BEC5",
                "#B0BEC5",
                "#B0BEC5",
                "#B0BEC5",
                "#B0BEC5",
                "#B0BEC5",
                "#B0BEC5",
                "#B0BEC5",
                "#B0BEC5",
                "#B0BEC5",
                "#B0BEC5",
                "#B0BEC5",
                "#B0BEC5",
                "#B0BEC5",
                "#B0BEC5",
                "#B0BEC5",
                "#B0BEC5",
                "#B0BEC5",
                "#B0BEC5",
                "#B0BEC5",
                "#B0BEC5",
                "#B0BEC5",
                "#B0BEC5",
                "#B0BEC5",
                "#B0BEC5",
                "#B0BEC5",
                "#B0BEC5",
                "red"
               ]
              ]
             }
            ],
            "label": "Topic 29",
            "method": "update"
           }
          ]
         }
        ],
        "template": {
         "data": {
          "bar": [
           {
            "error_x": {
             "color": "rgb(36,36,36)"
            },
            "error_y": {
             "color": "rgb(36,36,36)"
            },
            "marker": {
             "line": {
              "color": "white",
              "width": 0.5
             },
             "pattern": {
              "fillmode": "overlay",
              "size": 10,
              "solidity": 0.2
             }
            },
            "type": "bar"
           }
          ],
          "barpolar": [
           {
            "marker": {
             "line": {
              "color": "white",
              "width": 0.5
             },
             "pattern": {
              "fillmode": "overlay",
              "size": 10,
              "solidity": 0.2
             }
            },
            "type": "barpolar"
           }
          ],
          "carpet": [
           {
            "aaxis": {
             "endlinecolor": "rgb(36,36,36)",
             "gridcolor": "white",
             "linecolor": "white",
             "minorgridcolor": "white",
             "startlinecolor": "rgb(36,36,36)"
            },
            "baxis": {
             "endlinecolor": "rgb(36,36,36)",
             "gridcolor": "white",
             "linecolor": "white",
             "minorgridcolor": "white",
             "startlinecolor": "rgb(36,36,36)"
            },
            "type": "carpet"
           }
          ],
          "choropleth": [
           {
            "colorbar": {
             "outlinewidth": 1,
             "tickcolor": "rgb(36,36,36)",
             "ticks": "outside"
            },
            "type": "choropleth"
           }
          ],
          "contour": [
           {
            "colorbar": {
             "outlinewidth": 1,
             "tickcolor": "rgb(36,36,36)",
             "ticks": "outside"
            },
            "colorscale": [
             [
              0,
              "#440154"
             ],
             [
              0.1111111111111111,
              "#482878"
             ],
             [
              0.2222222222222222,
              "#3e4989"
             ],
             [
              0.3333333333333333,
              "#31688e"
             ],
             [
              0.4444444444444444,
              "#26828e"
             ],
             [
              0.5555555555555556,
              "#1f9e89"
             ],
             [
              0.6666666666666666,
              "#35b779"
             ],
             [
              0.7777777777777778,
              "#6ece58"
             ],
             [
              0.8888888888888888,
              "#b5de2b"
             ],
             [
              1,
              "#fde725"
             ]
            ],
            "type": "contour"
           }
          ],
          "contourcarpet": [
           {
            "colorbar": {
             "outlinewidth": 1,
             "tickcolor": "rgb(36,36,36)",
             "ticks": "outside"
            },
            "type": "contourcarpet"
           }
          ],
          "heatmap": [
           {
            "colorbar": {
             "outlinewidth": 1,
             "tickcolor": "rgb(36,36,36)",
             "ticks": "outside"
            },
            "colorscale": [
             [
              0,
              "#440154"
             ],
             [
              0.1111111111111111,
              "#482878"
             ],
             [
              0.2222222222222222,
              "#3e4989"
             ],
             [
              0.3333333333333333,
              "#31688e"
             ],
             [
              0.4444444444444444,
              "#26828e"
             ],
             [
              0.5555555555555556,
              "#1f9e89"
             ],
             [
              0.6666666666666666,
              "#35b779"
             ],
             [
              0.7777777777777778,
              "#6ece58"
             ],
             [
              0.8888888888888888,
              "#b5de2b"
             ],
             [
              1,
              "#fde725"
             ]
            ],
            "type": "heatmap"
           }
          ],
          "heatmapgl": [
           {
            "colorbar": {
             "outlinewidth": 1,
             "tickcolor": "rgb(36,36,36)",
             "ticks": "outside"
            },
            "colorscale": [
             [
              0,
              "#440154"
             ],
             [
              0.1111111111111111,
              "#482878"
             ],
             [
              0.2222222222222222,
              "#3e4989"
             ],
             [
              0.3333333333333333,
              "#31688e"
             ],
             [
              0.4444444444444444,
              "#26828e"
             ],
             [
              0.5555555555555556,
              "#1f9e89"
             ],
             [
              0.6666666666666666,
              "#35b779"
             ],
             [
              0.7777777777777778,
              "#6ece58"
             ],
             [
              0.8888888888888888,
              "#b5de2b"
             ],
             [
              1,
              "#fde725"
             ]
            ],
            "type": "heatmapgl"
           }
          ],
          "histogram": [
           {
            "marker": {
             "line": {
              "color": "white",
              "width": 0.6
             }
            },
            "type": "histogram"
           }
          ],
          "histogram2d": [
           {
            "colorbar": {
             "outlinewidth": 1,
             "tickcolor": "rgb(36,36,36)",
             "ticks": "outside"
            },
            "colorscale": [
             [
              0,
              "#440154"
             ],
             [
              0.1111111111111111,
              "#482878"
             ],
             [
              0.2222222222222222,
              "#3e4989"
             ],
             [
              0.3333333333333333,
              "#31688e"
             ],
             [
              0.4444444444444444,
              "#26828e"
             ],
             [
              0.5555555555555556,
              "#1f9e89"
             ],
             [
              0.6666666666666666,
              "#35b779"
             ],
             [
              0.7777777777777778,
              "#6ece58"
             ],
             [
              0.8888888888888888,
              "#b5de2b"
             ],
             [
              1,
              "#fde725"
             ]
            ],
            "type": "histogram2d"
           }
          ],
          "histogram2dcontour": [
           {
            "colorbar": {
             "outlinewidth": 1,
             "tickcolor": "rgb(36,36,36)",
             "ticks": "outside"
            },
            "colorscale": [
             [
              0,
              "#440154"
             ],
             [
              0.1111111111111111,
              "#482878"
             ],
             [
              0.2222222222222222,
              "#3e4989"
             ],
             [
              0.3333333333333333,
              "#31688e"
             ],
             [
              0.4444444444444444,
              "#26828e"
             ],
             [
              0.5555555555555556,
              "#1f9e89"
             ],
             [
              0.6666666666666666,
              "#35b779"
             ],
             [
              0.7777777777777778,
              "#6ece58"
             ],
             [
              0.8888888888888888,
              "#b5de2b"
             ],
             [
              1,
              "#fde725"
             ]
            ],
            "type": "histogram2dcontour"
           }
          ],
          "mesh3d": [
           {
            "colorbar": {
             "outlinewidth": 1,
             "tickcolor": "rgb(36,36,36)",
             "ticks": "outside"
            },
            "type": "mesh3d"
           }
          ],
          "parcoords": [
           {
            "line": {
             "colorbar": {
              "outlinewidth": 1,
              "tickcolor": "rgb(36,36,36)",
              "ticks": "outside"
             }
            },
            "type": "parcoords"
           }
          ],
          "pie": [
           {
            "automargin": true,
            "type": "pie"
           }
          ],
          "scatter": [
           {
            "fillpattern": {
             "fillmode": "overlay",
             "size": 10,
             "solidity": 0.2
            },
            "type": "scatter"
           }
          ],
          "scatter3d": [
           {
            "line": {
             "colorbar": {
              "outlinewidth": 1,
              "tickcolor": "rgb(36,36,36)",
              "ticks": "outside"
             }
            },
            "marker": {
             "colorbar": {
              "outlinewidth": 1,
              "tickcolor": "rgb(36,36,36)",
              "ticks": "outside"
             }
            },
            "type": "scatter3d"
           }
          ],
          "scattercarpet": [
           {
            "marker": {
             "colorbar": {
              "outlinewidth": 1,
              "tickcolor": "rgb(36,36,36)",
              "ticks": "outside"
             }
            },
            "type": "scattercarpet"
           }
          ],
          "scattergeo": [
           {
            "marker": {
             "colorbar": {
              "outlinewidth": 1,
              "tickcolor": "rgb(36,36,36)",
              "ticks": "outside"
             }
            },
            "type": "scattergeo"
           }
          ],
          "scattergl": [
           {
            "marker": {
             "colorbar": {
              "outlinewidth": 1,
              "tickcolor": "rgb(36,36,36)",
              "ticks": "outside"
             }
            },
            "type": "scattergl"
           }
          ],
          "scattermapbox": [
           {
            "marker": {
             "colorbar": {
              "outlinewidth": 1,
              "tickcolor": "rgb(36,36,36)",
              "ticks": "outside"
             }
            },
            "type": "scattermapbox"
           }
          ],
          "scatterpolar": [
           {
            "marker": {
             "colorbar": {
              "outlinewidth": 1,
              "tickcolor": "rgb(36,36,36)",
              "ticks": "outside"
             }
            },
            "type": "scatterpolar"
           }
          ],
          "scatterpolargl": [
           {
            "marker": {
             "colorbar": {
              "outlinewidth": 1,
              "tickcolor": "rgb(36,36,36)",
              "ticks": "outside"
             }
            },
            "type": "scatterpolargl"
           }
          ],
          "scatterternary": [
           {
            "marker": {
             "colorbar": {
              "outlinewidth": 1,
              "tickcolor": "rgb(36,36,36)",
              "ticks": "outside"
             }
            },
            "type": "scatterternary"
           }
          ],
          "surface": [
           {
            "colorbar": {
             "outlinewidth": 1,
             "tickcolor": "rgb(36,36,36)",
             "ticks": "outside"
            },
            "colorscale": [
             [
              0,
              "#440154"
             ],
             [
              0.1111111111111111,
              "#482878"
             ],
             [
              0.2222222222222222,
              "#3e4989"
             ],
             [
              0.3333333333333333,
              "#31688e"
             ],
             [
              0.4444444444444444,
              "#26828e"
             ],
             [
              0.5555555555555556,
              "#1f9e89"
             ],
             [
              0.6666666666666666,
              "#35b779"
             ],
             [
              0.7777777777777778,
              "#6ece58"
             ],
             [
              0.8888888888888888,
              "#b5de2b"
             ],
             [
              1,
              "#fde725"
             ]
            ],
            "type": "surface"
           }
          ],
          "table": [
           {
            "cells": {
             "fill": {
              "color": "rgb(237,237,237)"
             },
             "line": {
              "color": "white"
             }
            },
            "header": {
             "fill": {
              "color": "rgb(217,217,217)"
             },
             "line": {
              "color": "white"
             }
            },
            "type": "table"
           }
          ]
         },
         "layout": {
          "annotationdefaults": {
           "arrowhead": 0,
           "arrowwidth": 1
          },
          "autotypenumbers": "strict",
          "coloraxis": {
           "colorbar": {
            "outlinewidth": 1,
            "tickcolor": "rgb(36,36,36)",
            "ticks": "outside"
           }
          },
          "colorscale": {
           "diverging": [
            [
             0,
             "rgb(103,0,31)"
            ],
            [
             0.1,
             "rgb(178,24,43)"
            ],
            [
             0.2,
             "rgb(214,96,77)"
            ],
            [
             0.3,
             "rgb(244,165,130)"
            ],
            [
             0.4,
             "rgb(253,219,199)"
            ],
            [
             0.5,
             "rgb(247,247,247)"
            ],
            [
             0.6,
             "rgb(209,229,240)"
            ],
            [
             0.7,
             "rgb(146,197,222)"
            ],
            [
             0.8,
             "rgb(67,147,195)"
            ],
            [
             0.9,
             "rgb(33,102,172)"
            ],
            [
             1,
             "rgb(5,48,97)"
            ]
           ],
           "sequential": [
            [
             0,
             "#440154"
            ],
            [
             0.1111111111111111,
             "#482878"
            ],
            [
             0.2222222222222222,
             "#3e4989"
            ],
            [
             0.3333333333333333,
             "#31688e"
            ],
            [
             0.4444444444444444,
             "#26828e"
            ],
            [
             0.5555555555555556,
             "#1f9e89"
            ],
            [
             0.6666666666666666,
             "#35b779"
            ],
            [
             0.7777777777777778,
             "#6ece58"
            ],
            [
             0.8888888888888888,
             "#b5de2b"
            ],
            [
             1,
             "#fde725"
            ]
           ],
           "sequentialminus": [
            [
             0,
             "#440154"
            ],
            [
             0.1111111111111111,
             "#482878"
            ],
            [
             0.2222222222222222,
             "#3e4989"
            ],
            [
             0.3333333333333333,
             "#31688e"
            ],
            [
             0.4444444444444444,
             "#26828e"
            ],
            [
             0.5555555555555556,
             "#1f9e89"
            ],
            [
             0.6666666666666666,
             "#35b779"
            ],
            [
             0.7777777777777778,
             "#6ece58"
            ],
            [
             0.8888888888888888,
             "#b5de2b"
            ],
            [
             1,
             "#fde725"
            ]
           ]
          },
          "colorway": [
           "#1F77B4",
           "#FF7F0E",
           "#2CA02C",
           "#D62728",
           "#9467BD",
           "#8C564B",
           "#E377C2",
           "#7F7F7F",
           "#BCBD22",
           "#17BECF"
          ],
          "font": {
           "color": "rgb(36,36,36)"
          },
          "geo": {
           "bgcolor": "white",
           "lakecolor": "white",
           "landcolor": "white",
           "showlakes": true,
           "showland": true,
           "subunitcolor": "white"
          },
          "hoverlabel": {
           "align": "left"
          },
          "hovermode": "closest",
          "mapbox": {
           "style": "light"
          },
          "paper_bgcolor": "white",
          "plot_bgcolor": "white",
          "polar": {
           "angularaxis": {
            "gridcolor": "rgb(232,232,232)",
            "linecolor": "rgb(36,36,36)",
            "showgrid": false,
            "showline": true,
            "ticks": "outside"
           },
           "bgcolor": "white",
           "radialaxis": {
            "gridcolor": "rgb(232,232,232)",
            "linecolor": "rgb(36,36,36)",
            "showgrid": false,
            "showline": true,
            "ticks": "outside"
           }
          },
          "scene": {
           "xaxis": {
            "backgroundcolor": "white",
            "gridcolor": "rgb(232,232,232)",
            "gridwidth": 2,
            "linecolor": "rgb(36,36,36)",
            "showbackground": true,
            "showgrid": false,
            "showline": true,
            "ticks": "outside",
            "zeroline": false,
            "zerolinecolor": "rgb(36,36,36)"
           },
           "yaxis": {
            "backgroundcolor": "white",
            "gridcolor": "rgb(232,232,232)",
            "gridwidth": 2,
            "linecolor": "rgb(36,36,36)",
            "showbackground": true,
            "showgrid": false,
            "showline": true,
            "ticks": "outside",
            "zeroline": false,
            "zerolinecolor": "rgb(36,36,36)"
           },
           "zaxis": {
            "backgroundcolor": "white",
            "gridcolor": "rgb(232,232,232)",
            "gridwidth": 2,
            "linecolor": "rgb(36,36,36)",
            "showbackground": true,
            "showgrid": false,
            "showline": true,
            "ticks": "outside",
            "zeroline": false,
            "zerolinecolor": "rgb(36,36,36)"
           }
          },
          "shapedefaults": {
           "fillcolor": "black",
           "line": {
            "width": 0
           },
           "opacity": 0.3
          },
          "ternary": {
           "aaxis": {
            "gridcolor": "rgb(232,232,232)",
            "linecolor": "rgb(36,36,36)",
            "showgrid": false,
            "showline": true,
            "ticks": "outside"
           },
           "baxis": {
            "gridcolor": "rgb(232,232,232)",
            "linecolor": "rgb(36,36,36)",
            "showgrid": false,
            "showline": true,
            "ticks": "outside"
           },
           "bgcolor": "white",
           "caxis": {
            "gridcolor": "rgb(232,232,232)",
            "linecolor": "rgb(36,36,36)",
            "showgrid": false,
            "showline": true,
            "ticks": "outside"
           }
          },
          "title": {
           "x": 0.05
          },
          "xaxis": {
           "automargin": true,
           "gridcolor": "rgb(232,232,232)",
           "linecolor": "rgb(36,36,36)",
           "showgrid": false,
           "showline": true,
           "ticks": "outside",
           "title": {
            "standoff": 15
           },
           "zeroline": false,
           "zerolinecolor": "rgb(36,36,36)"
          },
          "yaxis": {
           "automargin": true,
           "gridcolor": "rgb(232,232,232)",
           "linecolor": "rgb(36,36,36)",
           "showgrid": false,
           "showline": true,
           "ticks": "outside",
           "title": {
            "standoff": 15
           },
           "zeroline": false,
           "zerolinecolor": "rgb(36,36,36)"
          }
         }
        },
        "title": {
         "font": {
          "color": "Black",
          "size": 22
         },
         "text": "<b>Intertopic Distance Map</b>",
         "x": 0.5,
         "xanchor": "center",
         "y": 0.95,
         "yanchor": "top"
        },
        "width": 650,
        "xaxis": {
         "anchor": "y",
         "domain": [
          0,
          1
         ],
         "range": [
          -10.356357717514038,
          21.799304962158203
         ],
         "title": {
          "text": ""
         },
         "visible": false
        },
        "yaxis": {
         "anchor": "x",
         "domain": [
          0,
          1
         ],
         "range": [
          -6.6738354682922365,
          18.448448944091798
         ],
         "title": {
          "text": ""
         },
         "visible": false
        }
       }
      }
     },
     "metadata": {},
     "output_type": "display_data"
    }
   ],
   "source": [
    "topic_model = BERTopic.load(\"./results/dep_text/distilroberta/my_model\")\n",
    "topic_model.visualize_topics()"
   ]
  },
  {
   "cell_type": "code",
   "execution_count": 5,
   "metadata": {},
   "outputs": [
    {
     "data": {
      "application/vnd.plotly.v1+json": {
       "config": {
        "plotlyServerURL": "https://plot.ly"
       },
       "data": [
        {
         "marker": {
          "color": "#D55E00"
         },
         "orientation": "h",
         "type": "bar",
         "x": [
          0.48354458808898926,
          0.49807268381118774,
          0.5094643831253052,
          0.5149644613265991,
          0.5346556305885315
         ],
         "xaxis": "x",
         "y": [
          "depressed weeks felt  ",
          "haven depressed  ",
          "depressed weeks  ",
          "weeks depressed  ",
          "depressed past weeks  "
         ],
         "yaxis": "y"
        },
        {
         "marker": {
          "color": "#0072B2"
         },
         "orientation": "h",
         "type": "bar",
         "x": [
          0.48655641078948975,
          0.503563404083252,
          0.5327376127243042,
          0.6372726559638977,
          0.6599288582801819
         ],
         "xaxis": "x2",
         "y": [
          "ve depressed  ",
          "depressed past weeks  ",
          "yes depressed past  ",
          "yes depressed weeks  ",
          "yes depressed  "
         ],
         "yaxis": "y2"
        },
        {
         "marker": {
          "color": "#CC79A7"
         },
         "orientation": "h",
         "type": "bar",
         "x": [
          0.49605268239974976,
          0.5155983567237854,
          0.5330013632774353,
          0.5643718242645264,
          0.6058250069618225
         ],
         "xaxis": "x3",
         "y": [
          "depression  ",
          "felt depressed  ",
          "depressed depressed  ",
          "haven depressed  ",
          "haven felt depressed  "
         ],
         "yaxis": "y3"
        },
        {
         "marker": {
          "color": "#E69F00"
         },
         "orientation": "h",
         "type": "bar",
         "x": [
          0.3441687524318695,
          0.35660862922668457,
          0.40986329317092896,
          0.5208516120910645,
          0.561987578868866
         ],
         "xaxis": "x4",
         "y": [
          "depressed past  ",
          "symptoms  ",
          "depressed  ",
          "depressed weeks  ",
          "depressed past weeks  "
         ],
         "yaxis": "y4"
        },
        {
         "marker": {
          "color": "#56B4E9"
         },
         "orientation": "h",
         "type": "bar",
         "x": [
          0.518319845199585,
          0.5200684666633606,
          0.5205786824226379,
          0.5255385637283325,
          0.5880887508392334
         ],
         "xaxis": "x5",
         "y": [
          "depressed weeks  ",
          "feel depressed think  ",
          "sadness depression  ",
          "feel sad depressed  ",
          "feeling depressed  "
         ],
         "yaxis": "y5"
        },
        {
         "marker": {
          "color": "#009E73"
         },
         "orientation": "h",
         "type": "bar",
         "x": [
          0.3953717052936554,
          0.4263649582862854,
          0.47882986068725586,
          0.4828190207481384,
          0.5037244558334351
         ],
         "xaxis": "x6",
         "y": [
          "depressed  ",
          "depressed weeks  ",
          "depression  ",
          "extremely depressed  ",
          "feeling depressed  "
         ],
         "yaxis": "y6"
        },
        {
         "marker": {
          "color": "#F0E442"
         },
         "orientation": "h",
         "type": "bar",
         "x": [
          0.36382508277893066,
          0.4177297353744507,
          0.47821715474128723,
          0.4952986538410187,
          0.519371747970581
         ],
         "xaxis": "x7",
         "y": [
          "motivation lack  ",
          "depressed  ",
          "depression  ",
          "weeks depressed  ",
          "depressed weeks  "
         ],
         "yaxis": "y7"
        },
        {
         "marker": {
          "color": "#D55E00"
         },
         "orientation": "h",
         "type": "bar",
         "x": [
          0.4072413444519043,
          0.43469980359077454,
          0.43612736463546753,
          0.4406871199607849,
          0.5446507930755615
         ],
         "xaxis": "x8",
         "y": [
          "feel depressed think  ",
          "depressed  ",
          "depression  ",
          "feel depressed  ",
          "depressed lockdown  "
         ],
         "yaxis": "y8"
        },
        {
         "marker": {
          "color": "#0072B2"
         },
         "orientation": "h",
         "type": "bar",
         "x": [
          0.42690950632095337,
          0.47253718972206116,
          0.4905427396297455,
          0.4940985441207886,
          0.5135998725891113
         ],
         "xaxis": "x9",
         "y": [
          "low mood  ",
          "anxious depressed  ",
          "low mood days  ",
          "mood fluctuating  ",
          "low anxious  "
         ],
         "yaxis": "y9"
        },
        {
         "marker": {
          "color": "#CC79A7"
         },
         "orientation": "h",
         "type": "bar",
         "x": [
          0.46491101384162903,
          0.48676687479019165,
          0.5293810367584229,
          0.5438759922981262,
          0.5608090162277222
         ],
         "xaxis": "x10",
         "y": [
          "suffered depression  ",
          "ve depressed  ",
          "depression  ",
          "depression feeling  ",
          "depression anxiety  "
         ],
         "yaxis": "y10"
        },
        {
         "marker": {
          "color": "#E69F00"
         },
         "orientation": "h",
         "type": "bar",
         "x": [
          0.43342673778533936,
          0.4420916736125946,
          0.4690466523170471,
          0.48522934317588806,
          0.5848329663276672
         ],
         "xaxis": "x11",
         "y": [
          "feel energised  ",
          "unmotivated  ",
          "lack motivation  ",
          "depression  ",
          "lacking motivation  "
         ],
         "yaxis": "y11"
        },
        {
         "marker": {
          "color": "#56B4E9"
         },
         "orientation": "h",
         "type": "bar",
         "x": [
          0.44061967730522156,
          0.44201549887657166,
          0.4435669779777527,
          0.4783192574977875,
          0.5965332388877869
         ],
         "xaxis": "x12",
         "y": [
          "depress  ",
          "depressed year  ",
          "think felt depressed  ",
          "strongly depressed  ",
          "yes depressed weeks  "
         ],
         "yaxis": "y12"
        },
        {
         "marker": {
          "color": "#009E73"
         },
         "orientation": "h",
         "type": "bar",
         "x": [
          0.5633201003074646,
          0.5676350593566895,
          0.5984174013137817,
          0.6448622345924377,
          0.696885883808136
         ],
         "xaxis": "x13",
         "y": [
          "depressed easily cause  ",
          "depressed easily  ",
          "depressed depressed  ",
          "wouldn say depressed  ",
          "wouldnt say depressed  "
         ],
         "yaxis": "y13"
        },
        {
         "marker": {
          "color": "#F0E442"
         },
         "orientation": "h",
         "type": "bar",
         "x": [
          0.4628775715827942,
          0.46895280480384827,
          0.5261358022689819,
          0.5708156228065491,
          0.6386095285415649
         ],
         "xaxis": "x14",
         "y": [
          "life feeling  ",
          "feel bored  ",
          "felt depressed  ",
          "feel unmotivated  ",
          "life feels pointless  "
         ],
         "yaxis": "y14"
        },
        {
         "marker": {
          "color": "#D55E00"
         },
         "orientation": "h",
         "type": "bar",
         "x": [
          0.45958489179611206,
          0.4864409863948822,
          0.49884283542633057,
          0.5474008321762085,
          0.5918916463851929
         ],
         "xaxis": "x15",
         "y": [
          "feel like depressed  ",
          "yes say depressed  ",
          "think felt depressed  ",
          "haven depressed  ",
          "wouldn say depressed  "
         ],
         "yaxis": "y15"
        },
        {
         "marker": {
          "color": "#0072B2"
         },
         "orientation": "h",
         "type": "bar",
         "x": [
          0.5536967515945435,
          0.5812754034996033,
          0.5948775410652161,
          0.6111853122711182,
          0.6662175059318542
         ],
         "xaxis": "x16",
         "y": [
          "depressed definitely  ",
          "depressed recently  ",
          "yes depressed past  ",
          "haven depressed  ",
          "yes depressed  "
         ],
         "yaxis": "y16"
        },
        {
         "marker": {
          "color": "#CC79A7"
         },
         "orientation": "h",
         "type": "bar",
         "x": [
          0.4047211706638336,
          0.4091755747795105,
          0.4492180645465851,
          0.4678833484649658,
          0.646232008934021
         ],
         "xaxis": "x17",
         "y": [
          "having financial  ",
          "ve really depressed  ",
          "financial status  ",
          "financial situation  ",
          "depressed financial  "
         ],
         "yaxis": "y17"
        },
        {
         "marker": {
          "color": "#E69F00"
         },
         "orientation": "h",
         "type": "bar",
         "x": [
          0.4600293040275574,
          0.4809655249118805,
          0.48555421829223633,
          0.5240086317062378,
          0.5328509211540222
         ],
         "xaxis": "x18",
         "y": [
          "depressed worried  ",
          "depressed weeks fact  ",
          "moderately depressed  ",
          "depressed constantly  ",
          "worried losing job  "
         ],
         "yaxis": "y18"
        },
        {
         "marker": {
          "color": "#56B4E9"
         },
         "orientation": "h",
         "type": "bar",
         "x": [
          0.31807535886764526,
          0.3386182188987732,
          0.3708953857421875,
          0.42724618315696716,
          0.4595044255256653
         ],
         "xaxis": "x19",
         "y": [
          "mental health overall  ",
          "severely depressed  ",
          "depression  ",
          "health covid  ",
          "having covid  "
         ],
         "yaxis": "y19"
        },
        {
         "marker": {
          "color": "#009E73"
         },
         "orientation": "h",
         "type": "bar",
         "x": [
          0.42736130952835083,
          0.43610435724258423,
          0.45174068212509155,
          0.47071194648742676,
          0.4900718331336975
         ],
         "xaxis": "x20",
         "y": [
          "strength depression  ",
          "mood lack sleep  ",
          "strongly depressed  ",
          "low mood lack  ",
          "depression  "
         ],
         "yaxis": "y20"
        },
        {
         "marker": {
          "color": "#F0E442"
         },
         "orientation": "h",
         "type": "bar",
         "x": [
          0.5403995513916016,
          0.5490977168083191,
          0.5757938623428345,
          0.6100106239318848,
          0.6859926581382751
         ],
         "xaxis": "x21",
         "y": [
          "depressed quite  ",
          "depressed lately  ",
          "ve depressed just  ",
          "yes depressed past  ",
          "yes depressed  "
         ],
         "yaxis": "y21"
        },
        {
         "marker": {
          "color": "#D55E00"
         },
         "orientation": "h",
         "type": "bar",
         "x": [
          0.5223274827003479,
          0.5400934219360352,
          0.5465258955955505,
          0.5609422326087952,
          0.5625370740890503
         ],
         "xaxis": "x22",
         "y": [
          "depressed weeks days  ",
          "weeks felt depressed  ",
          "feel depressed weeks  ",
          "don think depressed  ",
          "depressed couple weeks  "
         ],
         "yaxis": "y22"
        },
        {
         "marker": {
          "color": "#0072B2"
         },
         "orientation": "h",
         "type": "bar",
         "x": [
          0.4420647919178009,
          0.46136629581451416,
          0.5160985589027405,
          0.5215907096862793,
          0.5762859582901001
         ],
         "xaxis": "x23",
         "y": [
          "symptoms anxiety  ",
          "clinically depressed  ",
          "ve clinically depressed  ",
          "symptoms depression  ",
          "depressive disorder  "
         ],
         "yaxis": "y23"
        },
        {
         "marker": {
          "color": "#CC79A7"
         },
         "orientation": "h",
         "type": "bar",
         "x": [
          0.43017101287841797,
          0.4305487275123596,
          0.4781404435634613,
          0.5082817077636719,
          0.5301193594932556
         ],
         "xaxis": "x24",
         "y": [
          "severely depressed  ",
          "depression caused  ",
          "worried depressed  ",
          "weeks felt anxious  ",
          "don think depressed  "
         ],
         "yaxis": "y24"
        },
        {
         "marker": {
          "color": "#E69F00"
         },
         "orientation": "h",
         "type": "bar",
         "x": [
          0.5298649668693542,
          0.5312199592590332,
          0.5415552854537964,
          0.5463413596153259,
          0.586342453956604
         ],
         "xaxis": "x25",
         "y": [
          "felt slightly depressed  ",
          "depressed past week  ",
          "depression weeks  ",
          "suffering depression  ",
          "weeks depression  "
         ],
         "yaxis": "y25"
        },
        {
         "marker": {
          "color": "#56B4E9"
         },
         "orientation": "h",
         "type": "bar",
         "x": [
          0.5173084139823914,
          0.5175097584724426,
          0.5531145334243774,
          0.5686689019203186,
          0.649818480014801
         ],
         "xaxis": "x26",
         "y": [
          "depressed week  ",
          "depressed badly  ",
          "weeks felt depressed  ",
          "feeling depressed  ",
          "weeks feeling depressed  "
         ],
         "yaxis": "y26"
        },
        {
         "marker": {
          "color": "#009E73"
         },
         "orientation": "h",
         "type": "bar",
         "x": [
          0.34521549940109253,
          0.3625440001487732,
          0.37952399253845215,
          0.3870789110660553,
          0.5672902464866638
         ],
         "xaxis": "x27",
         "y": [
          "covid people  ",
          "result covid  ",
          "virus  ",
          "covid  ",
          "issues covid  "
         ],
         "yaxis": "y27"
        },
        {
         "marker": {
          "color": "#F0E442"
         },
         "orientation": "h",
         "type": "bar",
         "x": [
          0.515014111995697,
          0.5370195508003235,
          0.5371296405792236,
          0.5749129056930542,
          0.5895023345947266
         ],
         "xaxis": "x28",
         "y": [
          "depressed  ",
          "depressed weather  ",
          "believe depressed weeks  ",
          "believe depressed  ",
          "depressed couple weeks  "
         ],
         "yaxis": "y28"
        },
        {
         "marker": {
          "color": "#D55E00"
         },
         "orientation": "h",
         "type": "bar",
         "x": [
          0.4965304732322693,
          0.5129919648170471,
          0.516285240650177,
          0.5386764407157898,
          0.552046000957489
         ],
         "xaxis": "x29",
         "y": [
          "ve depressed  ",
          "depression  ",
          "family anxiety  ",
          "mental health depressed  ",
          "depressed lately  "
         ],
         "yaxis": "y29"
        },
        {
         "marker": {
          "color": "#0072B2"
         },
         "orientation": "h",
         "type": "bar",
         "x": [
          0.48060810565948486,
          0.511624276638031,
          0.5329923033714294,
          0.5349414348602295,
          0.5424036383628845
         ],
         "xaxis": "x30",
         "y": [
          "depressed past  ",
          "depression depression  ",
          "clinical depression  ",
          "depression feeling  ",
          "depression  "
         ],
         "yaxis": "y30"
        }
       ],
       "layout": {
        "annotations": [
         {
          "font": {
           "size": 16
          },
          "showarrow": false,
          "text": "Topic 0",
          "x": 0.0875,
          "xanchor": "center",
          "xref": "paper",
          "y": 1,
          "yanchor": "bottom",
          "yref": "paper"
         },
         {
          "font": {
           "size": 16
          },
          "showarrow": false,
          "text": "Topic 1",
          "x": 0.36250000000000004,
          "xanchor": "center",
          "xref": "paper",
          "y": 1,
          "yanchor": "bottom",
          "yref": "paper"
         },
         {
          "font": {
           "size": 16
          },
          "showarrow": false,
          "text": "Topic 2",
          "x": 0.6375000000000001,
          "xanchor": "center",
          "xref": "paper",
          "y": 1,
          "yanchor": "bottom",
          "yref": "paper"
         },
         {
          "font": {
           "size": 16
          },
          "showarrow": false,
          "text": "Topic 3",
          "x": 0.9125,
          "xanchor": "center",
          "xref": "paper",
          "y": 1,
          "yanchor": "bottom",
          "yref": "paper"
         },
         {
          "font": {
           "size": 16
          },
          "showarrow": false,
          "text": "Topic 4",
          "x": 0.0875,
          "xanchor": "center",
          "xref": "paper",
          "y": 0.8687499999999999,
          "yanchor": "bottom",
          "yref": "paper"
         },
         {
          "font": {
           "size": 16
          },
          "showarrow": false,
          "text": "Topic 5",
          "x": 0.36250000000000004,
          "xanchor": "center",
          "xref": "paper",
          "y": 0.8687499999999999,
          "yanchor": "bottom",
          "yref": "paper"
         },
         {
          "font": {
           "size": 16
          },
          "showarrow": false,
          "text": "Topic 6",
          "x": 0.6375000000000001,
          "xanchor": "center",
          "xref": "paper",
          "y": 0.8687499999999999,
          "yanchor": "bottom",
          "yref": "paper"
         },
         {
          "font": {
           "size": 16
          },
          "showarrow": false,
          "text": "Topic 7",
          "x": 0.9125,
          "xanchor": "center",
          "xref": "paper",
          "y": 0.8687499999999999,
          "yanchor": "bottom",
          "yref": "paper"
         },
         {
          "font": {
           "size": 16
          },
          "showarrow": false,
          "text": "Topic 8",
          "x": 0.0875,
          "xanchor": "center",
          "xref": "paper",
          "y": 0.7375,
          "yanchor": "bottom",
          "yref": "paper"
         },
         {
          "font": {
           "size": 16
          },
          "showarrow": false,
          "text": "Topic 9",
          "x": 0.36250000000000004,
          "xanchor": "center",
          "xref": "paper",
          "y": 0.7375,
          "yanchor": "bottom",
          "yref": "paper"
         },
         {
          "font": {
           "size": 16
          },
          "showarrow": false,
          "text": "Topic 10",
          "x": 0.6375000000000001,
          "xanchor": "center",
          "xref": "paper",
          "y": 0.7375,
          "yanchor": "bottom",
          "yref": "paper"
         },
         {
          "font": {
           "size": 16
          },
          "showarrow": false,
          "text": "Topic 11",
          "x": 0.9125,
          "xanchor": "center",
          "xref": "paper",
          "y": 0.7375,
          "yanchor": "bottom",
          "yref": "paper"
         },
         {
          "font": {
           "size": 16
          },
          "showarrow": false,
          "text": "Topic 12",
          "x": 0.0875,
          "xanchor": "center",
          "xref": "paper",
          "y": 0.60625,
          "yanchor": "bottom",
          "yref": "paper"
         },
         {
          "font": {
           "size": 16
          },
          "showarrow": false,
          "text": "Topic 13",
          "x": 0.36250000000000004,
          "xanchor": "center",
          "xref": "paper",
          "y": 0.60625,
          "yanchor": "bottom",
          "yref": "paper"
         },
         {
          "font": {
           "size": 16
          },
          "showarrow": false,
          "text": "Topic 14",
          "x": 0.6375000000000001,
          "xanchor": "center",
          "xref": "paper",
          "y": 0.60625,
          "yanchor": "bottom",
          "yref": "paper"
         },
         {
          "font": {
           "size": 16
          },
          "showarrow": false,
          "text": "Topic 15",
          "x": 0.9125,
          "xanchor": "center",
          "xref": "paper",
          "y": 0.60625,
          "yanchor": "bottom",
          "yref": "paper"
         },
         {
          "font": {
           "size": 16
          },
          "showarrow": false,
          "text": "Topic 16",
          "x": 0.0875,
          "xanchor": "center",
          "xref": "paper",
          "y": 0.475,
          "yanchor": "bottom",
          "yref": "paper"
         },
         {
          "font": {
           "size": 16
          },
          "showarrow": false,
          "text": "Topic 17",
          "x": 0.36250000000000004,
          "xanchor": "center",
          "xref": "paper",
          "y": 0.475,
          "yanchor": "bottom",
          "yref": "paper"
         },
         {
          "font": {
           "size": 16
          },
          "showarrow": false,
          "text": "Topic 18",
          "x": 0.6375000000000001,
          "xanchor": "center",
          "xref": "paper",
          "y": 0.475,
          "yanchor": "bottom",
          "yref": "paper"
         },
         {
          "font": {
           "size": 16
          },
          "showarrow": false,
          "text": "Topic 19",
          "x": 0.9125,
          "xanchor": "center",
          "xref": "paper",
          "y": 0.475,
          "yanchor": "bottom",
          "yref": "paper"
         },
         {
          "font": {
           "size": 16
          },
          "showarrow": false,
          "text": "Topic 20",
          "x": 0.0875,
          "xanchor": "center",
          "xref": "paper",
          "y": 0.34374999999999994,
          "yanchor": "bottom",
          "yref": "paper"
         },
         {
          "font": {
           "size": 16
          },
          "showarrow": false,
          "text": "Topic 21",
          "x": 0.36250000000000004,
          "xanchor": "center",
          "xref": "paper",
          "y": 0.34374999999999994,
          "yanchor": "bottom",
          "yref": "paper"
         },
         {
          "font": {
           "size": 16
          },
          "showarrow": false,
          "text": "Topic 22",
          "x": 0.6375000000000001,
          "xanchor": "center",
          "xref": "paper",
          "y": 0.34374999999999994,
          "yanchor": "bottom",
          "yref": "paper"
         },
         {
          "font": {
           "size": 16
          },
          "showarrow": false,
          "text": "Topic 23",
          "x": 0.9125,
          "xanchor": "center",
          "xref": "paper",
          "y": 0.34374999999999994,
          "yanchor": "bottom",
          "yref": "paper"
         },
         {
          "font": {
           "size": 16
          },
          "showarrow": false,
          "text": "Topic 24",
          "x": 0.0875,
          "xanchor": "center",
          "xref": "paper",
          "y": 0.21249999999999997,
          "yanchor": "bottom",
          "yref": "paper"
         },
         {
          "font": {
           "size": 16
          },
          "showarrow": false,
          "text": "Topic 25",
          "x": 0.36250000000000004,
          "xanchor": "center",
          "xref": "paper",
          "y": 0.21249999999999997,
          "yanchor": "bottom",
          "yref": "paper"
         },
         {
          "font": {
           "size": 16
          },
          "showarrow": false,
          "text": "Topic 26",
          "x": 0.6375000000000001,
          "xanchor": "center",
          "xref": "paper",
          "y": 0.21249999999999997,
          "yanchor": "bottom",
          "yref": "paper"
         },
         {
          "font": {
           "size": 16
          },
          "showarrow": false,
          "text": "Topic 27",
          "x": 0.9125,
          "xanchor": "center",
          "xref": "paper",
          "y": 0.21249999999999997,
          "yanchor": "bottom",
          "yref": "paper"
         },
         {
          "font": {
           "size": 16
          },
          "showarrow": false,
          "text": "Topic 28",
          "x": 0.0875,
          "xanchor": "center",
          "xref": "paper",
          "y": 0.08124999999999999,
          "yanchor": "bottom",
          "yref": "paper"
         },
         {
          "font": {
           "size": 16
          },
          "showarrow": false,
          "text": "Topic 29",
          "x": 0.36250000000000004,
          "xanchor": "center",
          "xref": "paper",
          "y": 0.08124999999999999,
          "yanchor": "bottom",
          "yref": "paper"
         }
        ],
        "height": 2000,
        "hoverlabel": {
         "bgcolor": "white",
         "font": {
          "family": "Rockwell",
          "size": 16
         }
        },
        "showlegend": false,
        "template": {
         "data": {
          "bar": [
           {
            "error_x": {
             "color": "#2a3f5f"
            },
            "error_y": {
             "color": "#2a3f5f"
            },
            "marker": {
             "line": {
              "color": "white",
              "width": 0.5
             },
             "pattern": {
              "fillmode": "overlay",
              "size": 10,
              "solidity": 0.2
             }
            },
            "type": "bar"
           }
          ],
          "barpolar": [
           {
            "marker": {
             "line": {
              "color": "white",
              "width": 0.5
             },
             "pattern": {
              "fillmode": "overlay",
              "size": 10,
              "solidity": 0.2
             }
            },
            "type": "barpolar"
           }
          ],
          "carpet": [
           {
            "aaxis": {
             "endlinecolor": "#2a3f5f",
             "gridcolor": "#C8D4E3",
             "linecolor": "#C8D4E3",
             "minorgridcolor": "#C8D4E3",
             "startlinecolor": "#2a3f5f"
            },
            "baxis": {
             "endlinecolor": "#2a3f5f",
             "gridcolor": "#C8D4E3",
             "linecolor": "#C8D4E3",
             "minorgridcolor": "#C8D4E3",
             "startlinecolor": "#2a3f5f"
            },
            "type": "carpet"
           }
          ],
          "choropleth": [
           {
            "colorbar": {
             "outlinewidth": 0,
             "ticks": ""
            },
            "type": "choropleth"
           }
          ],
          "contour": [
           {
            "colorbar": {
             "outlinewidth": 0,
             "ticks": ""
            },
            "colorscale": [
             [
              0,
              "#0d0887"
             ],
             [
              0.1111111111111111,
              "#46039f"
             ],
             [
              0.2222222222222222,
              "#7201a8"
             ],
             [
              0.3333333333333333,
              "#9c179e"
             ],
             [
              0.4444444444444444,
              "#bd3786"
             ],
             [
              0.5555555555555556,
              "#d8576b"
             ],
             [
              0.6666666666666666,
              "#ed7953"
             ],
             [
              0.7777777777777778,
              "#fb9f3a"
             ],
             [
              0.8888888888888888,
              "#fdca26"
             ],
             [
              1,
              "#f0f921"
             ]
            ],
            "type": "contour"
           }
          ],
          "contourcarpet": [
           {
            "colorbar": {
             "outlinewidth": 0,
             "ticks": ""
            },
            "type": "contourcarpet"
           }
          ],
          "heatmap": [
           {
            "colorbar": {
             "outlinewidth": 0,
             "ticks": ""
            },
            "colorscale": [
             [
              0,
              "#0d0887"
             ],
             [
              0.1111111111111111,
              "#46039f"
             ],
             [
              0.2222222222222222,
              "#7201a8"
             ],
             [
              0.3333333333333333,
              "#9c179e"
             ],
             [
              0.4444444444444444,
              "#bd3786"
             ],
             [
              0.5555555555555556,
              "#d8576b"
             ],
             [
              0.6666666666666666,
              "#ed7953"
             ],
             [
              0.7777777777777778,
              "#fb9f3a"
             ],
             [
              0.8888888888888888,
              "#fdca26"
             ],
             [
              1,
              "#f0f921"
             ]
            ],
            "type": "heatmap"
           }
          ],
          "heatmapgl": [
           {
            "colorbar": {
             "outlinewidth": 0,
             "ticks": ""
            },
            "colorscale": [
             [
              0,
              "#0d0887"
             ],
             [
              0.1111111111111111,
              "#46039f"
             ],
             [
              0.2222222222222222,
              "#7201a8"
             ],
             [
              0.3333333333333333,
              "#9c179e"
             ],
             [
              0.4444444444444444,
              "#bd3786"
             ],
             [
              0.5555555555555556,
              "#d8576b"
             ],
             [
              0.6666666666666666,
              "#ed7953"
             ],
             [
              0.7777777777777778,
              "#fb9f3a"
             ],
             [
              0.8888888888888888,
              "#fdca26"
             ],
             [
              1,
              "#f0f921"
             ]
            ],
            "type": "heatmapgl"
           }
          ],
          "histogram": [
           {
            "marker": {
             "pattern": {
              "fillmode": "overlay",
              "size": 10,
              "solidity": 0.2
             }
            },
            "type": "histogram"
           }
          ],
          "histogram2d": [
           {
            "colorbar": {
             "outlinewidth": 0,
             "ticks": ""
            },
            "colorscale": [
             [
              0,
              "#0d0887"
             ],
             [
              0.1111111111111111,
              "#46039f"
             ],
             [
              0.2222222222222222,
              "#7201a8"
             ],
             [
              0.3333333333333333,
              "#9c179e"
             ],
             [
              0.4444444444444444,
              "#bd3786"
             ],
             [
              0.5555555555555556,
              "#d8576b"
             ],
             [
              0.6666666666666666,
              "#ed7953"
             ],
             [
              0.7777777777777778,
              "#fb9f3a"
             ],
             [
              0.8888888888888888,
              "#fdca26"
             ],
             [
              1,
              "#f0f921"
             ]
            ],
            "type": "histogram2d"
           }
          ],
          "histogram2dcontour": [
           {
            "colorbar": {
             "outlinewidth": 0,
             "ticks": ""
            },
            "colorscale": [
             [
              0,
              "#0d0887"
             ],
             [
              0.1111111111111111,
              "#46039f"
             ],
             [
              0.2222222222222222,
              "#7201a8"
             ],
             [
              0.3333333333333333,
              "#9c179e"
             ],
             [
              0.4444444444444444,
              "#bd3786"
             ],
             [
              0.5555555555555556,
              "#d8576b"
             ],
             [
              0.6666666666666666,
              "#ed7953"
             ],
             [
              0.7777777777777778,
              "#fb9f3a"
             ],
             [
              0.8888888888888888,
              "#fdca26"
             ],
             [
              1,
              "#f0f921"
             ]
            ],
            "type": "histogram2dcontour"
           }
          ],
          "mesh3d": [
           {
            "colorbar": {
             "outlinewidth": 0,
             "ticks": ""
            },
            "type": "mesh3d"
           }
          ],
          "parcoords": [
           {
            "line": {
             "colorbar": {
              "outlinewidth": 0,
              "ticks": ""
             }
            },
            "type": "parcoords"
           }
          ],
          "pie": [
           {
            "automargin": true,
            "type": "pie"
           }
          ],
          "scatter": [
           {
            "fillpattern": {
             "fillmode": "overlay",
             "size": 10,
             "solidity": 0.2
            },
            "type": "scatter"
           }
          ],
          "scatter3d": [
           {
            "line": {
             "colorbar": {
              "outlinewidth": 0,
              "ticks": ""
             }
            },
            "marker": {
             "colorbar": {
              "outlinewidth": 0,
              "ticks": ""
             }
            },
            "type": "scatter3d"
           }
          ],
          "scattercarpet": [
           {
            "marker": {
             "colorbar": {
              "outlinewidth": 0,
              "ticks": ""
             }
            },
            "type": "scattercarpet"
           }
          ],
          "scattergeo": [
           {
            "marker": {
             "colorbar": {
              "outlinewidth": 0,
              "ticks": ""
             }
            },
            "type": "scattergeo"
           }
          ],
          "scattergl": [
           {
            "marker": {
             "colorbar": {
              "outlinewidth": 0,
              "ticks": ""
             }
            },
            "type": "scattergl"
           }
          ],
          "scattermapbox": [
           {
            "marker": {
             "colorbar": {
              "outlinewidth": 0,
              "ticks": ""
             }
            },
            "type": "scattermapbox"
           }
          ],
          "scatterpolar": [
           {
            "marker": {
             "colorbar": {
              "outlinewidth": 0,
              "ticks": ""
             }
            },
            "type": "scatterpolar"
           }
          ],
          "scatterpolargl": [
           {
            "marker": {
             "colorbar": {
              "outlinewidth": 0,
              "ticks": ""
             }
            },
            "type": "scatterpolargl"
           }
          ],
          "scatterternary": [
           {
            "marker": {
             "colorbar": {
              "outlinewidth": 0,
              "ticks": ""
             }
            },
            "type": "scatterternary"
           }
          ],
          "surface": [
           {
            "colorbar": {
             "outlinewidth": 0,
             "ticks": ""
            },
            "colorscale": [
             [
              0,
              "#0d0887"
             ],
             [
              0.1111111111111111,
              "#46039f"
             ],
             [
              0.2222222222222222,
              "#7201a8"
             ],
             [
              0.3333333333333333,
              "#9c179e"
             ],
             [
              0.4444444444444444,
              "#bd3786"
             ],
             [
              0.5555555555555556,
              "#d8576b"
             ],
             [
              0.6666666666666666,
              "#ed7953"
             ],
             [
              0.7777777777777778,
              "#fb9f3a"
             ],
             [
              0.8888888888888888,
              "#fdca26"
             ],
             [
              1,
              "#f0f921"
             ]
            ],
            "type": "surface"
           }
          ],
          "table": [
           {
            "cells": {
             "fill": {
              "color": "#EBF0F8"
             },
             "line": {
              "color": "white"
             }
            },
            "header": {
             "fill": {
              "color": "#C8D4E3"
             },
             "line": {
              "color": "white"
             }
            },
            "type": "table"
           }
          ]
         },
         "layout": {
          "annotationdefaults": {
           "arrowcolor": "#2a3f5f",
           "arrowhead": 0,
           "arrowwidth": 1
          },
          "autotypenumbers": "strict",
          "coloraxis": {
           "colorbar": {
            "outlinewidth": 0,
            "ticks": ""
           }
          },
          "colorscale": {
           "diverging": [
            [
             0,
             "#8e0152"
            ],
            [
             0.1,
             "#c51b7d"
            ],
            [
             0.2,
             "#de77ae"
            ],
            [
             0.3,
             "#f1b6da"
            ],
            [
             0.4,
             "#fde0ef"
            ],
            [
             0.5,
             "#f7f7f7"
            ],
            [
             0.6,
             "#e6f5d0"
            ],
            [
             0.7,
             "#b8e186"
            ],
            [
             0.8,
             "#7fbc41"
            ],
            [
             0.9,
             "#4d9221"
            ],
            [
             1,
             "#276419"
            ]
           ],
           "sequential": [
            [
             0,
             "#0d0887"
            ],
            [
             0.1111111111111111,
             "#46039f"
            ],
            [
             0.2222222222222222,
             "#7201a8"
            ],
            [
             0.3333333333333333,
             "#9c179e"
            ],
            [
             0.4444444444444444,
             "#bd3786"
            ],
            [
             0.5555555555555556,
             "#d8576b"
            ],
            [
             0.6666666666666666,
             "#ed7953"
            ],
            [
             0.7777777777777778,
             "#fb9f3a"
            ],
            [
             0.8888888888888888,
             "#fdca26"
            ],
            [
             1,
             "#f0f921"
            ]
           ],
           "sequentialminus": [
            [
             0,
             "#0d0887"
            ],
            [
             0.1111111111111111,
             "#46039f"
            ],
            [
             0.2222222222222222,
             "#7201a8"
            ],
            [
             0.3333333333333333,
             "#9c179e"
            ],
            [
             0.4444444444444444,
             "#bd3786"
            ],
            [
             0.5555555555555556,
             "#d8576b"
            ],
            [
             0.6666666666666666,
             "#ed7953"
            ],
            [
             0.7777777777777778,
             "#fb9f3a"
            ],
            [
             0.8888888888888888,
             "#fdca26"
            ],
            [
             1,
             "#f0f921"
            ]
           ]
          },
          "colorway": [
           "#636efa",
           "#EF553B",
           "#00cc96",
           "#ab63fa",
           "#FFA15A",
           "#19d3f3",
           "#FF6692",
           "#B6E880",
           "#FF97FF",
           "#FECB52"
          ],
          "font": {
           "color": "#2a3f5f"
          },
          "geo": {
           "bgcolor": "white",
           "lakecolor": "white",
           "landcolor": "white",
           "showlakes": true,
           "showland": true,
           "subunitcolor": "#C8D4E3"
          },
          "hoverlabel": {
           "align": "left"
          },
          "hovermode": "closest",
          "mapbox": {
           "style": "light"
          },
          "paper_bgcolor": "white",
          "plot_bgcolor": "white",
          "polar": {
           "angularaxis": {
            "gridcolor": "#EBF0F8",
            "linecolor": "#EBF0F8",
            "ticks": ""
           },
           "bgcolor": "white",
           "radialaxis": {
            "gridcolor": "#EBF0F8",
            "linecolor": "#EBF0F8",
            "ticks": ""
           }
          },
          "scene": {
           "xaxis": {
            "backgroundcolor": "white",
            "gridcolor": "#DFE8F3",
            "gridwidth": 2,
            "linecolor": "#EBF0F8",
            "showbackground": true,
            "ticks": "",
            "zerolinecolor": "#EBF0F8"
           },
           "yaxis": {
            "backgroundcolor": "white",
            "gridcolor": "#DFE8F3",
            "gridwidth": 2,
            "linecolor": "#EBF0F8",
            "showbackground": true,
            "ticks": "",
            "zerolinecolor": "#EBF0F8"
           },
           "zaxis": {
            "backgroundcolor": "white",
            "gridcolor": "#DFE8F3",
            "gridwidth": 2,
            "linecolor": "#EBF0F8",
            "showbackground": true,
            "ticks": "",
            "zerolinecolor": "#EBF0F8"
           }
          },
          "shapedefaults": {
           "line": {
            "color": "#2a3f5f"
           }
          },
          "ternary": {
           "aaxis": {
            "gridcolor": "#DFE8F3",
            "linecolor": "#A2B1C6",
            "ticks": ""
           },
           "baxis": {
            "gridcolor": "#DFE8F3",
            "linecolor": "#A2B1C6",
            "ticks": ""
           },
           "bgcolor": "white",
           "caxis": {
            "gridcolor": "#DFE8F3",
            "linecolor": "#A2B1C6",
            "ticks": ""
           }
          },
          "title": {
           "x": 0.05
          },
          "xaxis": {
           "automargin": true,
           "gridcolor": "#EBF0F8",
           "linecolor": "#EBF0F8",
           "ticks": "",
           "title": {
            "standoff": 15
           },
           "zerolinecolor": "#EBF0F8",
           "zerolinewidth": 2
          },
          "yaxis": {
           "automargin": true,
           "gridcolor": "#EBF0F8",
           "linecolor": "#EBF0F8",
           "ticks": "",
           "title": {
            "standoff": 15
           },
           "zerolinecolor": "#EBF0F8",
           "zerolinewidth": 2
          }
         }
        },
        "title": {
         "font": {
          "color": "Black",
          "size": 22
         },
         "text": "Topic Word Scores",
         "x": 0.5,
         "xanchor": "center",
         "yanchor": "top"
        },
        "width": 1000,
        "xaxis": {
         "anchor": "y",
         "domain": [
          0,
          0.175
         ],
         "showgrid": true
        },
        "xaxis10": {
         "anchor": "y10",
         "domain": [
          0.275,
          0.45
         ],
         "showgrid": true
        },
        "xaxis11": {
         "anchor": "y11",
         "domain": [
          0.55,
          0.7250000000000001
         ],
         "showgrid": true
        },
        "xaxis12": {
         "anchor": "y12",
         "domain": [
          0.825,
          1
         ],
         "showgrid": true
        },
        "xaxis13": {
         "anchor": "y13",
         "domain": [
          0,
          0.175
         ],
         "showgrid": true
        },
        "xaxis14": {
         "anchor": "y14",
         "domain": [
          0.275,
          0.45
         ],
         "showgrid": true
        },
        "xaxis15": {
         "anchor": "y15",
         "domain": [
          0.55,
          0.7250000000000001
         ],
         "showgrid": true
        },
        "xaxis16": {
         "anchor": "y16",
         "domain": [
          0.825,
          1
         ],
         "showgrid": true
        },
        "xaxis17": {
         "anchor": "y17",
         "domain": [
          0,
          0.175
         ],
         "showgrid": true
        },
        "xaxis18": {
         "anchor": "y18",
         "domain": [
          0.275,
          0.45
         ],
         "showgrid": true
        },
        "xaxis19": {
         "anchor": "y19",
         "domain": [
          0.55,
          0.7250000000000001
         ],
         "showgrid": true
        },
        "xaxis2": {
         "anchor": "y2",
         "domain": [
          0.275,
          0.45
         ],
         "showgrid": true
        },
        "xaxis20": {
         "anchor": "y20",
         "domain": [
          0.825,
          1
         ],
         "showgrid": true
        },
        "xaxis21": {
         "anchor": "y21",
         "domain": [
          0,
          0.175
         ],
         "showgrid": true
        },
        "xaxis22": {
         "anchor": "y22",
         "domain": [
          0.275,
          0.45
         ],
         "showgrid": true
        },
        "xaxis23": {
         "anchor": "y23",
         "domain": [
          0.55,
          0.7250000000000001
         ],
         "showgrid": true
        },
        "xaxis24": {
         "anchor": "y24",
         "domain": [
          0.825,
          1
         ],
         "showgrid": true
        },
        "xaxis25": {
         "anchor": "y25",
         "domain": [
          0,
          0.175
         ],
         "showgrid": true
        },
        "xaxis26": {
         "anchor": "y26",
         "domain": [
          0.275,
          0.45
         ],
         "showgrid": true
        },
        "xaxis27": {
         "anchor": "y27",
         "domain": [
          0.55,
          0.7250000000000001
         ],
         "showgrid": true
        },
        "xaxis28": {
         "anchor": "y28",
         "domain": [
          0.825,
          1
         ],
         "showgrid": true
        },
        "xaxis29": {
         "anchor": "y29",
         "domain": [
          0,
          0.175
         ],
         "showgrid": true
        },
        "xaxis3": {
         "anchor": "y3",
         "domain": [
          0.55,
          0.7250000000000001
         ],
         "showgrid": true
        },
        "xaxis30": {
         "anchor": "y30",
         "domain": [
          0.275,
          0.45
         ],
         "showgrid": true
        },
        "xaxis31": {
         "anchor": "y31",
         "domain": [
          0.55,
          0.7250000000000001
         ],
         "showgrid": true
        },
        "xaxis32": {
         "anchor": "y32",
         "domain": [
          0.825,
          1
         ],
         "showgrid": true
        },
        "xaxis4": {
         "anchor": "y4",
         "domain": [
          0.825,
          1
         ],
         "showgrid": true
        },
        "xaxis5": {
         "anchor": "y5",
         "domain": [
          0,
          0.175
         ],
         "showgrid": true
        },
        "xaxis6": {
         "anchor": "y6",
         "domain": [
          0.275,
          0.45
         ],
         "showgrid": true
        },
        "xaxis7": {
         "anchor": "y7",
         "domain": [
          0.55,
          0.7250000000000001
         ],
         "showgrid": true
        },
        "xaxis8": {
         "anchor": "y8",
         "domain": [
          0.825,
          1
         ],
         "showgrid": true
        },
        "xaxis9": {
         "anchor": "y9",
         "domain": [
          0,
          0.175
         ],
         "showgrid": true
        },
        "yaxis": {
         "anchor": "x",
         "domain": [
          0.91875,
          1
         ],
         "showgrid": true
        },
        "yaxis10": {
         "anchor": "x10",
         "domain": [
          0.65625,
          0.7375
         ],
         "showgrid": true
        },
        "yaxis11": {
         "anchor": "x11",
         "domain": [
          0.65625,
          0.7375
         ],
         "showgrid": true
        },
        "yaxis12": {
         "anchor": "x12",
         "domain": [
          0.65625,
          0.7375
         ],
         "showgrid": true
        },
        "yaxis13": {
         "anchor": "x13",
         "domain": [
          0.5249999999999999,
          0.60625
         ],
         "showgrid": true
        },
        "yaxis14": {
         "anchor": "x14",
         "domain": [
          0.5249999999999999,
          0.60625
         ],
         "showgrid": true
        },
        "yaxis15": {
         "anchor": "x15",
         "domain": [
          0.5249999999999999,
          0.60625
         ],
         "showgrid": true
        },
        "yaxis16": {
         "anchor": "x16",
         "domain": [
          0.5249999999999999,
          0.60625
         ],
         "showgrid": true
        },
        "yaxis17": {
         "anchor": "x17",
         "domain": [
          0.39375,
          0.475
         ],
         "showgrid": true
        },
        "yaxis18": {
         "anchor": "x18",
         "domain": [
          0.39375,
          0.475
         ],
         "showgrid": true
        },
        "yaxis19": {
         "anchor": "x19",
         "domain": [
          0.39375,
          0.475
         ],
         "showgrid": true
        },
        "yaxis2": {
         "anchor": "x2",
         "domain": [
          0.91875,
          1
         ],
         "showgrid": true
        },
        "yaxis20": {
         "anchor": "x20",
         "domain": [
          0.39375,
          0.475
         ],
         "showgrid": true
        },
        "yaxis21": {
         "anchor": "x21",
         "domain": [
          0.26249999999999996,
          0.34374999999999994
         ],
         "showgrid": true
        },
        "yaxis22": {
         "anchor": "x22",
         "domain": [
          0.26249999999999996,
          0.34374999999999994
         ],
         "showgrid": true
        },
        "yaxis23": {
         "anchor": "x23",
         "domain": [
          0.26249999999999996,
          0.34374999999999994
         ],
         "showgrid": true
        },
        "yaxis24": {
         "anchor": "x24",
         "domain": [
          0.26249999999999996,
          0.34374999999999994
         ],
         "showgrid": true
        },
        "yaxis25": {
         "anchor": "x25",
         "domain": [
          0.13124999999999998,
          0.21249999999999997
         ],
         "showgrid": true
        },
        "yaxis26": {
         "anchor": "x26",
         "domain": [
          0.13124999999999998,
          0.21249999999999997
         ],
         "showgrid": true
        },
        "yaxis27": {
         "anchor": "x27",
         "domain": [
          0.13124999999999998,
          0.21249999999999997
         ],
         "showgrid": true
        },
        "yaxis28": {
         "anchor": "x28",
         "domain": [
          0.13124999999999998,
          0.21249999999999997
         ],
         "showgrid": true
        },
        "yaxis29": {
         "anchor": "x29",
         "domain": [
          0,
          0.08124999999999999
         ],
         "showgrid": true
        },
        "yaxis3": {
         "anchor": "x3",
         "domain": [
          0.91875,
          1
         ],
         "showgrid": true
        },
        "yaxis30": {
         "anchor": "x30",
         "domain": [
          0,
          0.08124999999999999
         ],
         "showgrid": true
        },
        "yaxis31": {
         "anchor": "x31",
         "domain": [
          0,
          0.08124999999999999
         ],
         "showgrid": true
        },
        "yaxis32": {
         "anchor": "x32",
         "domain": [
          0,
          0.08124999999999999
         ],
         "showgrid": true
        },
        "yaxis4": {
         "anchor": "x4",
         "domain": [
          0.91875,
          1
         ],
         "showgrid": true
        },
        "yaxis5": {
         "anchor": "x5",
         "domain": [
          0.7875,
          0.8687499999999999
         ],
         "showgrid": true
        },
        "yaxis6": {
         "anchor": "x6",
         "domain": [
          0.7875,
          0.8687499999999999
         ],
         "showgrid": true
        },
        "yaxis7": {
         "anchor": "x7",
         "domain": [
          0.7875,
          0.8687499999999999
         ],
         "showgrid": true
        },
        "yaxis8": {
         "anchor": "x8",
         "domain": [
          0.7875,
          0.8687499999999999
         ],
         "showgrid": true
        },
        "yaxis9": {
         "anchor": "x9",
         "domain": [
          0.65625,
          0.7375
         ],
         "showgrid": true
        }
       }
      }
     },
     "metadata": {},
     "output_type": "display_data"
    }
   ],
   "source": [
    "topic_model.visualize_barchart(top_n_topics=30)"
   ]
  },
  {
   "cell_type": "code",
   "execution_count": 96,
   "metadata": {},
   "outputs": [
    {
     "data": {
      "application/vnd.plotly.v1+json": {
       "config": {
        "plotlyServerURL": "https://plot.ly"
       },
       "data": [
        {
         "hoverinfo": "text",
         "marker": {
          "color": "rgb(61,153,112)"
         },
         "mode": "lines",
         "type": "scatter",
         "x": [
          0,
          0.22608059644699097,
          0.22608059644699097,
          0
         ],
         "xaxis": "x",
         "y": [
          -5,
          -5,
          -15,
          -15
         ],
         "yaxis": "y"
        },
        {
         "hoverinfo": "text",
         "marker": {
          "color": "rgb(61,153,112)"
         },
         "mode": "lines",
         "type": "scatter",
         "x": [
          0,
          0.12176227569580078,
          0.12176227569580078,
          0
         ],
         "xaxis": "x",
         "y": [
          -35,
          -35,
          -45,
          -45
         ],
         "yaxis": "y"
        },
        {
         "hoverinfo": "text",
         "marker": {
          "color": "rgb(61,153,112)"
         },
         "mode": "lines",
         "type": "scatter",
         "x": [
          0,
          0.14270997783771305,
          0.14270997783771305,
          0.12176227569580078
         ],
         "xaxis": "x",
         "y": [
          -25,
          -25,
          -40,
          -40
         ],
         "yaxis": "y"
        },
        {
         "hoverinfo": "text",
         "marker": {
          "color": "rgb(61,153,112)"
         },
         "mode": "lines",
         "type": "scatter",
         "x": [
          0,
          0.12920981645584106,
          0.12920981645584106,
          0
         ],
         "xaxis": "x",
         "y": [
          -55,
          -55,
          -65,
          -65
         ],
         "yaxis": "y"
        },
        {
         "hoverinfo": "text",
         "marker": {
          "color": "rgb(61,153,112)"
         },
         "mode": "lines",
         "type": "scatter",
         "x": [
          0.12920981645584106,
          0.21314072883420368,
          0.21314072883420368,
          0
         ],
         "xaxis": "x",
         "y": [
          -60,
          -60,
          -75,
          -75
         ],
         "yaxis": "y"
        },
        {
         "hoverinfo": "text",
         "marker": {
          "color": "rgb(61,153,112)"
         },
         "mode": "lines",
         "type": "scatter",
         "x": [
          0.14270997783771305,
          0.32606286117530575,
          0.32606286117530575,
          0.21314072883420368
         ],
         "xaxis": "x",
         "y": [
          -32.5,
          -32.5,
          -67.5,
          -67.5
         ],
         "yaxis": "y"
        },
        {
         "hoverinfo": "text",
         "marker": {
          "color": "rgb(61,153,112)"
         },
         "mode": "lines",
         "type": "scatter",
         "x": [
          0.22608059644699097,
          0.4493731097585525,
          0.4493731097585525,
          0.32606286117530575
         ],
         "xaxis": "x",
         "y": [
          -10,
          -10,
          -50,
          -50
         ],
         "yaxis": "y"
        },
        {
         "hoverinfo": "text",
         "marker": {
          "color": "rgb(61,153,112)"
         },
         "mode": "lines",
         "type": "scatter",
         "x": [
          0,
          0.08527696132659912,
          0.08527696132659912,
          0
         ],
         "xaxis": "x",
         "y": [
          -95,
          -95,
          -105,
          -105
         ],
         "yaxis": "y"
        },
        {
         "hoverinfo": "text",
         "marker": {
          "color": "rgb(61,153,112)"
         },
         "mode": "lines",
         "type": "scatter",
         "x": [
          0,
          0.10060443875807057,
          0.10060443875807057,
          0.08527696132659912
         ],
         "xaxis": "x",
         "y": [
          -85,
          -85,
          -100,
          -100
         ],
         "yaxis": "y"
        },
        {
         "hoverinfo": "text",
         "marker": {
          "color": "rgb(61,153,112)"
         },
         "mode": "lines",
         "type": "scatter",
         "x": [
          0,
          0.1519511342048645,
          0.1519511342048645,
          0
         ],
         "xaxis": "x",
         "y": [
          -115,
          -115,
          -125,
          -125
         ],
         "yaxis": "y"
        },
        {
         "hoverinfo": "text",
         "marker": {
          "color": "rgb(61,153,112)"
         },
         "mode": "lines",
         "type": "scatter",
         "x": [
          0,
          0.08813619613647461,
          0.08813619613647461,
          0
         ],
         "xaxis": "x",
         "y": [
          -135,
          -135,
          -145,
          -145
         ],
         "yaxis": "y"
        },
        {
         "hoverinfo": "text",
         "marker": {
          "color": "rgb(61,153,112)"
         },
         "mode": "lines",
         "type": "scatter",
         "x": [
          0.1519511342048645,
          0.17652381723797717,
          0.17652381723797717,
          0.08813619613647461
         ],
         "xaxis": "x",
         "y": [
          -120,
          -120,
          -140,
          -140
         ],
         "yaxis": "y"
        },
        {
         "hoverinfo": "text",
         "marker": {
          "color": "rgb(61,153,112)"
         },
         "mode": "lines",
         "type": "scatter",
         "x": [
          0.10060443875807057,
          0.2590256240900715,
          0.2590256240900715,
          0.17652381723797717
         ],
         "xaxis": "x",
         "y": [
          -92.5,
          -92.5,
          -130,
          -130
         ],
         "yaxis": "y"
        },
        {
         "hoverinfo": "text",
         "marker": {
          "color": "rgb(61,153,112)"
         },
         "mode": "lines",
         "type": "scatter",
         "x": [
          0,
          0.14480429887771606,
          0.14480429887771606,
          0
         ],
         "xaxis": "x",
         "y": [
          -155,
          -155,
          -165,
          -165
         ],
         "yaxis": "y"
        },
        {
         "hoverinfo": "text",
         "marker": {
          "color": "rgb(61,153,112)"
         },
         "mode": "lines",
         "type": "scatter",
         "x": [
          0.2590256240900715,
          0.31284700286605205,
          0.31284700286605205,
          0.14480429887771606
         ],
         "xaxis": "x",
         "y": [
          -111.25,
          -111.25,
          -160,
          -160
         ],
         "yaxis": "y"
        },
        {
         "hoverinfo": "text",
         "marker": {
          "color": "rgb(61,153,112)"
         },
         "mode": "lines",
         "type": "scatter",
         "x": [
          0.4493731097585525,
          0.650212785144173,
          0.650212785144173,
          0.31284700286605205
         ],
         "xaxis": "x",
         "y": [
          -30,
          -30,
          -135.625,
          -135.625
         ],
         "yaxis": "y"
        },
        {
         "hoverinfo": "text",
         "marker": {
          "color": "rgb(61,153,112)"
         },
         "mode": "lines",
         "type": "scatter",
         "x": [
          0,
          0.15664613246917725,
          0.15664613246917725,
          0
         ],
         "xaxis": "x",
         "y": [
          -185,
          -185,
          -195,
          -195
         ],
         "yaxis": "y"
        },
        {
         "hoverinfo": "text",
         "marker": {
          "color": "rgb(61,153,112)"
         },
         "mode": "lines",
         "type": "scatter",
         "x": [
          0,
          0.23030591011047363,
          0.23030591011047363,
          0
         ],
         "xaxis": "x",
         "y": [
          -205,
          -205,
          -215,
          -215
         ],
         "yaxis": "y"
        },
        {
         "hoverinfo": "text",
         "marker": {
          "color": "rgb(61,153,112)"
         },
         "mode": "lines",
         "type": "scatter",
         "x": [
          0.15664613246917725,
          0.3066378328413832,
          0.3066378328413832,
          0.23030591011047363
         ],
         "xaxis": "x",
         "y": [
          -190,
          -190,
          -210,
          -210
         ],
         "yaxis": "y"
        },
        {
         "hoverinfo": "text",
         "marker": {
          "color": "rgb(61,153,112)"
         },
         "mode": "lines",
         "type": "scatter",
         "x": [
          0,
          0.40839754398402034,
          0.40839754398402034,
          0.3066378328413832
         ],
         "xaxis": "x",
         "y": [
          -175,
          -175,
          -200,
          -200
         ],
         "yaxis": "y"
        },
        {
         "hoverinfo": "text",
         "marker": {
          "color": "rgb(61,153,112)"
         },
         "mode": "lines",
         "type": "scatter",
         "x": [
          0,
          0.1523350477218628,
          0.1523350477218628,
          0
         ],
         "xaxis": "x",
         "y": [
          -235,
          -235,
          -245,
          -245
         ],
         "yaxis": "y"
        },
        {
         "hoverinfo": "text",
         "marker": {
          "color": "rgb(61,153,112)"
         },
         "mode": "lines",
         "type": "scatter",
         "x": [
          0.1523350477218628,
          0.18824550376543003,
          0.18824550376543003,
          0
         ],
         "xaxis": "x",
         "y": [
          -240,
          -240,
          -255,
          -255
         ],
         "yaxis": "y"
        },
        {
         "hoverinfo": "text",
         "marker": {
          "color": "rgb(61,153,112)"
         },
         "mode": "lines",
         "type": "scatter",
         "x": [
          0,
          0.20109511701901345,
          0.20109511701901345,
          0.18824550376543003
         ],
         "xaxis": "x",
         "y": [
          -225,
          -225,
          -247.5,
          -247.5
         ],
         "yaxis": "y"
        },
        {
         "hoverinfo": "text",
         "marker": {
          "color": "rgb(61,153,112)"
         },
         "mode": "lines",
         "type": "scatter",
         "x": [
          0.20109511701901345,
          0.2660091956601802,
          0.2660091956601802,
          0
         ],
         "xaxis": "x",
         "y": [
          -236.25,
          -236.25,
          -265,
          -265
         ],
         "yaxis": "y"
        },
        {
         "hoverinfo": "text",
         "marker": {
          "color": "rgb(61,153,112)"
         },
         "mode": "lines",
         "type": "scatter",
         "x": [
          0,
          0.20919376611709595,
          0.20919376611709595,
          0
         ],
         "xaxis": "x",
         "y": [
          -275,
          -275,
          -285,
          -285
         ],
         "yaxis": "y"
        },
        {
         "hoverinfo": "text",
         "marker": {
          "color": "rgb(61,153,112)"
         },
         "mode": "lines",
         "type": "scatter",
         "x": [
          0.2660091956601802,
          0.3723888599157924,
          0.3723888599157924,
          0.20919376611709595
         ],
         "xaxis": "x",
         "y": [
          -250.625,
          -250.625,
          -280,
          -280
         ],
         "yaxis": "y"
        },
        {
         "hoverinfo": "text",
         "marker": {
          "color": "rgb(61,153,112)"
         },
         "mode": "lines",
         "type": "scatter",
         "x": [
          0.40839754398402034,
          0.5015014619273308,
          0.5015014619273308,
          0.3723888599157924
         ],
         "xaxis": "x",
         "y": [
          -187.5,
          -187.5,
          -265.3125,
          -265.3125
         ],
         "yaxis": "y"
        },
        {
         "hoverinfo": "text",
         "marker": {
          "color": "rgb(61,153,112)"
         },
         "mode": "lines",
         "type": "scatter",
         "x": [
          0.5015014619273308,
          0.6793098343741246,
          0.6793098343741246,
          0
         ],
         "xaxis": "x",
         "y": [
          -226.40625,
          -226.40625,
          -295,
          -295
         ],
         "yaxis": "y"
        },
        {
         "hoverinfo": "text",
         "marker": {
          "color": "rgb(61,153,112)"
         },
         "mode": "lines",
         "type": "scatter",
         "x": [
          0.650212785144173,
          0.8657676798408166,
          0.8657676798408166,
          0.6793098343741246
         ],
         "xaxis": "x",
         "y": [
          -82.8125,
          -82.8125,
          -260.703125,
          -260.703125
         ],
         "yaxis": "y"
        }
       ],
       "layout": {
        "autosize": false,
        "height": 650,
        "hoverlabel": {
         "bgcolor": "white",
         "font": {
          "family": "Rockwell",
          "size": 16
         }
        },
        "hovermode": "closest",
        "plot_bgcolor": "#ECEFF1",
        "showlegend": false,
        "template": {
         "data": {
          "bar": [
           {
            "error_x": {
             "color": "#2a3f5f"
            },
            "error_y": {
             "color": "#2a3f5f"
            },
            "marker": {
             "line": {
              "color": "white",
              "width": 0.5
             },
             "pattern": {
              "fillmode": "overlay",
              "size": 10,
              "solidity": 0.2
             }
            },
            "type": "bar"
           }
          ],
          "barpolar": [
           {
            "marker": {
             "line": {
              "color": "white",
              "width": 0.5
             },
             "pattern": {
              "fillmode": "overlay",
              "size": 10,
              "solidity": 0.2
             }
            },
            "type": "barpolar"
           }
          ],
          "carpet": [
           {
            "aaxis": {
             "endlinecolor": "#2a3f5f",
             "gridcolor": "#C8D4E3",
             "linecolor": "#C8D4E3",
             "minorgridcolor": "#C8D4E3",
             "startlinecolor": "#2a3f5f"
            },
            "baxis": {
             "endlinecolor": "#2a3f5f",
             "gridcolor": "#C8D4E3",
             "linecolor": "#C8D4E3",
             "minorgridcolor": "#C8D4E3",
             "startlinecolor": "#2a3f5f"
            },
            "type": "carpet"
           }
          ],
          "choropleth": [
           {
            "colorbar": {
             "outlinewidth": 0,
             "ticks": ""
            },
            "type": "choropleth"
           }
          ],
          "contour": [
           {
            "colorbar": {
             "outlinewidth": 0,
             "ticks": ""
            },
            "colorscale": [
             [
              0,
              "#0d0887"
             ],
             [
              0.1111111111111111,
              "#46039f"
             ],
             [
              0.2222222222222222,
              "#7201a8"
             ],
             [
              0.3333333333333333,
              "#9c179e"
             ],
             [
              0.4444444444444444,
              "#bd3786"
             ],
             [
              0.5555555555555556,
              "#d8576b"
             ],
             [
              0.6666666666666666,
              "#ed7953"
             ],
             [
              0.7777777777777778,
              "#fb9f3a"
             ],
             [
              0.8888888888888888,
              "#fdca26"
             ],
             [
              1,
              "#f0f921"
             ]
            ],
            "type": "contour"
           }
          ],
          "contourcarpet": [
           {
            "colorbar": {
             "outlinewidth": 0,
             "ticks": ""
            },
            "type": "contourcarpet"
           }
          ],
          "heatmap": [
           {
            "colorbar": {
             "outlinewidth": 0,
             "ticks": ""
            },
            "colorscale": [
             [
              0,
              "#0d0887"
             ],
             [
              0.1111111111111111,
              "#46039f"
             ],
             [
              0.2222222222222222,
              "#7201a8"
             ],
             [
              0.3333333333333333,
              "#9c179e"
             ],
             [
              0.4444444444444444,
              "#bd3786"
             ],
             [
              0.5555555555555556,
              "#d8576b"
             ],
             [
              0.6666666666666666,
              "#ed7953"
             ],
             [
              0.7777777777777778,
              "#fb9f3a"
             ],
             [
              0.8888888888888888,
              "#fdca26"
             ],
             [
              1,
              "#f0f921"
             ]
            ],
            "type": "heatmap"
           }
          ],
          "heatmapgl": [
           {
            "colorbar": {
             "outlinewidth": 0,
             "ticks": ""
            },
            "colorscale": [
             [
              0,
              "#0d0887"
             ],
             [
              0.1111111111111111,
              "#46039f"
             ],
             [
              0.2222222222222222,
              "#7201a8"
             ],
             [
              0.3333333333333333,
              "#9c179e"
             ],
             [
              0.4444444444444444,
              "#bd3786"
             ],
             [
              0.5555555555555556,
              "#d8576b"
             ],
             [
              0.6666666666666666,
              "#ed7953"
             ],
             [
              0.7777777777777778,
              "#fb9f3a"
             ],
             [
              0.8888888888888888,
              "#fdca26"
             ],
             [
              1,
              "#f0f921"
             ]
            ],
            "type": "heatmapgl"
           }
          ],
          "histogram": [
           {
            "marker": {
             "pattern": {
              "fillmode": "overlay",
              "size": 10,
              "solidity": 0.2
             }
            },
            "type": "histogram"
           }
          ],
          "histogram2d": [
           {
            "colorbar": {
             "outlinewidth": 0,
             "ticks": ""
            },
            "colorscale": [
             [
              0,
              "#0d0887"
             ],
             [
              0.1111111111111111,
              "#46039f"
             ],
             [
              0.2222222222222222,
              "#7201a8"
             ],
             [
              0.3333333333333333,
              "#9c179e"
             ],
             [
              0.4444444444444444,
              "#bd3786"
             ],
             [
              0.5555555555555556,
              "#d8576b"
             ],
             [
              0.6666666666666666,
              "#ed7953"
             ],
             [
              0.7777777777777778,
              "#fb9f3a"
             ],
             [
              0.8888888888888888,
              "#fdca26"
             ],
             [
              1,
              "#f0f921"
             ]
            ],
            "type": "histogram2d"
           }
          ],
          "histogram2dcontour": [
           {
            "colorbar": {
             "outlinewidth": 0,
             "ticks": ""
            },
            "colorscale": [
             [
              0,
              "#0d0887"
             ],
             [
              0.1111111111111111,
              "#46039f"
             ],
             [
              0.2222222222222222,
              "#7201a8"
             ],
             [
              0.3333333333333333,
              "#9c179e"
             ],
             [
              0.4444444444444444,
              "#bd3786"
             ],
             [
              0.5555555555555556,
              "#d8576b"
             ],
             [
              0.6666666666666666,
              "#ed7953"
             ],
             [
              0.7777777777777778,
              "#fb9f3a"
             ],
             [
              0.8888888888888888,
              "#fdca26"
             ],
             [
              1,
              "#f0f921"
             ]
            ],
            "type": "histogram2dcontour"
           }
          ],
          "mesh3d": [
           {
            "colorbar": {
             "outlinewidth": 0,
             "ticks": ""
            },
            "type": "mesh3d"
           }
          ],
          "parcoords": [
           {
            "line": {
             "colorbar": {
              "outlinewidth": 0,
              "ticks": ""
             }
            },
            "type": "parcoords"
           }
          ],
          "pie": [
           {
            "automargin": true,
            "type": "pie"
           }
          ],
          "scatter": [
           {
            "fillpattern": {
             "fillmode": "overlay",
             "size": 10,
             "solidity": 0.2
            },
            "type": "scatter"
           }
          ],
          "scatter3d": [
           {
            "line": {
             "colorbar": {
              "outlinewidth": 0,
              "ticks": ""
             }
            },
            "marker": {
             "colorbar": {
              "outlinewidth": 0,
              "ticks": ""
             }
            },
            "type": "scatter3d"
           }
          ],
          "scattercarpet": [
           {
            "marker": {
             "colorbar": {
              "outlinewidth": 0,
              "ticks": ""
             }
            },
            "type": "scattercarpet"
           }
          ],
          "scattergeo": [
           {
            "marker": {
             "colorbar": {
              "outlinewidth": 0,
              "ticks": ""
             }
            },
            "type": "scattergeo"
           }
          ],
          "scattergl": [
           {
            "marker": {
             "colorbar": {
              "outlinewidth": 0,
              "ticks": ""
             }
            },
            "type": "scattergl"
           }
          ],
          "scattermapbox": [
           {
            "marker": {
             "colorbar": {
              "outlinewidth": 0,
              "ticks": ""
             }
            },
            "type": "scattermapbox"
           }
          ],
          "scatterpolar": [
           {
            "marker": {
             "colorbar": {
              "outlinewidth": 0,
              "ticks": ""
             }
            },
            "type": "scatterpolar"
           }
          ],
          "scatterpolargl": [
           {
            "marker": {
             "colorbar": {
              "outlinewidth": 0,
              "ticks": ""
             }
            },
            "type": "scatterpolargl"
           }
          ],
          "scatterternary": [
           {
            "marker": {
             "colorbar": {
              "outlinewidth": 0,
              "ticks": ""
             }
            },
            "type": "scatterternary"
           }
          ],
          "surface": [
           {
            "colorbar": {
             "outlinewidth": 0,
             "ticks": ""
            },
            "colorscale": [
             [
              0,
              "#0d0887"
             ],
             [
              0.1111111111111111,
              "#46039f"
             ],
             [
              0.2222222222222222,
              "#7201a8"
             ],
             [
              0.3333333333333333,
              "#9c179e"
             ],
             [
              0.4444444444444444,
              "#bd3786"
             ],
             [
              0.5555555555555556,
              "#d8576b"
             ],
             [
              0.6666666666666666,
              "#ed7953"
             ],
             [
              0.7777777777777778,
              "#fb9f3a"
             ],
             [
              0.8888888888888888,
              "#fdca26"
             ],
             [
              1,
              "#f0f921"
             ]
            ],
            "type": "surface"
           }
          ],
          "table": [
           {
            "cells": {
             "fill": {
              "color": "#EBF0F8"
             },
             "line": {
              "color": "white"
             }
            },
            "header": {
             "fill": {
              "color": "#C8D4E3"
             },
             "line": {
              "color": "white"
             }
            },
            "type": "table"
           }
          ]
         },
         "layout": {
          "annotationdefaults": {
           "arrowcolor": "#2a3f5f",
           "arrowhead": 0,
           "arrowwidth": 1
          },
          "autotypenumbers": "strict",
          "coloraxis": {
           "colorbar": {
            "outlinewidth": 0,
            "ticks": ""
           }
          },
          "colorscale": {
           "diverging": [
            [
             0,
             "#8e0152"
            ],
            [
             0.1,
             "#c51b7d"
            ],
            [
             0.2,
             "#de77ae"
            ],
            [
             0.3,
             "#f1b6da"
            ],
            [
             0.4,
             "#fde0ef"
            ],
            [
             0.5,
             "#f7f7f7"
            ],
            [
             0.6,
             "#e6f5d0"
            ],
            [
             0.7,
             "#b8e186"
            ],
            [
             0.8,
             "#7fbc41"
            ],
            [
             0.9,
             "#4d9221"
            ],
            [
             1,
             "#276419"
            ]
           ],
           "sequential": [
            [
             0,
             "#0d0887"
            ],
            [
             0.1111111111111111,
             "#46039f"
            ],
            [
             0.2222222222222222,
             "#7201a8"
            ],
            [
             0.3333333333333333,
             "#9c179e"
            ],
            [
             0.4444444444444444,
             "#bd3786"
            ],
            [
             0.5555555555555556,
             "#d8576b"
            ],
            [
             0.6666666666666666,
             "#ed7953"
            ],
            [
             0.7777777777777778,
             "#fb9f3a"
            ],
            [
             0.8888888888888888,
             "#fdca26"
            ],
            [
             1,
             "#f0f921"
            ]
           ],
           "sequentialminus": [
            [
             0,
             "#0d0887"
            ],
            [
             0.1111111111111111,
             "#46039f"
            ],
            [
             0.2222222222222222,
             "#7201a8"
            ],
            [
             0.3333333333333333,
             "#9c179e"
            ],
            [
             0.4444444444444444,
             "#bd3786"
            ],
            [
             0.5555555555555556,
             "#d8576b"
            ],
            [
             0.6666666666666666,
             "#ed7953"
            ],
            [
             0.7777777777777778,
             "#fb9f3a"
            ],
            [
             0.8888888888888888,
             "#fdca26"
            ],
            [
             1,
             "#f0f921"
            ]
           ]
          },
          "colorway": [
           "#636efa",
           "#EF553B",
           "#00cc96",
           "#ab63fa",
           "#FFA15A",
           "#19d3f3",
           "#FF6692",
           "#B6E880",
           "#FF97FF",
           "#FECB52"
          ],
          "font": {
           "color": "#2a3f5f"
          },
          "geo": {
           "bgcolor": "white",
           "lakecolor": "white",
           "landcolor": "white",
           "showlakes": true,
           "showland": true,
           "subunitcolor": "#C8D4E3"
          },
          "hoverlabel": {
           "align": "left"
          },
          "hovermode": "closest",
          "mapbox": {
           "style": "light"
          },
          "paper_bgcolor": "white",
          "plot_bgcolor": "white",
          "polar": {
           "angularaxis": {
            "gridcolor": "#EBF0F8",
            "linecolor": "#EBF0F8",
            "ticks": ""
           },
           "bgcolor": "white",
           "radialaxis": {
            "gridcolor": "#EBF0F8",
            "linecolor": "#EBF0F8",
            "ticks": ""
           }
          },
          "scene": {
           "xaxis": {
            "backgroundcolor": "white",
            "gridcolor": "#DFE8F3",
            "gridwidth": 2,
            "linecolor": "#EBF0F8",
            "showbackground": true,
            "ticks": "",
            "zerolinecolor": "#EBF0F8"
           },
           "yaxis": {
            "backgroundcolor": "white",
            "gridcolor": "#DFE8F3",
            "gridwidth": 2,
            "linecolor": "#EBF0F8",
            "showbackground": true,
            "ticks": "",
            "zerolinecolor": "#EBF0F8"
           },
           "zaxis": {
            "backgroundcolor": "white",
            "gridcolor": "#DFE8F3",
            "gridwidth": 2,
            "linecolor": "#EBF0F8",
            "showbackground": true,
            "ticks": "",
            "zerolinecolor": "#EBF0F8"
           }
          },
          "shapedefaults": {
           "line": {
            "color": "#2a3f5f"
           }
          },
          "ternary": {
           "aaxis": {
            "gridcolor": "#DFE8F3",
            "linecolor": "#A2B1C6",
            "ticks": ""
           },
           "baxis": {
            "gridcolor": "#DFE8F3",
            "linecolor": "#A2B1C6",
            "ticks": ""
           },
           "bgcolor": "white",
           "caxis": {
            "gridcolor": "#DFE8F3",
            "linecolor": "#A2B1C6",
            "ticks": ""
           }
          },
          "title": {
           "x": 0.05
          },
          "xaxis": {
           "automargin": true,
           "gridcolor": "#EBF0F8",
           "linecolor": "#EBF0F8",
           "ticks": "",
           "title": {
            "standoff": 15
           },
           "zerolinecolor": "#EBF0F8",
           "zerolinewidth": 2
          },
          "yaxis": {
           "automargin": true,
           "gridcolor": "#EBF0F8",
           "linecolor": "#EBF0F8",
           "ticks": "",
           "title": {
            "standoff": 15
           },
           "zerolinecolor": "#EBF0F8",
           "zerolinewidth": 2
          }
         }
        },
        "title": {
         "font": {
          "color": "Black",
          "size": 22
         },
         "text": "<b>Hierarchical Clustering</b>",
         "x": 0.5,
         "xanchor": "center",
         "yanchor": "top"
        },
        "width": 1000,
        "xaxis": {
         "mirror": "allticks",
         "rangemode": "tozero",
         "showgrid": false,
         "showline": true,
         "showticklabels": true,
         "ticks": "outside",
         "type": "linear",
         "zeroline": false
        },
        "yaxis": {
         "mirror": "allticks",
         "range": [
          -300,
          0
         ],
         "rangemode": "tozero",
         "showgrid": false,
         "showline": true,
         "showticklabels": true,
         "tickmode": "array",
         "ticks": "outside",
         "ticktext": [
          "13_life feels pointless_fee...",
          "10_lacking motivation_depre...",
          "25_weeks feeling depressed_...",
          "3_depressed past weeks_depr...",
          "8_low anxious_mood fluctuat...",
          "0_depressed past weeks_week...",
          "21_depressed couple weeks_d...",
          "24_weeks depression_sufferi...",
          "20_yes depressed_yes depres...",
          "15_yes depressed_haven depr...",
          "1_yes depressed_yes depress...",
          "27_depressed couple weeks_b...",
          "14_wouldn say depressed_hav...",
          "2_haven felt depressed_have...",
          "12_wouldnt say depressed_wo...",
          "9_depression anxiety_depres...",
          "19_depression_low mood lack...",
          "16_depressed financial_fina...",
          "23_don think depressed_week...",
          "17_worried losing job_depre...",
          "11_yes depressed weeks_stro...",
          "7_depressed lockdown_feel d...",
          "4_feeling depressed_feel sa...",
          "6_depressed weeks_weeks dep...",
          "5_feeling depressed_extreme...",
          "29_depression_depression fe...",
          "28_depressed lately_mental ...",
          "18_having covid_health covi...",
          "22_depressive disorder_symp...",
          "26_issues covid_covid_virus"
         ],
         "tickvals": [
          -5,
          -15,
          -25,
          -35,
          -45,
          -55,
          -65,
          -75,
          -85,
          -95,
          -105,
          -115,
          -125,
          -135,
          -145,
          -155,
          -165,
          -175,
          -185,
          -195,
          -205,
          -215,
          -225,
          -235,
          -245,
          -255,
          -265,
          -275,
          -285,
          -295
         ],
         "type": "linear",
         "zeroline": false
        }
       }
      }
     },
     "metadata": {},
     "output_type": "display_data"
    }
   ],
   "source": [
    "topic_model.visualize_hierarchy()"
   ]
  },
  {
   "cell_type": "code",
   "execution_count": 6,
   "metadata": {},
   "outputs": [
    {
     "data": {
      "text/plain": [
       "31"
      ]
     },
     "execution_count": 6,
     "metadata": {},
     "output_type": "execute_result"
    }
   ],
   "source": [
    "topic_dict = topic_model.topic_representations_\n",
    "len(topic_dict)"
   ]
  },
  {
   "cell_type": "code",
   "execution_count": 8,
   "metadata": {},
   "outputs": [
    {
     "name": "stdout",
     "output_type": "stream",
     "text": [
      "0\n",
      "1\n",
      "2\n",
      "3\n",
      "4\n",
      "5\n",
      "6\n",
      "7\n",
      "8\n",
      "9\n",
      "10\n",
      "11\n",
      "12\n",
      "13\n",
      "14\n",
      "15\n",
      "16\n",
      "17\n",
      "18\n",
      "19\n",
      "20\n",
      "21\n",
      "22\n",
      "23\n",
      "24\n",
      "25\n",
      "26\n",
      "27\n",
      "28\n",
      "29\n",
      "30\n"
     ]
    }
   ],
   "source": [
    "# Specify the directory to save CSV files\n",
    "csv_dir = './topic_csv_files/'\n",
    "\n",
    "# Iterate over topics and create CSV files\n",
    "for topic, topic_data in topic_dict.items():\n",
    "    # Create a CSV file for each topic\n",
    "    topic = int(topic)+1\n",
    "    print(topic)\n",
    "    csv_file_path = f'{csv_dir}{topic}_top_words.csv'\n",
    "\n",
    "    # Write the topic data to the CSV file\n",
    "    with open(csv_file_path, 'w', newline='') as csv_file:\n",
    "        writer = csv.writer(csv_file)\n",
    "        writer.writerow(['Word', 'phi'])\n",
    "\n",
    "        # Write each row individually\n",
    "        writer.writerows(topic_data)"
   ]
  },
  {
   "cell_type": "code",
   "execution_count": 99,
   "metadata": {},
   "outputs": [
    {
     "name": "stderr",
     "output_type": "stream",
     "text": [
      "  0%|          | 0/1 [00:00<?, ?it/s]\n"
     ]
    },
    {
     "ename": "NotFittedError",
     "evalue": "Vocabulary not fitted or provided",
     "output_type": "error",
     "traceback": [
      "\u001b[0;31m---------------------------------------------------------------------------\u001b[0m",
      "\u001b[0;31mNotFittedError\u001b[0m                            Traceback (most recent call last)",
      "\u001b[1;32m/Users/leonackermann/Desktop/ml_word_visualisations/bert_topic/first_notebook.ipynb Cell 38\u001b[0m line \u001b[0;36m1\n\u001b[0;32m----> <a href='vscode-notebook-cell:/Users/leonackermann/Desktop/ml_word_visualisations/bert_topic/first_notebook.ipynb#Y103sZmlsZQ%3D%3D?line=0'>1</a>\u001b[0m topic_distr, topic_token_distr \u001b[39m=\u001b[39m topic_model\u001b[39m.\u001b[39;49mapproximate_distribution(data[\u001b[39m\"\u001b[39;49m\u001b[39mdep_all_phrases\u001b[39;49m\u001b[39m\"\u001b[39;49m], calculate_tokens\u001b[39m=\u001b[39;49m\u001b[39mTrue\u001b[39;49;00m)\n",
      "File \u001b[0;32m~/miniforge3/envs/bert_topic/lib/python3.11/site-packages/bertopic/_bertopic.py:1180\u001b[0m, in \u001b[0;36mBERTopic.approximate_distribution\u001b[0;34m(self, documents, window, stride, min_similarity, batch_size, padding, use_embedding_model, calculate_tokens, separator)\u001b[0m\n\u001b[1;32m   1176\u001b[0m     similarity \u001b[39m=\u001b[39m cosine_similarity(embeddings, \u001b[39mself\u001b[39m\u001b[39m.\u001b[39mtopic_embeddings_[\u001b[39mself\u001b[39m\u001b[39m.\u001b[39m_outliers:])\n\u001b[1;32m   1178\u001b[0m \u001b[39m# Calculate similarity between c-TF-IDF of token sets and the topics\u001b[39;00m\n\u001b[1;32m   1179\u001b[0m \u001b[39melse\u001b[39;00m:\n\u001b[0;32m-> 1180\u001b[0m     bow_doc \u001b[39m=\u001b[39m \u001b[39mself\u001b[39;49m\u001b[39m.\u001b[39;49mvectorizer_model\u001b[39m.\u001b[39;49mtransform(all_sentences)\n\u001b[1;32m   1181\u001b[0m     c_tf_idf_doc \u001b[39m=\u001b[39m \u001b[39mself\u001b[39m\u001b[39m.\u001b[39mctfidf_model\u001b[39m.\u001b[39mtransform(bow_doc)\n\u001b[1;32m   1182\u001b[0m     similarity \u001b[39m=\u001b[39m cosine_similarity(c_tf_idf_doc, \u001b[39mself\u001b[39m\u001b[39m.\u001b[39mc_tf_idf_[\u001b[39mself\u001b[39m\u001b[39m.\u001b[39m_outliers:])\n",
      "File \u001b[0;32m~/miniforge3/envs/bert_topic/lib/python3.11/site-packages/sklearn/feature_extraction/text.py:1431\u001b[0m, in \u001b[0;36mCountVectorizer.transform\u001b[0;34m(self, raw_documents)\u001b[0m\n\u001b[1;32m   1427\u001b[0m \u001b[39mif\u001b[39;00m \u001b[39misinstance\u001b[39m(raw_documents, \u001b[39mstr\u001b[39m):\n\u001b[1;32m   1428\u001b[0m     \u001b[39mraise\u001b[39;00m \u001b[39mValueError\u001b[39;00m(\n\u001b[1;32m   1429\u001b[0m         \u001b[39m\"\u001b[39m\u001b[39mIterable over raw text documents expected, string object received.\u001b[39m\u001b[39m\"\u001b[39m\n\u001b[1;32m   1430\u001b[0m     )\n\u001b[0;32m-> 1431\u001b[0m \u001b[39mself\u001b[39;49m\u001b[39m.\u001b[39;49m_check_vocabulary()\n\u001b[1;32m   1433\u001b[0m \u001b[39m# use the same matrix-building strategy as fit_transform\u001b[39;00m\n\u001b[1;32m   1434\u001b[0m _, X \u001b[39m=\u001b[39m \u001b[39mself\u001b[39m\u001b[39m.\u001b[39m_count_vocab(raw_documents, fixed_vocab\u001b[39m=\u001b[39m\u001b[39mTrue\u001b[39;00m)\n",
      "File \u001b[0;32m~/miniforge3/envs/bert_topic/lib/python3.11/site-packages/sklearn/feature_extraction/text.py:508\u001b[0m, in \u001b[0;36m_VectorizerMixin._check_vocabulary\u001b[0;34m(self)\u001b[0m\n\u001b[1;32m    506\u001b[0m     \u001b[39mself\u001b[39m\u001b[39m.\u001b[39m_validate_vocabulary()\n\u001b[1;32m    507\u001b[0m     \u001b[39mif\u001b[39;00m \u001b[39mnot\u001b[39;00m \u001b[39mself\u001b[39m\u001b[39m.\u001b[39mfixed_vocabulary_:\n\u001b[0;32m--> 508\u001b[0m         \u001b[39mraise\u001b[39;00m NotFittedError(\u001b[39m\"\u001b[39m\u001b[39mVocabulary not fitted or provided\u001b[39m\u001b[39m\"\u001b[39m)\n\u001b[1;32m    510\u001b[0m \u001b[39mif\u001b[39;00m \u001b[39mlen\u001b[39m(\u001b[39mself\u001b[39m\u001b[39m.\u001b[39mvocabulary_) \u001b[39m==\u001b[39m \u001b[39m0\u001b[39m:\n\u001b[1;32m    511\u001b[0m     \u001b[39mraise\u001b[39;00m \u001b[39mValueError\u001b[39;00m(\u001b[39m\"\u001b[39m\u001b[39mVocabulary is empty\u001b[39m\u001b[39m\"\u001b[39m)\n",
      "\u001b[0;31mNotFittedError\u001b[0m: Vocabulary not fitted or provided"
     ]
    }
   ],
   "source": [
    "topic_distr, topic_token_distr = topic_model.approximate_distribution(data[\"dep_all_phrases\"], calculate_tokens=True)"
   ]
  },
  {
   "cell_type": "code",
   "execution_count": 78,
   "metadata": {},
   "outputs": [
    {
     "data": {
      "text/plain": [
       "950"
      ]
     },
     "execution_count": 78,
     "metadata": {},
     "output_type": "execute_result"
    }
   ],
   "source": [
    "len(topic_token_distr)"
   ]
  },
  {
   "cell_type": "code",
   "execution_count": 79,
   "metadata": {},
   "outputs": [
    {
     "ename": "TypeError",
     "evalue": "expected string or bytes-like object, got 'Series'",
     "output_type": "error",
     "traceback": [
      "\u001b[0;31m---------------------------------------------------------------------------\u001b[0m",
      "\u001b[0;31mTypeError\u001b[0m                                 Traceback (most recent call last)",
      "\u001b[1;32m/Users/leonackermann/Desktop/ml_word_visualisations/bert_topic/first_notebook.ipynb Cell 40\u001b[0m line \u001b[0;36m1\n\u001b[0;32m----> <a href='vscode-notebook-cell:/Users/leonackermann/Desktop/ml_word_visualisations/bert_topic/first_notebook.ipynb#Y105sZmlsZQ%3D%3D?line=0'>1</a>\u001b[0m df \u001b[39m=\u001b[39m topic_model\u001b[39m.\u001b[39;49mvisualize_approximate_distribution(data[\u001b[39m\"\u001b[39;49m\u001b[39mdep_all_phrases\u001b[39;49m\u001b[39m\"\u001b[39;49m][:], topic_token_distr[:])\n",
      "File \u001b[0;32m~/miniforge3/envs/bert_topic/lib/python3.11/site-packages/bertopic/_bertopic.py:2668\u001b[0m, in \u001b[0;36mBERTopic.visualize_approximate_distribution\u001b[0;34m(self, document, topic_token_distribution, normalize)\u001b[0m\n\u001b[1;32m   2626\u001b[0m \u001b[39m\u001b[39m\u001b[39m\"\"\" Visualize the topic distribution calculated by `.approximate_topic_distribution`\u001b[39;00m\n\u001b[1;32m   2627\u001b[0m \u001b[39mon a token level. Thereby indicating the extend to which a certain word or phrases belong\u001b[39;00m\n\u001b[1;32m   2628\u001b[0m \u001b[39mto a specific topic. The assumption here is that a single word can belong to multiple\u001b[39;00m\n\u001b[0;32m   (...)\u001b[0m\n\u001b[1;32m   2665\u001b[0m \u001b[39m```\u001b[39;00m\n\u001b[1;32m   2666\u001b[0m \u001b[39m\"\"\"\u001b[39;00m\n\u001b[1;32m   2667\u001b[0m check_is_fitted(\u001b[39mself\u001b[39m)\n\u001b[0;32m-> 2668\u001b[0m \u001b[39mreturn\u001b[39;00m plotting\u001b[39m.\u001b[39;49mvisualize_approximate_distribution(\u001b[39mself\u001b[39;49m,\n\u001b[1;32m   2669\u001b[0m                                                    document\u001b[39m=\u001b[39;49mdocument,\n\u001b[1;32m   2670\u001b[0m                                                    topic_token_distribution\u001b[39m=\u001b[39;49mtopic_token_distribution,\n\u001b[1;32m   2671\u001b[0m                                                    normalize\u001b[39m=\u001b[39;49mnormalize)\n",
      "File \u001b[0;32m~/miniforge3/envs/bert_topic/lib/python3.11/site-packages/bertopic/plotting/_approximate_distribution.py:64\u001b[0m, in \u001b[0;36mvisualize_approximate_distribution\u001b[0;34m(topic_model, document, topic_token_distribution, normalize)\u001b[0m\n\u001b[1;32m     62\u001b[0m \u001b[39m# Tokenize document\u001b[39;00m\n\u001b[1;32m     63\u001b[0m analyzer \u001b[39m=\u001b[39m topic_model\u001b[39m.\u001b[39mvectorizer_model\u001b[39m.\u001b[39mbuild_tokenizer()\n\u001b[0;32m---> 64\u001b[0m tokens \u001b[39m=\u001b[39m analyzer(document)\n\u001b[1;32m     66\u001b[0m \u001b[39mif\u001b[39;00m \u001b[39mlen\u001b[39m(tokens) \u001b[39m==\u001b[39m \u001b[39m0\u001b[39m:\n\u001b[1;32m     67\u001b[0m     \u001b[39mraise\u001b[39;00m \u001b[39mValueError\u001b[39;00m(\u001b[39m\"\u001b[39m\u001b[39mMake sure that your document contains at least 1 token.\u001b[39m\u001b[39m\"\u001b[39m)\n",
      "\u001b[0;31mTypeError\u001b[0m: expected string or bytes-like object, got 'Series'"
     ]
    }
   ],
   "source": [
    "df = topic_model.visualize_approximate_distribution(data[\"dep_all_phrases\"][:], topic_token_distr[:])"
   ]
  },
  {
   "cell_type": "code",
   "execution_count": 1,
   "metadata": {},
   "outputs": [
    {
     "ename": "NameError",
     "evalue": "name 'topic_model' is not defined",
     "output_type": "error",
     "traceback": [
      "\u001b[0;31m---------------------------------------------------------------------------\u001b[0m",
      "\u001b[0;31mNameError\u001b[0m                                 Traceback (most recent call last)",
      "\u001b[1;32m/Users/leonackermann/Desktop/ml_word_visualisations/topic_modeling/bert_topic/first_notebook.ipynb Cell 41\u001b[0m line \u001b[0;36m1\n\u001b[0;32m----> <a href='vscode-notebook-cell:/Users/leonackermann/Desktop/ml_word_visualisations/topic_modeling/bert_topic/first_notebook.ipynb#X55sZmlsZQ%3D%3D?line=0'>1</a>\u001b[0m topic_model\u001b[39m.\u001b[39mget_topic_info()\n",
      "\u001b[0;31mNameError\u001b[0m: name 'topic_model' is not defined"
     ]
    }
   ],
   "source": [
    "topic_model.get_topic_info()"
   ]
  },
  {
   "cell_type": "code",
   "execution_count": null,
   "metadata": {},
   "outputs": [],
   "source": []
  }
 ],
 "metadata": {
  "kernelspec": {
   "display_name": "bert_topic",
   "language": "python",
   "name": "python3"
  },
  "language_info": {
   "codemirror_mode": {
    "name": "ipython",
    "version": 3
   },
   "file_extension": ".py",
   "mimetype": "text/x-python",
   "name": "python",
   "nbconvert_exporter": "python",
   "pygments_lexer": "ipython3",
   "version": "3.11.6"
  }
 },
 "nbformat": 4,
 "nbformat_minor": 2
}
